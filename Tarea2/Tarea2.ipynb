{
 "cells": [
  {
   "cell_type": "markdown",
   "id": "65543d1a",
   "metadata": {},
   "source": [
    "# Árbol de clasificación"
   ]
  },
  {
   "cell_type": "code",
   "execution_count": 1,
   "id": "a8284662",
   "metadata": {},
   "outputs": [],
   "source": [
    "import pandas as pd\n",
    "from sklearn.model_selection import train_test_split\n",
    "from sklearn.impute import SimpleImputer\n",
    "from sklearn.preprocessing import OneHotEncoder\n",
    "from sklearn.compose import ColumnTransformer\n",
    "from sklearn.pipeline import Pipeline\n",
    "from sklearn.tree import DecisionTreeClassifier, export_graphviz\n",
    "from sklearn.base import BaseEstimator, TransformerMixin\n",
    "from sklearn.model_selection import (GridSearchCV, cross_val_score,\n",
    "                                                 RandomizedSearchCV,\n",
    "                                                 cross_validate,\n",
    "                                                 StratifiedKFold)\n",
    "from sklearn import metrics\n",
    "from pylab import*\n",
    "import seaborn as sns\n",
    "import numpy as np"
   ]
  },
  {
   "cell_type": "code",
   "execution_count": 2,
   "id": "6ae5b3a4",
   "metadata": {},
   "outputs": [],
   "source": [
    "def performance_evaluation_report(model, X_test, y_test, show_plot=False, labels=None, show_pr_curve=False):\n",
    "    '''\n",
    "    Function for creating a performance report of a classification model.\n",
    "    \n",
    "    Parameters\n",
    "    ----------\n",
    "    model : scikit-learn estimator\n",
    "        A fitted estimator for classification problems.\n",
    "    X_test : pd.DataFrame\n",
    "        DataFrame with features matching y_test\n",
    "    y_test : array/pd.Series\n",
    "        Target of a classification problem.\n",
    "    show_plot : bool\n",
    "        Flag whether to show the plot\n",
    "    labels : list\n",
    "        List with the class names.\n",
    "    show_pr_curve : bool\n",
    "        Flag whether to also show the PR-curve. For this to take effect, \n",
    "        show_plot must be True.\n",
    "        \n",
    "    Return\n",
    "    ------\n",
    "    stats : pd.Series\n",
    "        A series with the most important evaluation metrics\n",
    "    '''\n",
    "\n",
    "    y_pred = model.predict(X_test)\n",
    "    y_pred_prob = model.predict_proba(X_test)[:, 1]\n",
    "\n",
    "    cm = metrics.confusion_matrix(y_test, y_pred)\n",
    "    tn, fp, fn, tp = cm.ravel()\n",
    "\n",
    "    fpr, tpr, threshold = metrics.roc_curve(y_test, y_pred_prob)\n",
    "    roc_auc = metrics.auc(fpr, tpr)\n",
    "\n",
    "    precision, recall, thresholds = metrics.precision_recall_curve(\n",
    "        y_test, y_pred_prob)\n",
    "    pr_auc = metrics.auc(recall, precision)\n",
    "\n",
    "    if show_plot:\n",
    "\n",
    "        if labels is None:\n",
    "            labels = ['Negative', 'Positive']\n",
    "\n",
    "        N_SUBPLOTS = 3 if show_pr_curve else 2\n",
    "        PLOT_WIDTH = 15 if show_pr_curve else 12\n",
    "        PLOT_HEIGHT = 5 if show_pr_curve else 6\n",
    "\n",
    "        fig, ax = plt.subplots(\n",
    "            1, N_SUBPLOTS, figsize=(PLOT_WIDTH, PLOT_HEIGHT))\n",
    "        fig.suptitle('Performance Evaluation', fontsize=16)\n",
    "\n",
    "        sns.heatmap(cm, annot=True, fmt=\"d\", linewidths=.5, cmap='magma', square=True, cbar=False, ax=ax[0],\n",
    "                    annot_kws={\"ha\": 'center', \"va\": 'center'})\n",
    "        ax[0].set(xlabel='Predicted label',\n",
    "                  ylabel='Actual label', title='Confusion Matrix')\n",
    "        ax[0].xaxis.set_ticklabels(labels)\n",
    "        ax[0].yaxis.set_ticklabels(labels)\n",
    "\n",
    "        ax[1].plot(fpr, tpr, 'b-', label=f'ROC-AUC = {roc_auc:.2f}')\n",
    "        ax[1].set(xlabel='False Positive Rate',\n",
    "                  ylabel='True Positive Rate', title='ROC Curve')\n",
    "        ax[1].plot(fp/(fp+tn), tp/(tp+fn), 'ro',\n",
    "                   markersize=8, label='Decision Point')\n",
    "        ax[1].plot([0, 1], [0, 1], 'r--')\n",
    "        ax[1].legend(loc='lower right')\n",
    "\n",
    "        if show_pr_curve:\n",
    "\n",
    "            ax[2].plot(recall, precision, label=f'PR-AUC = {pr_auc:.2f}')\n",
    "            ax[2].set(xlabel='Recall', ylabel='Precision',\n",
    "                      title='Precision-Recall Curve')\n",
    "            ax[2].legend()\n",
    "\n",
    "#         print('#######################')\n",
    "#         print('Evaluation metrics ####')\n",
    "#         print('#######################')\n",
    "#         print(f'Accuracy: {metrics.accuracy_score(y_test, y_pred):.4f}')\n",
    "#         print(f'Precision: {metrics.precision_score(y_test, y_pred):.4f}')\n",
    "#         print(f'Recall (Sensitivity): {metrics.recall_score(y_test, y_pred):.4f}')\n",
    "#         print(f'Specificity: {(tn / (tn + fp)):.4f}')\n",
    "#         print(f'F1-Score: {metrics.f1_score(y_test, y_pred):.4f}')\n",
    "#         print(f\"Cohen's Kappa: {metrics.cohen_kappa_score(y_test, y_pred):.4f}\")\n",
    "\n",
    "    stats = {'accuracy': metrics.accuracy_score(y_test, y_pred),\n",
    "             'precision': metrics.precision_score(y_test, y_pred),\n",
    "             'recall': metrics.recall_score(y_test, y_pred),\n",
    "             'specificity': (tn / (tn + fp)),\n",
    "             'f1_score': metrics.f1_score(y_test, y_pred),\n",
    "             'cohens_kappa': metrics.cohen_kappa_score(y_test, y_pred),\n",
    "             'roc_auc': roc_auc,\n",
    "             'pr_auc': pr_auc}\n",
    "\n",
    "    return stats"
   ]
  },
  {
   "cell_type": "code",
   "execution_count": 3,
   "id": "a64c5a81",
   "metadata": {},
   "outputs": [],
   "source": [
    "def get_gini(stats_model):\n",
    "    return 2*stats_model['roc_auc'] - 1"
   ]
  },
  {
   "cell_type": "code",
   "execution_count": 4,
   "id": "3f1294be",
   "metadata": {},
   "outputs": [],
   "source": [
    "base_df = pd.read_csv(\"data_bases/base_final.csv\")"
   ]
  },
  {
   "cell_type": "code",
   "execution_count": 5,
   "id": "5534614e",
   "metadata": {},
   "outputs": [
    {
     "data": {
      "text/html": [
       "<div>\n",
       "<style scoped>\n",
       "    .dataframe tbody tr th:only-of-type {\n",
       "        vertical-align: middle;\n",
       "    }\n",
       "\n",
       "    .dataframe tbody tr th {\n",
       "        vertical-align: top;\n",
       "    }\n",
       "\n",
       "    .dataframe thead th {\n",
       "        text-align: right;\n",
       "    }\n",
       "</style>\n",
       "<table border=\"1\" class=\"dataframe\">\n",
       "  <thead>\n",
       "    <tr style=\"text-align: right;\">\n",
       "      <th></th>\n",
       "      <th>Unnamed: 0</th>\n",
       "      <th>index</th>\n",
       "      <th>num_caso</th>\n",
       "      <th>tiempo_adeudo</th>\n",
       "      <th>num_retrasos</th>\n",
       "      <th>comp_interno1</th>\n",
       "      <th>prest_aceptado</th>\n",
       "    </tr>\n",
       "  </thead>\n",
       "  <tbody>\n",
       "    <tr>\n",
       "      <th>0</th>\n",
       "      <td>0</td>\n",
       "      <td>0.0</td>\n",
       "      <td>1</td>\n",
       "      <td>62.0</td>\n",
       "      <td>7.0</td>\n",
       "      <td>3039.513678</td>\n",
       "      <td>1.0</td>\n",
       "    </tr>\n",
       "    <tr>\n",
       "      <th>1</th>\n",
       "      <td>1</td>\n",
       "      <td>6.0</td>\n",
       "      <td>7</td>\n",
       "      <td>29.0</td>\n",
       "      <td>9.0</td>\n",
       "      <td>1547.112462</td>\n",
       "      <td>1.0</td>\n",
       "    </tr>\n",
       "    <tr>\n",
       "      <th>2</th>\n",
       "      <td>2</td>\n",
       "      <td>7.0</td>\n",
       "      <td>8</td>\n",
       "      <td>59.0</td>\n",
       "      <td>4.0</td>\n",
       "      <td>1215.805471</td>\n",
       "      <td>1.0</td>\n",
       "    </tr>\n",
       "    <tr>\n",
       "      <th>3</th>\n",
       "      <td>3</td>\n",
       "      <td>8.0</td>\n",
       "      <td>9</td>\n",
       "      <td>15.0</td>\n",
       "      <td>0.0</td>\n",
       "      <td>0.000000</td>\n",
       "      <td>1.0</td>\n",
       "    </tr>\n",
       "    <tr>\n",
       "      <th>4</th>\n",
       "      <td>4</td>\n",
       "      <td>9.0</td>\n",
       "      <td>10</td>\n",
       "      <td>16.0</td>\n",
       "      <td>1.0</td>\n",
       "      <td>0.000000</td>\n",
       "      <td>1.0</td>\n",
       "    </tr>\n",
       "    <tr>\n",
       "      <th>5</th>\n",
       "      <td>5</td>\n",
       "      <td>13.0</td>\n",
       "      <td>14</td>\n",
       "      <td>56.0</td>\n",
       "      <td>7.0</td>\n",
       "      <td>0.000000</td>\n",
       "      <td>1.0</td>\n",
       "    </tr>\n",
       "    <tr>\n",
       "      <th>6</th>\n",
       "      <td>6</td>\n",
       "      <td>17.0</td>\n",
       "      <td>18</td>\n",
       "      <td>58.0</td>\n",
       "      <td>8.0</td>\n",
       "      <td>0.000000</td>\n",
       "      <td>1.0</td>\n",
       "    </tr>\n",
       "    <tr>\n",
       "      <th>7</th>\n",
       "      <td>7</td>\n",
       "      <td>20.0</td>\n",
       "      <td>21</td>\n",
       "      <td>54.0</td>\n",
       "      <td>3.0</td>\n",
       "      <td>0.000000</td>\n",
       "      <td>1.0</td>\n",
       "    </tr>\n",
       "    <tr>\n",
       "      <th>8</th>\n",
       "      <td>8</td>\n",
       "      <td>21.0</td>\n",
       "      <td>22</td>\n",
       "      <td>26.0</td>\n",
       "      <td>2.0</td>\n",
       "      <td>1317.122594</td>\n",
       "      <td>1.0</td>\n",
       "    </tr>\n",
       "    <tr>\n",
       "      <th>9</th>\n",
       "      <td>9</td>\n",
       "      <td>23.0</td>\n",
       "      <td>24</td>\n",
       "      <td>4.0</td>\n",
       "      <td>0.0</td>\n",
       "      <td>0.000000</td>\n",
       "      <td>1.0</td>\n",
       "    </tr>\n",
       "  </tbody>\n",
       "</table>\n",
       "</div>"
      ],
      "text/plain": [
       "   Unnamed: 0  index  num_caso  tiempo_adeudo  num_retrasos  comp_interno1  \\\n",
       "0           0    0.0         1           62.0           7.0    3039.513678   \n",
       "1           1    6.0         7           29.0           9.0    1547.112462   \n",
       "2           2    7.0         8           59.0           4.0    1215.805471   \n",
       "3           3    8.0         9           15.0           0.0       0.000000   \n",
       "4           4    9.0        10           16.0           1.0       0.000000   \n",
       "5           5   13.0        14           56.0           7.0       0.000000   \n",
       "6           6   17.0        18           58.0           8.0       0.000000   \n",
       "7           7   20.0        21           54.0           3.0       0.000000   \n",
       "8           8   21.0        22           26.0           2.0    1317.122594   \n",
       "9           9   23.0        24            4.0           0.0       0.000000   \n",
       "\n",
       "   prest_aceptado  \n",
       "0             1.0  \n",
       "1             1.0  \n",
       "2             1.0  \n",
       "3             1.0  \n",
       "4             1.0  \n",
       "5             1.0  \n",
       "6             1.0  \n",
       "7             1.0  \n",
       "8             1.0  \n",
       "9             1.0  "
      ]
     },
     "execution_count": 5,
     "metadata": {},
     "output_type": "execute_result"
    }
   ],
   "source": [
    "base_df.head(10)"
   ]
  },
  {
   "cell_type": "code",
   "execution_count": 6,
   "id": "081f3a07",
   "metadata": {},
   "outputs": [
    {
     "data": {
      "text/html": [
       "<div>\n",
       "<style scoped>\n",
       "    .dataframe tbody tr th:only-of-type {\n",
       "        vertical-align: middle;\n",
       "    }\n",
       "\n",
       "    .dataframe tbody tr th {\n",
       "        vertical-align: top;\n",
       "    }\n",
       "\n",
       "    .dataframe thead th {\n",
       "        text-align: right;\n",
       "    }\n",
       "</style>\n",
       "<table border=\"1\" class=\"dataframe\">\n",
       "  <thead>\n",
       "    <tr style=\"text-align: right;\">\n",
       "      <th></th>\n",
       "      <th>Unnamed: 0</th>\n",
       "      <th>index</th>\n",
       "      <th>num_caso</th>\n",
       "      <th>tiempo_adeudo</th>\n",
       "      <th>num_retrasos</th>\n",
       "      <th>comp_interno1</th>\n",
       "      <th>prest_aceptado</th>\n",
       "    </tr>\n",
       "  </thead>\n",
       "  <tbody>\n",
       "    <tr>\n",
       "      <th>49990</th>\n",
       "      <td>49990</td>\n",
       "      <td>0.0</td>\n",
       "      <td>98941</td>\n",
       "      <td>0.0</td>\n",
       "      <td>0.0</td>\n",
       "      <td>0.000000</td>\n",
       "      <td>0.0</td>\n",
       "    </tr>\n",
       "    <tr>\n",
       "      <th>49991</th>\n",
       "      <td>49991</td>\n",
       "      <td>0.0</td>\n",
       "      <td>98943</td>\n",
       "      <td>0.0</td>\n",
       "      <td>0.0</td>\n",
       "      <td>6079.027356</td>\n",
       "      <td>1.0</td>\n",
       "    </tr>\n",
       "    <tr>\n",
       "      <th>49992</th>\n",
       "      <td>49992</td>\n",
       "      <td>0.0</td>\n",
       "      <td>98947</td>\n",
       "      <td>0.0</td>\n",
       "      <td>0.0</td>\n",
       "      <td>0.000000</td>\n",
       "      <td>0.0</td>\n",
       "    </tr>\n",
       "    <tr>\n",
       "      <th>49993</th>\n",
       "      <td>49993</td>\n",
       "      <td>0.0</td>\n",
       "      <td>98950</td>\n",
       "      <td>0.0</td>\n",
       "      <td>0.0</td>\n",
       "      <td>2127.659574</td>\n",
       "      <td>1.0</td>\n",
       "    </tr>\n",
       "    <tr>\n",
       "      <th>49994</th>\n",
       "      <td>49994</td>\n",
       "      <td>0.0</td>\n",
       "      <td>98959</td>\n",
       "      <td>0.0</td>\n",
       "      <td>0.0</td>\n",
       "      <td>1266.464032</td>\n",
       "      <td>0.0</td>\n",
       "    </tr>\n",
       "    <tr>\n",
       "      <th>49995</th>\n",
       "      <td>49995</td>\n",
       "      <td>0.0</td>\n",
       "      <td>98961</td>\n",
       "      <td>0.0</td>\n",
       "      <td>0.0</td>\n",
       "      <td>1519.756839</td>\n",
       "      <td>0.0</td>\n",
       "    </tr>\n",
       "    <tr>\n",
       "      <th>49996</th>\n",
       "      <td>49996</td>\n",
       "      <td>0.0</td>\n",
       "      <td>98968</td>\n",
       "      <td>0.0</td>\n",
       "      <td>0.0</td>\n",
       "      <td>0.000000</td>\n",
       "      <td>0.0</td>\n",
       "    </tr>\n",
       "    <tr>\n",
       "      <th>49997</th>\n",
       "      <td>49997</td>\n",
       "      <td>0.0</td>\n",
       "      <td>98976</td>\n",
       "      <td>0.0</td>\n",
       "      <td>0.0</td>\n",
       "      <td>911.854103</td>\n",
       "      <td>0.0</td>\n",
       "    </tr>\n",
       "    <tr>\n",
       "      <th>49998</th>\n",
       "      <td>49998</td>\n",
       "      <td>0.0</td>\n",
       "      <td>98978</td>\n",
       "      <td>0.0</td>\n",
       "      <td>0.0</td>\n",
       "      <td>0.000000</td>\n",
       "      <td>0.0</td>\n",
       "    </tr>\n",
       "    <tr>\n",
       "      <th>49999</th>\n",
       "      <td>49999</td>\n",
       "      <td>0.0</td>\n",
       "      <td>98985</td>\n",
       "      <td>0.0</td>\n",
       "      <td>0.0</td>\n",
       "      <td>0.000000</td>\n",
       "      <td>0.0</td>\n",
       "    </tr>\n",
       "  </tbody>\n",
       "</table>\n",
       "</div>"
      ],
      "text/plain": [
       "       Unnamed: 0  index  num_caso  tiempo_adeudo  num_retrasos  \\\n",
       "49990       49990    0.0     98941            0.0           0.0   \n",
       "49991       49991    0.0     98943            0.0           0.0   \n",
       "49992       49992    0.0     98947            0.0           0.0   \n",
       "49993       49993    0.0     98950            0.0           0.0   \n",
       "49994       49994    0.0     98959            0.0           0.0   \n",
       "49995       49995    0.0     98961            0.0           0.0   \n",
       "49996       49996    0.0     98968            0.0           0.0   \n",
       "49997       49997    0.0     98976            0.0           0.0   \n",
       "49998       49998    0.0     98978            0.0           0.0   \n",
       "49999       49999    0.0     98985            0.0           0.0   \n",
       "\n",
       "       comp_interno1  prest_aceptado  \n",
       "49990       0.000000             0.0  \n",
       "49991    6079.027356             1.0  \n",
       "49992       0.000000             0.0  \n",
       "49993    2127.659574             1.0  \n",
       "49994    1266.464032             0.0  \n",
       "49995    1519.756839             0.0  \n",
       "49996       0.000000             0.0  \n",
       "49997     911.854103             0.0  \n",
       "49998       0.000000             0.0  \n",
       "49999       0.000000             0.0  "
      ]
     },
     "execution_count": 6,
     "metadata": {},
     "output_type": "execute_result"
    }
   ],
   "source": [
    "base_df.tail(10)"
   ]
  },
  {
   "cell_type": "code",
   "execution_count": 7,
   "id": "83b42331",
   "metadata": {},
   "outputs": [
    {
     "data": {
      "text/plain": [
       "0        0.0\n",
       "1        6.0\n",
       "2        7.0\n",
       "3        8.0\n",
       "4        9.0\n",
       "        ... \n",
       "49995    0.0\n",
       "49996    0.0\n",
       "49997    0.0\n",
       "49998    0.0\n",
       "49999    0.0\n",
       "Name: index, Length: 50000, dtype: float64"
      ]
     },
     "execution_count": 7,
     "metadata": {},
     "output_type": "execute_result"
    }
   ],
   "source": [
    "base_df.pop(\"index\")"
   ]
  },
  {
   "cell_type": "code",
   "execution_count": 8,
   "id": "e857cbfc",
   "metadata": {},
   "outputs": [
    {
     "data": {
      "text/plain": [
       "0            0\n",
       "1            1\n",
       "2            2\n",
       "3            3\n",
       "4            4\n",
       "         ...  \n",
       "49995    49995\n",
       "49996    49996\n",
       "49997    49997\n",
       "49998    49998\n",
       "49999    49999\n",
       "Name: Unnamed: 0, Length: 50000, dtype: int64"
      ]
     },
     "execution_count": 8,
     "metadata": {},
     "output_type": "execute_result"
    }
   ],
   "source": [
    "base_df.pop(\"Unnamed: 0\")"
   ]
  },
  {
   "cell_type": "code",
   "execution_count": 9,
   "id": "896dedd7",
   "metadata": {},
   "outputs": [
    {
     "data": {
      "text/html": [
       "<div>\n",
       "<style scoped>\n",
       "    .dataframe tbody tr th:only-of-type {\n",
       "        vertical-align: middle;\n",
       "    }\n",
       "\n",
       "    .dataframe tbody tr th {\n",
       "        vertical-align: top;\n",
       "    }\n",
       "\n",
       "    .dataframe thead th {\n",
       "        text-align: right;\n",
       "    }\n",
       "</style>\n",
       "<table border=\"1\" class=\"dataframe\">\n",
       "  <thead>\n",
       "    <tr style=\"text-align: right;\">\n",
       "      <th></th>\n",
       "      <th>num_caso</th>\n",
       "      <th>tiempo_adeudo</th>\n",
       "      <th>num_retrasos</th>\n",
       "      <th>comp_interno1</th>\n",
       "      <th>prest_aceptado</th>\n",
       "    </tr>\n",
       "  </thead>\n",
       "  <tbody>\n",
       "    <tr>\n",
       "      <th>0</th>\n",
       "      <td>1</td>\n",
       "      <td>62.0</td>\n",
       "      <td>7.0</td>\n",
       "      <td>3039.513678</td>\n",
       "      <td>1.0</td>\n",
       "    </tr>\n",
       "    <tr>\n",
       "      <th>1</th>\n",
       "      <td>7</td>\n",
       "      <td>29.0</td>\n",
       "      <td>9.0</td>\n",
       "      <td>1547.112462</td>\n",
       "      <td>1.0</td>\n",
       "    </tr>\n",
       "    <tr>\n",
       "      <th>2</th>\n",
       "      <td>8</td>\n",
       "      <td>59.0</td>\n",
       "      <td>4.0</td>\n",
       "      <td>1215.805471</td>\n",
       "      <td>1.0</td>\n",
       "    </tr>\n",
       "    <tr>\n",
       "      <th>3</th>\n",
       "      <td>9</td>\n",
       "      <td>15.0</td>\n",
       "      <td>0.0</td>\n",
       "      <td>0.000000</td>\n",
       "      <td>1.0</td>\n",
       "    </tr>\n",
       "    <tr>\n",
       "      <th>4</th>\n",
       "      <td>10</td>\n",
       "      <td>16.0</td>\n",
       "      <td>1.0</td>\n",
       "      <td>0.000000</td>\n",
       "      <td>1.0</td>\n",
       "    </tr>\n",
       "  </tbody>\n",
       "</table>\n",
       "</div>"
      ],
      "text/plain": [
       "   num_caso  tiempo_adeudo  num_retrasos  comp_interno1  prest_aceptado\n",
       "0         1           62.0           7.0    3039.513678             1.0\n",
       "1         7           29.0           9.0    1547.112462             1.0\n",
       "2         8           59.0           4.0    1215.805471             1.0\n",
       "3         9           15.0           0.0       0.000000             1.0\n",
       "4        10           16.0           1.0       0.000000             1.0"
      ]
     },
     "execution_count": 9,
     "metadata": {},
     "output_type": "execute_result"
    }
   ],
   "source": [
    "base_df.head()"
   ]
  },
  {
   "cell_type": "code",
   "execution_count": 10,
   "id": "12771160",
   "metadata": {},
   "outputs": [
    {
     "data": {
      "text/plain": [
       "<AxesSubplot:xlabel='prest_aceptado', ylabel='count'>"
      ]
     },
     "execution_count": 10,
     "metadata": {},
     "output_type": "execute_result"
    },
    {
     "data": {
      "image/png": "[encoded data removed]",
      "text/plain": [
       "<Figure size 432x288 with 1 Axes>"
      ]
     },
     "metadata": {
      "needs_background": "light"
     },
     "output_type": "display_data"
    }
   ],
   "source": [
    "sns.countplot(data=base_df, x=\"prest_aceptado\")"
   ]
  },
  {
   "cell_type": "code",
   "execution_count": 11,
   "id": "3d240650",
   "metadata": {},
   "outputs": [
    {
     "data": {
      "text/plain": [
       "prest_aceptado\n",
       "1.0    47225\n",
       "0.0     2775\n",
       "dtype: int64"
      ]
     },
     "execution_count": 11,
     "metadata": {},
     "output_type": "execute_result"
    }
   ],
   "source": [
    "base_df.value_counts(\"prest_aceptado\")"
   ]
  },
  {
   "cell_type": "code",
   "execution_count": 12,
   "id": "2cefce9a",
   "metadata": {},
   "outputs": [],
   "source": [
    "X = base_df.copy()\n",
    "y = X.pop(\"prest_aceptado\")"
   ]
  },
  {
   "cell_type": "markdown",
   "id": "695ce772",
   "metadata": {},
   "source": [
    "$\\text{Creamos los train y test sets}$"
   ]
  },
  {
   "cell_type": "code",
   "execution_count": 13,
   "id": "354c157d",
   "metadata": {},
   "outputs": [],
   "source": [
    "X_train, X_test, y_train, y_test = train_test_split(X, y, test_size=0.2,stratify=y)"
   ]
  },
  {
   "cell_type": "markdown",
   "id": "d831f5b9",
   "metadata": {},
   "source": [
    "### Lo siguiente es definir los Transformation Pipelines"
   ]
  },
  {
   "cell_type": "code",
   "execution_count": 14,
   "id": "d04302df",
   "metadata": {},
   "outputs": [],
   "source": [
    "num_features = X_train.select_dtypes(include='number').columns.to_list()\n",
    "cat_features = X_train.select_dtypes(include='object').columns.to_list()"
   ]
  },
  {
   "cell_type": "code",
   "execution_count": 15,
   "id": "f2e53638",
   "metadata": {},
   "outputs": [
    {
     "data": {
      "text/plain": [
       "['num_caso', 'tiempo_adeudo', 'num_retrasos', 'comp_interno1']"
      ]
     },
     "execution_count": 15,
     "metadata": {},
     "output_type": "execute_result"
    }
   ],
   "source": [
    "num_features"
   ]
  },
  {
   "cell_type": "code",
   "execution_count": 16,
   "id": "f536b11f",
   "metadata": {},
   "outputs": [
    {
     "data": {
      "text/plain": [
       "[]"
      ]
     },
     "execution_count": 16,
     "metadata": {},
     "output_type": "execute_result"
    }
   ],
   "source": [
    "cat_features # No hay varibales categoricas en nuestra base de datos"
   ]
  },
  {
   "cell_type": "code",
   "execution_count": 17,
   "id": "c22a3eec",
   "metadata": {},
   "outputs": [],
   "source": [
    "cat_list = [list(X_train[col].dropna().unique()) for col in cat_features]"
   ]
  },
  {
   "cell_type": "code",
   "execution_count": 18,
   "id": "5a937f30",
   "metadata": {},
   "outputs": [],
   "source": [
    "# Pipeline para variables númericas\n",
    "num_pipeline = Pipeline(steps=[('imputer', SimpleImputer(strategy='median'))])"
   ]
  },
  {
   "cell_type": "code",
   "execution_count": 19,
   "id": "7e0d2385",
   "metadata": {},
   "outputs": [],
   "source": [
    "# Pipeline para variables categoricas\n",
    "cat_pipeline = Pipeline(steps=[('imputer', SimpleImputer(strategy='most_frequent')),\n",
    "                               ('onehot', OneHotEncoder(categories=cat_list, sparse=False,\n",
    "                                        handle_unknown='error', drop='first'))])"
   ]
  },
  {
   "cell_type": "markdown",
   "id": "68641eb8",
   "metadata": {},
   "source": [
    "## Realizamos las transformaciones"
   ]
  },
  {
   "cell_type": "code",
   "execution_count": 20,
   "id": "259ed669",
   "metadata": {},
   "outputs": [],
   "source": [
    "full_pipeline = ColumnTransformer(transformers=[\n",
    "               ('numerical', num_pipeline, num_features),\n",
    "               ('categorical', cat_pipeline, cat_features)],\n",
    "               remainder='drop')"
   ]
  },
  {
   "cell_type": "code",
   "execution_count": 21,
   "id": "0abbab83",
   "metadata": {},
   "outputs": [],
   "source": [
    "dec_tree = DecisionTreeClassifier(random_state=42)"
   ]
  },
  {
   "cell_type": "code",
   "execution_count": 22,
   "id": "3e19ef85",
   "metadata": {},
   "outputs": [],
   "source": [
    "tree_pipeline = Pipeline(steps=[('preprocessor', full_pipeline),('classifier', dec_tree)])"
   ]
  },
  {
   "cell_type": "code",
   "execution_count": 23,
   "id": "c3c69046",
   "metadata": {},
   "outputs": [
    {
     "data": {
      "text/plain": [
       "Pipeline(memory=None,\n",
       "         steps=[('preprocessor',\n",
       "                 ColumnTransformer(n_jobs=None, remainder='drop',\n",
       "                                   sparse_threshold=0.3,\n",
       "                                   transformer_weights=None,\n",
       "                                   transformers=[('numerical',\n",
       "                                                  Pipeline(memory=None,\n",
       "                                                           steps=[('imputer',\n",
       "                                                                   SimpleImputer(add_indicator=False,\n",
       "                                                                                 copy=True,\n",
       "                                                                                 fill_value=None,\n",
       "                                                                                 missing_values=nan,\n",
       "                                                                                 strategy='median',\n",
       "                                                                                 verbose=0))],\n",
       "                                                           verbose=False),\n",
       "                                                  ['num_caso', 'tiempo_ad...\n",
       "                                                           verbose=False),\n",
       "                                                  [])],\n",
       "                                   verbose=False)),\n",
       "                ('classifier',\n",
       "                 DecisionTreeClassifier(ccp_alpha=0.0, class_weight=None,\n",
       "                                        criterion='gini', max_depth=None,\n",
       "                                        max_features=None, max_leaf_nodes=None,\n",
       "                                        min_impurity_decrease=0.0,\n",
       "                                        min_impurity_split=None,\n",
       "                                        min_samples_leaf=1, min_samples_split=2,\n",
       "                                        min_weight_fraction_leaf=0.0,\n",
       "                                        presort='deprecated', random_state=42,\n",
       "                                        splitter='best'))],\n",
       "         verbose=False)"
      ]
     },
     "execution_count": 23,
     "metadata": {},
     "output_type": "execute_result"
    }
   ],
   "source": [
    "tree_pipeline.fit(X_train, y_train)"
   ]
  },
  {
   "cell_type": "markdown",
   "id": "05fe0a37",
   "metadata": {},
   "source": [
    "## Confusion Matrix y ROC curve - Primer modelo"
   ]
  },
  {
   "cell_type": "code",
   "execution_count": 24,
   "id": "33830779",
   "metadata": {},
   "outputs": [
    {
     "data": {
      "text/plain": [
       "{'accuracy': 0.9993,\n",
       " 'precision': 0.9996823379923762,\n",
       " 'recall': 0.9995764955002647,\n",
       " 'specificity': 0.9945945945945946,\n",
       " 'f1_score': 0.9996294139446239,\n",
       " 'cohens_kappa': 0.9933287841995113,\n",
       " 'roc_auc': 0.9970855450474296,\n",
       " 'pr_auc': 0.9998294167463205}"
      ]
     },
     "execution_count": 24,
     "metadata": {},
     "output_type": "execute_result"
    },
    {
     "data": {
      "image/png": "[encoded data removed]",
      "text/plain": [
       "<Figure size 864x432 with 2 Axes>"
      ]
     },
     "metadata": {
      "needs_background": "light"
     },
     "output_type": "display_data"
    }
   ],
   "source": [
    "LABELS = ['Positive', 'Negative']\n",
    "performance_evaluation_report(tree_pipeline, X_test,y_test, labels=LABELS,show_plot=True)"
   ]
  },
  {
   "cell_type": "markdown",
   "id": "0116b936",
   "metadata": {},
   "source": [
    "Como podemos observar este modelo al observar la curva $\\textit{ROC}$ parece ser bueno, recordando que esta \n",
    "curva describe una relación entre la sensibilidad del modelo (la tasa de verdaderos positivos o TPR) contra su \n",
    "especificidad (descrita con respecto a la tasa de falsos positivos: 1-FPR), pero tal vez no sea lo demasiado robusto"
   ]
  },
  {
   "cell_type": "markdown",
   "id": "cd71fbd7",
   "metadata": {},
   "source": [
    "En lo anterior como se vió en clase, aplicamos básicamente el tratamiento de los missings como un paso en el pipline, sin embargo, se pueden hacer muchas otras cosas, obviamente:\n",
    "\n",
    "1.- Reescalamiento o estandarización de variables, esto es porque normalmente las variables no están en la misma escala, esto puede introducir sesgo en el modelo. Por ejemplo, para los modelos de regresión o K-vecinos, se recomienda considerar este paso. En general, los métodos basados en árboles de clasificación no requieren considerar el escalamiento. En scikit - learn algunas opciones populares son: StandardScaler y MinMaxScaler.\n",
    "\n",
    "2.- Discretización de varibles continuas.\n",
    "\n",
    "3.- Transformación eliminado Outliers: Durante el análisis exploratorio de Datos que se hizo en la Tarea 1, la base puede tener incosistencias. Este tipo de cuestiones, pueden sesgar el modelo y entonces debemos tratarlos de alguna manera, es lo que se recomienda.\n",
    "\n",
    "En lo que sigue, eliminaremos los outiliers de la base de datos para tener un modelo más robusto. Crearemos una función que detecte y modifique los valores atípicos."
   ]
  },
  {
   "cell_type": "markdown",
   "id": "e6a8c36a",
   "metadata": {},
   "source": [
    "### Creamos nuestro propio transformador"
   ]
  },
  {
   "cell_type": "code",
   "execution_count": 25,
   "id": "7a960445",
   "metadata": {},
   "outputs": [],
   "source": [
    "class OutlierRemover(BaseEstimator, TransformerMixin):\n",
    "    def __init__(self, n_std=3):\n",
    "        self.n_std = n_std\n",
    "    \n",
    "    def fit(self, X, y = None):\n",
    "        if np.isnan(X).any(axis=None):\n",
    "            raise ValueError('''There are missing values in the array! \n",
    "                                Please remove them.''')\n",
    "\n",
    "        mean_vec = np.mean(X, axis=0)\n",
    "        std_vec = np.std(X, axis=0)\n",
    "        \n",
    "        self.upper_band_ = mean_vec + self.n_std * std_vec\n",
    "        self.lower_band_ = mean_vec - self.n_std * std_vec\n",
    "        self.n_features_ = len(self.upper_band_)\n",
    "        \n",
    "        return self \n",
    "    \n",
    "    def transform(self, X, y = None):\n",
    "        X_copy = pd.DataFrame(X.copy())\n",
    "        \n",
    "        upper_band = np.repeat(\n",
    "            self.upper_band_.reshape(self.n_features_, -1), \n",
    "            len(X_copy), \n",
    "            axis=1).transpose()\n",
    "        lower_band = np.repeat(\n",
    "            self.lower_band_.reshape(self.n_features_, -1), \n",
    "            len(X_copy), \n",
    "            axis=1).transpose()\n",
    "        \n",
    "        X_copy[X_copy >= upper_band] = upper_band\n",
    "        X_copy[X_copy <= lower_band] = lower_band\n",
    "        \n",
    "        return X_copy.values\n"
   ]
  },
  {
   "cell_type": "markdown",
   "id": "91639bb1",
   "metadata": {},
   "source": [
    "### Realizamos de nuevo el proceso anterior, pero usando un Pipeline que use nuestro Transformador"
   ]
  },
  {
   "cell_type": "code",
   "execution_count": 26,
   "id": "45a23ad7",
   "metadata": {},
   "outputs": [],
   "source": [
    "num_pipeline = Pipeline(steps=[\n",
    "    ('imputer', SimpleImputer(strategy='median')),\n",
    "    ('outliers', OutlierRemover())])\n",
    "\n",
    "# Modificamos nuestro Pipeline para var númericas"
   ]
  },
  {
   "cell_type": "code",
   "execution_count": 27,
   "id": "455cbee8",
   "metadata": {},
   "outputs": [],
   "source": [
    "full_pipeline2 = ColumnTransformer(transformers=[('numerical', num_pipeline, num_features),\n",
    "                                               ('categorical', cat_pipeline, cat_features)],\n",
    "                                 remainder='drop')\n",
    "\n",
    "dec_tree2 = DecisionTreeClassifier(random_state=42)\n",
    "\n",
    "tree_pipeline2= Pipeline(steps=[('preprocessor', full_pipeline2),\n",
    "                                ('classifier', dec_tree2)])"
   ]
  },
  {
   "cell_type": "code",
   "execution_count": 28,
   "id": "09f33cf3",
   "metadata": {},
   "outputs": [
    {
     "data": {
      "text/plain": [
       "Pipeline(memory=None,\n",
       "         steps=[('preprocessor',\n",
       "                 ColumnTransformer(n_jobs=None, remainder='drop',\n",
       "                                   sparse_threshold=0.3,\n",
       "                                   transformer_weights=None,\n",
       "                                   transformers=[('numerical',\n",
       "                                                  Pipeline(memory=None,\n",
       "                                                           steps=[('imputer',\n",
       "                                                                   SimpleImputer(add_indicator=False,\n",
       "                                                                                 copy=True,\n",
       "                                                                                 fill_value=None,\n",
       "                                                                                 missing_values=nan,\n",
       "                                                                                 strategy='median',\n",
       "                                                                                 verbose=0)),\n",
       "                                                                  ('outliers',\n",
       "                                                                   OutlierRemover(n_std=3))],...\n",
       "                                                           verbose=False),\n",
       "                                                  [])],\n",
       "                                   verbose=False)),\n",
       "                ('classifier',\n",
       "                 DecisionTreeClassifier(ccp_alpha=0.0, class_weight=None,\n",
       "                                        criterion='gini', max_depth=None,\n",
       "                                        max_features=None, max_leaf_nodes=None,\n",
       "                                        min_impurity_decrease=0.0,\n",
       "                                        min_impurity_split=None,\n",
       "                                        min_samples_leaf=1, min_samples_split=2,\n",
       "                                        min_weight_fraction_leaf=0.0,\n",
       "                                        presort='deprecated', random_state=42,\n",
       "                                        splitter='best'))],\n",
       "         verbose=False)"
      ]
     },
     "execution_count": 28,
     "metadata": {},
     "output_type": "execute_result"
    }
   ],
   "source": [
    "tree_pipeline2.fit(X_train, y_train)"
   ]
  },
  {
   "cell_type": "markdown",
   "id": "8c1044d9",
   "metadata": {},
   "source": [
    "## Confusion Matrix y ROC curve - Segundo modelo"
   ]
  },
  {
   "cell_type": "code",
   "execution_count": 29,
   "id": "50f96dd3",
   "metadata": {},
   "outputs": [
    {
     "data": {
      "text/plain": [
       "{'accuracy': 0.9932,\n",
       " 'precision': 0.9959801121337142,\n",
       " 'recall': 0.9968237162519852,\n",
       " 'specificity': 0.9315315315315316,\n",
       " 'f1_score': 0.9964017356334003,\n",
       " 'cohens_kappa': 0.9346959472112768,\n",
       " 'roc_auc': 0.9641776238917584,\n",
       " 'pr_auc': 0.9979019141928497}"
      ]
     },
     "execution_count": 29,
     "metadata": {},
     "output_type": "execute_result"
    },
    {
     "data": {
      "image/png": "[encoded data removed]",
      "text/plain": [
       "<Figure size 864x432 with 2 Axes>"
      ]
     },
     "metadata": {
      "needs_background": "light"
     },
     "output_type": "display_data"
    }
   ],
   "source": [
    "performance_evaluation_report(tree_pipeline2, X_test, y_test, labels=LABELS, show_plot=True)"
   ]
  },
  {
   "cell_type": "markdown",
   "id": "9246a6f7",
   "metadata": {},
   "source": [
    "## Realizamos Cross Validation sólo en el árbol"
   ]
  },
  {
   "cell_type": "code",
   "execution_count": 30,
   "id": "d08a1f9e",
   "metadata": {},
   "outputs": [],
   "source": [
    "k_fold = StratifiedKFold(5, shuffle=True, random_state=42)"
   ]
  },
  {
   "cell_type": "code",
   "execution_count": 31,
   "id": "32837811",
   "metadata": {},
   "outputs": [
    {
     "data": {
      "text/plain": [
       "array([0.992375, 0.991375, 0.993125, 0.994   , 0.9905  ])"
      ]
     },
     "execution_count": 31,
     "metadata": {},
     "output_type": "execute_result"
    }
   ],
   "source": [
    "cross_val_score(tree_pipeline2, X_train, y_train, cv=k_fold)"
   ]
  },
  {
   "cell_type": "code",
   "execution_count": 32,
   "id": "329f8417",
   "metadata": {},
   "outputs": [
    {
     "data": {
      "text/plain": [
       "{'fit_time': array([0.08541608, 0.08888507, 0.08036661, 0.07348275, 0.07190943]),\n",
       " 'score_time': array([0.0231359 , 0.02579021, 0.02138209, 0.01933193, 0.02317953]),\n",
       " 'test_accuracy': array([0.992375, 0.991375, 0.993125, 0.994   , 0.9905  ]),\n",
       " 'test_precision': array([0.99589784, 0.99497554, 0.99603227, 0.99787798, 0.99536424]),\n",
       " 'test_recall': array([0.99602965, 0.9958973 , 0.99669137, 0.99576496, 0.99457385]),\n",
       " 'test_roc_auc': array([0.96310491, 0.95515586, 0.9645619 , 0.97986446, 0.95787251])}"
      ]
     },
     "execution_count": 32,
     "metadata": {},
     "output_type": "execute_result"
    }
   ],
   "source": [
    "cross_validate(tree_pipeline2, X_train, y_train, cv=k_fold,\n",
    "                           scoring=['accuracy', 'precision', 'recall','roc_auc'])"
   ]
  },
  {
   "cell_type": "code",
   "execution_count": 33,
   "id": "0cb1f863",
   "metadata": {},
   "outputs": [],
   "source": [
    "param_grid = {'classifier__criterion': ['entropy', 'gini'],\n",
    "               'classifier__max_depth': range(3, 11),\n",
    "               'classifier__min_samples_leaf': range(2, 11)}"
   ]
  },
  {
   "cell_type": "code",
   "execution_count": 34,
   "id": "169743ce",
   "metadata": {},
   "outputs": [
    {
     "name": "stdout",
     "output_type": "stream",
     "text": [
      "Fitting 5 folds for each of 144 candidates, totalling 720 fits\n"
     ]
    },
    {
     "name": "stderr",
     "output_type": "stream",
     "text": [
      "[Parallel(n_jobs=-1)]: Using backend LokyBackend with 12 concurrent workers.\n",
      "[Parallel(n_jobs=-1)]: Done  26 tasks      | elapsed:    2.2s\n",
      "[Parallel(n_jobs=-1)]: Done 176 tasks      | elapsed:    5.8s\n",
      "[Parallel(n_jobs=-1)]: Done 426 tasks      | elapsed:   11.7s\n",
      "[Parallel(n_jobs=-1)]: Done 720 out of 720 | elapsed:   19.0s finished\n"
     ]
    },
    {
     "data": {
      "text/plain": [
       "GridSearchCV(cv=StratifiedKFold(n_splits=5, random_state=42, shuffle=True),\n",
       "             error_score=nan,\n",
       "             estimator=Pipeline(memory=None,\n",
       "                                steps=[('preprocessor',\n",
       "                                        ColumnTransformer(n_jobs=None,\n",
       "                                                          remainder='drop',\n",
       "                                                          sparse_threshold=0.3,\n",
       "                                                          transformer_weights=None,\n",
       "                                                          transformers=[('numerical',\n",
       "                                                                         Pipeline(memory=None,\n",
       "                                                                                  steps=[('imputer',\n",
       "                                                                                          SimpleImputer(add_indicator=False,\n",
       "                                                                                                        copy=True,\n",
       "                                                                                                        fill...\n",
       "                                                               min_samples_split=2,\n",
       "                                                               min_weight_fraction_leaf=0.0,\n",
       "                                                               presort='deprecated',\n",
       "                                                               random_state=42,\n",
       "                                                               splitter='best'))],\n",
       "                                verbose=False),\n",
       "             iid='deprecated', n_jobs=-1,\n",
       "             param_grid={'classifier__criterion': ['entropy', 'gini'],\n",
       "                         'classifier__max_depth': range(3, 11),\n",
       "                         'classifier__min_samples_leaf': range(2, 11)},\n",
       "             pre_dispatch='2*n_jobs', refit=True, return_train_score=False,\n",
       "             scoring='recall', verbose=1)"
      ]
     },
     "execution_count": 34,
     "metadata": {},
     "output_type": "execute_result"
    }
   ],
   "source": [
    "classifier_gs = GridSearchCV(tree_pipeline2, param_grid,scoring='recall',cv=k_fold, n_jobs=-1, verbose=1)\n",
    "classifier_gs.fit(X_train, y_train)"
   ]
  },
  {
   "cell_type": "markdown",
   "id": "c00ea50f",
   "metadata": {},
   "source": [
    "### Vemos cuales son los mejores parametros"
   ]
  },
  {
   "cell_type": "code",
   "execution_count": 35,
   "id": "6e31c3ed",
   "metadata": {},
   "outputs": [
    {
     "name": "stdout",
     "output_type": "stream",
     "text": [
      "Best parameters: {'classifier__criterion': 'entropy', 'classifier__max_depth': 3, 'classifier__min_samples_leaf': 2}\n",
      "Recall (Training set): 0.9988\n",
      "Recall (Test set): 0.9990\n"
     ]
    }
   ],
   "source": [
    "print(f'Best parameters: {classifier_gs.best_params_}') \n",
    "print(f'Recall (Training set): {classifier_gs.best_score_:.4f}') \n",
    "print(f'Recall (Test set): {metrics.recall_score(y_test, classifier_gs.predict(X_test)):.4f}')"
   ]
  },
  {
   "cell_type": "code",
   "execution_count": 36,
   "id": "360ebf30",
   "metadata": {},
   "outputs": [
    {
     "data": {
      "image/png": "[encoded data removed]",
      "text/plain": [
       "<Figure size 864x432 with 2 Axes>"
      ]
     },
     "metadata": {
      "needs_background": "light"
     },
     "output_type": "display_data"
    }
   ],
   "source": [
    "LABELS = ['No Default', 'Default']\n",
    "tree_gs_perf = performance_evaluation_report(classifier_gs, X_test, \n",
    "                                             y_test, labels=LABELS, \n",
    "                                             show_plot=True)\n",
    "\n",
    "plt.tight_layout()\n",
    "#plt.savefig('images/ch8_im20.png')\n",
    "plt.show()"
   ]
  },
  {
   "cell_type": "code",
   "execution_count": 37,
   "id": "2e3e6bf3",
   "metadata": {},
   "outputs": [],
   "source": [
    "from sklearn.metrics import roc_auc_score, roc_curve, mean_squared_error, precision_recall_curve,  accuracy_score"
   ]
  },
  {
   "cell_type": "code",
   "execution_count": 38,
   "id": "90187a27",
   "metadata": {},
   "outputs": [
    {
     "name": "stdout",
     "output_type": "stream",
     "text": [
      "1 2 3 4 5 6 7 8 9 10 11 12 13 14 15 16 17 18 19 20 21 22 23 24 25 "
     ]
    }
   ],
   "source": [
    "train_scores, val_scores, leaves = {}, {}, {}\n",
    "for max_depth in range(1, 26):\n",
    "    print(max_depth, end=' ', flush=True)\n",
    "    reg_tree = DecisionTreeClassifier(criterion='gini',\n",
    "                                          max_depth=max_depth,\n",
    "                                          min_samples_leaf=10,\n",
    "                                          random_state=42)\n",
    "    tree_pipeline = Pipeline(steps=[('preprocessor', full_pipeline2),('classifier', reg_tree)])\n",
    "    train_scores[max_depth], val_scores[max_depth], leaves[max_depth] = [],[], []\n",
    "    \n",
    "    for train_idx, test_idx in k_fold.split(X_train,y_train):\n",
    "        X_t, y_t,  = X_train.iloc[train_idx], y_train.iloc[train_idx]\n",
    "        X_te, y_te = X_train.iloc[test_idx], y_train.iloc[test_idx]\n",
    "        tree_pipeline.fit(X_t, y_t)\n",
    "        train_pred = tree_pipeline.predict_proba(X=X_t)[:, 1]\n",
    "        train_score = roc_auc_score(y_score=train_pred, y_true=y_t)\n",
    "        train_scores[max_depth].append(train_score)\n",
    "\n",
    "        test_pred = tree_pipeline.predict_proba(X=X_te)[:, 1]\n",
    "        val_score = roc_auc_score(y_score=test_pred, y_true=y_te)\n",
    "        val_scores[max_depth].append(val_score)  \n",
    "        leaves[max_depth].append(max_depth)"
   ]
  },
  {
   "cell_type": "code",
   "execution_count": 39,
   "id": "64ea39c6",
   "metadata": {},
   "outputs": [],
   "source": [
    "clf_train_scores = pd.DataFrame(train_scores)\n",
    "clf_valid_scores = pd.DataFrame(val_scores)\n",
    "bd_leaves = pd.DataFrame(leaves)"
   ]
  },
  {
   "cell_type": "code",
   "execution_count": 40,
   "id": "ab1b3de6",
   "metadata": {},
   "outputs": [
    {
     "data": {
      "text/plain": [
       "{1: [1, 1, 1, 1, 1],\n",
       " 2: [2, 2, 2, 2, 2],\n",
       " 3: [3, 3, 3, 3, 3],\n",
       " 4: [4, 4, 4, 4, 4],\n",
       " 5: [5, 5, 5, 5, 5],\n",
       " 6: [6, 6, 6, 6, 6],\n",
       " 7: [7, 7, 7, 7, 7],\n",
       " 8: [8, 8, 8, 8, 8],\n",
       " 9: [9, 9, 9, 9, 9],\n",
       " 10: [10, 10, 10, 10, 10],\n",
       " 11: [11, 11, 11, 11, 11],\n",
       " 12: [12, 12, 12, 12, 12],\n",
       " 13: [13, 13, 13, 13, 13],\n",
       " 14: [14, 14, 14, 14, 14],\n",
       " 15: [15, 15, 15, 15, 15],\n",
       " 16: [16, 16, 16, 16, 16],\n",
       " 17: [17, 17, 17, 17, 17],\n",
       " 18: [18, 18, 18, 18, 18],\n",
       " 19: [19, 19, 19, 19, 19],\n",
       " 20: [20, 20, 20, 20, 20],\n",
       " 21: [21, 21, 21, 21, 21],\n",
       " 22: [22, 22, 22, 22, 22],\n",
       " 23: [23, 23, 23, 23, 23],\n",
       " 24: [24, 24, 24, 24, 24],\n",
       " 25: [25, 25, 25, 25, 25]}"
      ]
     },
     "execution_count": 40,
     "metadata": {},
     "output_type": "execute_result"
    }
   ],
   "source": [
    "leaves"
   ]
  },
  {
   "cell_type": "code",
   "execution_count": 41,
   "id": "525384b2",
   "metadata": {},
   "outputs": [
    {
     "data": {
      "text/html": [
       "<div>\n",
       "<style scoped>\n",
       "    .dataframe tbody tr th:only-of-type {\n",
       "        vertical-align: middle;\n",
       "    }\n",
       "\n",
       "    .dataframe tbody tr th {\n",
       "        vertical-align: top;\n",
       "    }\n",
       "\n",
       "    .dataframe thead th {\n",
       "        text-align: right;\n",
       "    }\n",
       "</style>\n",
       "<table border=\"1\" class=\"dataframe\">\n",
       "  <thead>\n",
       "    <tr style=\"text-align: right;\">\n",
       "      <th></th>\n",
       "      <th>1</th>\n",
       "      <th>2</th>\n",
       "      <th>3</th>\n",
       "      <th>4</th>\n",
       "      <th>5</th>\n",
       "      <th>6</th>\n",
       "      <th>7</th>\n",
       "      <th>8</th>\n",
       "      <th>9</th>\n",
       "      <th>10</th>\n",
       "      <th>...</th>\n",
       "      <th>16</th>\n",
       "      <th>17</th>\n",
       "      <th>18</th>\n",
       "      <th>19</th>\n",
       "      <th>20</th>\n",
       "      <th>21</th>\n",
       "      <th>22</th>\n",
       "      <th>23</th>\n",
       "      <th>24</th>\n",
       "      <th>25</th>\n",
       "    </tr>\n",
       "  </thead>\n",
       "  <tbody>\n",
       "    <tr>\n",
       "      <th>0</th>\n",
       "      <td>0.805680</td>\n",
       "      <td>0.913191</td>\n",
       "      <td>0.933029</td>\n",
       "      <td>0.943829</td>\n",
       "      <td>0.975506</td>\n",
       "      <td>0.981082</td>\n",
       "      <td>0.986914</td>\n",
       "      <td>0.993490</td>\n",
       "      <td>0.995270</td>\n",
       "      <td>0.996993</td>\n",
       "      <td>...</td>\n",
       "      <td>0.999623</td>\n",
       "      <td>0.999623</td>\n",
       "      <td>0.999623</td>\n",
       "      <td>0.999623</td>\n",
       "      <td>0.999623</td>\n",
       "      <td>0.999623</td>\n",
       "      <td>0.999623</td>\n",
       "      <td>0.999623</td>\n",
       "      <td>0.999623</td>\n",
       "      <td>0.999623</td>\n",
       "    </tr>\n",
       "    <tr>\n",
       "      <th>1</th>\n",
       "      <td>0.802185</td>\n",
       "      <td>0.910747</td>\n",
       "      <td>0.931154</td>\n",
       "      <td>0.942649</td>\n",
       "      <td>0.963743</td>\n",
       "      <td>0.981317</td>\n",
       "      <td>0.992703</td>\n",
       "      <td>0.996761</td>\n",
       "      <td>0.998607</td>\n",
       "      <td>0.999468</td>\n",
       "      <td>...</td>\n",
       "      <td>0.999546</td>\n",
       "      <td>0.999546</td>\n",
       "      <td>0.999546</td>\n",
       "      <td>0.999546</td>\n",
       "      <td>0.999546</td>\n",
       "      <td>0.999546</td>\n",
       "      <td>0.999546</td>\n",
       "      <td>0.999546</td>\n",
       "      <td>0.999546</td>\n",
       "      <td>0.999546</td>\n",
       "    </tr>\n",
       "    <tr>\n",
       "      <th>2</th>\n",
       "      <td>0.803659</td>\n",
       "      <td>0.917508</td>\n",
       "      <td>0.929473</td>\n",
       "      <td>0.940758</td>\n",
       "      <td>0.974262</td>\n",
       "      <td>0.981139</td>\n",
       "      <td>0.985373</td>\n",
       "      <td>0.992314</td>\n",
       "      <td>0.996917</td>\n",
       "      <td>0.999040</td>\n",
       "      <td>...</td>\n",
       "      <td>0.999526</td>\n",
       "      <td>0.999543</td>\n",
       "      <td>0.999554</td>\n",
       "      <td>0.999560</td>\n",
       "      <td>0.999569</td>\n",
       "      <td>0.999580</td>\n",
       "      <td>0.999589</td>\n",
       "      <td>0.999591</td>\n",
       "      <td>0.999594</td>\n",
       "      <td>0.999594</td>\n",
       "    </tr>\n",
       "    <tr>\n",
       "      <th>3</th>\n",
       "      <td>0.801887</td>\n",
       "      <td>0.912990</td>\n",
       "      <td>0.932538</td>\n",
       "      <td>0.943121</td>\n",
       "      <td>0.975323</td>\n",
       "      <td>0.981126</td>\n",
       "      <td>0.987380</td>\n",
       "      <td>0.992367</td>\n",
       "      <td>0.997470</td>\n",
       "      <td>0.999314</td>\n",
       "      <td>...</td>\n",
       "      <td>0.999584</td>\n",
       "      <td>0.999584</td>\n",
       "      <td>0.999584</td>\n",
       "      <td>0.999584</td>\n",
       "      <td>0.999584</td>\n",
       "      <td>0.999584</td>\n",
       "      <td>0.999584</td>\n",
       "      <td>0.999584</td>\n",
       "      <td>0.999584</td>\n",
       "      <td>0.999584</td>\n",
       "    </tr>\n",
       "    <tr>\n",
       "      <th>4</th>\n",
       "      <td>0.802963</td>\n",
       "      <td>0.909390</td>\n",
       "      <td>0.928786</td>\n",
       "      <td>0.941858</td>\n",
       "      <td>0.974029</td>\n",
       "      <td>0.981278</td>\n",
       "      <td>0.986164</td>\n",
       "      <td>0.992281</td>\n",
       "      <td>0.996666</td>\n",
       "      <td>0.999059</td>\n",
       "      <td>...</td>\n",
       "      <td>0.999561</td>\n",
       "      <td>0.999561</td>\n",
       "      <td>0.999561</td>\n",
       "      <td>0.999561</td>\n",
       "      <td>0.999561</td>\n",
       "      <td>0.999561</td>\n",
       "      <td>0.999561</td>\n",
       "      <td>0.999561</td>\n",
       "      <td>0.999561</td>\n",
       "      <td>0.999561</td>\n",
       "    </tr>\n",
       "  </tbody>\n",
       "</table>\n",
       "<p>5 rows × 25 columns</p>\n",
       "</div>"
      ],
      "text/plain": [
       "         1         2         3         4         5         6         7   \\\n",
       "0  0.805680  0.913191  0.933029  0.943829  0.975506  0.981082  0.986914   \n",
       "1  0.802185  0.910747  0.931154  0.942649  0.963743  0.981317  0.992703   \n",
       "2  0.803659  0.917508  0.929473  0.940758  0.974262  0.981139  0.985373   \n",
       "3  0.801887  0.912990  0.932538  0.943121  0.975323  0.981126  0.987380   \n",
       "4  0.802963  0.909390  0.928786  0.941858  0.974029  0.981278  0.986164   \n",
       "\n",
       "         8         9         10  ...        16        17        18        19  \\\n",
       "0  0.993490  0.995270  0.996993  ...  0.999623  0.999623  0.999623  0.999623   \n",
       "1  0.996761  0.998607  0.999468  ...  0.999546  0.999546  0.999546  0.999546   \n",
       "2  0.992314  0.996917  0.999040  ...  0.999526  0.999543  0.999554  0.999560   \n",
       "3  0.992367  0.997470  0.999314  ...  0.999584  0.999584  0.999584  0.999584   \n",
       "4  0.992281  0.996666  0.999059  ...  0.999561  0.999561  0.999561  0.999561   \n",
       "\n",
       "         20        21        22        23        24        25  \n",
       "0  0.999623  0.999623  0.999623  0.999623  0.999623  0.999623  \n",
       "1  0.999546  0.999546  0.999546  0.999546  0.999546  0.999546  \n",
       "2  0.999569  0.999580  0.999589  0.999591  0.999594  0.999594  \n",
       "3  0.999584  0.999584  0.999584  0.999584  0.999584  0.999584  \n",
       "4  0.999561  0.999561  0.999561  0.999561  0.999561  0.999561  \n",
       "\n",
       "[5 rows x 25 columns]"
      ]
     },
     "execution_count": 41,
     "metadata": {},
     "output_type": "execute_result"
    }
   ],
   "source": [
    "clf_train_scores"
   ]
  },
  {
   "cell_type": "code",
   "execution_count": 42,
   "id": "481521e7",
   "metadata": {},
   "outputs": [
    {
     "data": {
      "text/html": [
       "<div>\n",
       "<style scoped>\n",
       "    .dataframe tbody tr th:only-of-type {\n",
       "        vertical-align: middle;\n",
       "    }\n",
       "\n",
       "    .dataframe tbody tr th {\n",
       "        vertical-align: top;\n",
       "    }\n",
       "\n",
       "    .dataframe thead th {\n",
       "        text-align: right;\n",
       "    }\n",
       "</style>\n",
       "<table border=\"1\" class=\"dataframe\">\n",
       "  <thead>\n",
       "    <tr style=\"text-align: right;\">\n",
       "      <th></th>\n",
       "      <th>1</th>\n",
       "      <th>2</th>\n",
       "      <th>3</th>\n",
       "      <th>4</th>\n",
       "      <th>5</th>\n",
       "      <th>6</th>\n",
       "      <th>7</th>\n",
       "      <th>8</th>\n",
       "      <th>9</th>\n",
       "      <th>10</th>\n",
       "      <th>...</th>\n",
       "      <th>16</th>\n",
       "      <th>17</th>\n",
       "      <th>18</th>\n",
       "      <th>19</th>\n",
       "      <th>20</th>\n",
       "      <th>21</th>\n",
       "      <th>22</th>\n",
       "      <th>23</th>\n",
       "      <th>24</th>\n",
       "      <th>25</th>\n",
       "    </tr>\n",
       "  </thead>\n",
       "  <tbody>\n",
       "    <tr>\n",
       "      <th>0</th>\n",
       "      <td>0.793655</td>\n",
       "      <td>0.902321</td>\n",
       "      <td>0.923292</td>\n",
       "      <td>0.937273</td>\n",
       "      <td>0.967372</td>\n",
       "      <td>0.973916</td>\n",
       "      <td>0.977454</td>\n",
       "      <td>0.987437</td>\n",
       "      <td>0.989116</td>\n",
       "      <td>0.992071</td>\n",
       "      <td>...</td>\n",
       "      <td>0.994642</td>\n",
       "      <td>0.994642</td>\n",
       "      <td>0.994642</td>\n",
       "      <td>0.994642</td>\n",
       "      <td>0.994642</td>\n",
       "      <td>0.994642</td>\n",
       "      <td>0.994642</td>\n",
       "      <td>0.994642</td>\n",
       "      <td>0.994642</td>\n",
       "      <td>0.994642</td>\n",
       "    </tr>\n",
       "    <tr>\n",
       "      <th>1</th>\n",
       "      <td>0.807633</td>\n",
       "      <td>0.912133</td>\n",
       "      <td>0.930828</td>\n",
       "      <td>0.941995</td>\n",
       "      <td>0.952409</td>\n",
       "      <td>0.977014</td>\n",
       "      <td>0.986995</td>\n",
       "      <td>0.993723</td>\n",
       "      <td>0.996659</td>\n",
       "      <td>0.998913</td>\n",
       "      <td>...</td>\n",
       "      <td>0.994494</td>\n",
       "      <td>0.994494</td>\n",
       "      <td>0.994494</td>\n",
       "      <td>0.994494</td>\n",
       "      <td>0.994494</td>\n",
       "      <td>0.994494</td>\n",
       "      <td>0.994494</td>\n",
       "      <td>0.994494</td>\n",
       "      <td>0.994494</td>\n",
       "      <td>0.994494</td>\n",
       "    </tr>\n",
       "    <tr>\n",
       "      <th>2</th>\n",
       "      <td>0.801738</td>\n",
       "      <td>0.922586</td>\n",
       "      <td>0.933783</td>\n",
       "      <td>0.945423</td>\n",
       "      <td>0.974579</td>\n",
       "      <td>0.979702</td>\n",
       "      <td>0.984715</td>\n",
       "      <td>0.989512</td>\n",
       "      <td>0.994078</td>\n",
       "      <td>0.996380</td>\n",
       "      <td>...</td>\n",
       "      <td>0.996730</td>\n",
       "      <td>0.994454</td>\n",
       "      <td>0.994444</td>\n",
       "      <td>0.994447</td>\n",
       "      <td>0.994492</td>\n",
       "      <td>0.994479</td>\n",
       "      <td>0.994453</td>\n",
       "      <td>0.994450</td>\n",
       "      <td>0.994456</td>\n",
       "      <td>0.994456</td>\n",
       "    </tr>\n",
       "    <tr>\n",
       "      <th>3</th>\n",
       "      <td>0.808827</td>\n",
       "      <td>0.903091</td>\n",
       "      <td>0.925225</td>\n",
       "      <td>0.940018</td>\n",
       "      <td>0.967392</td>\n",
       "      <td>0.976777</td>\n",
       "      <td>0.986076</td>\n",
       "      <td>0.992865</td>\n",
       "      <td>0.997994</td>\n",
       "      <td>0.999069</td>\n",
       "      <td>...</td>\n",
       "      <td>0.999251</td>\n",
       "      <td>0.999251</td>\n",
       "      <td>0.999251</td>\n",
       "      <td>0.999251</td>\n",
       "      <td>0.999251</td>\n",
       "      <td>0.999251</td>\n",
       "      <td>0.999251</td>\n",
       "      <td>0.999251</td>\n",
       "      <td>0.999251</td>\n",
       "      <td>0.999251</td>\n",
       "    </tr>\n",
       "    <tr>\n",
       "      <th>4</th>\n",
       "      <td>0.804521</td>\n",
       "      <td>0.917556</td>\n",
       "      <td>0.939296</td>\n",
       "      <td>0.940798</td>\n",
       "      <td>0.970414</td>\n",
       "      <td>0.978732</td>\n",
       "      <td>0.982017</td>\n",
       "      <td>0.987986</td>\n",
       "      <td>0.991390</td>\n",
       "      <td>0.995930</td>\n",
       "      <td>...</td>\n",
       "      <td>0.994366</td>\n",
       "      <td>0.994366</td>\n",
       "      <td>0.994366</td>\n",
       "      <td>0.994366</td>\n",
       "      <td>0.994366</td>\n",
       "      <td>0.994366</td>\n",
       "      <td>0.994366</td>\n",
       "      <td>0.994366</td>\n",
       "      <td>0.994366</td>\n",
       "      <td>0.994366</td>\n",
       "    </tr>\n",
       "  </tbody>\n",
       "</table>\n",
       "<p>5 rows × 25 columns</p>\n",
       "</div>"
      ],
      "text/plain": [
       "         1         2         3         4         5         6         7   \\\n",
       "0  0.793655  0.902321  0.923292  0.937273  0.967372  0.973916  0.977454   \n",
       "1  0.807633  0.912133  0.930828  0.941995  0.952409  0.977014  0.986995   \n",
       "2  0.801738  0.922586  0.933783  0.945423  0.974579  0.979702  0.984715   \n",
       "3  0.808827  0.903091  0.925225  0.940018  0.967392  0.976777  0.986076   \n",
       "4  0.804521  0.917556  0.939296  0.940798  0.970414  0.978732  0.982017   \n",
       "\n",
       "         8         9         10  ...        16        17        18        19  \\\n",
       "0  0.987437  0.989116  0.992071  ...  0.994642  0.994642  0.994642  0.994642   \n",
       "1  0.993723  0.996659  0.998913  ...  0.994494  0.994494  0.994494  0.994494   \n",
       "2  0.989512  0.994078  0.996380  ...  0.996730  0.994454  0.994444  0.994447   \n",
       "3  0.992865  0.997994  0.999069  ...  0.999251  0.999251  0.999251  0.999251   \n",
       "4  0.987986  0.991390  0.995930  ...  0.994366  0.994366  0.994366  0.994366   \n",
       "\n",
       "         20        21        22        23        24        25  \n",
       "0  0.994642  0.994642  0.994642  0.994642  0.994642  0.994642  \n",
       "1  0.994494  0.994494  0.994494  0.994494  0.994494  0.994494  \n",
       "2  0.994492  0.994479  0.994453  0.994450  0.994456  0.994456  \n",
       "3  0.999251  0.999251  0.999251  0.999251  0.999251  0.999251  \n",
       "4  0.994366  0.994366  0.994366  0.994366  0.994366  0.994366  \n",
       "\n",
       "[5 rows x 25 columns]"
      ]
     },
     "execution_count": 42,
     "metadata": {},
     "output_type": "execute_result"
    }
   ],
   "source": [
    "clf_valid_scores"
   ]
  },
  {
   "cell_type": "code",
   "execution_count": 43,
   "id": "3c705691",
   "metadata": {},
   "outputs": [],
   "source": [
    "roc_entrenamiento=[]\n",
    "for c in clf_train_scores.columns:\n",
    "    promedio_roc=mean(clf_train_scores[c])\n",
    "    roc_entrenamiento.append(promedio_roc)\n",
    "    \n",
    "roc_validacion=[]\n",
    "for c in clf_valid_scores.columns:\n",
    "    promedio_roc=mean(clf_valid_scores[c])\n",
    "    roc_validacion.append(promedio_roc)\n",
    "\n",
    "prof=[]\n",
    "for c in bd_leaves.columns:\n",
    "    id_=mean(bd_leaves[c])\n",
    "    prof.append(id_)"
   ]
  },
  {
   "cell_type": "code",
   "execution_count": 44,
   "id": "2ae6b33a",
   "metadata": {},
   "outputs": [
    {
     "data": {
      "text/plain": [
       "[0.8032748868508529,\n",
       " 0.9127650480019458,\n",
       " 0.9309958354496637,\n",
       " 0.9424428959713419,\n",
       " 0.9725725301383304,\n",
       " 0.9811883078568908,\n",
       " 0.9877070072736182,\n",
       " 0.9934425844087867,\n",
       " 0.9969859210388261,\n",
       " 0.9987746261845487,\n",
       " 0.9993541746401643,\n",
       " 0.9995288072780297,\n",
       " 0.9995554048539672,\n",
       " 0.9995614259624235,\n",
       " 0.9995650568845711,\n",
       " 0.9995679444829954,\n",
       " 0.9995714002862709,\n",
       " 0.9995735184794377,\n",
       " 0.9995748262820786,\n",
       " 0.9995765029521315,\n",
       " 0.9995788111679044,\n",
       " 0.9995805604936592,\n",
       " 0.9995809740722723,\n",
       " 0.9995815180585563,\n",
       " 0.9995815180585563]"
      ]
     },
     "execution_count": 44,
     "metadata": {},
     "output_type": "execute_result"
    }
   ],
   "source": [
    "roc_entrenamiento"
   ]
  },
  {
   "cell_type": "code",
   "execution_count": 45,
   "id": "8d68d481",
   "metadata": {},
   "outputs": [
    {
     "data": {
      "text/plain": [
       "[0.803274886850853,\n",
       " 0.9115373976411562,\n",
       " 0.9304845740393649,\n",
       " 0.9411015766958064,\n",
       " 0.9664330655430444,\n",
       " 0.9772279591661539,\n",
       " 0.9834514305199853,\n",
       " 0.9903046740493803,\n",
       " 0.9938475896489395,\n",
       " 0.9964725544761279,\n",
       " 0.9972206921055518,\n",
       " 0.9965500538919014,\n",
       " 0.9961091418310847,\n",
       " 0.9958964655497212,\n",
       " 0.9958981049604395,\n",
       " 0.9958967636243973,\n",
       " 0.9954414545567272,\n",
       " 0.9954394574563977,\n",
       " 0.9954401728356201,\n",
       " 0.9954490554609665,\n",
       " 0.9954465516336877,\n",
       " 0.9954413353268567,\n",
       " 0.9954406497551018,\n",
       " 0.995441931476209,\n",
       " 0.995441931476209]"
      ]
     },
     "execution_count": 45,
     "metadata": {},
     "output_type": "execute_result"
    }
   ],
   "source": [
    "roc_validacion"
   ]
  },
  {
   "cell_type": "code",
   "execution_count": 46,
   "id": "1436e9ec",
   "metadata": {},
   "outputs": [
    {
     "data": {
      "image/png": "[encoded data removed]",
      "text/plain": [
       "<Figure size 720x360 with 1 Axes>"
      ]
     },
     "metadata": {
      "needs_background": "light"
     },
     "output_type": "display_data"
    }
   ],
   "source": [
    "fig, ax = plt.subplots(figsize=(10,5))\n",
    "\n",
    "ax.set_title(\"Entrenamiento Validación Sesgo\",fontsize=20)\n",
    "ax.plot(prof,roc_entrenamiento,color=\"yellow\",linewidth=3,label=\"Entrenamiento\")\n",
    "ax.plot(prof,roc_validacion,color=\"red\",linewidth=3,label=\"Validacion\")\n",
    "xticks(fontsize=16)\n",
    "yticks(fontsize=16)\n",
    "axvline(4)\n",
    "legend(fontsize=15)\n",
    "show()"
   ]
  },
  {
   "cell_type": "code",
   "execution_count": 47,
   "id": "3d8cb1e4",
   "metadata": {},
   "outputs": [],
   "source": [
    "clasifier =classifier_gs.best_params_['classifier__criterion']\n",
    "depth = classifier_gs.best_params_['classifier__max_depth']\n",
    "leafs =classifier_gs.best_params_['classifier__min_samples_leaf']"
   ]
  },
  {
   "cell_type": "code",
   "execution_count": 54,
   "id": "825a6cfa",
   "metadata": {},
   "outputs": [
    {
     "data": {
      "image/png": "[encoded data removed]",
      "text/plain": [
       "<Figure size 864x432 with 2 Axes>"
      ]
     },
     "metadata": {
      "needs_background": "light"
     },
     "output_type": "display_data"
    },
    {
     "name": "stdout",
     "output_type": "stream",
     "text": [
      "El Gini del modelo es 0.911089808707596\n"
     ]
    }
   ],
   "source": [
    "reg_tree = DecisionTreeClassifier(criterion=clasifier,\n",
    "                                          max_depth=depth,\n",
    "                                          min_samples_leaf=leafs,\n",
    "                                  \n",
    "                                          random_state=42)\n",
    "tree_pipeline = Pipeline(steps=[('preprocessor', full_pipeline2),('classifier', reg_tree)])\n",
    "\n",
    "tree_pipeline.fit(X_train, y_train)\n",
    "\n",
    "LABELS = ['No Default', 'Default']\n",
    "tree_gs_perf = performance_evaluation_report(tree_pipeline, X_test, \n",
    "                                             y_test, labels=LABELS, \n",
    "                                             show_plot=True)\n",
    "\n",
    "plt.tight_layout()\n",
    "#plt.savefig('images/ch8_im20.png')\n",
    "plt.show()\n",
    "print(f\"El Gini del modelo es {get_gini(tree_gs_perf)}\")"
   ]
  },
  {
   "cell_type": "code",
   "execution_count": 49,
   "id": "05c7df83",
   "metadata": {},
   "outputs": [],
   "source": [
    "k_folds_list = [5, 10, 25, 50, 75, 100]\n",
    "results_k_folds = []"
   ]
  },
  {
   "cell_type": "code",
   "execution_count": 50,
   "id": "f40a9e9c",
   "metadata": {},
   "outputs": [],
   "source": [
    "for k in k_folds_list:\n",
    "    k_fold_tree = StratifiedKFold(k, shuffle=True, random_state=42)\n",
    "    results_k_folds.append(cross_val_score(tree_pipeline, X_train, y_train, cv=k_fold_tree))"
   ]
  },
  {
   "cell_type": "markdown",
   "id": "181f7cad",
   "metadata": {},
   "source": [
    "### Veamos la media para cada uno"
   ]
  },
  {
   "cell_type": "code",
   "execution_count": 51,
   "id": "540e29ad",
   "metadata": {},
   "outputs": [
    {
     "name": "stdout",
     "output_type": "stream",
     "text": [
      "Para k = 5 tenemos 0.98235\n",
      "Para k = 10 tenemos 0.9823999999999999\n",
      "Para k = 25 tenemos 0.98235\n",
      "Para k = 50 tenemos 0.9823249999999999\n",
      "Para k = 75 tenemos 0.9823252360440633\n",
      "Para k = 100 tenemos 0.9823000000000002\n"
     ]
    }
   ],
   "source": [
    "for i in range(6):\n",
    "    print(f\"Para k = {k_folds_list[i]} tenemos {results_k_folds[i].mean()}\")"
   ]
  },
  {
   "cell_type": "code",
   "execution_count": 52,
   "id": "a3eddadf",
   "metadata": {},
   "outputs": [
    {
     "name": "stdout",
     "output_type": "stream",
     "text": [
      "Para k = 5 tenemos [0.982375 0.981875 0.98175  0.9835   0.98225 ]\n",
      "Para k = 10 tenemos [0.98325 0.981   0.98225 0.9815  0.9815  0.982   0.984   0.983   0.98275\n",
      " 0.98275]\n",
      "Para k = 25 tenemos [0.983125 0.9825   0.985625 0.98125  0.97875  0.98125  0.97875  0.988125\n",
      " 0.98     0.98125  0.9825   0.98     0.981875 0.97875  0.985    0.983125\n",
      " 0.98375  0.985    0.981875 0.983125 0.985625 0.983125 0.97875  0.98375\n",
      " 0.981875]\n",
      "Para k = 50 tenemos [0.98375 0.9825  0.98125 0.98375 0.985   0.98625 0.98    0.9825  0.9775\n",
      " 0.98    0.98375 0.98    0.98    0.975   0.995   0.9825  0.98    0.98125\n",
      " 0.98375 0.97875 0.98375 0.98    0.97625 0.98375 0.9825  0.98625 0.97625\n",
      " 0.97875 0.98125 0.98875 0.985   0.98125 0.97875 0.98625 0.9875  0.98375\n",
      " 0.985   0.97625 0.98625 0.9825  0.98625 0.985   0.98125 0.98375 0.975\n",
      " 0.98125 0.985   0.9825  0.98625 0.9775 ]\n",
      "Para k = 75 tenemos [0.98127341 0.98314607 0.98127341 0.98689139 0.97378277 0.98876404\n",
      " 0.98689139 0.98127341 0.98689139 0.97940075 0.98314607 0.97565543\n",
      " 0.97940075 0.98127341 0.97752809 0.98501873 0.98127341 0.97565543\n",
      " 0.98314607 0.97940075 0.98127341 0.99438202 0.98127341 0.97940075\n",
      " 0.98127341 0.9793621  0.98499062 0.98499062 0.9793621  0.9793621\n",
      " 0.98499062 0.98123827 0.97748593 0.9793621  0.98686679 0.97748593\n",
      " 0.98311445 0.98499062 0.98123827 0.97748593 0.98499062 0.97373358\n",
      " 0.98311445 0.98499062 0.98874296 0.98686679 0.9793621  0.98499062\n",
      " 0.98311445 0.9793621  0.98874296 0.98499062 0.98874296 0.98123827\n",
      " 0.98686679 0.98123827 0.97560976 0.98874296 0.98311445 0.98123827\n",
      " 0.98874296 0.98311445 0.98499062 0.97748593 0.98123827 0.98874296\n",
      " 0.97373358 0.98311445 0.97560976 0.98686679 0.98311445 0.98123827\n",
      " 0.98686679 0.9793621  0.9793621 ]\n",
      "Para k = 100 tenemos [0.98   0.9875 0.9825 0.9825 0.9875 0.975  0.98   0.9875 0.985  0.985\n",
      " 0.9825 0.99   0.9825 0.9775 0.985  0.98   0.97   0.985  0.9825 0.9775\n",
      " 0.98   0.9875 0.985  0.975  0.9775 0.9825 0.985  0.965  0.995  0.995\n",
      " 0.98   0.985  0.9725 0.9875 0.98   0.9825 0.9775 0.99   0.975  0.9825\n",
      " 0.9775 0.99   0.9825 0.9775 0.98   0.9725 0.99   0.9775 0.98   0.985\n",
      " 0.985  0.9875 0.98   0.9725 0.9825 0.975  0.98   0.9825 0.99   0.9875\n",
      " 0.9825 0.9875 0.9775 0.985  0.9875 0.975  0.9825 0.9925 0.9875 0.9825\n",
      " 0.9875 0.98   0.9875 0.985  0.98   0.98   0.9825 0.985  0.98   0.9825\n",
      " 0.985  0.99   0.985  0.98   0.9825 0.98   0.98   0.9875 0.9875 0.9675\n",
      " 0.9825 0.97   0.99   0.98   0.9875 0.9775 0.9875 0.985  0.9775 0.9775]\n"
     ]
    }
   ],
   "source": [
    "for i in range(6):\n",
    "    print(f\"Para k = {k_folds_list[i]} tenemos {results_k_folds[i]}\")"
   ]
  },
  {
   "cell_type": "code",
   "execution_count": 53,
   "id": "1ef48b9d",
   "metadata": {},
   "outputs": [
    {
     "data": {
      "image/png": "[encoded data removed]",
      "text/plain": [
       "<Figure size 720x360 with 1 Axes>"
      ]
     },
     "metadata": {
      "needs_background": "light"
     },
     "output_type": "display_data"
    },
    {
     "data": {
      "image/png": "[encoded data removed]",
      "text/plain": [
       "<Figure size 720x360 with 1 Axes>"
      ]
     },
     "metadata": {
      "needs_background": "light"
     },
     "output_type": "display_data"
    },
    {
     "data": {
      "image/png": "[encoded data removed]",
      "text/plain": [
       "<Figure size 720x360 with 1 Axes>"
      ]
     },
     "metadata": {
      "needs_background": "light"
     },
     "output_type": "display_data"
    },
    {
     "data": {
      "image/png": "[encoded data removed]",
      "text/plain": [
       "<Figure size 720x360 with 1 Axes>"
      ]
     },
     "metadata": {
      "needs_background": "light"
     },
     "output_type": "display_data"
    },
    {
     "data": {
      "image/png": "[encoded data removed]",
      "text/plain": [
       "<Figure size 720x360 with 1 Axes>"
      ]
     },
     "metadata": {
      "needs_background": "light"
     },
     "output_type": "display_data"
    },
    {
     "data": {
      "image/png": "[encoded data removed]",
      "text/plain": [
       "<Figure size 720x360 with 1 Axes>"
      ]
     },
     "metadata": {
      "needs_background": "light"
     },
     "output_type": "display_data"
    }
   ],
   "source": [
    "color_list = [\"blue\", \"red\", \"yellow\", \"green\", \"cyan\", \"orange\"]\n",
    "\n",
    "for i in range(6):\n",
    "    fig, ax = plt.subplots(figsize=(10,5))\n",
    "    ax.set_title(f\"Histograma para  k ={k_folds_list[i]}\",fontsize=20)\n",
    "    sns.histplot(results_k_folds[i], color=color_list[i])"
   ]
  },
  {
   "cell_type": "markdown",
   "id": "8bc63448",
   "metadata": {},
   "source": [
    "## Puntos óptimos"
   ]
  },
  {
   "cell_type": "markdown",
   "id": "5999ca8b",
   "metadata": {},
   "source": [
    "Para obtener los puntos optimos nos basamos en lo redactado en este articulo\n",
    "https://machinelearningmastery.com/threshold-moving-for-imbalanced-classification/\n",
    "\n",
    "En pocas palabras, es calcular el Índice de Youden (https://es.wikipedia.org/wiki/%C3%8Dndice_de_Youden)"
   ]
  },
  {
   "cell_type": "code",
   "execution_count": 59,
   "id": "901e25d9",
   "metadata": {},
   "outputs": [],
   "source": [
    "def get_optimal_thershold(model, X_test, y_test):\n",
    "    y_pred = model.predict(X_test)\n",
    "    y_pred_prob = model.predict_proba(X_test)[:, 1]\n",
    "\n",
    "    fpr, tpr, thresholds = metrics.roc_curve(y_test, y_pred_prob)\n",
    "    \n",
    "    J = tpr - fpr\n",
    "    ix = np.argmax(J)\n",
    "    best_thresh = thresholds[ix]\n",
    "    \n",
    "    # plot the roc curve for the model\n",
    "    plt.plot([0,1], [0,1], linestyle='--', label='No Skill')\n",
    "    plt.plot(fpr, tpr, marker='.', label='Logistic')\n",
    "    plt.scatter(fpr[ix], tpr[ix], marker='o', color='black', label='Best')\n",
    "    # axis labels\n",
    "    plt.xlabel('False Positive Rate')\n",
    "    plt.ylabel('True Positive Rate')\n",
    "    plt.legend()\n",
    "    # show the plot\n",
    "    plt.show()\n",
    "    \n",
    "    return best_thresh"
   ]
  },
  {
   "cell_type": "code",
   "execution_count": 60,
   "id": "84722a50",
   "metadata": {},
   "outputs": [
    {
     "data": {
      "image/png": "[encoded data removed]",
      "text/plain": [
       "<Figure size 432x288 with 1 Axes>"
      ]
     },
     "metadata": {
      "needs_background": "light"
     },
     "output_type": "display_data"
    },
    {
     "name": "stdout",
     "output_type": "stream",
     "text": [
      "El punto óptimo es: 0.9850414392561149\n"
     ]
    }
   ],
   "source": [
    "punto_optimo = get_optimal_thershold(tree_pipeline, X_test, y_test)\n",
    "print(f\"El punto óptimo es: {punto_optimo}\")"
   ]
  },
  {
   "cell_type": "code",
   "execution_count": null,
   "id": "81b91f12",
   "metadata": {},
   "outputs": [],
   "source": []
  }
 ],
 "metadata": {
  "kernelspec": {
   "display_name": "Python 3",
   "language": "python",
   "name": "python3"
  },
  "language_info": {
   "codemirror_mode": {
    "name": "ipython",
    "version": 3
   },
   "file_extension": ".py",
   "mimetype": "text/x-python",
   "name": "python",
   "nbconvert_exporter": "python",
   "pygments_lexer": "ipython3",
   "version": "3.8.10"
  }
 },
 "nbformat": 4,
 "nbformat_minor": 5
}
