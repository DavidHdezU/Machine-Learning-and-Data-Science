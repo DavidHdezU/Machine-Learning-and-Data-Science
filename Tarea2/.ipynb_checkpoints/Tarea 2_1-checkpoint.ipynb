{
 "cells": [
  {
   "cell_type": "code",
   "execution_count": 48,
   "id": "d1c5dcdb",
   "metadata": {},
   "outputs": [],
   "source": [
    "import pandas as pd\n",
    "from optbinning import OptimalBinning\n",
    "from sklearn.model_selection import train_test_split \n",
    "from sklearn.linear_model import LogisticRegression\n",
    "from sklearn.metrics import roc_curve, auc\n",
    "from sklearn.metrics import confusion_matrix\n",
    "from sklearn.model_selection import (GridSearchCV, cross_val_score,\n",
    "                                                 RandomizedSearchCV,\n",
    "                                                 cross_validate,\n",
    "                                                 StratifiedKFold)\n",
    "from statsmodels.distributions.empirical_distribution import ECDF\n",
    "from sklearn.impute import SimpleImputer\n",
    "from sklearn.preprocessing import OneHotEncoder\n",
    "from sklearn.compose import ColumnTransformer\n",
    "from sklearn.pipeline import Pipeline\n",
    "from sklearn.tree import DecisionTreeClassifier, export_graphviz\n",
    "from sklearn.base import BaseEstimator, TransformerMixin\n",
    "from scipy.stats import ks_2samp\n",
    "from pylab import* \n",
    "import seaborn as sns\n",
    "from sklearn import metrics"
   ]
  },
  {
   "cell_type": "markdown",
   "id": "1bb76819",
   "metadata": {},
   "source": [
    "## Regresión Logistica con woes "
   ]
  },
  {
   "cell_type": "code",
   "execution_count": 4,
   "id": "db416b58",
   "metadata": {},
   "outputs": [
    {
     "data": {
      "text/html": [
       "<div>\n",
       "<style scoped>\n",
       "    .dataframe tbody tr th:only-of-type {\n",
       "        vertical-align: middle;\n",
       "    }\n",
       "\n",
       "    .dataframe tbody tr th {\n",
       "        vertical-align: top;\n",
       "    }\n",
       "\n",
       "    .dataframe thead th {\n",
       "        text-align: right;\n",
       "    }\n",
       "</style>\n",
       "<table border=\"1\" class=\"dataframe\">\n",
       "  <thead>\n",
       "    <tr style=\"text-align: right;\">\n",
       "      <th></th>\n",
       "      <th>Unnamed: 0</th>\n",
       "      <th>index</th>\n",
       "      <th>num_caso</th>\n",
       "      <th>tiempo_adeudo</th>\n",
       "      <th>num_retrasos</th>\n",
       "      <th>comp_interno1</th>\n",
       "      <th>prest_aceptado</th>\n",
       "    </tr>\n",
       "  </thead>\n",
       "  <tbody>\n",
       "    <tr>\n",
       "      <th>0</th>\n",
       "      <td>0</td>\n",
       "      <td>0.0</td>\n",
       "      <td>1</td>\n",
       "      <td>62.0</td>\n",
       "      <td>7.0</td>\n",
       "      <td>3039.513678</td>\n",
       "      <td>1.0</td>\n",
       "    </tr>\n",
       "    <tr>\n",
       "      <th>1</th>\n",
       "      <td>1</td>\n",
       "      <td>6.0</td>\n",
       "      <td>7</td>\n",
       "      <td>29.0</td>\n",
       "      <td>9.0</td>\n",
       "      <td>1547.112462</td>\n",
       "      <td>1.0</td>\n",
       "    </tr>\n",
       "    <tr>\n",
       "      <th>2</th>\n",
       "      <td>2</td>\n",
       "      <td>7.0</td>\n",
       "      <td>8</td>\n",
       "      <td>59.0</td>\n",
       "      <td>4.0</td>\n",
       "      <td>1215.805471</td>\n",
       "      <td>1.0</td>\n",
       "    </tr>\n",
       "    <tr>\n",
       "      <th>3</th>\n",
       "      <td>3</td>\n",
       "      <td>8.0</td>\n",
       "      <td>9</td>\n",
       "      <td>15.0</td>\n",
       "      <td>0.0</td>\n",
       "      <td>0.000000</td>\n",
       "      <td>1.0</td>\n",
       "    </tr>\n",
       "    <tr>\n",
       "      <th>4</th>\n",
       "      <td>4</td>\n",
       "      <td>9.0</td>\n",
       "      <td>10</td>\n",
       "      <td>16.0</td>\n",
       "      <td>1.0</td>\n",
       "      <td>0.000000</td>\n",
       "      <td>1.0</td>\n",
       "    </tr>\n",
       "  </tbody>\n",
       "</table>\n",
       "</div>"
      ],
      "text/plain": [
       "   Unnamed: 0  index  num_caso  tiempo_adeudo  num_retrasos  comp_interno1  \\\n",
       "0           0    0.0         1           62.0           7.0    3039.513678   \n",
       "1           1    6.0         7           29.0           9.0    1547.112462   \n",
       "2           2    7.0         8           59.0           4.0    1215.805471   \n",
       "3           3    8.0         9           15.0           0.0       0.000000   \n",
       "4           4    9.0        10           16.0           1.0       0.000000   \n",
       "\n",
       "   prest_aceptado  \n",
       "0             1.0  \n",
       "1             1.0  \n",
       "2             1.0  \n",
       "3             1.0  \n",
       "4             1.0  "
      ]
     },
     "execution_count": 4,
     "metadata": {},
     "output_type": "execute_result"
    }
   ],
   "source": [
    "base = pd.read_csv(\"base_final.csv\")\n",
    "base.head()"
   ]
  },
  {
   "cell_type": "code",
   "execution_count": 5,
   "id": "c61e0034",
   "metadata": {},
   "outputs": [
    {
     "data": {
      "text/html": [
       "<div>\n",
       "<style scoped>\n",
       "    .dataframe tbody tr th:only-of-type {\n",
       "        vertical-align: middle;\n",
       "    }\n",
       "\n",
       "    .dataframe tbody tr th {\n",
       "        vertical-align: top;\n",
       "    }\n",
       "\n",
       "    .dataframe thead th {\n",
       "        text-align: right;\n",
       "    }\n",
       "</style>\n",
       "<table border=\"1\" class=\"dataframe\">\n",
       "  <thead>\n",
       "    <tr style=\"text-align: right;\">\n",
       "      <th></th>\n",
       "      <th>num_caso</th>\n",
       "      <th>tiempo_adeudo</th>\n",
       "      <th>num_retrasos</th>\n",
       "      <th>comp_interno1</th>\n",
       "      <th>prest_aceptado</th>\n",
       "    </tr>\n",
       "  </thead>\n",
       "  <tbody>\n",
       "    <tr>\n",
       "      <th>49995</th>\n",
       "      <td>98961</td>\n",
       "      <td>0.0</td>\n",
       "      <td>0.0</td>\n",
       "      <td>1519.756839</td>\n",
       "      <td>0.0</td>\n",
       "    </tr>\n",
       "    <tr>\n",
       "      <th>49996</th>\n",
       "      <td>98968</td>\n",
       "      <td>0.0</td>\n",
       "      <td>0.0</td>\n",
       "      <td>0.000000</td>\n",
       "      <td>0.0</td>\n",
       "    </tr>\n",
       "    <tr>\n",
       "      <th>49997</th>\n",
       "      <td>98976</td>\n",
       "      <td>0.0</td>\n",
       "      <td>0.0</td>\n",
       "      <td>911.854103</td>\n",
       "      <td>0.0</td>\n",
       "    </tr>\n",
       "    <tr>\n",
       "      <th>49998</th>\n",
       "      <td>98978</td>\n",
       "      <td>0.0</td>\n",
       "      <td>0.0</td>\n",
       "      <td>0.000000</td>\n",
       "      <td>0.0</td>\n",
       "    </tr>\n",
       "    <tr>\n",
       "      <th>49999</th>\n",
       "      <td>98985</td>\n",
       "      <td>0.0</td>\n",
       "      <td>0.0</td>\n",
       "      <td>0.000000</td>\n",
       "      <td>0.0</td>\n",
       "    </tr>\n",
       "  </tbody>\n",
       "</table>\n",
       "</div>"
      ],
      "text/plain": [
       "       num_caso  tiempo_adeudo  num_retrasos  comp_interno1  prest_aceptado\n",
       "49995     98961            0.0           0.0    1519.756839             0.0\n",
       "49996     98968            0.0           0.0       0.000000             0.0\n",
       "49997     98976            0.0           0.0     911.854103             0.0\n",
       "49998     98978            0.0           0.0       0.000000             0.0\n",
       "49999     98985            0.0           0.0       0.000000             0.0"
      ]
     },
     "execution_count": 5,
     "metadata": {},
     "output_type": "execute_result"
    }
   ],
   "source": [
    "#Como podemos observar, Unnamed:0 solo esta repitiendo lo que esta en la primer columna por lo que eliminaremos \n",
    "#la columna Unnamed:0\n",
    "#Para la variable index, no la ocuparemo puesto que realmente no nos oportan algo relevante, \n",
    "#simplemente son las personas. Por lo que también eliminaremos esa columna\n",
    "base=base.drop(['Unnamed: 0','index'], axis=1) \n",
    "base[['prest_aceptado']]=base[['prest_aceptado']].astype(float)\n",
    "base.tail()"
   ]
  },
  {
   "cell_type": "code",
   "execution_count": 6,
   "id": "13db4fdc",
   "metadata": {},
   "outputs": [
    {
     "name": "stdout",
     "output_type": "stream",
     "text": [
      "<class 'pandas.core.frame.DataFrame'>\n",
      "RangeIndex: 50000 entries, 0 to 49999\n",
      "Data columns (total 5 columns):\n",
      " #   Column          Non-Null Count  Dtype  \n",
      "---  ------          --------------  -----  \n",
      " 0   num_caso        50000 non-null  int64  \n",
      " 1   tiempo_adeudo   50000 non-null  float64\n",
      " 2   num_retrasos    50000 non-null  float64\n",
      " 3   comp_interno1   50000 non-null  float64\n",
      " 4   prest_aceptado  50000 non-null  float64\n",
      "dtypes: float64(4), int64(1)\n",
      "memory usage: 1.9 MB\n"
     ]
    }
   ],
   "source": [
    "base.info()"
   ]
  },
  {
   "cell_type": "code",
   "execution_count": 7,
   "id": "1caf322b",
   "metadata": {},
   "outputs": [
    {
     "data": {
      "text/html": [
       "<div>\n",
       "<style scoped>\n",
       "    .dataframe tbody tr th:only-of-type {\n",
       "        vertical-align: middle;\n",
       "    }\n",
       "\n",
       "    .dataframe tbody tr th {\n",
       "        vertical-align: top;\n",
       "    }\n",
       "\n",
       "    .dataframe thead th {\n",
       "        text-align: right;\n",
       "    }\n",
       "</style>\n",
       "<table border=\"1\" class=\"dataframe\">\n",
       "  <thead>\n",
       "    <tr style=\"text-align: right;\">\n",
       "      <th></th>\n",
       "      <th>num_caso</th>\n",
       "      <th>tiempo_adeudo</th>\n",
       "      <th>num_retrasos</th>\n",
       "      <th>comp_interno1</th>\n",
       "      <th>prest_aceptado</th>\n",
       "    </tr>\n",
       "  </thead>\n",
       "  <tbody>\n",
       "    <tr>\n",
       "      <th>count</th>\n",
       "      <td>50000.000000</td>\n",
       "      <td>50000.000000</td>\n",
       "      <td>50000.000000</td>\n",
       "      <td>50000.000000</td>\n",
       "      <td>50000.000000</td>\n",
       "    </tr>\n",
       "    <tr>\n",
       "      <th>mean</th>\n",
       "      <td>49568.634780</td>\n",
       "      <td>28.243760</td>\n",
       "      <td>2.903000</td>\n",
       "      <td>1058.571975</td>\n",
       "      <td>0.944500</td>\n",
       "    </tr>\n",
       "    <tr>\n",
       "      <th>std</th>\n",
       "      <td>28522.021708</td>\n",
       "      <td>18.368076</td>\n",
       "      <td>3.320526</td>\n",
       "      <td>5050.133027</td>\n",
       "      <td>0.228956</td>\n",
       "    </tr>\n",
       "    <tr>\n",
       "      <th>min</th>\n",
       "      <td>1.000000</td>\n",
       "      <td>0.000000</td>\n",
       "      <td>0.000000</td>\n",
       "      <td>0.000000</td>\n",
       "      <td>0.000000</td>\n",
       "    </tr>\n",
       "    <tr>\n",
       "      <th>25%</th>\n",
       "      <td>24963.250000</td>\n",
       "      <td>12.000000</td>\n",
       "      <td>1.000000</td>\n",
       "      <td>0.000000</td>\n",
       "      <td>1.000000</td>\n",
       "    </tr>\n",
       "    <tr>\n",
       "      <th>50%</th>\n",
       "      <td>49578.500000</td>\n",
       "      <td>26.000000</td>\n",
       "      <td>2.000000</td>\n",
       "      <td>0.000000</td>\n",
       "      <td>1.000000</td>\n",
       "    </tr>\n",
       "    <tr>\n",
       "      <th>75%</th>\n",
       "      <td>74180.250000</td>\n",
       "      <td>43.000000</td>\n",
       "      <td>4.000000</td>\n",
       "      <td>1013.171226</td>\n",
       "      <td>1.000000</td>\n",
       "    </tr>\n",
       "    <tr>\n",
       "      <th>max</th>\n",
       "      <td>98997.000000</td>\n",
       "      <td>65.000000</td>\n",
       "      <td>31.000000</td>\n",
       "      <td>329483.282675</td>\n",
       "      <td>1.000000</td>\n",
       "    </tr>\n",
       "  </tbody>\n",
       "</table>\n",
       "</div>"
      ],
      "text/plain": [
       "           num_caso  tiempo_adeudo  num_retrasos  comp_interno1  \\\n",
       "count  50000.000000   50000.000000  50000.000000   50000.000000   \n",
       "mean   49568.634780      28.243760      2.903000    1058.571975   \n",
       "std    28522.021708      18.368076      3.320526    5050.133027   \n",
       "min        1.000000       0.000000      0.000000       0.000000   \n",
       "25%    24963.250000      12.000000      1.000000       0.000000   \n",
       "50%    49578.500000      26.000000      2.000000       0.000000   \n",
       "75%    74180.250000      43.000000      4.000000    1013.171226   \n",
       "max    98997.000000      65.000000     31.000000  329483.282675   \n",
       "\n",
       "       prest_aceptado  \n",
       "count    50000.000000  \n",
       "mean         0.944500  \n",
       "std          0.228956  \n",
       "min          0.000000  \n",
       "25%          1.000000  \n",
       "50%          1.000000  \n",
       "75%          1.000000  \n",
       "max          1.000000  "
      ]
     },
     "execution_count": 7,
     "metadata": {},
     "output_type": "execute_result"
    }
   ],
   "source": [
    "#Información general del DataFrame\n",
    "base.describe()"
   ]
  },
  {
   "cell_type": "code",
   "execution_count": 8,
   "id": "c4c01e19",
   "metadata": {},
   "outputs": [
    {
     "data": {
      "text/plain": [
       "1.0    0.9445\n",
       "0.0    0.0555\n",
       "Name: prest_aceptado, dtype: float64"
      ]
     },
     "execution_count": 8,
     "metadata": {},
     "output_type": "execute_result"
    }
   ],
   "source": [
    "base['prest_aceptado'].value_counts(normalize=True)"
   ]
  },
  {
   "cell_type": "code",
   "execution_count": 9,
   "id": "25cfba2a",
   "metadata": {},
   "outputs": [
    {
     "data": {
      "text/plain": [
       "0.0     0.03808\n",
       "6.0     0.02642\n",
       "7.0     0.02250\n",
       "8.0     0.02152\n",
       "18.0    0.02118\n",
       "         ...   \n",
       "50.0    0.00950\n",
       "62.0    0.00928\n",
       "63.0    0.00832\n",
       "64.0    0.00688\n",
       "65.0    0.00248\n",
       "Name: tiempo_adeudo, Length: 65, dtype: float64"
      ]
     },
     "execution_count": 9,
     "metadata": {},
     "output_type": "execute_result"
    }
   ],
   "source": [
    "base['tiempo_adeudo'].value_counts(normalize=True)"
   ]
  },
  {
   "cell_type": "code",
   "execution_count": 10,
   "id": "c828c347",
   "metadata": {},
   "outputs": [
    {
     "data": {
      "text/plain": [
       "0.0     0.23600\n",
       "1.0     0.17530\n",
       "2.0     0.14946\n",
       "3.0     0.12214\n",
       "4.0     0.09840\n",
       "5.0     0.06982\n",
       "6.0     0.04870\n",
       "7.0     0.03258\n",
       "8.0     0.01900\n",
       "9.0     0.01148\n",
       "10.0    0.00704\n",
       "11.0    0.00566\n",
       "12.0    0.00368\n",
       "14.0    0.00278\n",
       "13.0    0.00276\n",
       "15.0    0.00228\n",
       "16.0    0.00226\n",
       "18.0    0.00178\n",
       "20.0    0.00150\n",
       "17.0    0.00148\n",
       "19.0    0.00132\n",
       "21.0    0.00086\n",
       "23.0    0.00074\n",
       "22.0    0.00072\n",
       "24.0    0.00062\n",
       "25.0    0.00044\n",
       "26.0    0.00040\n",
       "27.0    0.00032\n",
       "28.0    0.00016\n",
       "29.0    0.00016\n",
       "30.0    0.00010\n",
       "31.0    0.00006\n",
       "Name: num_retrasos, dtype: float64"
      ]
     },
     "execution_count": 10,
     "metadata": {},
     "output_type": "execute_result"
    }
   ],
   "source": [
    "base['num_retrasos'].value_counts(normalize=True)"
   ]
  },
  {
   "cell_type": "code",
   "execution_count": 11,
   "id": "c4b933b8",
   "metadata": {},
   "outputs": [],
   "source": [
    "train, test = train_test_split(base, test_size = 0.30, random_state = 100) "
   ]
  },
  {
   "cell_type": "code",
   "execution_count": 12,
   "id": "bf2afdb2",
   "metadata": {},
   "outputs": [
    {
     "name": "stdout",
     "output_type": "stream",
     "text": [
      "<class 'pandas.core.frame.DataFrame'>\n",
      "Int64Index: 35000 entries, 48824 to 38408\n",
      "Data columns (total 5 columns):\n",
      " #   Column          Non-Null Count  Dtype  \n",
      "---  ------          --------------  -----  \n",
      " 0   num_caso        35000 non-null  int64  \n",
      " 1   tiempo_adeudo   35000 non-null  float64\n",
      " 2   num_retrasos    35000 non-null  float64\n",
      " 3   comp_interno1   35000 non-null  float64\n",
      " 4   prest_aceptado  35000 non-null  float64\n",
      "dtypes: float64(4), int64(1)\n",
      "memory usage: 1.6 MB\n"
     ]
    }
   ],
   "source": [
    "train.info()"
   ]
  },
  {
   "cell_type": "code",
   "execution_count": 13,
   "id": "f9765890",
   "metadata": {},
   "outputs": [
    {
     "data": {
      "text/plain": [
       "48824    0.0\n",
       "2704     1.0\n",
       "25631    1.0\n",
       "7285     1.0\n",
       "27346    1.0\n",
       "        ... \n",
       "16304    1.0\n",
       "79       1.0\n",
       "12119    1.0\n",
       "14147    1.0\n",
       "38408    1.0\n",
       "Name: prest_aceptado, Length: 35000, dtype: float64"
      ]
     },
     "execution_count": 13,
     "metadata": {},
     "output_type": "execute_result"
    }
   ],
   "source": [
    "y = train.prest_aceptado\n",
    "y"
   ]
  },
  {
   "cell_type": "code",
   "execution_count": 14,
   "id": "9d3ff903",
   "metadata": {},
   "outputs": [],
   "source": [
    "optb_num_caso = OptimalBinning(name=\"num_caso\", dtype=\"numerical\", solver=\"cp\")\n",
    "optb_tiempo_adeudo = OptimalBinning(name=\"tiempo_adeudo\",dtype=\"categorical\", solver=\"cp\")\n",
    "optb_num_retrasos = OptimalBinning(name=\"num_retrasos\",dtype=\"numerical\", solver=\"cp\")\n",
    "optb_comp_interno1 = OptimalBinning(name=\"comp_interno1\", dtype=\"numerical\", solver=\"cp\")"
   ]
  },
  {
   "cell_type": "code",
   "execution_count": 15,
   "id": "dced5034",
   "metadata": {},
   "outputs": [
    {
     "data": {
      "text/plain": [
       "OptimalBinning(name='comp_interno1')"
      ]
     },
     "execution_count": 15,
     "metadata": {},
     "output_type": "execute_result"
    }
   ],
   "source": [
    "optb_num_caso.fit(train[\"num_caso\"].values, y)\n",
    "optb_tiempo_adeudo.fit(train[\"tiempo_adeudo\"].values, y)\n",
    "optb_num_retrasos.fit(train[\"num_retrasos\"].values, y)\n",
    "optb_comp_interno1.fit(train[\"comp_interno1\"].values, y)"
   ]
  },
  {
   "cell_type": "code",
   "execution_count": 16,
   "id": "5a59a46b",
   "metadata": {},
   "outputs": [
    {
     "data": {
      "text/plain": [
       "'Binning de num caso:'"
      ]
     },
     "metadata": {},
     "output_type": "display_data"
    },
    {
     "data": {
      "text/plain": [
       "array([ 8098.5, 18589. , 27359.5, 36765. , 52751.5, 57883.5, 65593.5,\n",
       "       72456.5, 78949. , 84176.5, 89132.5, 94014. ])"
      ]
     },
     "metadata": {},
     "output_type": "display_data"
    },
    {
     "data": {
      "text/plain": [
       "'Binning de Tiempo adeudo:'"
      ]
     },
     "metadata": {},
     "output_type": "display_data"
    },
    {
     "data": {
      "text/plain": [
       "[array([ 0., 65.,  3.]),\n",
       " array([63., 25., 41., 45.,  6.]),\n",
       " array([37., 42., 50., 64., 51., 57., 59.]),\n",
       " array([60., 48., 47., 58., 33.]),\n",
       " array([36., 53., 30.,  9., 54., 61.]),\n",
       " array([55., 62., 34., 38.]),\n",
       " array([27., 44., 26., 15., 49., 43., 52.]),\n",
       " array([32., 29., 35., 21., 40.]),\n",
       " array([17., 56., 20., 39.]),\n",
       " array([23., 18., 31., 28.]),\n",
       " array([46., 12.,  8.,  5.]),\n",
       " array([13., 19.,  7., 24.]),\n",
       " array([11., 14., 22., 16.]),\n",
       " array([10.,  2.,  4.])]"
      ]
     },
     "metadata": {},
     "output_type": "display_data"
    },
    {
     "data": {
      "text/plain": [
       "'Binning de número de retrasos:'"
      ]
     },
     "metadata": {},
     "output_type": "display_data"
    },
    {
     "data": {
      "text/plain": [
       "array([0.5, 1.5, 2.5, 3.5, 4.5, 5.5, 7.5])"
      ]
     },
     "metadata": {},
     "output_type": "display_data"
    },
    {
     "data": {
      "text/plain": [
       "'Binning de Componente interno:'"
      ]
     },
     "metadata": {},
     "output_type": "display_data"
    },
    {
     "data": {
      "text/plain": [
       "array([ 878.92605591, 1438.703125  ])"
      ]
     },
     "metadata": {},
     "output_type": "display_data"
    }
   ],
   "source": [
    "display(\"Binning de num caso:\",optb_num_caso.splits)\n",
    "display(\"Binning de Tiempo adeudo:\",optb_tiempo_adeudo.splits)\n",
    "display(\"Binning de número de retrasos:\",optb_num_retrasos.splits)\n",
    "display(\"Binning de Componente interno:\",optb_comp_interno1.splits)"
   ]
  },
  {
   "cell_type": "code",
   "execution_count": 17,
   "id": "76778453",
   "metadata": {},
   "outputs": [],
   "source": [
    "num_caso_table = optb_num_caso.binning_table\n",
    "tiempo_adeudo_table = optb_tiempo_adeudo.binning_table\n",
    "num_retrasos_table = optb_num_retrasos.binning_table\n",
    "comp_interno1_table = optb_comp_interno1.binning_table"
   ]
  },
  {
   "cell_type": "code",
   "execution_count": 18,
   "id": "b42e9345",
   "metadata": {},
   "outputs": [
    {
     "data": {
      "text/plain": [
       "'Num caso:'"
      ]
     },
     "metadata": {},
     "output_type": "display_data"
    },
    {
     "data": {
      "text/html": [
       "<div>\n",
       "<style scoped>\n",
       "    .dataframe tbody tr th:only-of-type {\n",
       "        vertical-align: middle;\n",
       "    }\n",
       "\n",
       "    .dataframe tbody tr th {\n",
       "        vertical-align: top;\n",
       "    }\n",
       "\n",
       "    .dataframe thead th {\n",
       "        text-align: right;\n",
       "    }\n",
       "</style>\n",
       "<table border=\"1\" class=\"dataframe\">\n",
       "  <thead>\n",
       "    <tr style=\"text-align: right;\">\n",
       "      <th></th>\n",
       "      <th>Bin</th>\n",
       "      <th>Count</th>\n",
       "      <th>Count (%)</th>\n",
       "      <th>Non-event</th>\n",
       "      <th>Event</th>\n",
       "      <th>Event rate</th>\n",
       "      <th>WoE</th>\n",
       "      <th>IV</th>\n",
       "      <th>JS</th>\n",
       "    </tr>\n",
       "  </thead>\n",
       "  <tbody>\n",
       "    <tr>\n",
       "      <th>0</th>\n",
       "      <td>[-inf, 8098.50)</td>\n",
       "      <td>2839</td>\n",
       "      <td>0.081114</td>\n",
       "      <td>206</td>\n",
       "      <td>2633</td>\n",
       "      <td>0.927439</td>\n",
       "      <td>0.302465</td>\n",
       "      <td>0.008501</td>\n",
       "      <td>0.001059</td>\n",
       "    </tr>\n",
       "    <tr>\n",
       "      <th>1</th>\n",
       "      <td>[8098.50, 18589.00)</td>\n",
       "      <td>3633</td>\n",
       "      <td>0.103800</td>\n",
       "      <td>237</td>\n",
       "      <td>3396</td>\n",
       "      <td>0.934765</td>\n",
       "      <td>0.188174</td>\n",
       "      <td>0.003999</td>\n",
       "      <td>0.000499</td>\n",
       "    </tr>\n",
       "    <tr>\n",
       "      <th>2</th>\n",
       "      <td>[18589.00, 27359.50)</td>\n",
       "      <td>3078</td>\n",
       "      <td>0.087943</td>\n",
       "      <td>191</td>\n",
       "      <td>2887</td>\n",
       "      <td>0.937947</td>\n",
       "      <td>0.134768</td>\n",
       "      <td>0.001697</td>\n",
       "      <td>0.000212</td>\n",
       "    </tr>\n",
       "    <tr>\n",
       "      <th>3</th>\n",
       "      <td>[27359.50, 36765.00)</td>\n",
       "      <td>3349</td>\n",
       "      <td>0.095686</td>\n",
       "      <td>188</td>\n",
       "      <td>3161</td>\n",
       "      <td>0.943864</td>\n",
       "      <td>0.028266</td>\n",
       "      <td>0.000077</td>\n",
       "      <td>0.000010</td>\n",
       "    </tr>\n",
       "    <tr>\n",
       "      <th>4</th>\n",
       "      <td>[36765.00, 52751.50)</td>\n",
       "      <td>5766</td>\n",
       "      <td>0.164743</td>\n",
       "      <td>291</td>\n",
       "      <td>5475</td>\n",
       "      <td>0.949532</td>\n",
       "      <td>-0.084157</td>\n",
       "      <td>0.001124</td>\n",
       "      <td>0.000140</td>\n",
       "    </tr>\n",
       "    <tr>\n",
       "      <th>5</th>\n",
       "      <td>[52751.50, 57883.50)</td>\n",
       "      <td>1827</td>\n",
       "      <td>0.052200</td>\n",
       "      <td>77</td>\n",
       "      <td>1750</td>\n",
       "      <td>0.957854</td>\n",
       "      <td>-0.273098</td>\n",
       "      <td>0.003452</td>\n",
       "      <td>0.000430</td>\n",
       "    </tr>\n",
       "    <tr>\n",
       "      <th>6</th>\n",
       "      <td>[57883.50, 65593.50)</td>\n",
       "      <td>2724</td>\n",
       "      <td>0.077829</td>\n",
       "      <td>101</td>\n",
       "      <td>2623</td>\n",
       "      <td>0.962922</td>\n",
       "      <td>-0.406486</td>\n",
       "      <td>0.010763</td>\n",
       "      <td>0.001336</td>\n",
       "    </tr>\n",
       "    <tr>\n",
       "      <th>7</th>\n",
       "      <td>[65593.50, 72456.50)</td>\n",
       "      <td>2465</td>\n",
       "      <td>0.070429</td>\n",
       "      <td>70</td>\n",
       "      <td>2395</td>\n",
       "      <td>0.971602</td>\n",
       "      <td>-0.682176</td>\n",
       "      <td>0.024417</td>\n",
       "      <td>0.002994</td>\n",
       "    </tr>\n",
       "    <tr>\n",
       "      <th>8</th>\n",
       "      <td>[72456.50, 78949.00)</td>\n",
       "      <td>2202</td>\n",
       "      <td>0.062914</td>\n",
       "      <td>51</td>\n",
       "      <td>2151</td>\n",
       "      <td>0.976839</td>\n",
       "      <td>-0.891395</td>\n",
       "      <td>0.034186</td>\n",
       "      <td>0.004137</td>\n",
       "    </tr>\n",
       "    <tr>\n",
       "      <th>9</th>\n",
       "      <td>[78949.00, 84176.50)</td>\n",
       "      <td>1853</td>\n",
       "      <td>0.052943</td>\n",
       "      <td>24</td>\n",
       "      <td>1829</td>\n",
       "      <td>0.987048</td>\n",
       "      <td>-1.483003</td>\n",
       "      <td>0.063373</td>\n",
       "      <td>0.007267</td>\n",
       "    </tr>\n",
       "    <tr>\n",
       "      <th>10</th>\n",
       "      <td>[84176.50, 89132.50)</td>\n",
       "      <td>1750</td>\n",
       "      <td>0.050000</td>\n",
       "      <td>43</td>\n",
       "      <td>1707</td>\n",
       "      <td>0.975429</td>\n",
       "      <td>-0.830825</td>\n",
       "      <td>0.024188</td>\n",
       "      <td>0.002939</td>\n",
       "    </tr>\n",
       "    <tr>\n",
       "      <th>11</th>\n",
       "      <td>[89132.50, 94014.00)</td>\n",
       "      <td>1764</td>\n",
       "      <td>0.050400</td>\n",
       "      <td>100</td>\n",
       "      <td>1664</td>\n",
       "      <td>0.943311</td>\n",
       "      <td>0.038658</td>\n",
       "      <td>0.000077</td>\n",
       "      <td>0.000010</td>\n",
       "    </tr>\n",
       "    <tr>\n",
       "      <th>12</th>\n",
       "      <td>[94014.00, inf)</td>\n",
       "      <td>1750</td>\n",
       "      <td>0.050000</td>\n",
       "      <td>334</td>\n",
       "      <td>1416</td>\n",
       "      <td>0.809143</td>\n",
       "      <td>1.406017</td>\n",
       "      <td>0.185311</td>\n",
       "      <td>0.021427</td>\n",
       "    </tr>\n",
       "    <tr>\n",
       "      <th>13</th>\n",
       "      <td>Special</td>\n",
       "      <td>0</td>\n",
       "      <td>0.000000</td>\n",
       "      <td>0</td>\n",
       "      <td>0</td>\n",
       "      <td>0.000000</td>\n",
       "      <td>0.0</td>\n",
       "      <td>0.000000</td>\n",
       "      <td>0.000000</td>\n",
       "    </tr>\n",
       "    <tr>\n",
       "      <th>14</th>\n",
       "      <td>Missing</td>\n",
       "      <td>0</td>\n",
       "      <td>0.000000</td>\n",
       "      <td>0</td>\n",
       "      <td>0</td>\n",
       "      <td>0.000000</td>\n",
       "      <td>0.0</td>\n",
       "      <td>0.000000</td>\n",
       "      <td>0.000000</td>\n",
       "    </tr>\n",
       "    <tr>\n",
       "      <th>Totals</th>\n",
       "      <td></td>\n",
       "      <td>35000</td>\n",
       "      <td>1.000000</td>\n",
       "      <td>1913</td>\n",
       "      <td>33087</td>\n",
       "      <td>0.945343</td>\n",
       "      <td></td>\n",
       "      <td>0.361165</td>\n",
       "      <td>0.042460</td>\n",
       "    </tr>\n",
       "  </tbody>\n",
       "</table>\n",
       "</div>"
      ],
      "text/plain": [
       "                         Bin  Count  Count (%)  Non-event  Event  Event rate  \\\n",
       "0            [-inf, 8098.50)   2839   0.081114        206   2633    0.927439   \n",
       "1        [8098.50, 18589.00)   3633   0.103800        237   3396    0.934765   \n",
       "2       [18589.00, 27359.50)   3078   0.087943        191   2887    0.937947   \n",
       "3       [27359.50, 36765.00)   3349   0.095686        188   3161    0.943864   \n",
       "4       [36765.00, 52751.50)   5766   0.164743        291   5475    0.949532   \n",
       "5       [52751.50, 57883.50)   1827   0.052200         77   1750    0.957854   \n",
       "6       [57883.50, 65593.50)   2724   0.077829        101   2623    0.962922   \n",
       "7       [65593.50, 72456.50)   2465   0.070429         70   2395    0.971602   \n",
       "8       [72456.50, 78949.00)   2202   0.062914         51   2151    0.976839   \n",
       "9       [78949.00, 84176.50)   1853   0.052943         24   1829    0.987048   \n",
       "10      [84176.50, 89132.50)   1750   0.050000         43   1707    0.975429   \n",
       "11      [89132.50, 94014.00)   1764   0.050400        100   1664    0.943311   \n",
       "12           [94014.00, inf)   1750   0.050000        334   1416    0.809143   \n",
       "13                   Special      0   0.000000          0      0    0.000000   \n",
       "14                   Missing      0   0.000000          0      0    0.000000   \n",
       "Totals                        35000   1.000000       1913  33087    0.945343   \n",
       "\n",
       "             WoE        IV        JS  \n",
       "0       0.302465  0.008501  0.001059  \n",
       "1       0.188174  0.003999  0.000499  \n",
       "2       0.134768  0.001697  0.000212  \n",
       "3       0.028266  0.000077  0.000010  \n",
       "4      -0.084157  0.001124  0.000140  \n",
       "5      -0.273098  0.003452  0.000430  \n",
       "6      -0.406486  0.010763  0.001336  \n",
       "7      -0.682176  0.024417  0.002994  \n",
       "8      -0.891395  0.034186  0.004137  \n",
       "9      -1.483003  0.063373  0.007267  \n",
       "10     -0.830825  0.024188  0.002939  \n",
       "11      0.038658  0.000077  0.000010  \n",
       "12      1.406017  0.185311  0.021427  \n",
       "13           0.0  0.000000  0.000000  \n",
       "14           0.0  0.000000  0.000000  \n",
       "Totals            0.361165  0.042460  "
      ]
     },
     "metadata": {},
     "output_type": "display_data"
    },
    {
     "data": {
      "text/plain": [
       "'Tiempo adeudo:'"
      ]
     },
     "metadata": {},
     "output_type": "display_data"
    },
    {
     "data": {
      "text/html": [
       "<div>\n",
       "<style scoped>\n",
       "    .dataframe tbody tr th:only-of-type {\n",
       "        vertical-align: middle;\n",
       "    }\n",
       "\n",
       "    .dataframe tbody tr th {\n",
       "        vertical-align: top;\n",
       "    }\n",
       "\n",
       "    .dataframe thead th {\n",
       "        text-align: right;\n",
       "    }\n",
       "</style>\n",
       "<table border=\"1\" class=\"dataframe\">\n",
       "  <thead>\n",
       "    <tr style=\"text-align: right;\">\n",
       "      <th></th>\n",
       "      <th>Bin</th>\n",
       "      <th>Count</th>\n",
       "      <th>Count (%)</th>\n",
       "      <th>Non-event</th>\n",
       "      <th>Event</th>\n",
       "      <th>Event rate</th>\n",
       "      <th>WoE</th>\n",
       "      <th>IV</th>\n",
       "      <th>JS</th>\n",
       "    </tr>\n",
       "  </thead>\n",
       "  <tbody>\n",
       "    <tr>\n",
       "      <th>0</th>\n",
       "      <td>[0.0, 65.0, 3.0]</td>\n",
       "      <td>2131</td>\n",
       "      <td>0.060886</td>\n",
       "      <td>1225</td>\n",
       "      <td>906</td>\n",
       "      <td>0.425153</td>\n",
       "      <td>3.152125</td>\n",
       "      <td>1.932168</td>\n",
       "      <td>0.174284</td>\n",
       "    </tr>\n",
       "    <tr>\n",
       "      <th>1</th>\n",
       "      <td>[63.0, 25.0, 41.0, 45.0, 6.0]</td>\n",
       "      <td>2648</td>\n",
       "      <td>0.075657</td>\n",
       "      <td>106</td>\n",
       "      <td>2542</td>\n",
       "      <td>0.959970</td>\n",
       "      <td>-0.3268</td>\n",
       "      <td>0.006999</td>\n",
       "      <td>0.000871</td>\n",
       "    </tr>\n",
       "    <tr>\n",
       "      <th>2</th>\n",
       "      <td>[37.0, 42.0, 50.0, 64.0, 51.0, 57.0, 59.0]</td>\n",
       "      <td>2945</td>\n",
       "      <td>0.084143</td>\n",
       "      <td>104</td>\n",
       "      <td>2841</td>\n",
       "      <td>0.964686</td>\n",
       "      <td>-0.457053</td>\n",
       "      <td>0.014397</td>\n",
       "      <td>0.001784</td>\n",
       "    </tr>\n",
       "    <tr>\n",
       "      <th>3</th>\n",
       "      <td>[60.0, 48.0, 47.0, 58.0, 33.0]</td>\n",
       "      <td>2256</td>\n",
       "      <td>0.064457</td>\n",
       "      <td>65</td>\n",
       "      <td>2191</td>\n",
       "      <td>0.971188</td>\n",
       "      <td>-0.667258</td>\n",
       "      <td>0.021513</td>\n",
       "      <td>0.002640</td>\n",
       "    </tr>\n",
       "    <tr>\n",
       "      <th>4</th>\n",
       "      <td>[36.0, 53.0, 30.0, 9.0, 54.0, 61.0]</td>\n",
       "      <td>3091</td>\n",
       "      <td>0.088314</td>\n",
       "      <td>83</td>\n",
       "      <td>3008</td>\n",
       "      <td>0.973148</td>\n",
       "      <td>-0.739722</td>\n",
       "      <td>0.035155</td>\n",
       "      <td>0.004297</td>\n",
       "    </tr>\n",
       "    <tr>\n",
       "      <th>5</th>\n",
       "      <td>[55.0, 62.0, 34.0, 38.0]</td>\n",
       "      <td>1797</td>\n",
       "      <td>0.051343</td>\n",
       "      <td>43</td>\n",
       "      <td>1754</td>\n",
       "      <td>0.976071</td>\n",
       "      <td>-0.857986</td>\n",
       "      <td>0.026198</td>\n",
       "      <td>0.003178</td>\n",
       "    </tr>\n",
       "    <tr>\n",
       "      <th>6</th>\n",
       "      <td>[27.0, 44.0, 26.0, 15.0, 49.0, 43.0, 52.0]</td>\n",
       "      <td>3594</td>\n",
       "      <td>0.102686</td>\n",
       "      <td>79</td>\n",
       "      <td>3515</td>\n",
       "      <td>0.978019</td>\n",
       "      <td>-0.944879</td>\n",
       "      <td>0.061359</td>\n",
       "      <td>0.007397</td>\n",
       "    </tr>\n",
       "    <tr>\n",
       "      <th>7</th>\n",
       "      <td>[32.0, 29.0, 35.0, 21.0, 40.0]</td>\n",
       "      <td>2582</td>\n",
       "      <td>0.073771</td>\n",
       "      <td>51</td>\n",
       "      <td>2531</td>\n",
       "      <td>0.980248</td>\n",
       "      <td>-1.054076</td>\n",
       "      <td>0.052531</td>\n",
       "      <td>0.006278</td>\n",
       "    </tr>\n",
       "    <tr>\n",
       "      <th>8</th>\n",
       "      <td>[17.0, 56.0, 20.0, 39.0]</td>\n",
       "      <td>2171</td>\n",
       "      <td>0.062029</td>\n",
       "      <td>39</td>\n",
       "      <td>2132</td>\n",
       "      <td>0.982036</td>\n",
       "      <td>-1.150786</td>\n",
       "      <td>0.050691</td>\n",
       "      <td>0.006008</td>\n",
       "    </tr>\n",
       "    <tr>\n",
       "      <th>9</th>\n",
       "      <td>[23.0, 18.0, 31.0, 28.0]</td>\n",
       "      <td>2380</td>\n",
       "      <td>0.068000</td>\n",
       "      <td>41</td>\n",
       "      <td>2339</td>\n",
       "      <td>0.982773</td>\n",
       "      <td>-1.193439</td>\n",
       "      <td>0.058789</td>\n",
       "      <td>0.006941</td>\n",
       "    </tr>\n",
       "    <tr>\n",
       "      <th>10</th>\n",
       "      <td>[46.0, 12.0, 8.0, 5.0]</td>\n",
       "      <td>2377</td>\n",
       "      <td>0.067914</td>\n",
       "      <td>33</td>\n",
       "      <td>2344</td>\n",
       "      <td>0.986117</td>\n",
       "      <td>-1.412639</td>\n",
       "      <td>0.075708</td>\n",
       "      <td>0.008748</td>\n",
       "    </tr>\n",
       "    <tr>\n",
       "      <th>11</th>\n",
       "      <td>[13.0, 19.0, 7.0, 24.0]</td>\n",
       "      <td>2572</td>\n",
       "      <td>0.073486</td>\n",
       "      <td>24</td>\n",
       "      <td>2548</td>\n",
       "      <td>0.990669</td>\n",
       "      <td>-1.814542</td>\n",
       "      <td>0.116971</td>\n",
       "      <td>0.012897</td>\n",
       "    </tr>\n",
       "    <tr>\n",
       "      <th>12</th>\n",
       "      <td>[11.0, 14.0, 22.0, 16.0]</td>\n",
       "      <td>2540</td>\n",
       "      <td>0.072571</td>\n",
       "      <td>17</td>\n",
       "      <td>2523</td>\n",
       "      <td>0.993307</td>\n",
       "      <td>-2.149523</td>\n",
       "      <td>0.144807</td>\n",
       "      <td>0.015264</td>\n",
       "    </tr>\n",
       "    <tr>\n",
       "      <th>13</th>\n",
       "      <td>[10.0, 2.0, 4.0]</td>\n",
       "      <td>1916</td>\n",
       "      <td>0.054743</td>\n",
       "      <td>3</td>\n",
       "      <td>1913</td>\n",
       "      <td>0.998434</td>\n",
       "      <td>-3.607348</td>\n",
       "      <td>0.202910</td>\n",
       "      <td>0.016958</td>\n",
       "    </tr>\n",
       "    <tr>\n",
       "      <th>14</th>\n",
       "      <td>Special</td>\n",
       "      <td>0</td>\n",
       "      <td>0.000000</td>\n",
       "      <td>0</td>\n",
       "      <td>0</td>\n",
       "      <td>0.000000</td>\n",
       "      <td>0.0</td>\n",
       "      <td>0.000000</td>\n",
       "      <td>0.000000</td>\n",
       "    </tr>\n",
       "    <tr>\n",
       "      <th>15</th>\n",
       "      <td>Missing</td>\n",
       "      <td>0</td>\n",
       "      <td>0.000000</td>\n",
       "      <td>0</td>\n",
       "      <td>0</td>\n",
       "      <td>0.000000</td>\n",
       "      <td>0.0</td>\n",
       "      <td>0.000000</td>\n",
       "      <td>0.000000</td>\n",
       "    </tr>\n",
       "    <tr>\n",
       "      <th>Totals</th>\n",
       "      <td></td>\n",
       "      <td>35000</td>\n",
       "      <td>1.000000</td>\n",
       "      <td>1913</td>\n",
       "      <td>33087</td>\n",
       "      <td>0.945343</td>\n",
       "      <td></td>\n",
       "      <td>2.800196</td>\n",
       "      <td>0.267545</td>\n",
       "    </tr>\n",
       "  </tbody>\n",
       "</table>\n",
       "</div>"
      ],
      "text/plain": [
       "                                               Bin  Count  Count (%)  \\\n",
       "0                                 [0.0, 65.0, 3.0]   2131   0.060886   \n",
       "1                    [63.0, 25.0, 41.0, 45.0, 6.0]   2648   0.075657   \n",
       "2       [37.0, 42.0, 50.0, 64.0, 51.0, 57.0, 59.0]   2945   0.084143   \n",
       "3                   [60.0, 48.0, 47.0, 58.0, 33.0]   2256   0.064457   \n",
       "4              [36.0, 53.0, 30.0, 9.0, 54.0, 61.0]   3091   0.088314   \n",
       "5                         [55.0, 62.0, 34.0, 38.0]   1797   0.051343   \n",
       "6       [27.0, 44.0, 26.0, 15.0, 49.0, 43.0, 52.0]   3594   0.102686   \n",
       "7                   [32.0, 29.0, 35.0, 21.0, 40.0]   2582   0.073771   \n",
       "8                         [17.0, 56.0, 20.0, 39.0]   2171   0.062029   \n",
       "9                         [23.0, 18.0, 31.0, 28.0]   2380   0.068000   \n",
       "10                          [46.0, 12.0, 8.0, 5.0]   2377   0.067914   \n",
       "11                         [13.0, 19.0, 7.0, 24.0]   2572   0.073486   \n",
       "12                        [11.0, 14.0, 22.0, 16.0]   2540   0.072571   \n",
       "13                                [10.0, 2.0, 4.0]   1916   0.054743   \n",
       "14                                         Special      0   0.000000   \n",
       "15                                         Missing      0   0.000000   \n",
       "Totals                                              35000   1.000000   \n",
       "\n",
       "        Non-event  Event  Event rate       WoE        IV        JS  \n",
       "0            1225    906    0.425153  3.152125  1.932168  0.174284  \n",
       "1             106   2542    0.959970   -0.3268  0.006999  0.000871  \n",
       "2             104   2841    0.964686 -0.457053  0.014397  0.001784  \n",
       "3              65   2191    0.971188 -0.667258  0.021513  0.002640  \n",
       "4              83   3008    0.973148 -0.739722  0.035155  0.004297  \n",
       "5              43   1754    0.976071 -0.857986  0.026198  0.003178  \n",
       "6              79   3515    0.978019 -0.944879  0.061359  0.007397  \n",
       "7              51   2531    0.980248 -1.054076  0.052531  0.006278  \n",
       "8              39   2132    0.982036 -1.150786  0.050691  0.006008  \n",
       "9              41   2339    0.982773 -1.193439  0.058789  0.006941  \n",
       "10             33   2344    0.986117 -1.412639  0.075708  0.008748  \n",
       "11             24   2548    0.990669 -1.814542  0.116971  0.012897  \n",
       "12             17   2523    0.993307 -2.149523  0.144807  0.015264  \n",
       "13              3   1913    0.998434 -3.607348  0.202910  0.016958  \n",
       "14              0      0    0.000000       0.0  0.000000  0.000000  \n",
       "15              0      0    0.000000       0.0  0.000000  0.000000  \n",
       "Totals       1913  33087    0.945343            2.800196  0.267545  "
      ]
     },
     "metadata": {},
     "output_type": "display_data"
    },
    {
     "data": {
      "text/plain": [
       "'# de retrasos:'"
      ]
     },
     "metadata": {},
     "output_type": "display_data"
    },
    {
     "data": {
      "text/html": [
       "<div>\n",
       "<style scoped>\n",
       "    .dataframe tbody tr th:only-of-type {\n",
       "        vertical-align: middle;\n",
       "    }\n",
       "\n",
       "    .dataframe tbody tr th {\n",
       "        vertical-align: top;\n",
       "    }\n",
       "\n",
       "    .dataframe thead th {\n",
       "        text-align: right;\n",
       "    }\n",
       "</style>\n",
       "<table border=\"1\" class=\"dataframe\">\n",
       "  <thead>\n",
       "    <tr style=\"text-align: right;\">\n",
       "      <th></th>\n",
       "      <th>Bin</th>\n",
       "      <th>Count</th>\n",
       "      <th>Count (%)</th>\n",
       "      <th>Non-event</th>\n",
       "      <th>Event</th>\n",
       "      <th>Event rate</th>\n",
       "      <th>WoE</th>\n",
       "      <th>IV</th>\n",
       "      <th>JS</th>\n",
       "    </tr>\n",
       "  </thead>\n",
       "  <tbody>\n",
       "    <tr>\n",
       "      <th>0</th>\n",
       "      <td>[-inf, 0.50)</td>\n",
       "      <td>8273</td>\n",
       "      <td>0.236371</td>\n",
       "      <td>1168</td>\n",
       "      <td>7105</td>\n",
       "      <td>0.858818</td>\n",
       "      <td>1.044962</td>\n",
       "      <td>0.413619</td>\n",
       "      <td>0.049471</td>\n",
       "    </tr>\n",
       "    <tr>\n",
       "      <th>1</th>\n",
       "      <td>[0.50, 1.50)</td>\n",
       "      <td>6151</td>\n",
       "      <td>0.175743</td>\n",
       "      <td>50</td>\n",
       "      <td>6101</td>\n",
       "      <td>0.991871</td>\n",
       "      <td>-1.953717</td>\n",
       "      <td>0.309187</td>\n",
       "      <td>0.033478</td>\n",
       "    </tr>\n",
       "    <tr>\n",
       "      <th>2</th>\n",
       "      <td>[1.50, 2.50)</td>\n",
       "      <td>5294</td>\n",
       "      <td>0.151257</td>\n",
       "      <td>42</td>\n",
       "      <td>5252</td>\n",
       "      <td>0.992066</td>\n",
       "      <td>-1.978227</td>\n",
       "      <td>0.270578</td>\n",
       "      <td>0.029202</td>\n",
       "    </tr>\n",
       "    <tr>\n",
       "      <th>3</th>\n",
       "      <td>[2.50, 3.50)</td>\n",
       "      <td>4249</td>\n",
       "      <td>0.121400</td>\n",
       "      <td>28</td>\n",
       "      <td>4221</td>\n",
       "      <td>0.993410</td>\n",
       "      <td>-2.165155</td>\n",
       "      <td>0.244524</td>\n",
       "      <td>0.025718</td>\n",
       "    </tr>\n",
       "    <tr>\n",
       "      <th>4</th>\n",
       "      <td>[3.50, 4.50)</td>\n",
       "      <td>3427</td>\n",
       "      <td>0.097914</td>\n",
       "      <td>22</td>\n",
       "      <td>3405</td>\n",
       "      <td>0.993580</td>\n",
       "      <td>-2.19149</td>\n",
       "      <td>0.200325</td>\n",
       "      <td>0.020990</td>\n",
       "    </tr>\n",
       "    <tr>\n",
       "      <th>5</th>\n",
       "      <td>[4.50, 5.50)</td>\n",
       "      <td>2454</td>\n",
       "      <td>0.070114</td>\n",
       "      <td>20</td>\n",
       "      <td>2434</td>\n",
       "      <td>0.991850</td>\n",
       "      <td>-1.951091</td>\n",
       "      <td>0.123131</td>\n",
       "      <td>0.013337</td>\n",
       "    </tr>\n",
       "    <tr>\n",
       "      <th>6</th>\n",
       "      <td>[5.50, 7.50)</td>\n",
       "      <td>2820</td>\n",
       "      <td>0.080571</td>\n",
       "      <td>43</td>\n",
       "      <td>2777</td>\n",
       "      <td>0.984752</td>\n",
       "      <td>-1.317459</td>\n",
       "      <td>0.080961</td>\n",
       "      <td>0.009446</td>\n",
       "    </tr>\n",
       "    <tr>\n",
       "      <th>7</th>\n",
       "      <td>[7.50, inf)</td>\n",
       "      <td>2332</td>\n",
       "      <td>0.066629</td>\n",
       "      <td>540</td>\n",
       "      <td>1792</td>\n",
       "      <td>0.768439</td>\n",
       "      <td>1.650949</td>\n",
       "      <td>0.376613</td>\n",
       "      <td>0.042367</td>\n",
       "    </tr>\n",
       "    <tr>\n",
       "      <th>8</th>\n",
       "      <td>Special</td>\n",
       "      <td>0</td>\n",
       "      <td>0.000000</td>\n",
       "      <td>0</td>\n",
       "      <td>0</td>\n",
       "      <td>0.000000</td>\n",
       "      <td>0.0</td>\n",
       "      <td>0.000000</td>\n",
       "      <td>0.000000</td>\n",
       "    </tr>\n",
       "    <tr>\n",
       "      <th>9</th>\n",
       "      <td>Missing</td>\n",
       "      <td>0</td>\n",
       "      <td>0.000000</td>\n",
       "      <td>0</td>\n",
       "      <td>0</td>\n",
       "      <td>0.000000</td>\n",
       "      <td>0.0</td>\n",
       "      <td>0.000000</td>\n",
       "      <td>0.000000</td>\n",
       "    </tr>\n",
       "    <tr>\n",
       "      <th>Totals</th>\n",
       "      <td></td>\n",
       "      <td>35000</td>\n",
       "      <td>1.000000</td>\n",
       "      <td>1913</td>\n",
       "      <td>33087</td>\n",
       "      <td>0.945343</td>\n",
       "      <td></td>\n",
       "      <td>2.018938</td>\n",
       "      <td>0.224010</td>\n",
       "    </tr>\n",
       "  </tbody>\n",
       "</table>\n",
       "</div>"
      ],
      "text/plain": [
       "                 Bin  Count  Count (%)  Non-event  Event  Event rate  \\\n",
       "0       [-inf, 0.50)   8273   0.236371       1168   7105    0.858818   \n",
       "1       [0.50, 1.50)   6151   0.175743         50   6101    0.991871   \n",
       "2       [1.50, 2.50)   5294   0.151257         42   5252    0.992066   \n",
       "3       [2.50, 3.50)   4249   0.121400         28   4221    0.993410   \n",
       "4       [3.50, 4.50)   3427   0.097914         22   3405    0.993580   \n",
       "5       [4.50, 5.50)   2454   0.070114         20   2434    0.991850   \n",
       "6       [5.50, 7.50)   2820   0.080571         43   2777    0.984752   \n",
       "7        [7.50, inf)   2332   0.066629        540   1792    0.768439   \n",
       "8            Special      0   0.000000          0      0    0.000000   \n",
       "9            Missing      0   0.000000          0      0    0.000000   \n",
       "Totals                35000   1.000000       1913  33087    0.945343   \n",
       "\n",
       "             WoE        IV        JS  \n",
       "0       1.044962  0.413619  0.049471  \n",
       "1      -1.953717  0.309187  0.033478  \n",
       "2      -1.978227  0.270578  0.029202  \n",
       "3      -2.165155  0.244524  0.025718  \n",
       "4       -2.19149  0.200325  0.020990  \n",
       "5      -1.951091  0.123131  0.013337  \n",
       "6      -1.317459  0.080961  0.009446  \n",
       "7       1.650949  0.376613  0.042367  \n",
       "8            0.0  0.000000  0.000000  \n",
       "9            0.0  0.000000  0.000000  \n",
       "Totals            2.018938  0.224010  "
      ]
     },
     "metadata": {},
     "output_type": "display_data"
    },
    {
     "data": {
      "text/plain": [
       "'Componente interno:'"
      ]
     },
     "metadata": {},
     "output_type": "display_data"
    },
    {
     "data": {
      "text/html": [
       "<div>\n",
       "<style scoped>\n",
       "    .dataframe tbody tr th:only-of-type {\n",
       "        vertical-align: middle;\n",
       "    }\n",
       "\n",
       "    .dataframe tbody tr th {\n",
       "        vertical-align: top;\n",
       "    }\n",
       "\n",
       "    .dataframe thead th {\n",
       "        text-align: right;\n",
       "    }\n",
       "</style>\n",
       "<table border=\"1\" class=\"dataframe\">\n",
       "  <thead>\n",
       "    <tr style=\"text-align: right;\">\n",
       "      <th></th>\n",
       "      <th>Bin</th>\n",
       "      <th>Count</th>\n",
       "      <th>Count (%)</th>\n",
       "      <th>Non-event</th>\n",
       "      <th>Event</th>\n",
       "      <th>Event rate</th>\n",
       "      <th>WoE</th>\n",
       "      <th>IV</th>\n",
       "      <th>JS</th>\n",
       "    </tr>\n",
       "  </thead>\n",
       "  <tbody>\n",
       "    <tr>\n",
       "      <th>0</th>\n",
       "      <td>[-inf, 878.93)</td>\n",
       "      <td>25484</td>\n",
       "      <td>0.728114</td>\n",
       "      <td>1570</td>\n",
       "      <td>23914</td>\n",
       "      <td>0.938393</td>\n",
       "      <td>0.127079</td>\n",
       "      <td>0.012446</td>\n",
       "      <td>0.001555</td>\n",
       "    </tr>\n",
       "    <tr>\n",
       "      <th>1</th>\n",
       "      <td>[878.93, 1438.70)</td>\n",
       "      <td>2904</td>\n",
       "      <td>0.082971</td>\n",
       "      <td>189</td>\n",
       "      <td>2715</td>\n",
       "      <td>0.934917</td>\n",
       "      <td>0.185668</td>\n",
       "      <td>0.003108</td>\n",
       "      <td>0.000388</td>\n",
       "    </tr>\n",
       "    <tr>\n",
       "      <th>2</th>\n",
       "      <td>[1438.70, inf)</td>\n",
       "      <td>6612</td>\n",
       "      <td>0.188914</td>\n",
       "      <td>154</td>\n",
       "      <td>6458</td>\n",
       "      <td>0.976709</td>\n",
       "      <td>-0.885655</td>\n",
       "      <td>0.101567</td>\n",
       "      <td>0.012297</td>\n",
       "    </tr>\n",
       "    <tr>\n",
       "      <th>3</th>\n",
       "      <td>Special</td>\n",
       "      <td>0</td>\n",
       "      <td>0.000000</td>\n",
       "      <td>0</td>\n",
       "      <td>0</td>\n",
       "      <td>0.000000</td>\n",
       "      <td>0.0</td>\n",
       "      <td>0.000000</td>\n",
       "      <td>0.000000</td>\n",
       "    </tr>\n",
       "    <tr>\n",
       "      <th>4</th>\n",
       "      <td>Missing</td>\n",
       "      <td>0</td>\n",
       "      <td>0.000000</td>\n",
       "      <td>0</td>\n",
       "      <td>0</td>\n",
       "      <td>0.000000</td>\n",
       "      <td>0.0</td>\n",
       "      <td>0.000000</td>\n",
       "      <td>0.000000</td>\n",
       "    </tr>\n",
       "    <tr>\n",
       "      <th>Totals</th>\n",
       "      <td></td>\n",
       "      <td>35000</td>\n",
       "      <td>1.000000</td>\n",
       "      <td>1913</td>\n",
       "      <td>33087</td>\n",
       "      <td>0.945343</td>\n",
       "      <td></td>\n",
       "      <td>0.117122</td>\n",
       "      <td>0.014239</td>\n",
       "    </tr>\n",
       "  </tbody>\n",
       "</table>\n",
       "</div>"
      ],
      "text/plain": [
       "                      Bin  Count  Count (%)  Non-event  Event  Event rate  \\\n",
       "0          [-inf, 878.93)  25484   0.728114       1570  23914    0.938393   \n",
       "1       [878.93, 1438.70)   2904   0.082971        189   2715    0.934917   \n",
       "2          [1438.70, inf)   6612   0.188914        154   6458    0.976709   \n",
       "3                 Special      0   0.000000          0      0    0.000000   \n",
       "4                 Missing      0   0.000000          0      0    0.000000   \n",
       "Totals                     35000   1.000000       1913  33087    0.945343   \n",
       "\n",
       "             WoE        IV        JS  \n",
       "0       0.127079  0.012446  0.001555  \n",
       "1       0.185668  0.003108  0.000388  \n",
       "2      -0.885655  0.101567  0.012297  \n",
       "3            0.0  0.000000  0.000000  \n",
       "4            0.0  0.000000  0.000000  \n",
       "Totals            0.117122  0.014239  "
      ]
     },
     "metadata": {},
     "output_type": "display_data"
    }
   ],
   "source": [
    "display(\"Num caso:\",num_caso_table.build())\n",
    "display(\"Tiempo adeudo:\",tiempo_adeudo_table.build())\n",
    "display(\"# de retrasos:\",num_retrasos_table.build())\n",
    "display(\"Componente interno:\",comp_interno1_table.build())"
   ]
  },
  {
   "cell_type": "code",
   "execution_count": 19,
   "id": "e971cf73",
   "metadata": {},
   "outputs": [
    {
     "data": {
      "image/png": "[encoded data removed]",
      "text/plain": [
       "<Figure size 432x288 with 2 Axes>"
      ]
     },
     "metadata": {
      "needs_background": "light"
     },
     "output_type": "display_data"
    },
    {
     "data": {
      "image/png": "[encoded data removed]",
      "text/plain": [
       "<Figure size 432x288 with 2 Axes>"
      ]
     },
     "metadata": {
      "needs_background": "light"
     },
     "output_type": "display_data"
    }
   ],
   "source": [
    "num_caso_table.plot(metric=\"event_rate\")\n",
    "num_caso_table.plot(metric=\"woe\")"
   ]
  },
  {
   "cell_type": "code",
   "execution_count": 20,
   "id": "ad841a74",
   "metadata": {},
   "outputs": [
    {
     "data": {
      "image/png": "[encoded data removed]",
      "text/plain": [
       "<Figure size 432x288 with 2 Axes>"
      ]
     },
     "metadata": {
      "needs_background": "light"
     },
     "output_type": "display_data"
    },
    {
     "data": {
      "image/png": "[encoded data removed]",
      "text/plain": [
       "<Figure size 432x288 with 2 Axes>"
      ]
     },
     "metadata": {
      "needs_background": "light"
     },
     "output_type": "display_data"
    }
   ],
   "source": [
    "tiempo_adeudo_table.plot(metric=\"event_rate\")\n",
    "tiempo_adeudo_table.plot(metric=\"woe\")"
   ]
  },
  {
   "cell_type": "code",
   "execution_count": 21,
   "id": "dcb7217d",
   "metadata": {},
   "outputs": [
    {
     "data": {
      "image/png": "[encoded data removed]",
      "text/plain": [
       "<Figure size 432x288 with 2 Axes>"
      ]
     },
     "metadata": {
      "needs_background": "light"
     },
     "output_type": "display_data"
    },
    {
     "data": {
      "image/png": "[encoded data removed]",
      "text/plain": [
       "<Figure size 432x288 with 2 Axes>"
      ]
     },
     "metadata": {
      "needs_background": "light"
     },
     "output_type": "display_data"
    }
   ],
   "source": [
    "num_retrasos_table.plot(metric=\"event_rate\")\n",
    "num_retrasos_table.plot(metric=\"woe\")"
   ]
  },
  {
   "cell_type": "code",
   "execution_count": 22,
   "id": "d1e5e5d6",
   "metadata": {},
   "outputs": [
    {
     "data": {
      "image/png": "[encoded data removed]",
      "text/plain": [
       "<Figure size 432x288 with 2 Axes>"
      ]
     },
     "metadata": {
      "needs_background": "light"
     },
     "output_type": "display_data"
    },
    {
     "data": {
      "image/png": "[encoded data removed]",
      "text/plain": [
       "<Figure size 432x288 with 2 Axes>"
      ]
     },
     "metadata": {
      "needs_background": "light"
     },
     "output_type": "display_data"
    }
   ],
   "source": [
    "comp_interno1_table.plot(metric=\"event_rate\")\n",
    "comp_interno1_table.plot(metric=\"woe\")"
   ]
  },
  {
   "cell_type": "code",
   "execution_count": 23,
   "id": "0191cb05",
   "metadata": {},
   "outputs": [
    {
     "name": "stderr",
     "output_type": "stream",
     "text": [
      "<ipython-input-23-3a2261b0e35d>:1: SettingWithCopyWarning: \n",
      "A value is trying to be set on a copy of a slice from a DataFrame.\n",
      "Try using .loc[row_indexer,col_indexer] = value instead\n",
      "\n",
      "See the caveats in the documentation: https://pandas.pydata.org/pandas-docs/stable/user_guide/indexing.html#returning-a-view-versus-a-copy\n",
      "  train[\"woe_num_caso\"] = optb_num_caso.transform(train[\"num_caso\"], metric=\"woe\")\n",
      "<ipython-input-23-3a2261b0e35d>:2: SettingWithCopyWarning: \n",
      "A value is trying to be set on a copy of a slice from a DataFrame.\n",
      "Try using .loc[row_indexer,col_indexer] = value instead\n",
      "\n",
      "See the caveats in the documentation: https://pandas.pydata.org/pandas-docs/stable/user_guide/indexing.html#returning-a-view-versus-a-copy\n",
      "  train[\"woe_tiempo_adeudo\"] = optb_tiempo_adeudo.transform(train[\"tiempo_adeudo\"], metric=\"woe\")\n",
      "<ipython-input-23-3a2261b0e35d>:3: SettingWithCopyWarning: \n",
      "A value is trying to be set on a copy of a slice from a DataFrame.\n",
      "Try using .loc[row_indexer,col_indexer] = value instead\n",
      "\n",
      "See the caveats in the documentation: https://pandas.pydata.org/pandas-docs/stable/user_guide/indexing.html#returning-a-view-versus-a-copy\n",
      "  train[\"woe_num_retrasos\"] = optb_num_retrasos.transform(train[\"num_retrasos\"], metric=\"woe\")\n",
      "<ipython-input-23-3a2261b0e35d>:4: SettingWithCopyWarning: \n",
      "A value is trying to be set on a copy of a slice from a DataFrame.\n",
      "Try using .loc[row_indexer,col_indexer] = value instead\n",
      "\n",
      "See the caveats in the documentation: https://pandas.pydata.org/pandas-docs/stable/user_guide/indexing.html#returning-a-view-versus-a-copy\n",
      "  train[\"woe_comp_interno1\"] = optb_comp_interno1.transform(train[\"comp_interno1\"], metric=\"woe\")\n"
     ]
    }
   ],
   "source": [
    "train[\"woe_num_caso\"] = optb_num_caso.transform(train[\"num_caso\"], metric=\"woe\")\n",
    "train[\"woe_tiempo_adeudo\"] = optb_tiempo_adeudo.transform(train[\"tiempo_adeudo\"], metric=\"woe\")\n",
    "train[\"woe_num_retrasos\"] = optb_num_retrasos.transform(train[\"num_retrasos\"], metric=\"woe\")\n",
    "train[\"woe_comp_interno1\"] = optb_comp_interno1.transform(train[\"comp_interno1\"], metric=\"woe\")"
   ]
  },
  {
   "cell_type": "code",
   "execution_count": 24,
   "id": "ac4f0d54",
   "metadata": {},
   "outputs": [
    {
     "data": {
      "text/html": [
       "<div>\n",
       "<style scoped>\n",
       "    .dataframe tbody tr th:only-of-type {\n",
       "        vertical-align: middle;\n",
       "    }\n",
       "\n",
       "    .dataframe tbody tr th {\n",
       "        vertical-align: top;\n",
       "    }\n",
       "\n",
       "    .dataframe thead th {\n",
       "        text-align: right;\n",
       "    }\n",
       "</style>\n",
       "<table border=\"1\" class=\"dataframe\">\n",
       "  <thead>\n",
       "    <tr style=\"text-align: right;\">\n",
       "      <th></th>\n",
       "      <th>num_caso</th>\n",
       "      <th>tiempo_adeudo</th>\n",
       "      <th>num_retrasos</th>\n",
       "      <th>comp_interno1</th>\n",
       "      <th>prest_aceptado</th>\n",
       "      <th>woe_num_caso</th>\n",
       "      <th>woe_tiempo_adeudo</th>\n",
       "      <th>woe_num_retrasos</th>\n",
       "      <th>woe_comp_interno1</th>\n",
       "    </tr>\n",
       "  </thead>\n",
       "  <tbody>\n",
       "    <tr>\n",
       "      <th>48824</th>\n",
       "      <td>39349</td>\n",
       "      <td>0.0</td>\n",
       "      <td>0.0</td>\n",
       "      <td>0.0</td>\n",
       "      <td>0.0</td>\n",
       "      <td>-0.084157</td>\n",
       "      <td>3.152125</td>\n",
       "      <td>1.044962</td>\n",
       "      <td>0.127079</td>\n",
       "    </tr>\n",
       "    <tr>\n",
       "      <th>2704</th>\n",
       "      <td>5626</td>\n",
       "      <td>61.0</td>\n",
       "      <td>5.0</td>\n",
       "      <td>0.0</td>\n",
       "      <td>1.0</td>\n",
       "      <td>0.302465</td>\n",
       "      <td>-0.739722</td>\n",
       "      <td>-1.951091</td>\n",
       "      <td>0.127079</td>\n",
       "    </tr>\n",
       "    <tr>\n",
       "      <th>25631</th>\n",
       "      <td>52705</td>\n",
       "      <td>33.0</td>\n",
       "      <td>2.0</td>\n",
       "      <td>0.0</td>\n",
       "      <td>1.0</td>\n",
       "      <td>-0.084157</td>\n",
       "      <td>-0.667258</td>\n",
       "      <td>-1.978227</td>\n",
       "      <td>0.127079</td>\n",
       "    </tr>\n",
       "    <tr>\n",
       "      <th>7285</th>\n",
       "      <td>15130</td>\n",
       "      <td>56.0</td>\n",
       "      <td>5.0</td>\n",
       "      <td>0.0</td>\n",
       "      <td>1.0</td>\n",
       "      <td>0.188174</td>\n",
       "      <td>-1.150786</td>\n",
       "      <td>-1.951091</td>\n",
       "      <td>0.127079</td>\n",
       "    </tr>\n",
       "    <tr>\n",
       "      <th>27346</th>\n",
       "      <td>56225</td>\n",
       "      <td>29.0</td>\n",
       "      <td>3.0</td>\n",
       "      <td>0.0</td>\n",
       "      <td>1.0</td>\n",
       "      <td>-0.273098</td>\n",
       "      <td>-1.054076</td>\n",
       "      <td>-2.165155</td>\n",
       "      <td>0.127079</td>\n",
       "    </tr>\n",
       "  </tbody>\n",
       "</table>\n",
       "</div>"
      ],
      "text/plain": [
       "       num_caso  tiempo_adeudo  num_retrasos  comp_interno1  prest_aceptado  \\\n",
       "48824     39349            0.0           0.0            0.0             0.0   \n",
       "2704       5626           61.0           5.0            0.0             1.0   \n",
       "25631     52705           33.0           2.0            0.0             1.0   \n",
       "7285      15130           56.0           5.0            0.0             1.0   \n",
       "27346     56225           29.0           3.0            0.0             1.0   \n",
       "\n",
       "       woe_num_caso  woe_tiempo_adeudo  woe_num_retrasos  woe_comp_interno1  \n",
       "48824     -0.084157           3.152125          1.044962           0.127079  \n",
       "2704       0.302465          -0.739722         -1.951091           0.127079  \n",
       "25631     -0.084157          -0.667258         -1.978227           0.127079  \n",
       "7285       0.188174          -1.150786         -1.951091           0.127079  \n",
       "27346     -0.273098          -1.054076         -2.165155           0.127079  "
      ]
     },
     "execution_count": 24,
     "metadata": {},
     "output_type": "execute_result"
    }
   ],
   "source": [
    "train.head()"
   ]
  },
  {
   "cell_type": "code",
   "execution_count": 25,
   "id": "a4e47a78",
   "metadata": {},
   "outputs": [
    {
     "name": "stdout",
     "output_type": "stream",
     "text": [
      "<class 'pandas.core.frame.DataFrame'>\n",
      "Int64Index: 35000 entries, 48824 to 38408\n",
      "Data columns (total 9 columns):\n",
      " #   Column             Non-Null Count  Dtype  \n",
      "---  ------             --------------  -----  \n",
      " 0   num_caso           35000 non-null  int64  \n",
      " 1   tiempo_adeudo      35000 non-null  float64\n",
      " 2   num_retrasos       35000 non-null  float64\n",
      " 3   comp_interno1      35000 non-null  float64\n",
      " 4   prest_aceptado     35000 non-null  float64\n",
      " 5   woe_num_caso       35000 non-null  float64\n",
      " 6   woe_tiempo_adeudo  35000 non-null  float64\n",
      " 7   woe_num_retrasos   35000 non-null  float64\n",
      " 8   woe_comp_interno1  35000 non-null  float64\n",
      "dtypes: float64(8), int64(1)\n",
      "memory usage: 2.7 MB\n"
     ]
    }
   ],
   "source": [
    "train.info()"
   ]
  },
  {
   "cell_type": "code",
   "execution_count": 26,
   "id": "c9b1d09f",
   "metadata": {},
   "outputs": [
    {
     "data": {
      "image/png": "[encoded data removed]",
      "text/plain": [
       "<Figure size 720x720 with 2 Axes>"
      ]
     },
     "metadata": {
      "needs_background": "light"
     },
     "output_type": "display_data"
    }
   ],
   "source": [
    "corr = train.corr()\n",
    "corr\n",
    "\n",
    "xticks = list(corr.index)  \n",
    "yticks = list(corr.index)  \n",
    "fig = plt.figure(figsize=(10,10))\n",
    "ax1 = fig.add_subplot(1, 1, 1)\n",
    "\n",
    "sns.heatmap(corr,annot=True,cmap=\"rainbow\",ax=ax1,linewidths=.5,annot_kws={'size':9,'weight':'bold', 'color':'k'})\n",
    "ax1.set_xticklabels(xticks, rotation=30, fontsize=10)\n",
    "ax1.set_yticklabels(yticks, rotation=0, fontsize=10)\n",
    "plt.show()"
   ]
  },
  {
   "cell_type": "code",
   "execution_count": 27,
   "id": "7fe6f206",
   "metadata": {},
   "outputs": [
    {
     "data": {
      "image/png": "[encoded data removed]",
      "text/plain": [
       "<Figure size 720x720 with 2 Axes>"
      ]
     },
     "metadata": {
      "needs_background": "light"
     },
     "output_type": "display_data"
    }
   ],
   "source": [
    "corr = train.iloc[:,5:].corr()\n",
    "\n",
    "\n",
    "xticks = list(corr.index)  \n",
    "yticks = list(corr.index)  \n",
    "fig = plt.figure(figsize=(10,10))\n",
    "ax1 = fig.add_subplot(1, 1, 1)\n",
    "\n",
    "sns.heatmap(corr,annot=True,cmap=\"rainbow\",ax=ax1,linewidths=.5,annot_kws={'size':9,'weight':'bold', 'color':'k'})\n",
    "ax1.set_xticklabels(xticks, rotation=30, fontsize=10)\n",
    "ax1.set_yticklabels(yticks, rotation=0, fontsize=10)\n",
    "plt.show()"
   ]
  },
  {
   "cell_type": "markdown",
   "id": "bbaf0f60",
   "metadata": {},
   "source": [
    "El nivel de correlaciones entre los predictores es baja por lo tanto, todas las variables pueden estar dentro del modelo."
   ]
  },
  {
   "cell_type": "code",
   "execution_count": 28,
   "id": "5ca110e1",
   "metadata": {},
   "outputs": [
    {
     "data": {
      "text/html": [
       "<div>\n",
       "<style scoped>\n",
       "    .dataframe tbody tr th:only-of-type {\n",
       "        vertical-align: middle;\n",
       "    }\n",
       "\n",
       "    .dataframe tbody tr th {\n",
       "        vertical-align: top;\n",
       "    }\n",
       "\n",
       "    .dataframe thead th {\n",
       "        text-align: right;\n",
       "    }\n",
       "</style>\n",
       "<table border=\"1\" class=\"dataframe\">\n",
       "  <thead>\n",
       "    <tr style=\"text-align: right;\">\n",
       "      <th></th>\n",
       "      <th>woe_num_caso</th>\n",
       "      <th>woe_tiempo_adeudo</th>\n",
       "      <th>woe_num_retrasos</th>\n",
       "      <th>woe_comp_interno1</th>\n",
       "    </tr>\n",
       "  </thead>\n",
       "  <tbody>\n",
       "    <tr>\n",
       "      <th>48824</th>\n",
       "      <td>-0.084157</td>\n",
       "      <td>3.152125</td>\n",
       "      <td>1.044962</td>\n",
       "      <td>0.127079</td>\n",
       "    </tr>\n",
       "    <tr>\n",
       "      <th>2704</th>\n",
       "      <td>0.302465</td>\n",
       "      <td>-0.739722</td>\n",
       "      <td>-1.951091</td>\n",
       "      <td>0.127079</td>\n",
       "    </tr>\n",
       "    <tr>\n",
       "      <th>25631</th>\n",
       "      <td>-0.084157</td>\n",
       "      <td>-0.667258</td>\n",
       "      <td>-1.978227</td>\n",
       "      <td>0.127079</td>\n",
       "    </tr>\n",
       "    <tr>\n",
       "      <th>7285</th>\n",
       "      <td>0.188174</td>\n",
       "      <td>-1.150786</td>\n",
       "      <td>-1.951091</td>\n",
       "      <td>0.127079</td>\n",
       "    </tr>\n",
       "    <tr>\n",
       "      <th>27346</th>\n",
       "      <td>-0.273098</td>\n",
       "      <td>-1.054076</td>\n",
       "      <td>-2.165155</td>\n",
       "      <td>0.127079</td>\n",
       "    </tr>\n",
       "  </tbody>\n",
       "</table>\n",
       "</div>"
      ],
      "text/plain": [
       "       woe_num_caso  woe_tiempo_adeudo  woe_num_retrasos  woe_comp_interno1\n",
       "48824     -0.084157           3.152125          1.044962           0.127079\n",
       "2704       0.302465          -0.739722         -1.951091           0.127079\n",
       "25631     -0.084157          -0.667258         -1.978227           0.127079\n",
       "7285       0.188174          -1.150786         -1.951091           0.127079\n",
       "27346     -0.273098          -1.054076         -2.165155           0.127079"
      ]
     },
     "execution_count": 28,
     "metadata": {},
     "output_type": "execute_result"
    }
   ],
   "source": [
    "X_woe_train=train.iloc[:,5:]\n",
    "y_train=train.iloc[:,4]\n",
    "X_woe_train.head()"
   ]
  },
  {
   "cell_type": "code",
   "execution_count": 29,
   "id": "8e24902e",
   "metadata": {},
   "outputs": [
    {
     "data": {
      "text/plain": [
       "48824    0.0\n",
       "2704     1.0\n",
       "25631    1.0\n",
       "7285     1.0\n",
       "27346    1.0\n",
       "        ... \n",
       "16304    1.0\n",
       "79       1.0\n",
       "12119    1.0\n",
       "14147    1.0\n",
       "38408    1.0\n",
       "Name: prest_aceptado, Length: 35000, dtype: float64"
      ]
     },
     "execution_count": 29,
     "metadata": {},
     "output_type": "execute_result"
    }
   ],
   "source": [
    "y_train"
   ]
  },
  {
   "cell_type": "code",
   "execution_count": 30,
   "id": "38f017c4",
   "metadata": {},
   "outputs": [],
   "source": [
    "model=LogisticRegression()\n",
    "clf=model.fit(X_woe_train,y_train)"
   ]
  },
  {
   "cell_type": "code",
   "execution_count": 33,
   "id": "e511f300",
   "metadata": {},
   "outputs": [
    {
     "data": {
      "text/plain": [
       "48824    0.0\n",
       "2704     1.0\n",
       "25631    1.0\n",
       "7285     1.0\n",
       "27346    1.0\n",
       "        ... \n",
       "16304    1.0\n",
       "79       1.0\n",
       "12119    1.0\n",
       "14147    1.0\n",
       "38408    1.0\n",
       "Name: prest_aceptado, Length: 35000, dtype: float64"
      ]
     },
     "execution_count": 33,
     "metadata": {},
     "output_type": "execute_result"
    }
   ],
   "source": [
    "y_train= train.iloc[:,4]\n",
    "y_train"
   ]
  },
  {
   "cell_type": "code",
   "execution_count": 34,
   "id": "f0766dd5",
   "metadata": {},
   "outputs": [
    {
     "data": {
      "text/plain": [
       "array([0., 1., 1., ..., 1., 1., 1.])"
      ]
     },
     "execution_count": 34,
     "metadata": {},
     "output_type": "execute_result"
    }
   ],
   "source": [
    "y_pred = model.predict(X_woe_train)\n",
    "y_pred"
   ]
  },
  {
   "cell_type": "code",
   "execution_count": 35,
   "id": "8e5466fe",
   "metadata": {},
   "outputs": [
    {
     "data": {
      "text/plain": [
       "array([[ 1081,   832],\n",
       "       [  541, 32546]])"
      ]
     },
     "execution_count": 35,
     "metadata": {},
     "output_type": "execute_result"
    }
   ],
   "source": [
    "# MATRIZ DE CONFUCIÓN\n",
    "cm=confusion_matrix(y_test,y_pred)\n",
    "cm"
   ]
  },
  {
   "cell_type": "code",
   "execution_count": 36,
   "id": "2c39f86b",
   "metadata": {},
   "outputs": [],
   "source": [
    "#Otra Forma\n",
    "def performance_evaluation_report(model, X_test, y_train, show_plot=False, labels=None, show_pr_curve=False):\n",
    "    '''\n",
    "    Function for creating a performance report of a classification model.\n",
    "    \n",
    "    Parameters\n",
    "    ----------\n",
    "    model : scikit-learn estimator\n",
    "        A fitted estimator for classification problems.\n",
    "    X_test : pd.DataFrame\n",
    "        DataFrame with features matching y_test\n",
    "    y_test : array/pd.Series\n",
    "        Target of a classification problem.\n",
    "    show_plot : bool\n",
    "        Flag whether to show the plot\n",
    "    labels : list\n",
    "        List with the class names.\n",
    "    show_pr_curve : bool\n",
    "        Flag whether to also show the PR-curve. For this to take effect, \n",
    "        show_plot must be True.\n",
    "        \n",
    "    Return\n",
    "    ------\n",
    "    stats : pd.Series\n",
    "        A series with the most important evaluation metrics\n",
    "    '''\n",
    "\n",
    "    y_pred = model.predict(X_test)\n",
    "    y_pred_prob = model.predict_proba(X_test)[:, 1]\n",
    "\n",
    "    cm = metrics.confusion_matrix(y_train, y_pred)\n",
    "    tn, fp, fn, tp = cm.ravel()\n",
    "\n",
    "    fpr, tpr, threshold = metrics.roc_curve(y_train, y_pred_prob)\n",
    "    roc_auc = metrics.auc(fpr, tpr)\n",
    "\n",
    "    precision, recall, thresholds = metrics.precision_recall_curve(\n",
    "        y_train, y_pred_prob)\n",
    "    pr_auc = metrics.auc(recall, precision)\n",
    "\n",
    "    if show_plot:\n",
    "\n",
    "        if labels is None:\n",
    "            labels = ['Negative', 'Positive']\n",
    "\n",
    "        N_SUBPLOTS = 3 if show_pr_curve else 2\n",
    "        PLOT_WIDTH = 15 if show_pr_curve else 12\n",
    "        PLOT_HEIGHT = 5 if show_pr_curve else 6\n",
    "\n",
    "        fig, ax = plt.subplots(\n",
    "            1, N_SUBPLOTS, figsize=(PLOT_WIDTH, PLOT_HEIGHT))\n",
    "        fig.suptitle('Performance Evaluation', fontsize=16)\n",
    "\n",
    "        sns.heatmap(cm, annot=True, fmt=\"d\", linewidths=.5, cmap='magma', square=True, cbar=False, ax=ax[0],\n",
    "                    annot_kws={\"ha\": 'center', \"va\": 'center'})\n",
    "        ax[0].set(xlabel='Predicted label',\n",
    "                  ylabel='Actual label', title='Confusion Matrix')\n",
    "        ax[0].xaxis.set_ticklabels(labels)\n",
    "        ax[0].yaxis.set_ticklabels(labels)\n",
    "\n",
    "        ax[1].plot(fpr, tpr, 'b-', label=f'ROC-AUC = {roc_auc:.2f}')\n",
    "        ax[1].set(xlabel='False Positive Rate',\n",
    "                  ylabel='True Positive Rate', title='ROC Curve')\n",
    "        ax[1].plot(fp/(fp+tn), tp/(tp+fn), 'ro',\n",
    "                   markersize=8, label='Decision Point')\n",
    "        ax[1].plot([0, 1], [0, 1], 'r--')\n",
    "        ax[1].legend(loc='lower right')\n",
    "\n",
    "        if show_pr_curve:\n",
    "\n",
    "            ax[2].plot(recall, precision, label=f'PR-AUC = {pr_auc:.2f}')\n",
    "            ax[2].set(xlabel='Recall', ylabel='Precision',\n",
    "                      title='Precision-Recall Curve')\n",
    "            ax[2].legend()\n",
    "\n",
    "#         print('#######################')\n",
    "#         print('Evaluation metrics ####')\n",
    "#         print('#######################')\n",
    "#         print(f'Accuracy: {metrics.accuracy_score(y_test, y_pred):.4f}')\n",
    "#         print(f'Precision: {metrics.precision_score(y_test, y_pred):.4f}')\n",
    "#         print(f'Recall (Sensitivity): {metrics.recall_score(y_test, y_pred):.4f}')\n",
    "#         print(f'Specificity: {(tn / (tn + fp)):.4f}')\n",
    "#         print(f'F1-Score: {metrics.f1_score(y_test, y_pred):.4f}')\n",
    "#         print(f\"Cohen's Kappa: {metrics.cohen_kappa_score(y_test, y_pred):.4f}\")\n",
    "\n",
    "    stats = {'accuracy': metrics.accuracy_score(y_train, y_pred),\n",
    "             'precision': metrics.precision_score(y_train, y_pred),\n",
    "             'recall': metrics.recall_score(y_train, y_pred),\n",
    "             'specificity': (tn / (tn + fp)),\n",
    "             'f1_score': metrics.f1_score(y_train, y_pred),\n",
    "             'cohens_kappa': metrics.cohen_kappa_score(y_train, y_pred),\n",
    "             'roc_auc': roc_auc,\n",
    "             'pr_auc': pr_auc}\n",
    "\n",
    "    return stats"
   ]
  },
  {
   "cell_type": "code",
   "execution_count": 37,
   "id": "a488c3ba",
   "metadata": {},
   "outputs": [
    {
     "data": {
      "text/plain": [
       "{'accuracy': 0.9607714285714286,\n",
       " 'precision': 0.9750734016418,\n",
       " 'recall': 0.983649167346692,\n",
       " 'specificity': 0.5650810245687402,\n",
       " 'f1_score': 0.9793425110960655,\n",
       " 'cohens_kappa': 0.5910881919680412,\n",
       " 'roc_auc': 0.9358341441738504,\n",
       " 'pr_auc': 0.9946521563755091}"
      ]
     },
     "execution_count": 37,
     "metadata": {},
     "output_type": "execute_result"
    },
    {
     "data": {
      "image/png": "[encoded data removed]",
      "text/plain": [
       "<Figure size 864x432 with 2 Axes>"
      ]
     },
     "metadata": {
      "needs_background": "light"
     },
     "output_type": "display_data"
    }
   ],
   "source": [
    "LABELS = ['Positive', 'Negative']\n",
    "performance_evaluation_report(model, X_woe_train,y_train, labels=LABELS,show_plot=True)"
   ]
  },
  {
   "cell_type": "code",
   "execution_count": 38,
   "id": "bdcf282b",
   "metadata": {},
   "outputs": [
    {
     "data": {
      "text/plain": [
       "35000"
      ]
     },
     "execution_count": 38,
     "metadata": {},
     "output_type": "execute_result"
    }
   ],
   "source": [
    "y_fit=clf.predict_proba(X_woe_train)\n",
    "len(y_fit[:,0])"
   ]
  },
  {
   "cell_type": "code",
   "execution_count": 39,
   "id": "81028e02",
   "metadata": {},
   "outputs": [
    {
     "data": {
      "text/plain": [
       "array([[0.79247911, 0.20752089],\n",
       "       [0.0052685 , 0.9947315 ],\n",
       "       [0.00739944, 0.99260056],\n",
       "       ...,\n",
       "       [0.00524873, 0.99475127],\n",
       "       [0.00679664, 0.99320336],\n",
       "       [0.00775249, 0.99224751]])"
      ]
     },
     "execution_count": 39,
     "metadata": {},
     "output_type": "execute_result"
    }
   ],
   "source": [
    "y_fit"
   ]
  },
  {
   "cell_type": "code",
   "execution_count": 40,
   "id": "868a791c",
   "metadata": {},
   "outputs": [
    {
     "data": {
      "text/plain": [
       "pandas.core.series.Series"
      ]
     },
     "execution_count": 40,
     "metadata": {},
     "output_type": "execute_result"
    }
   ],
   "source": [
    "type(y_train)"
   ]
  },
  {
   "cell_type": "code",
   "execution_count": 41,
   "id": "f41c7708",
   "metadata": {},
   "outputs": [
    {
     "data": {
      "text/html": [
       "<div>\n",
       "<style scoped>\n",
       "    .dataframe tbody tr th:only-of-type {\n",
       "        vertical-align: middle;\n",
       "    }\n",
       "\n",
       "    .dataframe tbody tr th {\n",
       "        vertical-align: top;\n",
       "    }\n",
       "\n",
       "    .dataframe thead th {\n",
       "        text-align: right;\n",
       "    }\n",
       "</style>\n",
       "<table border=\"1\" class=\"dataframe\">\n",
       "  <thead>\n",
       "    <tr style=\"text-align: right;\">\n",
       "      <th></th>\n",
       "      <th>prest_aceptado</th>\n",
       "      <th>Estimado</th>\n",
       "    </tr>\n",
       "  </thead>\n",
       "  <tbody>\n",
       "    <tr>\n",
       "      <th>48824</th>\n",
       "      <td>0.0</td>\n",
       "      <td>0.207521</td>\n",
       "    </tr>\n",
       "    <tr>\n",
       "      <th>2704</th>\n",
       "      <td>1.0</td>\n",
       "      <td>0.994731</td>\n",
       "    </tr>\n",
       "    <tr>\n",
       "      <th>25631</th>\n",
       "      <td>1.0</td>\n",
       "      <td>0.992601</td>\n",
       "    </tr>\n",
       "    <tr>\n",
       "      <th>7285</th>\n",
       "      <td>1.0</td>\n",
       "      <td>0.996136</td>\n",
       "    </tr>\n",
       "    <tr>\n",
       "      <th>27346</th>\n",
       "      <td>1.0</td>\n",
       "      <td>0.994968</td>\n",
       "    </tr>\n",
       "    <tr>\n",
       "      <th>...</th>\n",
       "      <td>...</td>\n",
       "      <td>...</td>\n",
       "    </tr>\n",
       "    <tr>\n",
       "      <th>16304</th>\n",
       "      <td>1.0</td>\n",
       "      <td>0.991928</td>\n",
       "    </tr>\n",
       "    <tr>\n",
       "      <th>79</th>\n",
       "      <td>1.0</td>\n",
       "      <td>0.995687</td>\n",
       "    </tr>\n",
       "    <tr>\n",
       "      <th>12119</th>\n",
       "      <td>1.0</td>\n",
       "      <td>0.994751</td>\n",
       "    </tr>\n",
       "    <tr>\n",
       "      <th>14147</th>\n",
       "      <td>1.0</td>\n",
       "      <td>0.993203</td>\n",
       "    </tr>\n",
       "    <tr>\n",
       "      <th>38408</th>\n",
       "      <td>1.0</td>\n",
       "      <td>0.992248</td>\n",
       "    </tr>\n",
       "  </tbody>\n",
       "</table>\n",
       "<p>35000 rows × 2 columns</p>\n",
       "</div>"
      ],
      "text/plain": [
       "       prest_aceptado  Estimado\n",
       "48824             0.0  0.207521\n",
       "2704              1.0  0.994731\n",
       "25631             1.0  0.992601\n",
       "7285              1.0  0.996136\n",
       "27346             1.0  0.994968\n",
       "...               ...       ...\n",
       "16304             1.0  0.991928\n",
       "79                1.0  0.995687\n",
       "12119             1.0  0.994751\n",
       "14147             1.0  0.993203\n",
       "38408             1.0  0.992248\n",
       "\n",
       "[35000 rows x 2 columns]"
      ]
     },
     "execution_count": 41,
     "metadata": {},
     "output_type": "execute_result"
    }
   ],
   "source": [
    "base=y_train.to_frame()\n",
    "base[\"Estimado\"]=y_fit[:,1]\n",
    "base"
   ]
  },
  {
   "cell_type": "code",
   "execution_count": 42,
   "id": "834411f5",
   "metadata": {},
   "outputs": [],
   "source": [
    "ecdf_buenos=ECDF(base.loc[base.prest_aceptado==1.0,\"Estimado\"])\n",
    "ecdf_malos=ECDF(base.loc[base.prest_aceptado==0.0,\"Estimado\"])\n",
    "grid_score=np.sort(base.Estimado.unique())\n",
    "prob_acum_buenos=ecdf_buenos(grid_score)\n",
    "prob_acum_malos=ecdf_malos(grid_score)"
   ]
  },
  {
   "cell_type": "code",
   "execution_count": 43,
   "id": "bb245a33",
   "metadata": {},
   "outputs": [
    {
     "data": {
      "text/plain": [
       "0.7672318243634363"
      ]
     },
     "execution_count": 43,
     "metadata": {},
     "output_type": "execute_result"
    }
   ],
   "source": [
    "abs_dif=np.abs(prob_acum_malos-prob_acum_buenos)\n",
    "KS=np.max(abs_dif)\n",
    "KS"
   ]
  },
  {
   "cell_type": "code",
   "execution_count": 44,
   "id": "72d07c14",
   "metadata": {},
   "outputs": [
    {
     "ename": "TypeError",
     "evalue": "'list' object is not callable",
     "output_type": "error",
     "traceback": [
      "\u001b[0;31m---------------------------------------------------------------------------\u001b[0m",
      "\u001b[0;31mTypeError\u001b[0m                                 Traceback (most recent call last)",
      "\u001b[0;32m<ipython-input-44-95b4c7522dcc>\u001b[0m in \u001b[0;36m<module>\u001b[0;34m\u001b[0m\n\u001b[1;32m      3\u001b[0m \u001b[0mplot\u001b[0m\u001b[0;34m(\u001b[0m\u001b[0mgrid_score\u001b[0m\u001b[0;34m,\u001b[0m\u001b[0mprob_acum_buenos\u001b[0m\u001b[0;34m,\u001b[0m\u001b[0mcolor\u001b[0m\u001b[0;34m=\u001b[0m\u001b[0;34m\"red\"\u001b[0m\u001b[0;34m,\u001b[0m\u001b[0mlinewidth\u001b[0m\u001b[0;34m=\u001b[0m\u001b[0;36m3\u001b[0m\u001b[0;34m,\u001b[0m\u001b[0mlabel\u001b[0m\u001b[0;34m=\u001b[0m\u001b[0;34m\"buenos\"\u001b[0m\u001b[0;34m)\u001b[0m\u001b[0;34m\u001b[0m\u001b[0;34m\u001b[0m\u001b[0m\n\u001b[1;32m      4\u001b[0m \u001b[0mplot\u001b[0m\u001b[0;34m(\u001b[0m\u001b[0mgrid_score\u001b[0m\u001b[0;34m,\u001b[0m\u001b[0mprob_acum_malos\u001b[0m\u001b[0;34m,\u001b[0m\u001b[0mcolor\u001b[0m\u001b[0;34m=\u001b[0m\u001b[0;34m\"blue\"\u001b[0m\u001b[0;34m,\u001b[0m\u001b[0mlinewidth\u001b[0m\u001b[0;34m=\u001b[0m\u001b[0;36m3\u001b[0m\u001b[0;34m,\u001b[0m\u001b[0mlabel\u001b[0m\u001b[0;34m=\u001b[0m\u001b[0;34m\"malos\"\u001b[0m\u001b[0;34m)\u001b[0m\u001b[0;34m\u001b[0m\u001b[0;34m\u001b[0m\u001b[0m\n\u001b[0;32m----> 5\u001b[0;31m \u001b[0mxticks\u001b[0m\u001b[0;34m(\u001b[0m\u001b[0mfontsize\u001b[0m\u001b[0;34m=\u001b[0m\u001b[0;36m16\u001b[0m\u001b[0;34m)\u001b[0m\u001b[0;34m\u001b[0m\u001b[0;34m\u001b[0m\u001b[0m\n\u001b[0m\u001b[1;32m      6\u001b[0m \u001b[0myticks\u001b[0m\u001b[0;34m(\u001b[0m\u001b[0mfontsize\u001b[0m\u001b[0;34m=\u001b[0m\u001b[0;36m16\u001b[0m\u001b[0;34m)\u001b[0m\u001b[0;34m\u001b[0m\u001b[0;34m\u001b[0m\u001b[0m\n\u001b[1;32m      7\u001b[0m \u001b[0mlegend\u001b[0m\u001b[0;34m(\u001b[0m\u001b[0mfontsize\u001b[0m\u001b[0;34m=\u001b[0m\u001b[0;36m15\u001b[0m\u001b[0;34m)\u001b[0m\u001b[0;34m\u001b[0m\u001b[0;34m\u001b[0m\u001b[0m\n",
      "\u001b[0;31mTypeError\u001b[0m: 'list' object is not callable"
     ]
    },
    {
     "data": {
      "image/png": "[encoded data removed]",
      "text/plain": [
       "<Figure size 576x360 with 1 Axes>"
      ]
     },
     "metadata": {
      "needs_background": "light"
     },
     "output_type": "display_data"
    }
   ],
   "source": [
    "fig, ax=plt.subplots(figsize=(8,5))\n",
    "ax.set_title(f\"K-S: {KS:%}\",fontsize=16)\n",
    "plot(grid_score,prob_acum_buenos,color=\"red\",linewidth=3,label=\"buenos\")\n",
    "plot(grid_score,prob_acum_malos,color=\"blue\",linewidth=3,label=\"malos\")\n",
    "xticks(fontsize=16)\n",
    "yticks(fontsize=16)\n",
    "legend(fontsize=15)\n",
    "show()"
   ]
  },
  {
   "cell_type": "markdown",
   "id": "efe79f34",
   "metadata": {},
   "source": [
    "#### Validación cruzada"
   ]
  },
  {
   "cell_type": "code",
   "execution_count": 49,
   "id": "3a0262ea",
   "metadata": {},
   "outputs": [
    {
     "data": {
      "text/plain": [
       "array([0.95814286, 0.96042857, 0.96157143, 0.96214286, 0.96128571])"
      ]
     },
     "execution_count": 49,
     "metadata": {},
     "output_type": "execute_result"
    }
   ],
   "source": [
    "k_fold = StratifiedKFold(5, shuffle=True, random_state=42)\n",
    "scores = cross_val_score(model, X_woe_train, y_train, cv=k_fold)\n",
    "scores"
   ]
  },
  {
   "cell_type": "code",
   "execution_count": 51,
   "id": "21a9b36a",
   "metadata": {},
   "outputs": [
    {
     "data": {
      "text/plain": [
       "{'fit_time': array([0.05410266, 0.0361383 , 0.03469276, 0.03668213, 0.03915095]),\n",
       " 'score_time': array([0.08492517, 0.01591396, 0.01507401, 0.01499486, 0.01553011]),\n",
       " 'test_accuracy': array([0.95814286, 0.96042857, 0.96157143, 0.96214286, 0.96128571]),\n",
       " 'test_precision': array([0.9757749 , 0.97497752, 0.97401434, 0.97502617, 0.97557321]),\n",
       " 'test_recall': array([0.98005138, 0.98337615, 0.98564304, 0.9851919 , 0.98368087]),\n",
       " 'test_roc_auc': array([0.94198029, 0.93164809, 0.92230669, 0.93622818, 0.94649172])}"
      ]
     },
     "execution_count": 51,
     "metadata": {},
     "output_type": "execute_result"
    }
   ],
   "source": [
    "cross_validate(model, X_woe_train, y_train, cv=k_fold,\n",
    "                           scoring=['accuracy', 'precision', 'recall','roc_auc'])"
   ]
  },
  {
   "cell_type": "markdown",
   "id": "b3525d23",
   "metadata": {},
   "source": [
    "### Punto óptimo"
   ]
  },
  {
   "cell_type": "code",
   "execution_count": 52,
   "id": "46a321f4",
   "metadata": {},
   "outputs": [],
   "source": [
    "def get_optimal_thershold(model, X_test, y_test):\n",
    "    y_pred = model.predict(X_test)\n",
    "    y_pred_prob = model.predict_proba(X_test)[:, 1]\n",
    "\n",
    "    fpr, tpr, thresholds = metrics.roc_curve(y_test, y_pred_prob)\n",
    "    \n",
    "    J = tpr - fpr\n",
    "    ix = np.argmax(J)\n",
    "    best_thresh = thresholds[ix]\n",
    "    \n",
    "    # plot the roc curve for the model\n",
    "    plt.plot([0,1], [0,1], linestyle='--', label='No Skill')\n",
    "    plt.plot(fpr, tpr, marker='.', label='Logistic')\n",
    "    plt.scatter(fpr[ix], tpr[ix], marker='o', color='black', label='Best')\n",
    "    # axis labels\n",
    "    plt.xlabel('False Positive Rate')\n",
    "    plt.ylabel('True Positive Rate')\n",
    "    plt.legend()\n",
    "    # show the plot\n",
    "    plt.show()\n",
    "    \n",
    "    return best_thresh"
   ]
  },
  {
   "cell_type": "code",
   "execution_count": 54,
   "id": "9670acdb",
   "metadata": {},
   "outputs": [
    {
     "data": {
      "image/png": "[encoded data removed]",
      "text/plain": [
       "<Figure size 432x288 with 1 Axes>"
      ]
     },
     "metadata": {
      "needs_background": "light"
     },
     "output_type": "display_data"
    },
    {
     "name": "stdout",
     "output_type": "stream",
     "text": [
      "El punto óptimo es: 0.9142049171866613\n"
     ]
    }
   ],
   "source": [
    "punto_optimo = get_optimal_thershold(model, X_woe_train, y_test)\n",
    "print(f\"El punto óptimo es: {punto_optimo}\")"
   ]
  },
  {
   "cell_type": "code",
   "execution_count": null,
   "id": "adaadf20",
   "metadata": {},
   "outputs": [],
   "source": []
  },
  {
   "cell_type": "markdown",
   "id": "99416be0",
   "metadata": {},
   "source": [
    "## Árbol de clasificación"
   ]
  },
  {
   "cell_type": "code",
   "execution_count": 55,
   "id": "4a2fd49b",
   "metadata": {},
   "outputs": [],
   "source": [
    "def performance_evaluation_report(model, X_test, y_test, show_plot=False, labels=None, show_pr_curve=False):\n",
    "    '''\n",
    "    Function for creating a performance report of a classification model.\n",
    "    \n",
    "    Parameters\n",
    "    ----------\n",
    "    model : scikit-learn estimator\n",
    "        A fitted estimator for classification problems.\n",
    "    X_test : pd.DataFrame\n",
    "        DataFrame with features matching y_test\n",
    "    y_test : array/pd.Series\n",
    "        Target of a classification problem.\n",
    "    show_plot : bool\n",
    "        Flag whether to show the plot\n",
    "    labels : list\n",
    "        List with the class names.\n",
    "    show_pr_curve : bool\n",
    "        Flag whether to also show the PR-curve. For this to take effect, \n",
    "        show_plot must be True.\n",
    "        \n",
    "    Return\n",
    "    ------\n",
    "    stats : pd.Series\n",
    "        A series with the most important evaluation metrics\n",
    "    '''\n",
    "\n",
    "    y_pred = model.predict(X_test)\n",
    "    y_pred_prob = model.predict_proba(X_test)[:, 1]\n",
    "\n",
    "    cm = metrics.confusion_matrix(y_test, y_pred)\n",
    "    tn, fp, fn, tp = cm.ravel()\n",
    "\n",
    "    fpr, tpr, threshold = metrics.roc_curve(y_test, y_pred_prob)\n",
    "    roc_auc = metrics.auc(fpr, tpr)\n",
    "\n",
    "    precision, recall, thresholds = metrics.precision_recall_curve(\n",
    "        y_test, y_pred_prob)\n",
    "    pr_auc = metrics.auc(recall, precision)\n",
    "\n",
    "    if show_plot:\n",
    "\n",
    "        if labels is None:\n",
    "            labels = ['Negative', 'Positive']\n",
    "\n",
    "        N_SUBPLOTS = 3 if show_pr_curve else 2\n",
    "        PLOT_WIDTH = 15 if show_pr_curve else 12\n",
    "        PLOT_HEIGHT = 5 if show_pr_curve else 6\n",
    "\n",
    "        fig, ax = plt.subplots(\n",
    "            1, N_SUBPLOTS, figsize=(PLOT_WIDTH, PLOT_HEIGHT))\n",
    "        fig.suptitle('Performance Evaluation', fontsize=16)\n",
    "\n",
    "        sns.heatmap(cm, annot=True, fmt=\"d\", linewidths=.5, cmap='magma', square=True, cbar=False, ax=ax[0],\n",
    "                    annot_kws={\"ha\": 'center', \"va\": 'center'})\n",
    "        ax[0].set(xlabel='Predicted label',\n",
    "                  ylabel='Actual label', title='Confusion Matrix')\n",
    "        ax[0].xaxis.set_ticklabels(labels)\n",
    "        ax[0].yaxis.set_ticklabels(labels)\n",
    "\n",
    "        ax[1].plot(fpr, tpr, 'b-', label=f'ROC-AUC = {roc_auc:.2f}')\n",
    "        ax[1].set(xlabel='False Positive Rate',\n",
    "                  ylabel='True Positive Rate', title='ROC Curve')\n",
    "        ax[1].plot(fp/(fp+tn), tp/(tp+fn), 'ro',\n",
    "                   markersize=8, label='Decision Point')\n",
    "        ax[1].plot([0, 1], [0, 1], 'r--')\n",
    "        ax[1].legend(loc='lower right')\n",
    "\n",
    "        if show_pr_curve:\n",
    "\n",
    "            ax[2].plot(recall, precision, label=f'PR-AUC = {pr_auc:.2f}')\n",
    "            ax[2].set(xlabel='Recall', ylabel='Precision',\n",
    "                      title='Precision-Recall Curve')\n",
    "            ax[2].legend()\n",
    "\n",
    "#         print('#######################')\n",
    "#         print('Evaluation metrics ####')\n",
    "#         print('#######################')\n",
    "#         print(f'Accuracy: {metrics.accuracy_score(y_test, y_pred):.4f}')\n",
    "#         print(f'Precision: {metrics.precision_score(y_test, y_pred):.4f}')\n",
    "#         print(f'Recall (Sensitivity): {metrics.recall_score(y_test, y_pred):.4f}')\n",
    "#         print(f'Specificity: {(tn / (tn + fp)):.4f}')\n",
    "#         print(f'F1-Score: {metrics.f1_score(y_test, y_pred):.4f}')\n",
    "#         print(f\"Cohen's Kappa: {metrics.cohen_kappa_score(y_test, y_pred):.4f}\")\n",
    "\n",
    "    stats = {'accuracy': metrics.accuracy_score(y_test, y_pred),\n",
    "             'precision': metrics.precision_score(y_test, y_pred),\n",
    "             'recall': metrics.recall_score(y_test, y_pred),\n",
    "             'specificity': (tn / (tn + fp)),\n",
    "             'f1_score': metrics.f1_score(y_test, y_pred),\n",
    "             'cohens_kappa': metrics.cohen_kappa_score(y_test, y_pred),\n",
    "             'roc_auc': roc_auc,\n",
    "             'pr_auc': pr_auc}\n",
    "\n",
    "    return stats"
   ]
  },
  {
   "cell_type": "code",
   "execution_count": 56,
   "id": "ddf6384d",
   "metadata": {},
   "outputs": [],
   "source": [
    "def get_gini(stats_model):\n",
    "    return 2*stats_model['roc_auc'] - 1"
   ]
  },
  {
   "cell_type": "code",
   "execution_count": 57,
   "id": "8b846c37",
   "metadata": {},
   "outputs": [],
   "source": [
    "base_df = pd.read_csv(\"base_final.csv\")"
   ]
  },
  {
   "cell_type": "code",
   "execution_count": 58,
   "id": "347b3462",
   "metadata": {},
   "outputs": [
    {
     "data": {
      "text/html": [
       "<div>\n",
       "<style scoped>\n",
       "    .dataframe tbody tr th:only-of-type {\n",
       "        vertical-align: middle;\n",
       "    }\n",
       "\n",
       "    .dataframe tbody tr th {\n",
       "        vertical-align: top;\n",
       "    }\n",
       "\n",
       "    .dataframe thead th {\n",
       "        text-align: right;\n",
       "    }\n",
       "</style>\n",
       "<table border=\"1\" class=\"dataframe\">\n",
       "  <thead>\n",
       "    <tr style=\"text-align: right;\">\n",
       "      <th></th>\n",
       "      <th>Unnamed: 0</th>\n",
       "      <th>index</th>\n",
       "      <th>num_caso</th>\n",
       "      <th>tiempo_adeudo</th>\n",
       "      <th>num_retrasos</th>\n",
       "      <th>comp_interno1</th>\n",
       "      <th>prest_aceptado</th>\n",
       "    </tr>\n",
       "  </thead>\n",
       "  <tbody>\n",
       "    <tr>\n",
       "      <th>0</th>\n",
       "      <td>0</td>\n",
       "      <td>0.0</td>\n",
       "      <td>1</td>\n",
       "      <td>62.0</td>\n",
       "      <td>7.0</td>\n",
       "      <td>3039.513678</td>\n",
       "      <td>1.0</td>\n",
       "    </tr>\n",
       "    <tr>\n",
       "      <th>1</th>\n",
       "      <td>1</td>\n",
       "      <td>6.0</td>\n",
       "      <td>7</td>\n",
       "      <td>29.0</td>\n",
       "      <td>9.0</td>\n",
       "      <td>1547.112462</td>\n",
       "      <td>1.0</td>\n",
       "    </tr>\n",
       "    <tr>\n",
       "      <th>2</th>\n",
       "      <td>2</td>\n",
       "      <td>7.0</td>\n",
       "      <td>8</td>\n",
       "      <td>59.0</td>\n",
       "      <td>4.0</td>\n",
       "      <td>1215.805471</td>\n",
       "      <td>1.0</td>\n",
       "    </tr>\n",
       "    <tr>\n",
       "      <th>3</th>\n",
       "      <td>3</td>\n",
       "      <td>8.0</td>\n",
       "      <td>9</td>\n",
       "      <td>15.0</td>\n",
       "      <td>0.0</td>\n",
       "      <td>0.000000</td>\n",
       "      <td>1.0</td>\n",
       "    </tr>\n",
       "    <tr>\n",
       "      <th>4</th>\n",
       "      <td>4</td>\n",
       "      <td>9.0</td>\n",
       "      <td>10</td>\n",
       "      <td>16.0</td>\n",
       "      <td>1.0</td>\n",
       "      <td>0.000000</td>\n",
       "      <td>1.0</td>\n",
       "    </tr>\n",
       "    <tr>\n",
       "      <th>5</th>\n",
       "      <td>5</td>\n",
       "      <td>13.0</td>\n",
       "      <td>14</td>\n",
       "      <td>56.0</td>\n",
       "      <td>7.0</td>\n",
       "      <td>0.000000</td>\n",
       "      <td>1.0</td>\n",
       "    </tr>\n",
       "    <tr>\n",
       "      <th>6</th>\n",
       "      <td>6</td>\n",
       "      <td>17.0</td>\n",
       "      <td>18</td>\n",
       "      <td>58.0</td>\n",
       "      <td>8.0</td>\n",
       "      <td>0.000000</td>\n",
       "      <td>1.0</td>\n",
       "    </tr>\n",
       "    <tr>\n",
       "      <th>7</th>\n",
       "      <td>7</td>\n",
       "      <td>20.0</td>\n",
       "      <td>21</td>\n",
       "      <td>54.0</td>\n",
       "      <td>3.0</td>\n",
       "      <td>0.000000</td>\n",
       "      <td>1.0</td>\n",
       "    </tr>\n",
       "    <tr>\n",
       "      <th>8</th>\n",
       "      <td>8</td>\n",
       "      <td>21.0</td>\n",
       "      <td>22</td>\n",
       "      <td>26.0</td>\n",
       "      <td>2.0</td>\n",
       "      <td>1317.122594</td>\n",
       "      <td>1.0</td>\n",
       "    </tr>\n",
       "    <tr>\n",
       "      <th>9</th>\n",
       "      <td>9</td>\n",
       "      <td>23.0</td>\n",
       "      <td>24</td>\n",
       "      <td>4.0</td>\n",
       "      <td>0.0</td>\n",
       "      <td>0.000000</td>\n",
       "      <td>1.0</td>\n",
       "    </tr>\n",
       "  </tbody>\n",
       "</table>\n",
       "</div>"
      ],
      "text/plain": [
       "   Unnamed: 0  index  num_caso  tiempo_adeudo  num_retrasos  comp_interno1  \\\n",
       "0           0    0.0         1           62.0           7.0    3039.513678   \n",
       "1           1    6.0         7           29.0           9.0    1547.112462   \n",
       "2           2    7.0         8           59.0           4.0    1215.805471   \n",
       "3           3    8.0         9           15.0           0.0       0.000000   \n",
       "4           4    9.0        10           16.0           1.0       0.000000   \n",
       "5           5   13.0        14           56.0           7.0       0.000000   \n",
       "6           6   17.0        18           58.0           8.0       0.000000   \n",
       "7           7   20.0        21           54.0           3.0       0.000000   \n",
       "8           8   21.0        22           26.0           2.0    1317.122594   \n",
       "9           9   23.0        24            4.0           0.0       0.000000   \n",
       "\n",
       "   prest_aceptado  \n",
       "0             1.0  \n",
       "1             1.0  \n",
       "2             1.0  \n",
       "3             1.0  \n",
       "4             1.0  \n",
       "5             1.0  \n",
       "6             1.0  \n",
       "7             1.0  \n",
       "8             1.0  \n",
       "9             1.0  "
      ]
     },
     "execution_count": 58,
     "metadata": {},
     "output_type": "execute_result"
    }
   ],
   "source": [
    "base_df.head(10)"
   ]
  },
  {
   "cell_type": "code",
   "execution_count": 59,
   "id": "ac85daa4",
   "metadata": {},
   "outputs": [
    {
     "data": {
      "text/html": [
       "<div>\n",
       "<style scoped>\n",
       "    .dataframe tbody tr th:only-of-type {\n",
       "        vertical-align: middle;\n",
       "    }\n",
       "\n",
       "    .dataframe tbody tr th {\n",
       "        vertical-align: top;\n",
       "    }\n",
       "\n",
       "    .dataframe thead th {\n",
       "        text-align: right;\n",
       "    }\n",
       "</style>\n",
       "<table border=\"1\" class=\"dataframe\">\n",
       "  <thead>\n",
       "    <tr style=\"text-align: right;\">\n",
       "      <th></th>\n",
       "      <th>Unnamed: 0</th>\n",
       "      <th>index</th>\n",
       "      <th>num_caso</th>\n",
       "      <th>tiempo_adeudo</th>\n",
       "      <th>num_retrasos</th>\n",
       "      <th>comp_interno1</th>\n",
       "      <th>prest_aceptado</th>\n",
       "    </tr>\n",
       "  </thead>\n",
       "  <tbody>\n",
       "    <tr>\n",
       "      <th>49990</th>\n",
       "      <td>49990</td>\n",
       "      <td>0.0</td>\n",
       "      <td>98941</td>\n",
       "      <td>0.0</td>\n",
       "      <td>0.0</td>\n",
       "      <td>0.000000</td>\n",
       "      <td>0.0</td>\n",
       "    </tr>\n",
       "    <tr>\n",
       "      <th>49991</th>\n",
       "      <td>49991</td>\n",
       "      <td>0.0</td>\n",
       "      <td>98943</td>\n",
       "      <td>0.0</td>\n",
       "      <td>0.0</td>\n",
       "      <td>6079.027356</td>\n",
       "      <td>1.0</td>\n",
       "    </tr>\n",
       "    <tr>\n",
       "      <th>49992</th>\n",
       "      <td>49992</td>\n",
       "      <td>0.0</td>\n",
       "      <td>98947</td>\n",
       "      <td>0.0</td>\n",
       "      <td>0.0</td>\n",
       "      <td>0.000000</td>\n",
       "      <td>0.0</td>\n",
       "    </tr>\n",
       "    <tr>\n",
       "      <th>49993</th>\n",
       "      <td>49993</td>\n",
       "      <td>0.0</td>\n",
       "      <td>98950</td>\n",
       "      <td>0.0</td>\n",
       "      <td>0.0</td>\n",
       "      <td>2127.659574</td>\n",
       "      <td>1.0</td>\n",
       "    </tr>\n",
       "    <tr>\n",
       "      <th>49994</th>\n",
       "      <td>49994</td>\n",
       "      <td>0.0</td>\n",
       "      <td>98959</td>\n",
       "      <td>0.0</td>\n",
       "      <td>0.0</td>\n",
       "      <td>1266.464032</td>\n",
       "      <td>0.0</td>\n",
       "    </tr>\n",
       "    <tr>\n",
       "      <th>49995</th>\n",
       "      <td>49995</td>\n",
       "      <td>0.0</td>\n",
       "      <td>98961</td>\n",
       "      <td>0.0</td>\n",
       "      <td>0.0</td>\n",
       "      <td>1519.756839</td>\n",
       "      <td>0.0</td>\n",
       "    </tr>\n",
       "    <tr>\n",
       "      <th>49996</th>\n",
       "      <td>49996</td>\n",
       "      <td>0.0</td>\n",
       "      <td>98968</td>\n",
       "      <td>0.0</td>\n",
       "      <td>0.0</td>\n",
       "      <td>0.000000</td>\n",
       "      <td>0.0</td>\n",
       "    </tr>\n",
       "    <tr>\n",
       "      <th>49997</th>\n",
       "      <td>49997</td>\n",
       "      <td>0.0</td>\n",
       "      <td>98976</td>\n",
       "      <td>0.0</td>\n",
       "      <td>0.0</td>\n",
       "      <td>911.854103</td>\n",
       "      <td>0.0</td>\n",
       "    </tr>\n",
       "    <tr>\n",
       "      <th>49998</th>\n",
       "      <td>49998</td>\n",
       "      <td>0.0</td>\n",
       "      <td>98978</td>\n",
       "      <td>0.0</td>\n",
       "      <td>0.0</td>\n",
       "      <td>0.000000</td>\n",
       "      <td>0.0</td>\n",
       "    </tr>\n",
       "    <tr>\n",
       "      <th>49999</th>\n",
       "      <td>49999</td>\n",
       "      <td>0.0</td>\n",
       "      <td>98985</td>\n",
       "      <td>0.0</td>\n",
       "      <td>0.0</td>\n",
       "      <td>0.000000</td>\n",
       "      <td>0.0</td>\n",
       "    </tr>\n",
       "  </tbody>\n",
       "</table>\n",
       "</div>"
      ],
      "text/plain": [
       "       Unnamed: 0  index  num_caso  tiempo_adeudo  num_retrasos  \\\n",
       "49990       49990    0.0     98941            0.0           0.0   \n",
       "49991       49991    0.0     98943            0.0           0.0   \n",
       "49992       49992    0.0     98947            0.0           0.0   \n",
       "49993       49993    0.0     98950            0.0           0.0   \n",
       "49994       49994    0.0     98959            0.0           0.0   \n",
       "49995       49995    0.0     98961            0.0           0.0   \n",
       "49996       49996    0.0     98968            0.0           0.0   \n",
       "49997       49997    0.0     98976            0.0           0.0   \n",
       "49998       49998    0.0     98978            0.0           0.0   \n",
       "49999       49999    0.0     98985            0.0           0.0   \n",
       "\n",
       "       comp_interno1  prest_aceptado  \n",
       "49990       0.000000             0.0  \n",
       "49991    6079.027356             1.0  \n",
       "49992       0.000000             0.0  \n",
       "49993    2127.659574             1.0  \n",
       "49994    1266.464032             0.0  \n",
       "49995    1519.756839             0.0  \n",
       "49996       0.000000             0.0  \n",
       "49997     911.854103             0.0  \n",
       "49998       0.000000             0.0  \n",
       "49999       0.000000             0.0  "
      ]
     },
     "execution_count": 59,
     "metadata": {},
     "output_type": "execute_result"
    }
   ],
   "source": [
    "base_df.tail(10)"
   ]
  },
  {
   "cell_type": "code",
   "execution_count": 60,
   "id": "4c31c37b",
   "metadata": {},
   "outputs": [
    {
     "data": {
      "text/plain": [
       "0        0.0\n",
       "1        6.0\n",
       "2        7.0\n",
       "3        8.0\n",
       "4        9.0\n",
       "        ... \n",
       "49995    0.0\n",
       "49996    0.0\n",
       "49997    0.0\n",
       "49998    0.0\n",
       "49999    0.0\n",
       "Name: index, Length: 50000, dtype: float64"
      ]
     },
     "execution_count": 60,
     "metadata": {},
     "output_type": "execute_result"
    }
   ],
   "source": [
    "base_df.pop(\"index\")"
   ]
  },
  {
   "cell_type": "code",
   "execution_count": 61,
   "id": "168846f4",
   "metadata": {},
   "outputs": [
    {
     "data": {
      "text/plain": [
       "0            0\n",
       "1            1\n",
       "2            2\n",
       "3            3\n",
       "4            4\n",
       "         ...  \n",
       "49995    49995\n",
       "49996    49996\n",
       "49997    49997\n",
       "49998    49998\n",
       "49999    49999\n",
       "Name: Unnamed: 0, Length: 50000, dtype: int64"
      ]
     },
     "execution_count": 61,
     "metadata": {},
     "output_type": "execute_result"
    }
   ],
   "source": [
    "base_df.pop(\"Unnamed: 0\")"
   ]
  },
  {
   "cell_type": "code",
   "execution_count": 62,
   "id": "e4a1f56f",
   "metadata": {},
   "outputs": [
    {
     "data": {
      "text/html": [
       "<div>\n",
       "<style scoped>\n",
       "    .dataframe tbody tr th:only-of-type {\n",
       "        vertical-align: middle;\n",
       "    }\n",
       "\n",
       "    .dataframe tbody tr th {\n",
       "        vertical-align: top;\n",
       "    }\n",
       "\n",
       "    .dataframe thead th {\n",
       "        text-align: right;\n",
       "    }\n",
       "</style>\n",
       "<table border=\"1\" class=\"dataframe\">\n",
       "  <thead>\n",
       "    <tr style=\"text-align: right;\">\n",
       "      <th></th>\n",
       "      <th>num_caso</th>\n",
       "      <th>tiempo_adeudo</th>\n",
       "      <th>num_retrasos</th>\n",
       "      <th>comp_interno1</th>\n",
       "      <th>prest_aceptado</th>\n",
       "    </tr>\n",
       "  </thead>\n",
       "  <tbody>\n",
       "    <tr>\n",
       "      <th>0</th>\n",
       "      <td>1</td>\n",
       "      <td>62.0</td>\n",
       "      <td>7.0</td>\n",
       "      <td>3039.513678</td>\n",
       "      <td>1.0</td>\n",
       "    </tr>\n",
       "    <tr>\n",
       "      <th>1</th>\n",
       "      <td>7</td>\n",
       "      <td>29.0</td>\n",
       "      <td>9.0</td>\n",
       "      <td>1547.112462</td>\n",
       "      <td>1.0</td>\n",
       "    </tr>\n",
       "    <tr>\n",
       "      <th>2</th>\n",
       "      <td>8</td>\n",
       "      <td>59.0</td>\n",
       "      <td>4.0</td>\n",
       "      <td>1215.805471</td>\n",
       "      <td>1.0</td>\n",
       "    </tr>\n",
       "    <tr>\n",
       "      <th>3</th>\n",
       "      <td>9</td>\n",
       "      <td>15.0</td>\n",
       "      <td>0.0</td>\n",
       "      <td>0.000000</td>\n",
       "      <td>1.0</td>\n",
       "    </tr>\n",
       "    <tr>\n",
       "      <th>4</th>\n",
       "      <td>10</td>\n",
       "      <td>16.0</td>\n",
       "      <td>1.0</td>\n",
       "      <td>0.000000</td>\n",
       "      <td>1.0</td>\n",
       "    </tr>\n",
       "  </tbody>\n",
       "</table>\n",
       "</div>"
      ],
      "text/plain": [
       "   num_caso  tiempo_adeudo  num_retrasos  comp_interno1  prest_aceptado\n",
       "0         1           62.0           7.0    3039.513678             1.0\n",
       "1         7           29.0           9.0    1547.112462             1.0\n",
       "2         8           59.0           4.0    1215.805471             1.0\n",
       "3         9           15.0           0.0       0.000000             1.0\n",
       "4        10           16.0           1.0       0.000000             1.0"
      ]
     },
     "execution_count": 62,
     "metadata": {},
     "output_type": "execute_result"
    }
   ],
   "source": [
    "base_df.head()"
   ]
  },
  {
   "cell_type": "code",
   "execution_count": 63,
   "id": "d2619f4b",
   "metadata": {},
   "outputs": [
    {
     "data": {
      "text/plain": [
       "<AxesSubplot:xlabel='prest_aceptado', ylabel='count'>"
      ]
     },
     "execution_count": 63,
     "metadata": {},
     "output_type": "execute_result"
    },
    {
     "data": {
      "image/png": "[encoded data removed]",
      "text/plain": [
       "<Figure size 432x288 with 1 Axes>"
      ]
     },
     "metadata": {
      "needs_background": "light"
     },
     "output_type": "display_data"
    }
   ],
   "source": [
    "sns.countplot(data=base_df, x=\"prest_aceptado\")"
   ]
  },
  {
   "cell_type": "code",
   "execution_count": 64,
   "id": "89cdd399",
   "metadata": {},
   "outputs": [
    {
     "data": {
      "text/plain": [
       "prest_aceptado\n",
       "1.0    47225\n",
       "0.0     2775\n",
       "dtype: int64"
      ]
     },
     "execution_count": 64,
     "metadata": {},
     "output_type": "execute_result"
    }
   ],
   "source": [
    "base_df.value_counts(\"prest_aceptado\")"
   ]
  },
  {
   "cell_type": "code",
   "execution_count": 65,
   "id": "d3bef763",
   "metadata": {},
   "outputs": [],
   "source": [
    "X = base_df.copy()\n",
    "y = X.pop(\"prest_aceptado\")"
   ]
  },
  {
   "cell_type": "markdown",
   "id": "8b5303dd",
   "metadata": {},
   "source": [
    "Creamos los train test sets"
   ]
  },
  {
   "cell_type": "code",
   "execution_count": 66,
   "id": "fb7a3759",
   "metadata": {},
   "outputs": [],
   "source": [
    "X_train, X_test, y_train, y_test = train_test_split(X, y, test_size=0.2,stratify=y)"
   ]
  },
  {
   "cell_type": "markdown",
   "id": "2dc2fda0",
   "metadata": {},
   "source": [
    "### Lo siguiente es definir los Transformation Pipelines"
   ]
  },
  {
   "cell_type": "code",
   "execution_count": 67,
   "id": "61e1eca2",
   "metadata": {},
   "outputs": [],
   "source": [
    "num_features = X_train.select_dtypes(include='number').columns.to_list()\n",
    "cat_features = X_train.select_dtypes(include='object').columns.to_list()"
   ]
  },
  {
   "cell_type": "code",
   "execution_count": 68,
   "id": "d037811e",
   "metadata": {},
   "outputs": [
    {
     "data": {
      "text/plain": [
       "['num_caso', 'tiempo_adeudo', 'num_retrasos', 'comp_interno1']"
      ]
     },
     "execution_count": 68,
     "metadata": {},
     "output_type": "execute_result"
    }
   ],
   "source": [
    "num_features"
   ]
  },
  {
   "cell_type": "code",
   "execution_count": 69,
   "id": "40a2a275",
   "metadata": {},
   "outputs": [
    {
     "data": {
      "text/plain": [
       "[]"
      ]
     },
     "execution_count": 69,
     "metadata": {},
     "output_type": "execute_result"
    }
   ],
   "source": [
    "cat_features # No hay varibales categoricas en nuestra base de datos"
   ]
  },
  {
   "cell_type": "code",
   "execution_count": 70,
   "id": "802c1454",
   "metadata": {},
   "outputs": [],
   "source": [
    "cat_list = [list(X_train[col].dropna().unique()) for col in cat_features]"
   ]
  },
  {
   "cell_type": "code",
   "execution_count": 71,
   "id": "38bda35f",
   "metadata": {},
   "outputs": [],
   "source": [
    "# Pipeline para variables númericas\n",
    "num_pipeline = Pipeline(steps=[('imputer', SimpleImputer(strategy='median'))])"
   ]
  },
  {
   "cell_type": "code",
   "execution_count": 72,
   "id": "2474c418",
   "metadata": {},
   "outputs": [],
   "source": [
    "# Pipeline para variables categoricas\n",
    "cat_pipeline = Pipeline(steps=[('imputer', SimpleImputer(strategy='most_frequent')),\n",
    "                               ('onehot', OneHotEncoder(categories=cat_list, sparse=False,\n",
    "                                        handle_unknown='error', drop='first'))])"
   ]
  },
  {
   "cell_type": "markdown",
   "id": "30094ed3",
   "metadata": {},
   "source": [
    "### Realizamos las transformaciones"
   ]
  },
  {
   "cell_type": "code",
   "execution_count": 73,
   "id": "3d218b39",
   "metadata": {},
   "outputs": [],
   "source": [
    "full_pipeline = ColumnTransformer(transformers=[\n",
    "               ('numerical', num_pipeline, num_features),\n",
    "               ('categorical', cat_pipeline, cat_features)],\n",
    "               remainder='drop')"
   ]
  },
  {
   "cell_type": "code",
   "execution_count": 74,
   "id": "8d906b58",
   "metadata": {},
   "outputs": [],
   "source": [
    "dec_tree = DecisionTreeClassifier(random_state=42)"
   ]
  },
  {
   "cell_type": "code",
   "execution_count": 75,
   "id": "b81f49f0",
   "metadata": {},
   "outputs": [],
   "source": [
    "tree_pipeline = Pipeline(steps=[('preprocessor', full_pipeline),('classifier', dec_tree)])"
   ]
  },
  {
   "cell_type": "code",
   "execution_count": 76,
   "id": "96101b01",
   "metadata": {},
   "outputs": [
    {
     "data": {
      "text/plain": [
       "Pipeline(steps=[('preprocessor',\n",
       "                 ColumnTransformer(transformers=[('numerical',\n",
       "                                                  Pipeline(steps=[('imputer',\n",
       "                                                                   SimpleImputer(strategy='median'))]),\n",
       "                                                  ['num_caso', 'tiempo_adeudo',\n",
       "                                                   'num_retrasos',\n",
       "                                                   'comp_interno1']),\n",
       "                                                 ('categorical',\n",
       "                                                  Pipeline(steps=[('imputer',\n",
       "                                                                   SimpleImputer(strategy='most_frequent')),\n",
       "                                                                  ('onehot',\n",
       "                                                                   OneHotEncoder(categories=[],\n",
       "                                                                                 drop='first',\n",
       "                                                                                 sparse=False))]),\n",
       "                                                  [])])),\n",
       "                ('classifier', DecisionTreeClassifier(random_state=42))])"
      ]
     },
     "execution_count": 76,
     "metadata": {},
     "output_type": "execute_result"
    }
   ],
   "source": [
    "tree_pipeline.fit(X_train, y_train)"
   ]
  },
  {
   "cell_type": "markdown",
   "id": "a26e7414",
   "metadata": {},
   "source": [
    "### Confusion Matrix y ROC curve - Primer modelo"
   ]
  },
  {
   "cell_type": "code",
   "execution_count": 77,
   "id": "02c4063e",
   "metadata": {},
   "outputs": [
    {
     "data": {
      "text/plain": [
       "{'accuracy': 0.9997,\n",
       " 'precision': 1.0,\n",
       " 'recall': 0.9996823716251985,\n",
       " 'specificity': 1.0,\n",
       " 'f1_score': 0.9998411605866468,\n",
       " 'cohens_kappa': 0.9971457440189065,\n",
       " 'roc_auc': 0.9998411858125993,\n",
       " 'pr_auc': 0.9999911858125993}"
      ]
     },
     "execution_count": 77,
     "metadata": {},
     "output_type": "execute_result"
    },
    {
     "data": {
      "image/png": "[encoded data removed]",
      "text/plain": [
       "<Figure size 864x432 with 2 Axes>"
      ]
     },
     "metadata": {
      "needs_background": "light"
     },
     "output_type": "display_data"
    }
   ],
   "source": [
    "LABELS = ['Positive', 'Negative']\n",
    "performance_evaluation_report(tree_pipeline, X_test,y_test, labels=LABELS,show_plot=True)"
   ]
  },
  {
   "cell_type": "markdown",
   "id": "d204400b",
   "metadata": {},
   "source": [
    "Como podemos observar este modelo al observar la curva $\\textit{ROC}$ parece ser bueno, recordando que esta curva describe una relación entre la sensibilidad del modelo (la tasa de verdaderos positivos o TPR) contra su especificidad (descrita con respecto a la tasa de falsos positivos: 1-FPR), pero tal vez no sea lo demasiado robusto"
   ]
  },
  {
   "cell_type": "markdown",
   "id": "4f2f705b",
   "metadata": {},
   "source": [
    "En lo anterior como se vió en clase, aplicamos básicamente el tratamiento de los missings como un paso en el pipline, sin embargo, se pueden hacer muchas otras cosas, obviamente:\n",
    "\n",
    "1.- Reescalamiento o estandarización de variables, esto es porque normalmente las variables no están en la misma escala, esto puede introducir sesgo en el modelo. Por ejemplo, para los modelos de regresión o K-vecinos, se recomienda considerar este paso. En general, los métodos basados en árboles de clasificación no requieren considerar el escalamiento. En scikit - learn algunas opciones populares son: StandardScaler y MinMaxScaler.\n",
    "\n",
    "2.- Discretización de varibles continuas.\n",
    "\n",
    "3.- Transformación eliminado Outliers: Durante el análisis exploratorio de Datos que se hizo en la Tarea 1, la base puede tener incosistencias. Este tipo de cuestiones, pueden sesgar el modelo y entonces debemos tratarlos de alguna manera, es lo que se recomienda.\n",
    "\n",
    "En lo que sigue, eliminaremos los outiliers de la base de datos para tener un modelo más robusto. Crearemos una función que detecte y modifique los valores atípicos."
   ]
  },
  {
   "cell_type": "markdown",
   "id": "44f5f716",
   "metadata": {},
   "source": [
    "### Creamos nuestro propio transformador"
   ]
  },
  {
   "cell_type": "code",
   "execution_count": 78,
   "id": "639ec4be",
   "metadata": {},
   "outputs": [],
   "source": [
    "class OutlierRemover(BaseEstimator, TransformerMixin):\n",
    "    def __init__(self, n_std=3):\n",
    "        self.n_std = n_std\n",
    "    \n",
    "    def fit(self, X, y = None):\n",
    "        if np.isnan(X).any(axis=None):\n",
    "            raise ValueError('''There are missing values in the array! \n",
    "                                Please remove them.''')\n",
    "\n",
    "        mean_vec = np.mean(X, axis=0)\n",
    "        std_vec = np.std(X, axis=0)\n",
    "        \n",
    "        self.upper_band_ = mean_vec + self.n_std * std_vec\n",
    "        self.lower_band_ = mean_vec - self.n_std * std_vec\n",
    "        self.n_features_ = len(self.upper_band_)\n",
    "        \n",
    "        return self \n",
    "    \n",
    "    def transform(self, X, y = None):\n",
    "        X_copy = pd.DataFrame(X.copy())\n",
    "        \n",
    "        upper_band = np.repeat(\n",
    "            self.upper_band_.reshape(self.n_features_, -1), \n",
    "            len(X_copy), \n",
    "            axis=1).transpose()\n",
    "        lower_band = np.repeat(\n",
    "            self.lower_band_.reshape(self.n_features_, -1), \n",
    "            len(X_copy), \n",
    "            axis=1).transpose()\n",
    "        \n",
    "        X_copy[X_copy >= upper_band] = upper_band\n",
    "        X_copy[X_copy <= lower_band] = lower_band\n",
    "        \n",
    "        return X_copy.values\n",
    "\n"
   ]
  },
  {
   "cell_type": "markdown",
   "id": "5aeacc1e",
   "metadata": {},
   "source": [
    "### Realizamos de nuevo el proceso anterior, pero usando un Pipeline que use nuestro Transformador"
   ]
  },
  {
   "cell_type": "code",
   "execution_count": 79,
   "id": "1b1ace4c",
   "metadata": {},
   "outputs": [],
   "source": [
    "num_pipeline = Pipeline(steps=[\n",
    "    ('imputer', SimpleImputer(strategy='median')),\n",
    "    ('outliers', OutlierRemover())])\n",
    "\n",
    "# Modificamos nuestro Pipeline para var númericas"
   ]
  },
  {
   "cell_type": "code",
   "execution_count": 80,
   "id": "655bbdf6",
   "metadata": {},
   "outputs": [],
   "source": [
    "full_pipeline2 = ColumnTransformer(transformers=[('numerical', num_pipeline, num_features),\n",
    "                                               ('categorical', cat_pipeline, cat_features)],\n",
    "                                 remainder='drop')\n",
    "\n",
    "dec_tree2 = DecisionTreeClassifier(random_state=42)\n",
    "\n",
    "tree_pipeline2= Pipeline(steps=[('preprocessor', full_pipeline2),\n",
    "                                ('classifier', dec_tree2)])"
   ]
  },
  {
   "cell_type": "code",
   "execution_count": 81,
   "id": "f10b176b",
   "metadata": {},
   "outputs": [
    {
     "data": {
      "text/plain": [
       "Pipeline(steps=[('preprocessor',\n",
       "                 ColumnTransformer(transformers=[('numerical',\n",
       "                                                  Pipeline(steps=[('imputer',\n",
       "                                                                   SimpleImputer(strategy='median')),\n",
       "                                                                  ('outliers',\n",
       "                                                                   OutlierRemover())]),\n",
       "                                                  ['num_caso', 'tiempo_adeudo',\n",
       "                                                   'num_retrasos',\n",
       "                                                   'comp_interno1']),\n",
       "                                                 ('categorical',\n",
       "                                                  Pipeline(steps=[('imputer',\n",
       "                                                                   SimpleImputer(strategy='most_frequent')),\n",
       "                                                                  ('onehot',\n",
       "                                                                   OneHotEncoder(categories=[],\n",
       "                                                                                 drop='first',\n",
       "                                                                                 sparse=False))]),\n",
       "                                                  [])])),\n",
       "                ('classifier', DecisionTreeClassifier(random_state=42))])"
      ]
     },
     "execution_count": 81,
     "metadata": {},
     "output_type": "execute_result"
    }
   ],
   "source": [
    "tree_pipeline2.fit(X_train, y_train)"
   ]
  },
  {
   "cell_type": "markdown",
   "id": "1fab01e9",
   "metadata": {},
   "source": [
    "### Confusion Matrix y ROC curve - Segundo modelo"
   ]
  },
  {
   "cell_type": "code",
   "execution_count": 82,
   "id": "26d12516",
   "metadata": {},
   "outputs": [
    {
     "data": {
      "text/plain": [
       "{'accuracy': 0.9917,\n",
       " 'precision': 0.9954487722269263,\n",
       " 'recall': 0.995764955002647,\n",
       " 'specificity': 0.9225225225225225,\n",
       " 'f1_score': 0.9956068385116181,\n",
       " 'cohens_kappa': 0.9206294562257107,\n",
       " 'roc_auc': 0.9591437387625847,\n",
       " 'pr_auc': 0.9976068636147866}"
      ]
     },
     "execution_count": 82,
     "metadata": {},
     "output_type": "execute_result"
    },
    {
     "data": {
      "image/png": "[encoded data removed]",
      "text/plain": [
       "<Figure size 864x432 with 2 Axes>"
      ]
     },
     "metadata": {
      "needs_background": "light"
     },
     "output_type": "display_data"
    }
   ],
   "source": [
    "performance_evaluation_report(tree_pipeline2, X_test, y_test, labels=LABELS, show_plot=True)"
   ]
  },
  {
   "cell_type": "markdown",
   "id": "3f6cc519",
   "metadata": {},
   "source": [
    "### Realizamos Cross Validation sólo en el árbol"
   ]
  },
  {
   "cell_type": "code",
   "execution_count": 83,
   "id": "3116a599",
   "metadata": {},
   "outputs": [],
   "source": [
    "k_fold = StratifiedKFold(5, shuffle=True, random_state=42)"
   ]
  },
  {
   "cell_type": "code",
   "execution_count": 84,
   "id": "e9c5806d",
   "metadata": {},
   "outputs": [
    {
     "data": {
      "text/plain": [
       "array([0.99325 , 0.99275 , 0.992   , 0.99225 , 0.992125])"
      ]
     },
     "execution_count": 84,
     "metadata": {},
     "output_type": "execute_result"
    }
   ],
   "source": [
    "cross_val_score(tree_pipeline2, X_train, y_train, cv=k_fold)"
   ]
  },
  {
   "cell_type": "code",
   "execution_count": 85,
   "id": "0b01f8d5",
   "metadata": {},
   "outputs": [
    {
     "data": {
      "text/plain": [
       "{'fit_time': array([0.08069992, 0.08278561, 0.079705  , 0.08320093, 0.08562303]),\n",
       " 'score_time': array([0.02687001, 0.02792025, 0.02975488, 0.0276041 , 0.028826  ]),\n",
       " 'test_accuracy': array([0.99325 , 0.99275 , 0.992   , 0.99225 , 0.992125]),\n",
       " 'test_precision': array([0.99655811, 0.99616199, 0.99642195, 0.99642289, 0.99458746]),\n",
       " 'test_recall': array([0.99629434, 0.99616199, 0.99510323, 0.99536792, 0.99708841]),\n",
       " 'test_roc_auc': array([0.96886789, 0.96542334, 0.96714621, 0.96727855, 0.95237303])}"
      ]
     },
     "execution_count": 85,
     "metadata": {},
     "output_type": "execute_result"
    }
   ],
   "source": [
    "cross_validate(tree_pipeline2, X_train, y_train, cv=k_fold,\n",
    "                           scoring=['accuracy', 'precision', 'recall','roc_auc'])"
   ]
  },
  {
   "cell_type": "code",
   "execution_count": 86,
   "id": "2120cacc",
   "metadata": {},
   "outputs": [],
   "source": [
    "param_grid = {'classifier__criterion': ['entropy', 'gini'],\n",
    "               'classifier__max_depth': range(3, 11),\n",
    "               'classifier__min_samples_leaf': range(2, 11)}"
   ]
  },
  {
   "cell_type": "code",
   "execution_count": 87,
   "id": "a1d042fd",
   "metadata": {},
   "outputs": [
    {
     "name": "stdout",
     "output_type": "stream",
     "text": [
      "Fitting 5 folds for each of 144 candidates, totalling 720 fits\n"
     ]
    },
    {
     "data": {
      "text/plain": [
       "GridSearchCV(cv=StratifiedKFold(n_splits=5, random_state=42, shuffle=True),\n",
       "             estimator=Pipeline(steps=[('preprocessor',\n",
       "                                        ColumnTransformer(transformers=[('numerical',\n",
       "                                                                         Pipeline(steps=[('imputer',\n",
       "                                                                                          SimpleImputer(strategy='median')),\n",
       "                                                                                         ('outliers',\n",
       "                                                                                          OutlierRemover())]),\n",
       "                                                                         ['num_caso',\n",
       "                                                                          'tiempo_adeudo',\n",
       "                                                                          'num_retrasos',\n",
       "                                                                          'comp_interno1']),\n",
       "                                                                        ('categorical',\n",
       "                                                                         Pipeline(steps=[('imputer',\n",
       "                                                                                          SimpleImputer(strategy='most_frequent')),\n",
       "                                                                                         ('onehot',\n",
       "                                                                                          OneHotEncoder(categories=[],\n",
       "                                                                                                        drop='first',\n",
       "                                                                                                        sparse=False))]),\n",
       "                                                                         [])])),\n",
       "                                       ('classifier',\n",
       "                                        DecisionTreeClassifier(random_state=42))]),\n",
       "             n_jobs=-1,\n",
       "             param_grid={'classifier__criterion': ['entropy', 'gini'],\n",
       "                         'classifier__max_depth': range(3, 11),\n",
       "                         'classifier__min_samples_leaf': range(2, 11)},\n",
       "             scoring='recall', verbose=1)"
      ]
     },
     "execution_count": 87,
     "metadata": {},
     "output_type": "execute_result"
    }
   ],
   "source": [
    "classifier_gs = GridSearchCV(tree_pipeline2, param_grid,scoring='recall',cv=k_fold, n_jobs=-1, verbose=1)\n",
    "classifier_gs.fit(X_train, y_train)"
   ]
  },
  {
   "cell_type": "markdown",
   "id": "ab31b884",
   "metadata": {},
   "source": [
    "### Vemos cuales son los mejores parámetros"
   ]
  },
  {
   "cell_type": "code",
   "execution_count": 88,
   "id": "fbfac5b4",
   "metadata": {},
   "outputs": [
    {
     "name": "stdout",
     "output_type": "stream",
     "text": [
      "Best parameters: {'classifier__criterion': 'gini', 'classifier__max_depth': 4, 'classifier__min_samples_leaf': 2}\n",
      "Recall (Training set): 0.9984\n",
      "Recall (Test set): 0.9979\n"
     ]
    }
   ],
   "source": [
    "print(f'Best parameters: {classifier_gs.best_params_}') \n",
    "print(f'Recall (Training set): {classifier_gs.best_score_:.4f}') \n",
    "print(f'Recall (Test set): {metrics.recall_score(y_test, classifier_gs.predict(X_test)):.4f}')"
   ]
  },
  {
   "cell_type": "code",
   "execution_count": 89,
   "id": "f2471ed9",
   "metadata": {},
   "outputs": [
    {
     "data": {
      "image/png": "[encoded data removed]",
      "text/plain": [
       "<Figure size 864x432 with 2 Axes>"
      ]
     },
     "metadata": {
      "needs_background": "light"
     },
     "output_type": "display_data"
    }
   ],
   "source": [
    "LABELS = ['No Default', 'Default']\n",
    "tree_gs_perf = performance_evaluation_report(classifier_gs, X_test, \n",
    "                                             y_test, labels=LABELS, \n",
    "                                             show_plot=True)\n",
    "\n",
    "plt.tight_layout()\n",
    "#plt.savefig('images/ch8_im20.png')\n",
    "plt.show()"
   ]
  },
  {
   "cell_type": "code",
   "execution_count": 90,
   "id": "ac881099",
   "metadata": {},
   "outputs": [],
   "source": [
    "from sklearn.metrics import roc_auc_score, roc_curve, mean_squared_error, precision_recall_curve,  accuracy_score"
   ]
  },
  {
   "cell_type": "code",
   "execution_count": 91,
   "id": "a9ec5756",
   "metadata": {},
   "outputs": [
    {
     "name": "stdout",
     "output_type": "stream",
     "text": [
      "1 2 3 4 5 6 7 8 9 10 11 12 13 14 15 16 17 18 19 20 21 22 23 24 25 "
     ]
    }
   ],
   "source": [
    "train_scores, val_scores, leaves = {}, {}, {}\n",
    "for max_depth in range(1, 26):\n",
    "    print(max_depth, end=' ', flush=True)\n",
    "    reg_tree = DecisionTreeClassifier(criterion='gini',\n",
    "                                          max_depth=max_depth,\n",
    "                                          min_samples_leaf=10,\n",
    "                                          random_state=42)\n",
    "    tree_pipeline = Pipeline(steps=[('preprocessor', full_pipeline2),('classifier', reg_tree)])\n",
    "    train_scores[max_depth], val_scores[max_depth], leaves[max_depth] = [],[], []\n",
    "    \n",
    "    for train_idx, test_idx in k_fold.split(X_train,y_train):\n",
    "        X_t, y_t,  = X_train.iloc[train_idx], y_train.iloc[train_idx]\n",
    "        X_te, y_te = X_train.iloc[test_idx], y_train.iloc[test_idx]\n",
    "        tree_pipeline.fit(X_t, y_t)\n",
    "        train_pred = tree_pipeline.predict_proba(X=X_t)[:, 1]\n",
    "        train_score = roc_auc_score(y_score=train_pred, y_true=y_t)\n",
    "        train_scores[max_depth].append(train_score)\n",
    "\n",
    "        test_pred = tree_pipeline.predict_proba(X=X_te)[:, 1]\n",
    "        val_score = roc_auc_score(y_score=test_pred, y_true=y_te)\n",
    "        val_scores[max_depth].append(val_score)  \n",
    "        leaves[max_depth].append(max_depth)"
   ]
  },
  {
   "cell_type": "code",
   "execution_count": 92,
   "id": "87903f94",
   "metadata": {},
   "outputs": [],
   "source": [
    "clf_train_scores = pd.DataFrame(train_scores)\n",
    "clf_valid_scores = pd.DataFrame(val_scores)\n",
    "bd_leaves = pd.DataFrame(leaves)"
   ]
  },
  {
   "cell_type": "code",
   "execution_count": 93,
   "id": "124b55cb",
   "metadata": {},
   "outputs": [
    {
     "data": {
      "text/plain": [
       "{1: [1, 1, 1, 1, 1],\n",
       " 2: [2, 2, 2, 2, 2],\n",
       " 3: [3, 3, 3, 3, 3],\n",
       " 4: [4, 4, 4, 4, 4],\n",
       " 5: [5, 5, 5, 5, 5],\n",
       " 6: [6, 6, 6, 6, 6],\n",
       " 7: [7, 7, 7, 7, 7],\n",
       " 8: [8, 8, 8, 8, 8],\n",
       " 9: [9, 9, 9, 9, 9],\n",
       " 10: [10, 10, 10, 10, 10],\n",
       " 11: [11, 11, 11, 11, 11],\n",
       " 12: [12, 12, 12, 12, 12],\n",
       " 13: [13, 13, 13, 13, 13],\n",
       " 14: [14, 14, 14, 14, 14],\n",
       " 15: [15, 15, 15, 15, 15],\n",
       " 16: [16, 16, 16, 16, 16],\n",
       " 17: [17, 17, 17, 17, 17],\n",
       " 18: [18, 18, 18, 18, 18],\n",
       " 19: [19, 19, 19, 19, 19],\n",
       " 20: [20, 20, 20, 20, 20],\n",
       " 21: [21, 21, 21, 21, 21],\n",
       " 22: [22, 22, 22, 22, 22],\n",
       " 23: [23, 23, 23, 23, 23],\n",
       " 24: [24, 24, 24, 24, 24],\n",
       " 25: [25, 25, 25, 25, 25]}"
      ]
     },
     "execution_count": 93,
     "metadata": {},
     "output_type": "execute_result"
    }
   ],
   "source": [
    "leaves"
   ]
  },
  {
   "cell_type": "code",
   "execution_count": 94,
   "id": "292820a9",
   "metadata": {},
   "outputs": [
    {
     "data": {
      "text/html": [
       "<div>\n",
       "<style scoped>\n",
       "    .dataframe tbody tr th:only-of-type {\n",
       "        vertical-align: middle;\n",
       "    }\n",
       "\n",
       "    .dataframe tbody tr th {\n",
       "        vertical-align: top;\n",
       "    }\n",
       "\n",
       "    .dataframe thead th {\n",
       "        text-align: right;\n",
       "    }\n",
       "</style>\n",
       "<table border=\"1\" class=\"dataframe\">\n",
       "  <thead>\n",
       "    <tr style=\"text-align: right;\">\n",
       "      <th></th>\n",
       "      <th>1</th>\n",
       "      <th>2</th>\n",
       "      <th>3</th>\n",
       "      <th>4</th>\n",
       "      <th>5</th>\n",
       "      <th>6</th>\n",
       "      <th>7</th>\n",
       "      <th>8</th>\n",
       "      <th>9</th>\n",
       "      <th>10</th>\n",
       "      <th>...</th>\n",
       "      <th>16</th>\n",
       "      <th>17</th>\n",
       "      <th>18</th>\n",
       "      <th>19</th>\n",
       "      <th>20</th>\n",
       "      <th>21</th>\n",
       "      <th>22</th>\n",
       "      <th>23</th>\n",
       "      <th>24</th>\n",
       "      <th>25</th>\n",
       "    </tr>\n",
       "  </thead>\n",
       "  <tbody>\n",
       "    <tr>\n",
       "      <th>0</th>\n",
       "      <td>0.798327</td>\n",
       "      <td>0.912983</td>\n",
       "      <td>0.930729</td>\n",
       "      <td>0.964347</td>\n",
       "      <td>0.975245</td>\n",
       "      <td>0.979681</td>\n",
       "      <td>0.989807</td>\n",
       "      <td>0.994008</td>\n",
       "      <td>0.996940</td>\n",
       "      <td>0.998761</td>\n",
       "      <td>...</td>\n",
       "      <td>0.999575</td>\n",
       "      <td>0.999582</td>\n",
       "      <td>0.999585</td>\n",
       "      <td>0.999585</td>\n",
       "      <td>0.999585</td>\n",
       "      <td>0.999585</td>\n",
       "      <td>0.999585</td>\n",
       "      <td>0.999585</td>\n",
       "      <td>0.999585</td>\n",
       "      <td>0.999585</td>\n",
       "    </tr>\n",
       "    <tr>\n",
       "      <th>1</th>\n",
       "      <td>0.803096</td>\n",
       "      <td>0.911023</td>\n",
       "      <td>0.930465</td>\n",
       "      <td>0.942675</td>\n",
       "      <td>0.974841</td>\n",
       "      <td>0.981058</td>\n",
       "      <td>0.986494</td>\n",
       "      <td>0.993381</td>\n",
       "      <td>0.995421</td>\n",
       "      <td>0.997292</td>\n",
       "      <td>...</td>\n",
       "      <td>0.999596</td>\n",
       "      <td>0.999597</td>\n",
       "      <td>0.999597</td>\n",
       "      <td>0.999597</td>\n",
       "      <td>0.999597</td>\n",
       "      <td>0.999597</td>\n",
       "      <td>0.999597</td>\n",
       "      <td>0.999597</td>\n",
       "      <td>0.999597</td>\n",
       "      <td>0.999597</td>\n",
       "    </tr>\n",
       "    <tr>\n",
       "      <th>2</th>\n",
       "      <td>0.801771</td>\n",
       "      <td>0.911947</td>\n",
       "      <td>0.929732</td>\n",
       "      <td>0.940782</td>\n",
       "      <td>0.973340</td>\n",
       "      <td>0.981132</td>\n",
       "      <td>0.986470</td>\n",
       "      <td>0.992140</td>\n",
       "      <td>0.997550</td>\n",
       "      <td>0.999361</td>\n",
       "      <td>...</td>\n",
       "      <td>0.999629</td>\n",
       "      <td>0.999629</td>\n",
       "      <td>0.999629</td>\n",
       "      <td>0.999629</td>\n",
       "      <td>0.999629</td>\n",
       "      <td>0.999629</td>\n",
       "      <td>0.999629</td>\n",
       "      <td>0.999629</td>\n",
       "      <td>0.999629</td>\n",
       "      <td>0.999629</td>\n",
       "    </tr>\n",
       "    <tr>\n",
       "      <th>3</th>\n",
       "      <td>0.794219</td>\n",
       "      <td>0.909129</td>\n",
       "      <td>0.928593</td>\n",
       "      <td>0.941562</td>\n",
       "      <td>0.974889</td>\n",
       "      <td>0.981050</td>\n",
       "      <td>0.986553</td>\n",
       "      <td>0.993220</td>\n",
       "      <td>0.994887</td>\n",
       "      <td>0.996889</td>\n",
       "      <td>...</td>\n",
       "      <td>0.999593</td>\n",
       "      <td>0.999593</td>\n",
       "      <td>0.999593</td>\n",
       "      <td>0.999593</td>\n",
       "      <td>0.999593</td>\n",
       "      <td>0.999593</td>\n",
       "      <td>0.999593</td>\n",
       "      <td>0.999593</td>\n",
       "      <td>0.999593</td>\n",
       "      <td>0.999593</td>\n",
       "    </tr>\n",
       "    <tr>\n",
       "      <th>4</th>\n",
       "      <td>0.801605</td>\n",
       "      <td>0.909871</td>\n",
       "      <td>0.930688</td>\n",
       "      <td>0.941907</td>\n",
       "      <td>0.974680</td>\n",
       "      <td>0.980587</td>\n",
       "      <td>0.986290</td>\n",
       "      <td>0.993137</td>\n",
       "      <td>0.995074</td>\n",
       "      <td>0.996936</td>\n",
       "      <td>...</td>\n",
       "      <td>0.999613</td>\n",
       "      <td>0.999613</td>\n",
       "      <td>0.999613</td>\n",
       "      <td>0.999613</td>\n",
       "      <td>0.999613</td>\n",
       "      <td>0.999613</td>\n",
       "      <td>0.999613</td>\n",
       "      <td>0.999613</td>\n",
       "      <td>0.999613</td>\n",
       "      <td>0.999613</td>\n",
       "    </tr>\n",
       "  </tbody>\n",
       "</table>\n",
       "<p>5 rows × 25 columns</p>\n",
       "</div>"
      ],
      "text/plain": [
       "         1         2         3         4         5         6         7   \\\n",
       "0  0.798327  0.912983  0.930729  0.964347  0.975245  0.979681  0.989807   \n",
       "1  0.803096  0.911023  0.930465  0.942675  0.974841  0.981058  0.986494   \n",
       "2  0.801771  0.911947  0.929732  0.940782  0.973340  0.981132  0.986470   \n",
       "3  0.794219  0.909129  0.928593  0.941562  0.974889  0.981050  0.986553   \n",
       "4  0.801605  0.909871  0.930688  0.941907  0.974680  0.980587  0.986290   \n",
       "\n",
       "         8         9         10  ...        16        17        18        19  \\\n",
       "0  0.994008  0.996940  0.998761  ...  0.999575  0.999582  0.999585  0.999585   \n",
       "1  0.993381  0.995421  0.997292  ...  0.999596  0.999597  0.999597  0.999597   \n",
       "2  0.992140  0.997550  0.999361  ...  0.999629  0.999629  0.999629  0.999629   \n",
       "3  0.993220  0.994887  0.996889  ...  0.999593  0.999593  0.999593  0.999593   \n",
       "4  0.993137  0.995074  0.996936  ...  0.999613  0.999613  0.999613  0.999613   \n",
       "\n",
       "         20        21        22        23        24        25  \n",
       "0  0.999585  0.999585  0.999585  0.999585  0.999585  0.999585  \n",
       "1  0.999597  0.999597  0.999597  0.999597  0.999597  0.999597  \n",
       "2  0.999629  0.999629  0.999629  0.999629  0.999629  0.999629  \n",
       "3  0.999593  0.999593  0.999593  0.999593  0.999593  0.999593  \n",
       "4  0.999613  0.999613  0.999613  0.999613  0.999613  0.999613  \n",
       "\n",
       "[5 rows x 25 columns]"
      ]
     },
     "execution_count": 94,
     "metadata": {},
     "output_type": "execute_result"
    }
   ],
   "source": [
    "clf_train_scores"
   ]
  },
  {
   "cell_type": "code",
   "execution_count": 95,
   "id": "8aab2417",
   "metadata": {},
   "outputs": [
    {
     "data": {
      "text/html": [
       "<div>\n",
       "<style scoped>\n",
       "    .dataframe tbody tr th:only-of-type {\n",
       "        vertical-align: middle;\n",
       "    }\n",
       "\n",
       "    .dataframe tbody tr th {\n",
       "        vertical-align: top;\n",
       "    }\n",
       "\n",
       "    .dataframe thead th {\n",
       "        text-align: right;\n",
       "    }\n",
       "</style>\n",
       "<table border=\"1\" class=\"dataframe\">\n",
       "  <thead>\n",
       "    <tr style=\"text-align: right;\">\n",
       "      <th></th>\n",
       "      <th>1</th>\n",
       "      <th>2</th>\n",
       "      <th>3</th>\n",
       "      <th>4</th>\n",
       "      <th>5</th>\n",
       "      <th>6</th>\n",
       "      <th>7</th>\n",
       "      <th>8</th>\n",
       "      <th>9</th>\n",
       "      <th>10</th>\n",
       "      <th>...</th>\n",
       "      <th>16</th>\n",
       "      <th>17</th>\n",
       "      <th>18</th>\n",
       "      <th>19</th>\n",
       "      <th>20</th>\n",
       "      <th>21</th>\n",
       "      <th>22</th>\n",
       "      <th>23</th>\n",
       "      <th>24</th>\n",
       "      <th>25</th>\n",
       "    </tr>\n",
       "  </thead>\n",
       "  <tbody>\n",
       "    <tr>\n",
       "      <th>0</th>\n",
       "      <td>0.805712</td>\n",
       "      <td>0.903003</td>\n",
       "      <td>0.927269</td>\n",
       "      <td>0.953915</td>\n",
       "      <td>0.974608</td>\n",
       "      <td>0.982418</td>\n",
       "      <td>0.990244</td>\n",
       "      <td>0.995448</td>\n",
       "      <td>0.997411</td>\n",
       "      <td>0.998460</td>\n",
       "      <td>...</td>\n",
       "      <td>0.998150</td>\n",
       "      <td>0.998169</td>\n",
       "      <td>0.998175</td>\n",
       "      <td>0.998175</td>\n",
       "      <td>0.998175</td>\n",
       "      <td>0.998175</td>\n",
       "      <td>0.998175</td>\n",
       "      <td>0.998175</td>\n",
       "      <td>0.998175</td>\n",
       "      <td>0.998175</td>\n",
       "    </tr>\n",
       "    <tr>\n",
       "      <th>1</th>\n",
       "      <td>0.786635</td>\n",
       "      <td>0.910867</td>\n",
       "      <td>0.928335</td>\n",
       "      <td>0.937693</td>\n",
       "      <td>0.973097</td>\n",
       "      <td>0.981387</td>\n",
       "      <td>0.984425</td>\n",
       "      <td>0.992116</td>\n",
       "      <td>0.993838</td>\n",
       "      <td>0.995507</td>\n",
       "      <td>...</td>\n",
       "      <td>0.998912</td>\n",
       "      <td>0.998915</td>\n",
       "      <td>0.998915</td>\n",
       "      <td>0.998915</td>\n",
       "      <td>0.998915</td>\n",
       "      <td>0.998915</td>\n",
       "      <td>0.998915</td>\n",
       "      <td>0.998915</td>\n",
       "      <td>0.998915</td>\n",
       "      <td>0.998915</td>\n",
       "    </tr>\n",
       "    <tr>\n",
       "      <th>2</th>\n",
       "      <td>0.791934</td>\n",
       "      <td>0.907155</td>\n",
       "      <td>0.931206</td>\n",
       "      <td>0.945218</td>\n",
       "      <td>0.975597</td>\n",
       "      <td>0.981159</td>\n",
       "      <td>0.984703</td>\n",
       "      <td>0.989024</td>\n",
       "      <td>0.996576</td>\n",
       "      <td>0.996528</td>\n",
       "      <td>...</td>\n",
       "      <td>0.996880</td>\n",
       "      <td>0.996880</td>\n",
       "      <td>0.996880</td>\n",
       "      <td>0.996880</td>\n",
       "      <td>0.996880</td>\n",
       "      <td>0.996880</td>\n",
       "      <td>0.996880</td>\n",
       "      <td>0.996880</td>\n",
       "      <td>0.996880</td>\n",
       "      <td>0.996880</td>\n",
       "    </tr>\n",
       "    <tr>\n",
       "      <th>3</th>\n",
       "      <td>0.822141</td>\n",
       "      <td>0.918488</td>\n",
       "      <td>0.935868</td>\n",
       "      <td>0.942175</td>\n",
       "      <td>0.974106</td>\n",
       "      <td>0.978678</td>\n",
       "      <td>0.985224</td>\n",
       "      <td>0.991849</td>\n",
       "      <td>0.993159</td>\n",
       "      <td>0.995756</td>\n",
       "      <td>...</td>\n",
       "      <td>0.997901</td>\n",
       "      <td>0.997901</td>\n",
       "      <td>0.997901</td>\n",
       "      <td>0.997901</td>\n",
       "      <td>0.997901</td>\n",
       "      <td>0.997901</td>\n",
       "      <td>0.997901</td>\n",
       "      <td>0.997901</td>\n",
       "      <td>0.997901</td>\n",
       "      <td>0.997901</td>\n",
       "    </tr>\n",
       "    <tr>\n",
       "      <th>4</th>\n",
       "      <td>0.792597</td>\n",
       "      <td>0.915474</td>\n",
       "      <td>0.927384</td>\n",
       "      <td>0.940743</td>\n",
       "      <td>0.974893</td>\n",
       "      <td>0.980459</td>\n",
       "      <td>0.982075</td>\n",
       "      <td>0.990382</td>\n",
       "      <td>0.992489</td>\n",
       "      <td>0.994776</td>\n",
       "      <td>...</td>\n",
       "      <td>0.996885</td>\n",
       "      <td>0.996885</td>\n",
       "      <td>0.996885</td>\n",
       "      <td>0.996885</td>\n",
       "      <td>0.996885</td>\n",
       "      <td>0.996885</td>\n",
       "      <td>0.996885</td>\n",
       "      <td>0.996885</td>\n",
       "      <td>0.996885</td>\n",
       "      <td>0.996885</td>\n",
       "    </tr>\n",
       "  </tbody>\n",
       "</table>\n",
       "<p>5 rows × 25 columns</p>\n",
       "</div>"
      ],
      "text/plain": [
       "         1         2         3         4         5         6         7   \\\n",
       "0  0.805712  0.903003  0.927269  0.953915  0.974608  0.982418  0.990244   \n",
       "1  0.786635  0.910867  0.928335  0.937693  0.973097  0.981387  0.984425   \n",
       "2  0.791934  0.907155  0.931206  0.945218  0.975597  0.981159  0.984703   \n",
       "3  0.822141  0.918488  0.935868  0.942175  0.974106  0.978678  0.985224   \n",
       "4  0.792597  0.915474  0.927384  0.940743  0.974893  0.980459  0.982075   \n",
       "\n",
       "         8         9         10  ...        16        17        18        19  \\\n",
       "0  0.995448  0.997411  0.998460  ...  0.998150  0.998169  0.998175  0.998175   \n",
       "1  0.992116  0.993838  0.995507  ...  0.998912  0.998915  0.998915  0.998915   \n",
       "2  0.989024  0.996576  0.996528  ...  0.996880  0.996880  0.996880  0.996880   \n",
       "3  0.991849  0.993159  0.995756  ...  0.997901  0.997901  0.997901  0.997901   \n",
       "4  0.990382  0.992489  0.994776  ...  0.996885  0.996885  0.996885  0.996885   \n",
       "\n",
       "         20        21        22        23        24        25  \n",
       "0  0.998175  0.998175  0.998175  0.998175  0.998175  0.998175  \n",
       "1  0.998915  0.998915  0.998915  0.998915  0.998915  0.998915  \n",
       "2  0.996880  0.996880  0.996880  0.996880  0.996880  0.996880  \n",
       "3  0.997901  0.997901  0.997901  0.997901  0.997901  0.997901  \n",
       "4  0.996885  0.996885  0.996885  0.996885  0.996885  0.996885  \n",
       "\n",
       "[5 rows x 25 columns]"
      ]
     },
     "execution_count": 95,
     "metadata": {},
     "output_type": "execute_result"
    }
   ],
   "source": [
    "clf_valid_scores"
   ]
  },
  {
   "cell_type": "code",
   "execution_count": 96,
   "id": "5da16b3c",
   "metadata": {},
   "outputs": [],
   "source": [
    "roc_entrenamiento=[]\n",
    "for c in clf_train_scores.columns:\n",
    "    promedio_roc=mean(clf_train_scores[c])\n",
    "    roc_entrenamiento.append(promedio_roc)\n",
    "    \n",
    "roc_validacion=[]\n",
    "for c in clf_valid_scores.columns:\n",
    "    promedio_roc=mean(clf_valid_scores[c])\n",
    "    roc_validacion.append(promedio_roc)\n",
    "\n",
    "prof=[]\n",
    "for c in bd_leaves.columns:\n",
    "    id_=mean(bd_leaves[c])\n",
    "    prof.append(id_)"
   ]
  },
  {
   "cell_type": "code",
   "execution_count": 97,
   "id": "4ca52e04",
   "metadata": {},
   "outputs": [
    {
     "data": {
      "text/plain": [
       "[0.7998036284034166,\n",
       " 0.910990546114537,\n",
       " 0.9300413854332099,\n",
       " 0.9462545128505955,\n",
       " 0.9745990243568741,\n",
       " 0.9807016413332998,\n",
       " 0.9871228069900896,\n",
       " 0.9931772159765642,\n",
       " 0.9959745052258452,\n",
       " 0.9978475245196229,\n",
       " 0.9991228146655127,\n",
       " 0.9995348973162548,\n",
       " 0.999586279801506,\n",
       " 0.9995922003097591,\n",
       " 0.9995982065144817,\n",
       " 0.9996010978388394,\n",
       " 0.9996027726459256,\n",
       " 0.9996033203581428,\n",
       " 0.9996033203581428,\n",
       " 0.9996033203581428,\n",
       " 0.9996033203581428,\n",
       " 0.9996033203581428,\n",
       " 0.9996033203581428,\n",
       " 0.9996033203581428,\n",
       " 0.9996033203581428]"
      ]
     },
     "execution_count": 97,
     "metadata": {},
     "output_type": "execute_result"
    }
   ],
   "source": [
    "roc_entrenamiento"
   ]
  },
  {
   "cell_type": "code",
   "execution_count": 98,
   "id": "c52a10f9",
   "metadata": {},
   "outputs": [
    {
     "data": {
      "text/plain": [
       "[0.7998036284034167,\n",
       " 0.910997375750552,\n",
       " 0.9300124237524978,\n",
       " 0.9439487561939917,\n",
       " 0.9744601271467339,\n",
       " 0.980820355161938,\n",
       " 0.985334338441141,\n",
       " 0.9917639582409302,\n",
       " 0.9946946582633454,\n",
       " 0.9962054795663848,\n",
       " 0.9975053832286495,\n",
       " 0.9979663557151646,\n",
       " 0.9977526957873704,\n",
       " 0.9977478967850859,\n",
       " 0.9977472708282662,\n",
       " 0.9977456314175479,\n",
       " 0.9977498640779479,\n",
       " 0.9977510563766521,\n",
       " 0.9977510563766521,\n",
       " 0.9977510563766521,\n",
       " 0.9977510563766521,\n",
       " 0.9977510563766521,\n",
       " 0.9977510563766521,\n",
       " 0.9977510563766521,\n",
       " 0.9977510563766521]"
      ]
     },
     "execution_count": 98,
     "metadata": {},
     "output_type": "execute_result"
    }
   ],
   "source": [
    "roc_validacion"
   ]
  },
  {
   "cell_type": "code",
   "execution_count": 99,
   "id": "f380f247",
   "metadata": {},
   "outputs": [
    {
     "data": {
      "image/png": "[encoded data removed]",
      "text/plain": [
       "<Figure size 720x360 with 1 Axes>"
      ]
     },
     "metadata": {
      "needs_background": "light"
     },
     "output_type": "display_data"
    }
   ],
   "source": [
    "fig, ax = plt.subplots(figsize=(10,5))\n",
    "\n",
    "ax.set_title(\"Entrenamiento Validación Sesgo\",fontsize=20)\n",
    "ax.plot(prof,roc_entrenamiento,color=\"yellow\",linewidth=3,label=\"Entrenamiento\")\n",
    "ax.plot(prof,roc_validacion,color=\"red\",linewidth=3,label=\"Validacion\")\n",
    "xticks(fontsize=16)\n",
    "yticks(fontsize=16)\n",
    "axvline(4)\n",
    "legend(fontsize=15)\n",
    "show()"
   ]
  },
  {
   "cell_type": "code",
   "execution_count": 100,
   "id": "bbcd1db9",
   "metadata": {},
   "outputs": [],
   "source": [
    "clasifier =classifier_gs.best_params_['classifier__criterion']\n",
    "depth = classifier_gs.best_params_['classifier__max_depth']\n",
    "leafs =classifier_gs.best_params_['classifier__min_samples_leaf']"
   ]
  },
  {
   "cell_type": "code",
   "execution_count": 101,
   "id": "75c1f7ed",
   "metadata": {},
   "outputs": [
    {
     "data": {
      "image/png": "[encoded data removed]",
      "text/plain": [
       "<Figure size 864x432 with 2 Axes>"
      ]
     },
     "metadata": {
      "needs_background": "light"
     },
     "output_type": "display_data"
    },
    {
     "name": "stdout",
     "output_type": "stream",
     "text": [
      "El Gini del modelo es 0.8806196137906035\n"
     ]
    }
   ],
   "source": [
    "reg_tree = DecisionTreeClassifier(criterion=clasifier,\n",
    "                                          max_depth=depth,\n",
    "                                          min_samples_leaf=leafs,\n",
    "                                  \n",
    "                                          random_state=42)\n",
    "tree_pipeline = Pipeline(steps=[('preprocessor', full_pipeline2),('classifier', reg_tree)])\n",
    "\n",
    "tree_pipeline.fit(X_train, y_train)\n",
    "\n",
    "LABELS = ['No Default', 'Default']\n",
    "tree_gs_perf = performance_evaluation_report(tree_pipeline, X_test, \n",
    "                                             y_test, labels=LABELS, \n",
    "                                             show_plot=True)\n",
    "\n",
    "plt.tight_layout()\n",
    "#plt.savefig('images/ch8_im20.png')\n",
    "plt.show()\n",
    "print(f\"El Gini del modelo es {get_gini(tree_gs_perf)}\")"
   ]
  },
  {
   "cell_type": "code",
   "execution_count": 102,
   "id": "202781bb",
   "metadata": {},
   "outputs": [],
   "source": [
    "k_folds_list = [5, 10, 25, 50, 75, 100]\n",
    "results_k_folds = []"
   ]
  },
  {
   "cell_type": "code",
   "execution_count": 103,
   "id": "1a11f10d",
   "metadata": {},
   "outputs": [],
   "source": [
    "for k in k_folds_list:\n",
    "    k_fold_tree = StratifiedKFold(k, shuffle=True, random_state=42)\n",
    "    results_k_folds.append(cross_val_score(tree_pipeline, X_train, y_train, cv=k_fold_tree))"
   ]
  },
  {
   "cell_type": "markdown",
   "id": "52170835",
   "metadata": {},
   "source": [
    "### Veamos la media para cada uno"
   ]
  },
  {
   "cell_type": "code",
   "execution_count": 104,
   "id": "88b0cafb",
   "metadata": {},
   "outputs": [
    {
     "name": "stdout",
     "output_type": "stream",
     "text": [
      "Para k = 5 tenemos 0.9856\n",
      "Para k = 10 tenemos 0.985625\n",
      "Para k = 25 tenemos 0.9858750000000001\n",
      "Para k = 50 tenemos 0.985875\n",
      "Para k = 75 tenemos 0.9858747859734429\n",
      "Para k = 100 tenemos 0.985875\n"
     ]
    }
   ],
   "source": [
    "for i in range(6):\n",
    "    print(f\"Para k = {k_folds_list[i]} tenemos {results_k_folds[i].mean()}\")"
   ]
  },
  {
   "cell_type": "code",
   "execution_count": 105,
   "id": "33eb55d5",
   "metadata": {},
   "outputs": [
    {
     "name": "stdout",
     "output_type": "stream",
     "text": [
      "Para k = 5 tenemos [0.9875  0.98475 0.98575 0.9865  0.9835 ]\n",
      "Para k = 10 tenemos [0.9845  0.9905  0.98375 0.98575 0.98675 0.98375 0.9885  0.9845  0.984\n",
      " 0.98425]\n",
      "Para k = 25 tenemos [0.985625 0.9875   0.98625  0.9925   0.988125 0.984375 0.98375  0.984375\n",
      " 0.984375 0.986875 0.99     0.98875  0.98375  0.983125 0.985625 0.986875\n",
      " 0.98875  0.98625  0.983125 0.98625  0.983125 0.984375 0.9825   0.98875\n",
      " 0.981875]\n",
      "Para k = 50 tenemos [0.9825  0.98875 0.99125 0.98375 0.9825  0.99    0.99    0.995   0.99\n",
      " 0.98625 0.98625 0.98375 0.985   0.98125 0.9825  0.9875  0.98375 0.98375\n",
      " 0.98875 0.98625 0.99    0.99    0.98875 0.98875 0.9875  0.98    0.985\n",
      " 0.985   0.98375 0.98375 0.98375 0.99125 0.98625 0.98875 0.99125 0.9875\n",
      " 0.9825  0.97875 0.9875  0.9875  0.9775  0.985   0.98375 0.985   0.98625\n",
      " 0.97875 0.99125 0.9875  0.98375 0.97875]\n",
      "Para k = 75 tenemos [0.98127341 0.98689139 0.98876404 0.98689139 0.9906367  0.98127341\n",
      " 0.98501873 0.98876404 0.98689139 0.99250936 0.9906367  0.99250936\n",
      " 0.9906367  0.98876404 0.98127341 0.98876404 0.98501873 0.97752809\n",
      " 0.98876404 0.98689139 0.97940075 0.97940075 0.99625468 0.97940075\n",
      " 0.98127341 0.99061914 0.98311445 0.98311445 0.99249531 0.98123827\n",
      " 0.99249531 0.99061914 0.98874296 0.98874296 0.99249531 0.98686679\n",
      " 0.98686679 0.97748593 0.98686679 0.98499062 0.98311445 0.98311445\n",
      " 0.98499062 0.9793621  0.99249531 0.98123827 0.99249531 0.98874296\n",
      " 0.98311445 0.99249531 0.98874296 0.99437148 0.98499062 0.98686679\n",
      " 0.98123827 0.98123827 0.98123827 0.98686679 0.98874296 0.98686679\n",
      " 0.97748593 0.98311445 0.98311445 0.98311445 0.98686679 0.98311445\n",
      " 0.98499062 0.98123827 0.98123827 0.99061914 0.98686679 0.99061914\n",
      " 0.98874296 0.97748593 0.97748593]\n",
      "Para k = 100 tenemos [0.9825 0.9825 0.9875 0.99   0.985  0.9975 0.9825 0.985  0.98   0.985\n",
      " 0.995  0.985  0.9925 0.9875 0.995  0.995  0.99   0.99   0.99   0.9825\n",
      " 0.98   0.9925 0.9825 0.985  0.985  0.985  0.9875 0.975  0.9825 0.9825\n",
      " 0.995  0.98   0.985  0.9825 0.9925 0.975  0.9925 0.985  0.9875 0.985\n",
      " 0.9875 0.9925 0.9925 0.9875 0.99   0.9875 0.99   0.9875 0.99   0.985\n",
      " 0.9775 0.9825 0.9875 0.9825 0.985  0.985  0.9775 0.99   0.9775 0.99\n",
      " 0.9875 0.98   0.9925 0.9925 0.9775 0.9925 0.995  0.9825 0.9925 0.99\n",
      " 0.99   0.985  0.9825 0.9875 0.9775 0.98   0.985  0.99   0.9875 0.985\n",
      " 0.9825 0.9825 0.98   0.9825 0.985  0.9825 0.985  0.98   0.995  0.9775\n",
      " 0.9775 0.9825 0.995  0.9875 0.98   0.995  0.985  0.98   0.9825 0.975 ]\n"
     ]
    }
   ],
   "source": [
    "for i in range(6):\n",
    "    print(f\"Para k = {k_folds_list[i]} tenemos {results_k_folds[i]}\")"
   ]
  },
  {
   "cell_type": "code",
   "execution_count": 106,
   "id": "40c7be1c",
   "metadata": {},
   "outputs": [
    {
     "data": {
      "image/png": "[encoded data removed]",
      "text/plain": [
       "<Figure size 720x360 with 1 Axes>"
      ]
     },
     "metadata": {
      "needs_background": "light"
     },
     "output_type": "display_data"
    },
    {
     "data": {
      "image/png": "[encoded data removed]",
      "text/plain": [
       "<Figure size 720x360 with 1 Axes>"
      ]
     },
     "metadata": {
      "needs_background": "light"
     },
     "output_type": "display_data"
    },
    {
     "data": {
      "image/png": "[encoded data removed]",
      "text/plain": [
       "<Figure size 720x360 with 1 Axes>"
      ]
     },
     "metadata": {
      "needs_background": "light"
     },
     "output_type": "display_data"
    },
    {
     "data": {
      "image/png": "[encoded data removed]",
      "text/plain": [
       "<Figure size 720x360 with 1 Axes>"
      ]
     },
     "metadata": {
      "needs_background": "light"
     },
     "output_type": "display_data"
    },
    {
     "data": {
      "image/png": "[encoded data removed]",
      "text/plain": [
       "<Figure size 720x360 with 1 Axes>"
      ]
     },
     "metadata": {
      "needs_background": "light"
     },
     "output_type": "display_data"
    },
    {
     "data": {
      "image/png": "[encoded data removed]",
      "text/plain": [
       "<Figure size 720x360 with 1 Axes>"
      ]
     },
     "metadata": {
      "needs_background": "light"
     },
     "output_type": "display_data"
    }
   ],
   "source": [
    "color_list = [\"blue\", \"red\", \"yellow\", \"green\", \"cyan\", \"orange\"]\n",
    "\n",
    "for i in range(6):\n",
    "    fig, ax = plt.subplots(figsize=(10,5))\n",
    "    ax.set_title(f\"Histograma para  k ={k_folds_list[i]}\",fontsize=20)\n",
    "    sns.histplot(results_k_folds[i], color=color_list[i])"
   ]
  },
  {
   "cell_type": "markdown",
   "id": "f129560b",
   "metadata": {},
   "source": [
    "### Puntos óptimos"
   ]
  },
  {
   "cell_type": "markdown",
   "id": "0188ca9b",
   "metadata": {},
   "source": [
    "Para obtener los puntos optimos nos basamos en lo redactado en este articulo\n",
    "https://machinelearningmastery.com/threshold-moving-for-imbalanced-classification/\n",
    "\n",
    "En pocas palabras, es calcular el Índice de Youden (https://es.wikipedia.org/wiki/%C3%8Dndice_de_Youden)"
   ]
  },
  {
   "cell_type": "code",
   "execution_count": 107,
   "id": "48d19c8a",
   "metadata": {},
   "outputs": [],
   "source": [
    "def get_optimal_thershold(model, X_test, y_test):\n",
    "    y_pred = model.predict(X_test)\n",
    "    y_pred_prob = model.predict_proba(X_test)[:, 1]\n",
    "\n",
    "    fpr, tpr, thresholds = metrics.roc_curve(y_test, y_pred_prob)\n",
    "    \n",
    "    J = tpr - fpr\n",
    "    ix = np.argmax(J)\n",
    "    best_thresh = thresholds[ix]\n",
    "    \n",
    "    # plot the roc curve for the model\n",
    "    plt.plot([0,1], [0,1], linestyle='--', label='No Skill')\n",
    "    plt.plot(fpr, tpr, marker='.', label='Logistic')\n",
    "    plt.scatter(fpr[ix], tpr[ix], marker='o', color='black', label='Best')\n",
    "    # axis labels\n",
    "    plt.xlabel('False Positive Rate')\n",
    "    plt.ylabel('True Positive Rate')\n",
    "    plt.legend()\n",
    "    # show the plot\n",
    "    plt.show()\n",
    "    \n",
    "    return best_thresh"
   ]
  },
  {
   "cell_type": "code",
   "execution_count": 108,
   "id": "96f13a58",
   "metadata": {},
   "outputs": [
    {
     "data": {
      "image/png": "[encoded data removed]",
      "text/plain": [
       "<Figure size 432x288 with 1 Axes>"
      ]
     },
     "metadata": {
      "needs_background": "light"
     },
     "output_type": "display_data"
    },
    {
     "name": "stdout",
     "output_type": "stream",
     "text": [
      "El punto óptimo es: 0.9931051465156365\n"
     ]
    }
   ],
   "source": [
    "punto_optimo = get_optimal_thershold(tree_pipeline, X_test, y_test)\n",
    "print(f\"El punto óptimo es: {punto_optimo}\")"
   ]
  },
  {
   "cell_type": "code",
   "execution_count": null,
   "id": "005e5951",
   "metadata": {},
   "outputs": [],
   "source": []
  }
 ],
 "metadata": {
  "kernelspec": {
   "display_name": "Python 3",
   "language": "python",
   "name": "python3"
  },
  "language_info": {
   "codemirror_mode": {
    "name": "ipython",
    "version": 3
   },
   "file_extension": ".py",
   "mimetype": "text/x-python",
   "name": "python",
   "nbconvert_exporter": "python",
   "pygments_lexer": "ipython3",
   "version": "3.8.10"
  }
 },
 "nbformat": 4,
 "nbformat_minor": 5
}
