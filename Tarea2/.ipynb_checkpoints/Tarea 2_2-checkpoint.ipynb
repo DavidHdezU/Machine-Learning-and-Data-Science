{
 "cells": [
  {
   "cell_type": "code",
   "execution_count": 1,
   "id": "d1c5dcdb",
   "metadata": {},
   "outputs": [],
   "source": [
    "import pandas as pd\n",
    "from optbinning import OptimalBinning\n",
    "from sklearn.model_selection import train_test_split \n",
    "from sklearn.linear_model import LogisticRegression\n",
    "from sklearn.metrics import roc_curve, auc\n",
    "from sklearn.metrics import confusion_matrix\n",
    "from sklearn.model_selection import (GridSearchCV, cross_val_score,\n",
    "                                                 RandomizedSearchCV,\n",
    "                                                 cross_validate,\n",
    "                                                 StratifiedKFold)\n",
    "from statsmodels.distributions.empirical_distribution import ECDF\n",
    "from sklearn.impute import SimpleImputer\n",
    "from sklearn.preprocessing import OneHotEncoder\n",
    "from sklearn.compose import ColumnTransformer\n",
    "from sklearn.pipeline import Pipeline\n",
    "from sklearn.tree import DecisionTreeClassifier, export_graphviz\n",
    "from sklearn.base import BaseEstimator, TransformerMixin\n",
    "from scipy.stats import ks_2samp\n",
    "from pylab import* \n",
    "import seaborn as sns\n",
    "from sklearn import metrics\n",
    "import warnings\n",
    "warnings.filterwarnings('ignore')"
   ]
  },
  {
   "cell_type": "markdown",
   "id": "9cf5a7cf",
   "metadata": {},
   "source": [
    "### Creamos algunas funciones auxiliares que servirán más adelante"
   ]
  },
  {
   "cell_type": "code",
   "execution_count": 108,
   "id": "23108d8b",
   "metadata": {},
   "outputs": [],
   "source": [
    "def performance_evaluation_report(model, X_test, y_test, show_plot=False, labels=None, show_pr_curve=False):\n",
    "    '''\n",
    "    Function for creating a performance report of a classification model.\n",
    "    \n",
    "    Parameters\n",
    "    ----------\n",
    "    model : scikit-learn estimator\n",
    "        A fitted estimator for classification problems.\n",
    "    X_test : pd.DataFrame\n",
    "        DataFrame with features matching y_test\n",
    "    y_test : array/pd.Series\n",
    "        Target of a classification problem.\n",
    "    show_plot : bool\n",
    "        Flag whether to show the plot\n",
    "    labels : list\n",
    "        List with the class names.\n",
    "    show_pr_curve : bool\n",
    "        Flag whether to also show the PR-curve. For this to take effect, \n",
    "        show_plot must be True.\n",
    "        \n",
    "    Return\n",
    "    ------\n",
    "    stats : pd.Series\n",
    "        A series with the most important evaluation metrics\n",
    "    '''\n",
    "\n",
    "    y_pred = model.predict(X_test)\n",
    "    y_pred_prob = model.predict_proba(X_test)[:, 1]\n",
    "\n",
    "    cm = metrics.confusion_matrix(y_test, y_pred)\n",
    "    tn, fp, fn, tp = cm.ravel()\n",
    "\n",
    "    fpr, tpr, threshold = metrics.roc_curve(y_test, y_pred_prob)\n",
    "    roc_auc = metrics.auc(fpr, tpr)\n",
    "\n",
    "    precision, recall, thresholds = metrics.precision_recall_curve(\n",
    "        y_test, y_pred_prob)\n",
    "    pr_auc = metrics.auc(recall, precision)\n",
    "\n",
    "    if show_plot:\n",
    "\n",
    "        if labels is None:\n",
    "            labels = ['Negative', 'Positive']\n",
    "\n",
    "        N_SUBPLOTS = 3 if show_pr_curve else 2\n",
    "        PLOT_WIDTH = 15 if show_pr_curve else 12\n",
    "        PLOT_HEIGHT = 5 if show_pr_curve else 6\n",
    "\n",
    "        fig, ax = plt.subplots(\n",
    "            1, N_SUBPLOTS, figsize=(PLOT_WIDTH, PLOT_HEIGHT))\n",
    "        fig.suptitle('Performance Evaluation', fontsize=16)\n",
    "\n",
    "        sns.heatmap(cm, annot=True, fmt=\"d\", linewidths=.5, cmap='magma', square=True, cbar=False, ax=ax[0],\n",
    "                    annot_kws={\"ha\": 'center', \"va\": 'center'})\n",
    "        ax[0].set(xlabel='Predicted label',\n",
    "                  ylabel='Actual label', title='Confusion Matrix')\n",
    "        ax[0].xaxis.set_ticklabels(labels)\n",
    "        ax[0].yaxis.set_ticklabels(labels)\n",
    "\n",
    "        ax[1].plot(fpr, tpr, 'b-', label=f'ROC-AUC = {roc_auc:.2f}')\n",
    "        ax[1].set(xlabel='False Positive Rate',\n",
    "                  ylabel='True Positive Rate', title='ROC Curve')\n",
    "        ax[1].plot(fp/(fp+tn), tp/(tp+fn), 'ro',\n",
    "                   markersize=8, label='Decision Point')\n",
    "        ax[1].plot([0, 1], [0, 1], 'r--')\n",
    "        ax[1].legend(loc='lower right')\n",
    "\n",
    "        if show_pr_curve:\n",
    "\n",
    "            ax[2].plot(recall, precision, label=f'PR-AUC = {pr_auc:.2f}')\n",
    "            ax[2].set(xlabel='Recall', ylabel='Precision',\n",
    "                      title='Precision-Recall Curve')\n",
    "            ax[2].legend()\n",
    "\n",
    "#         print('#######################')\n",
    "#         print('Evaluation metrics ####')\n",
    "#         print('#######################')\n",
    "#         print(f'Accuracy: {metrics.accuracy_score(y_test, y_pred):.4f}')\n",
    "#         print(f'Precision: {metrics.precision_score(y_test, y_pred):.4f}')\n",
    "#         print(f'Recall (Sensitivity): {metrics.recall_score(y_test, y_pred):.4f}')\n",
    "#         print(f'Specificity: {(tn / (tn + fp)):.4f}')\n",
    "#         print(f'F1-Score: {metrics.f1_score(y_test, y_pred):.4f}')\n",
    "#         print(f\"Cohen's Kappa: {metrics.cohen_kappa_score(y_test, y_pred):.4f}\")\n",
    "\n",
    "    stats = {'accuracy': metrics.accuracy_score(y_test, y_pred),\n",
    "             'precision': metrics.precision_score(y_test, y_pred),\n",
    "             'recall': metrics.recall_score(y_test, y_pred),\n",
    "             'specificity': (tn / (tn + fp)),\n",
    "             'f1_score': metrics.f1_score(y_test, y_pred),\n",
    "             'cohens_kappa': metrics.cohen_kappa_score(y_test, y_pred),\n",
    "             'roc_auc': roc_auc,\n",
    "             'pr_auc': pr_auc}\n",
    "\n",
    "    return stats"
   ]
  },
  {
   "cell_type": "code",
   "execution_count": 109,
   "id": "7b0be0ac",
   "metadata": {},
   "outputs": [],
   "source": [
    "def get_gini(stats_model):\n",
    "    return 2*stats_model['roc_auc'] - 1"
   ]
  },
  {
   "cell_type": "code",
   "execution_count": 110,
   "id": "4a798091",
   "metadata": {},
   "outputs": [],
   "source": [
    "def get_KS(base):\n",
    "    ecdf_buenos = ECDF(base.loc[base.prest_aceptado==1.0,\"Estimado\"])\n",
    "    ecdf_malos = ECDF(base.loc[base.prest_aceptado==0.0,\"Estimado\"])\n",
    "    grid_score = np.sort(base.Estimado.unique())\n",
    "    prob_acum_buenos = ecdf_buenos(grid_score)\n",
    "    prob_acum_malos = ecdf_malos(grid_score)\n",
    "    \n",
    "    abs_dif = np.abs(prob_acum_malos-prob_acum_buenos)\n",
    "    KS = np.max(abs_dif)\n",
    "    fig, ax=plt.subplots(figsize=(8,5))\n",
    "    ax.set_title(f\"K-S: {KS:%}\",fontsize=16)\n",
    "    plot(grid_score,prob_acum_buenos,color=\"red\",linewidth=3,label=\"buenos\")\n",
    "    plot(grid_score,prob_acum_malos,color=\"blue\",linewidth=3,label=\"malos\")\n",
    "    legend(fontsize=15)\n",
    "    show()\n",
    "    \n",
    "    return KS"
   ]
  },
  {
   "cell_type": "code",
   "execution_count": 111,
   "id": "c3cae9cc",
   "metadata": {},
   "outputs": [],
   "source": [
    "def get_optimal_thershold(model, X_test, y_test):\n",
    "    y_pred = model.predict(X_test)\n",
    "    y_pred_prob = model.predict_proba(X_test)[:, 1]\n",
    "\n",
    "    fpr, tpr, thresholds = metrics.roc_curve(y_test, y_pred_prob)\n",
    "    \n",
    "    J = tpr - fpr\n",
    "    ix = np.argmax(J)\n",
    "    best_thresh = thresholds[ix]\n",
    "    \n",
    "    # plot the roc curve for the model\n",
    "    plt.plot([0,1], [0,1], linestyle='--', label='No Skill')\n",
    "    plt.plot(fpr, tpr, marker='.', label='Logistic')\n",
    "    plt.scatter(fpr[ix], tpr[ix], marker='o', color='black', label='Best')\n",
    "    # axis labels\n",
    "    plt.xlabel('False Positive Rate')\n",
    "    plt.ylabel('True Positive Rate')\n",
    "    plt.legend()\n",
    "    # show the plot\n",
    "    plt.show()\n",
    "    \n",
    "    return best_thresh"
   ]
  },
  {
   "cell_type": "markdown",
   "id": "5884709d",
   "metadata": {},
   "source": [
    "## Regresión Logistica con woes "
   ]
  },
  {
   "cell_type": "code",
   "execution_count": 112,
   "id": "db416b58",
   "metadata": {},
   "outputs": [
    {
     "data": {
      "text/html": [
       "<div>\n",
       "<style scoped>\n",
       "    .dataframe tbody tr th:only-of-type {\n",
       "        vertical-align: middle;\n",
       "    }\n",
       "\n",
       "    .dataframe tbody tr th {\n",
       "        vertical-align: top;\n",
       "    }\n",
       "\n",
       "    .dataframe thead th {\n",
       "        text-align: right;\n",
       "    }\n",
       "</style>\n",
       "<table border=\"1\" class=\"dataframe\">\n",
       "  <thead>\n",
       "    <tr style=\"text-align: right;\">\n",
       "      <th></th>\n",
       "      <th>Unnamed: 0</th>\n",
       "      <th>index</th>\n",
       "      <th>num_caso</th>\n",
       "      <th>tiempo_adeudo</th>\n",
       "      <th>num_retrasos</th>\n",
       "      <th>comp_interno1</th>\n",
       "      <th>prest_aceptado</th>\n",
       "    </tr>\n",
       "  </thead>\n",
       "  <tbody>\n",
       "    <tr>\n",
       "      <th>0</th>\n",
       "      <td>0</td>\n",
       "      <td>0.0</td>\n",
       "      <td>1</td>\n",
       "      <td>62.0</td>\n",
       "      <td>7.0</td>\n",
       "      <td>3039.513678</td>\n",
       "      <td>1.0</td>\n",
       "    </tr>\n",
       "    <tr>\n",
       "      <th>1</th>\n",
       "      <td>1</td>\n",
       "      <td>6.0</td>\n",
       "      <td>7</td>\n",
       "      <td>29.0</td>\n",
       "      <td>9.0</td>\n",
       "      <td>1547.112462</td>\n",
       "      <td>1.0</td>\n",
       "    </tr>\n",
       "    <tr>\n",
       "      <th>2</th>\n",
       "      <td>2</td>\n",
       "      <td>7.0</td>\n",
       "      <td>8</td>\n",
       "      <td>59.0</td>\n",
       "      <td>4.0</td>\n",
       "      <td>1215.805471</td>\n",
       "      <td>1.0</td>\n",
       "    </tr>\n",
       "    <tr>\n",
       "      <th>3</th>\n",
       "      <td>3</td>\n",
       "      <td>8.0</td>\n",
       "      <td>9</td>\n",
       "      <td>15.0</td>\n",
       "      <td>0.0</td>\n",
       "      <td>0.000000</td>\n",
       "      <td>1.0</td>\n",
       "    </tr>\n",
       "    <tr>\n",
       "      <th>4</th>\n",
       "      <td>4</td>\n",
       "      <td>9.0</td>\n",
       "      <td>10</td>\n",
       "      <td>16.0</td>\n",
       "      <td>1.0</td>\n",
       "      <td>0.000000</td>\n",
       "      <td>1.0</td>\n",
       "    </tr>\n",
       "  </tbody>\n",
       "</table>\n",
       "</div>"
      ],
      "text/plain": [
       "   Unnamed: 0  index  num_caso  tiempo_adeudo  num_retrasos  comp_interno1  \\\n",
       "0           0    0.0         1           62.0           7.0    3039.513678   \n",
       "1           1    6.0         7           29.0           9.0    1547.112462   \n",
       "2           2    7.0         8           59.0           4.0    1215.805471   \n",
       "3           3    8.0         9           15.0           0.0       0.000000   \n",
       "4           4    9.0        10           16.0           1.0       0.000000   \n",
       "\n",
       "   prest_aceptado  \n",
       "0             1.0  \n",
       "1             1.0  \n",
       "2             1.0  \n",
       "3             1.0  \n",
       "4             1.0  "
      ]
     },
     "execution_count": 112,
     "metadata": {},
     "output_type": "execute_result"
    }
   ],
   "source": [
    "base = pd.read_csv(\"data_bases/base_final.csv\")\n",
    "base.head()"
   ]
  },
  {
   "cell_type": "code",
   "execution_count": 113,
   "id": "c61e0034",
   "metadata": {},
   "outputs": [
    {
     "data": {
      "text/html": [
       "<div>\n",
       "<style scoped>\n",
       "    .dataframe tbody tr th:only-of-type {\n",
       "        vertical-align: middle;\n",
       "    }\n",
       "\n",
       "    .dataframe tbody tr th {\n",
       "        vertical-align: top;\n",
       "    }\n",
       "\n",
       "    .dataframe thead th {\n",
       "        text-align: right;\n",
       "    }\n",
       "</style>\n",
       "<table border=\"1\" class=\"dataframe\">\n",
       "  <thead>\n",
       "    <tr style=\"text-align: right;\">\n",
       "      <th></th>\n",
       "      <th>num_caso</th>\n",
       "      <th>tiempo_adeudo</th>\n",
       "      <th>num_retrasos</th>\n",
       "      <th>comp_interno1</th>\n",
       "      <th>prest_aceptado</th>\n",
       "    </tr>\n",
       "  </thead>\n",
       "  <tbody>\n",
       "    <tr>\n",
       "      <th>49995</th>\n",
       "      <td>98961</td>\n",
       "      <td>0.0</td>\n",
       "      <td>0.0</td>\n",
       "      <td>1519.756839</td>\n",
       "      <td>0.0</td>\n",
       "    </tr>\n",
       "    <tr>\n",
       "      <th>49996</th>\n",
       "      <td>98968</td>\n",
       "      <td>0.0</td>\n",
       "      <td>0.0</td>\n",
       "      <td>0.000000</td>\n",
       "      <td>0.0</td>\n",
       "    </tr>\n",
       "    <tr>\n",
       "      <th>49997</th>\n",
       "      <td>98976</td>\n",
       "      <td>0.0</td>\n",
       "      <td>0.0</td>\n",
       "      <td>911.854103</td>\n",
       "      <td>0.0</td>\n",
       "    </tr>\n",
       "    <tr>\n",
       "      <th>49998</th>\n",
       "      <td>98978</td>\n",
       "      <td>0.0</td>\n",
       "      <td>0.0</td>\n",
       "      <td>0.000000</td>\n",
       "      <td>0.0</td>\n",
       "    </tr>\n",
       "    <tr>\n",
       "      <th>49999</th>\n",
       "      <td>98985</td>\n",
       "      <td>0.0</td>\n",
       "      <td>0.0</td>\n",
       "      <td>0.000000</td>\n",
       "      <td>0.0</td>\n",
       "    </tr>\n",
       "  </tbody>\n",
       "</table>\n",
       "</div>"
      ],
      "text/plain": [
       "       num_caso  tiempo_adeudo  num_retrasos  comp_interno1  prest_aceptado\n",
       "49995     98961            0.0           0.0    1519.756839             0.0\n",
       "49996     98968            0.0           0.0       0.000000             0.0\n",
       "49997     98976            0.0           0.0     911.854103             0.0\n",
       "49998     98978            0.0           0.0       0.000000             0.0\n",
       "49999     98985            0.0           0.0       0.000000             0.0"
      ]
     },
     "execution_count": 113,
     "metadata": {},
     "output_type": "execute_result"
    }
   ],
   "source": [
    "#Como podemos observar, Unnamed:0 solo esta repitiendo lo que esta en la primer columna por lo que eliminaremos \n",
    "#la columna Unnamed:0\n",
    "#Para la variable index, no la ocuparemo puesto que realmente no nos oportan algo relevante, \n",
    "#simplemente son las personas. Por lo que también eliminaremos esa columna\n",
    "base=base.drop(['Unnamed: 0','index'], axis=1) \n",
    "base[['prest_aceptado']]=base[['prest_aceptado']].astype(float)\n",
    "base.tail()"
   ]
  },
  {
   "cell_type": "code",
   "execution_count": 114,
   "id": "13db4fdc",
   "metadata": {},
   "outputs": [
    {
     "name": "stdout",
     "output_type": "stream",
     "text": [
      "<class 'pandas.core.frame.DataFrame'>\n",
      "RangeIndex: 50000 entries, 0 to 49999\n",
      "Data columns (total 5 columns):\n",
      " #   Column          Non-Null Count  Dtype  \n",
      "---  ------          --------------  -----  \n",
      " 0   num_caso        50000 non-null  int64  \n",
      " 1   tiempo_adeudo   50000 non-null  float64\n",
      " 2   num_retrasos    50000 non-null  float64\n",
      " 3   comp_interno1   50000 non-null  float64\n",
      " 4   prest_aceptado  50000 non-null  float64\n",
      "dtypes: float64(4), int64(1)\n",
      "memory usage: 1.9 MB\n"
     ]
    }
   ],
   "source": [
    "base.info()"
   ]
  },
  {
   "cell_type": "code",
   "execution_count": 115,
   "id": "1caf322b",
   "metadata": {},
   "outputs": [
    {
     "data": {
      "text/html": [
       "<div>\n",
       "<style scoped>\n",
       "    .dataframe tbody tr th:only-of-type {\n",
       "        vertical-align: middle;\n",
       "    }\n",
       "\n",
       "    .dataframe tbody tr th {\n",
       "        vertical-align: top;\n",
       "    }\n",
       "\n",
       "    .dataframe thead th {\n",
       "        text-align: right;\n",
       "    }\n",
       "</style>\n",
       "<table border=\"1\" class=\"dataframe\">\n",
       "  <thead>\n",
       "    <tr style=\"text-align: right;\">\n",
       "      <th></th>\n",
       "      <th>num_caso</th>\n",
       "      <th>tiempo_adeudo</th>\n",
       "      <th>num_retrasos</th>\n",
       "      <th>comp_interno1</th>\n",
       "      <th>prest_aceptado</th>\n",
       "    </tr>\n",
       "  </thead>\n",
       "  <tbody>\n",
       "    <tr>\n",
       "      <th>count</th>\n",
       "      <td>50000.000000</td>\n",
       "      <td>50000.000000</td>\n",
       "      <td>50000.000000</td>\n",
       "      <td>50000.000000</td>\n",
       "      <td>50000.000000</td>\n",
       "    </tr>\n",
       "    <tr>\n",
       "      <th>mean</th>\n",
       "      <td>49568.634780</td>\n",
       "      <td>28.243760</td>\n",
       "      <td>2.903000</td>\n",
       "      <td>1058.571975</td>\n",
       "      <td>0.944500</td>\n",
       "    </tr>\n",
       "    <tr>\n",
       "      <th>std</th>\n",
       "      <td>28522.021708</td>\n",
       "      <td>18.368076</td>\n",
       "      <td>3.320526</td>\n",
       "      <td>5050.133027</td>\n",
       "      <td>0.228956</td>\n",
       "    </tr>\n",
       "    <tr>\n",
       "      <th>min</th>\n",
       "      <td>1.000000</td>\n",
       "      <td>0.000000</td>\n",
       "      <td>0.000000</td>\n",
       "      <td>0.000000</td>\n",
       "      <td>0.000000</td>\n",
       "    </tr>\n",
       "    <tr>\n",
       "      <th>25%</th>\n",
       "      <td>24963.250000</td>\n",
       "      <td>12.000000</td>\n",
       "      <td>1.000000</td>\n",
       "      <td>0.000000</td>\n",
       "      <td>1.000000</td>\n",
       "    </tr>\n",
       "    <tr>\n",
       "      <th>50%</th>\n",
       "      <td>49578.500000</td>\n",
       "      <td>26.000000</td>\n",
       "      <td>2.000000</td>\n",
       "      <td>0.000000</td>\n",
       "      <td>1.000000</td>\n",
       "    </tr>\n",
       "    <tr>\n",
       "      <th>75%</th>\n",
       "      <td>74180.250000</td>\n",
       "      <td>43.000000</td>\n",
       "      <td>4.000000</td>\n",
       "      <td>1013.171226</td>\n",
       "      <td>1.000000</td>\n",
       "    </tr>\n",
       "    <tr>\n",
       "      <th>max</th>\n",
       "      <td>98997.000000</td>\n",
       "      <td>65.000000</td>\n",
       "      <td>31.000000</td>\n",
       "      <td>329483.282675</td>\n",
       "      <td>1.000000</td>\n",
       "    </tr>\n",
       "  </tbody>\n",
       "</table>\n",
       "</div>"
      ],
      "text/plain": [
       "           num_caso  tiempo_adeudo  num_retrasos  comp_interno1  \\\n",
       "count  50000.000000   50000.000000  50000.000000   50000.000000   \n",
       "mean   49568.634780      28.243760      2.903000    1058.571975   \n",
       "std    28522.021708      18.368076      3.320526    5050.133027   \n",
       "min        1.000000       0.000000      0.000000       0.000000   \n",
       "25%    24963.250000      12.000000      1.000000       0.000000   \n",
       "50%    49578.500000      26.000000      2.000000       0.000000   \n",
       "75%    74180.250000      43.000000      4.000000    1013.171226   \n",
       "max    98997.000000      65.000000     31.000000  329483.282675   \n",
       "\n",
       "       prest_aceptado  \n",
       "count    50000.000000  \n",
       "mean         0.944500  \n",
       "std          0.228956  \n",
       "min          0.000000  \n",
       "25%          1.000000  \n",
       "50%          1.000000  \n",
       "75%          1.000000  \n",
       "max          1.000000  "
      ]
     },
     "execution_count": 115,
     "metadata": {},
     "output_type": "execute_result"
    }
   ],
   "source": [
    "#Información general del DataFrame\n",
    "base.describe()"
   ]
  },
  {
   "cell_type": "code",
   "execution_count": 116,
   "id": "c4c01e19",
   "metadata": {},
   "outputs": [
    {
     "data": {
      "text/plain": [
       "1.0    0.9445\n",
       "0.0    0.0555\n",
       "Name: prest_aceptado, dtype: float64"
      ]
     },
     "execution_count": 116,
     "metadata": {},
     "output_type": "execute_result"
    }
   ],
   "source": [
    "base['prest_aceptado'].value_counts(normalize=True)"
   ]
  },
  {
   "cell_type": "code",
   "execution_count": 117,
   "id": "25cfba2a",
   "metadata": {},
   "outputs": [
    {
     "data": {
      "text/plain": [
       "0.0     0.03808\n",
       "6.0     0.02642\n",
       "7.0     0.02250\n",
       "8.0     0.02152\n",
       "18.0    0.02118\n",
       "         ...   \n",
       "50.0    0.00950\n",
       "62.0    0.00928\n",
       "63.0    0.00832\n",
       "64.0    0.00688\n",
       "65.0    0.00248\n",
       "Name: tiempo_adeudo, Length: 65, dtype: float64"
      ]
     },
     "execution_count": 117,
     "metadata": {},
     "output_type": "execute_result"
    }
   ],
   "source": [
    "base['tiempo_adeudo'].value_counts(normalize=True)"
   ]
  },
  {
   "cell_type": "code",
   "execution_count": 118,
   "id": "c828c347",
   "metadata": {},
   "outputs": [
    {
     "data": {
      "text/plain": [
       "0.0     0.23600\n",
       "1.0     0.17530\n",
       "2.0     0.14946\n",
       "3.0     0.12214\n",
       "4.0     0.09840\n",
       "5.0     0.06982\n",
       "6.0     0.04870\n",
       "7.0     0.03258\n",
       "8.0     0.01900\n",
       "9.0     0.01148\n",
       "10.0    0.00704\n",
       "11.0    0.00566\n",
       "12.0    0.00368\n",
       "14.0    0.00278\n",
       "13.0    0.00276\n",
       "15.0    0.00228\n",
       "16.0    0.00226\n",
       "18.0    0.00178\n",
       "20.0    0.00150\n",
       "17.0    0.00148\n",
       "19.0    0.00132\n",
       "21.0    0.00086\n",
       "23.0    0.00074\n",
       "22.0    0.00072\n",
       "24.0    0.00062\n",
       "25.0    0.00044\n",
       "26.0    0.00040\n",
       "27.0    0.00032\n",
       "28.0    0.00016\n",
       "29.0    0.00016\n",
       "30.0    0.00010\n",
       "31.0    0.00006\n",
       "Name: num_retrasos, dtype: float64"
      ]
     },
     "execution_count": 118,
     "metadata": {},
     "output_type": "execute_result"
    }
   ],
   "source": [
    "base['num_retrasos'].value_counts(normalize=True)"
   ]
  },
  {
   "cell_type": "code",
   "execution_count": 119,
   "id": "c4b933b8",
   "metadata": {},
   "outputs": [],
   "source": [
    "train, test = train_test_split(base, test_size = 0.30, random_state = 100) "
   ]
  },
  {
   "cell_type": "code",
   "execution_count": 120,
   "id": "bf2afdb2",
   "metadata": {},
   "outputs": [
    {
     "name": "stdout",
     "output_type": "stream",
     "text": [
      "<class 'pandas.core.frame.DataFrame'>\n",
      "Int64Index: 35000 entries, 48824 to 38408\n",
      "Data columns (total 5 columns):\n",
      " #   Column          Non-Null Count  Dtype  \n",
      "---  ------          --------------  -----  \n",
      " 0   num_caso        35000 non-null  int64  \n",
      " 1   tiempo_adeudo   35000 non-null  float64\n",
      " 2   num_retrasos    35000 non-null  float64\n",
      " 3   comp_interno1   35000 non-null  float64\n",
      " 4   prest_aceptado  35000 non-null  float64\n",
      "dtypes: float64(4), int64(1)\n",
      "memory usage: 1.6 MB\n"
     ]
    }
   ],
   "source": [
    "train.info()"
   ]
  },
  {
   "cell_type": "code",
   "execution_count": 121,
   "id": "f9765890",
   "metadata": {},
   "outputs": [
    {
     "data": {
      "text/plain": [
       "48824    0.0\n",
       "2704     1.0\n",
       "25631    1.0\n",
       "7285     1.0\n",
       "27346    1.0\n",
       "        ... \n",
       "16304    1.0\n",
       "79       1.0\n",
       "12119    1.0\n",
       "14147    1.0\n",
       "38408    1.0\n",
       "Name: prest_aceptado, Length: 35000, dtype: float64"
      ]
     },
     "execution_count": 121,
     "metadata": {},
     "output_type": "execute_result"
    }
   ],
   "source": [
    "y = train.prest_aceptado\n",
    "y"
   ]
  },
  {
   "cell_type": "code",
   "execution_count": 122,
   "id": "9d3ff903",
   "metadata": {},
   "outputs": [],
   "source": [
    "optb_num_caso = OptimalBinning(name=\"num_caso\", dtype=\"numerical\", solver=\"cp\")\n",
    "optb_tiempo_adeudo = OptimalBinning(name=\"tiempo_adeudo\",dtype=\"categorical\", solver=\"cp\")\n",
    "optb_num_retrasos = OptimalBinning(name=\"num_retrasos\",dtype=\"numerical\", solver=\"cp\")\n",
    "optb_comp_interno1 = OptimalBinning(name=\"comp_interno1\", dtype=\"numerical\", solver=\"cp\")"
   ]
  },
  {
   "cell_type": "code",
   "execution_count": 123,
   "id": "dced5034",
   "metadata": {},
   "outputs": [
    {
     "data": {
      "text/plain": [
       "OptimalBinning(name='comp_interno1')"
      ]
     },
     "execution_count": 123,
     "metadata": {},
     "output_type": "execute_result"
    }
   ],
   "source": [
    "optb_num_caso.fit(train[\"num_caso\"].values, y)\n",
    "optb_tiempo_adeudo.fit(train[\"tiempo_adeudo\"].values, y)\n",
    "optb_num_retrasos.fit(train[\"num_retrasos\"].values, y)\n",
    "optb_comp_interno1.fit(train[\"comp_interno1\"].values, y)"
   ]
  },
  {
   "cell_type": "code",
   "execution_count": 124,
   "id": "5a59a46b",
   "metadata": {},
   "outputs": [
    {
     "data": {
      "text/plain": [
       "'Binning de num caso:'"
      ]
     },
     "metadata": {},
     "output_type": "display_data"
    },
    {
     "data": {
      "text/plain": [
       "array([ 8098.5, 18589. , 27359.5, 36765. , 52751.5, 57883.5, 65593.5,\n",
       "       72456.5, 78949. , 84176.5, 89132.5, 94014. ])"
      ]
     },
     "metadata": {},
     "output_type": "display_data"
    },
    {
     "data": {
      "text/plain": [
       "'Binning de Tiempo adeudo:'"
      ]
     },
     "metadata": {},
     "output_type": "display_data"
    },
    {
     "data": {
      "text/plain": [
       "[array([ 0., 65.,  3.]),\n",
       " array([63., 25., 41., 45.,  6.]),\n",
       " array([37., 42., 50., 64., 51., 57., 59.]),\n",
       " array([60., 48., 47., 58., 33.]),\n",
       " array([36., 53., 30.,  9., 54., 61.]),\n",
       " array([55., 62., 34., 38.]),\n",
       " array([27., 44., 26., 15., 49., 43., 52.]),\n",
       " array([32., 29., 35., 21., 40.]),\n",
       " array([17., 56., 20., 39.]),\n",
       " array([23., 18., 31., 28.]),\n",
       " array([46., 12.,  8.,  5.]),\n",
       " array([13., 19.,  7., 24.]),\n",
       " array([11., 14., 22., 16.]),\n",
       " array([10.,  2.,  4.])]"
      ]
     },
     "metadata": {},
     "output_type": "display_data"
    },
    {
     "data": {
      "text/plain": [
       "'Binning de número de retrasos:'"
      ]
     },
     "metadata": {},
     "output_type": "display_data"
    },
    {
     "data": {
      "text/plain": [
       "array([0.5, 1.5, 2.5, 3.5, 4.5, 5.5, 7.5])"
      ]
     },
     "metadata": {},
     "output_type": "display_data"
    },
    {
     "data": {
      "text/plain": [
       "'Binning de Componente interno:'"
      ]
     },
     "metadata": {},
     "output_type": "display_data"
    },
    {
     "data": {
      "text/plain": [
       "array([ 878.92605591, 1438.703125  ])"
      ]
     },
     "metadata": {},
     "output_type": "display_data"
    }
   ],
   "source": [
    "display(\"Binning de num caso:\",optb_num_caso.splits)\n",
    "display(\"Binning de Tiempo adeudo:\",optb_tiempo_adeudo.splits)\n",
    "display(\"Binning de número de retrasos:\",optb_num_retrasos.splits)\n",
    "display(\"Binning de Componente interno:\",optb_comp_interno1.splits)"
   ]
  },
  {
   "cell_type": "code",
   "execution_count": 125,
   "id": "76778453",
   "metadata": {},
   "outputs": [],
   "source": [
    "num_caso_table = optb_num_caso.binning_table\n",
    "tiempo_adeudo_table = optb_tiempo_adeudo.binning_table\n",
    "num_retrasos_table = optb_num_retrasos.binning_table\n",
    "comp_interno1_table = optb_comp_interno1.binning_table"
   ]
  },
  {
   "cell_type": "code",
   "execution_count": 126,
   "id": "b42e9345",
   "metadata": {},
   "outputs": [
    {
     "data": {
      "text/plain": [
       "'Num caso:'"
      ]
     },
     "metadata": {},
     "output_type": "display_data"
    },
    {
     "data": {
      "text/html": [
       "<div>\n",
       "<style scoped>\n",
       "    .dataframe tbody tr th:only-of-type {\n",
       "        vertical-align: middle;\n",
       "    }\n",
       "\n",
       "    .dataframe tbody tr th {\n",
       "        vertical-align: top;\n",
       "    }\n",
       "\n",
       "    .dataframe thead th {\n",
       "        text-align: right;\n",
       "    }\n",
       "</style>\n",
       "<table border=\"1\" class=\"dataframe\">\n",
       "  <thead>\n",
       "    <tr style=\"text-align: right;\">\n",
       "      <th></th>\n",
       "      <th>Bin</th>\n",
       "      <th>Count</th>\n",
       "      <th>Count (%)</th>\n",
       "      <th>Non-event</th>\n",
       "      <th>Event</th>\n",
       "      <th>Event rate</th>\n",
       "      <th>WoE</th>\n",
       "      <th>IV</th>\n",
       "      <th>JS</th>\n",
       "    </tr>\n",
       "  </thead>\n",
       "  <tbody>\n",
       "    <tr>\n",
       "      <th>0</th>\n",
       "      <td>[-inf, 8098.50)</td>\n",
       "      <td>2839</td>\n",
       "      <td>0.081114</td>\n",
       "      <td>206</td>\n",
       "      <td>2633</td>\n",
       "      <td>0.927439</td>\n",
       "      <td>0.302465</td>\n",
       "      <td>0.008501</td>\n",
       "      <td>0.001059</td>\n",
       "    </tr>\n",
       "    <tr>\n",
       "      <th>1</th>\n",
       "      <td>[8098.50, 18589.00)</td>\n",
       "      <td>3633</td>\n",
       "      <td>0.103800</td>\n",
       "      <td>237</td>\n",
       "      <td>3396</td>\n",
       "      <td>0.934765</td>\n",
       "      <td>0.188174</td>\n",
       "      <td>0.003999</td>\n",
       "      <td>0.000499</td>\n",
       "    </tr>\n",
       "    <tr>\n",
       "      <th>2</th>\n",
       "      <td>[18589.00, 27359.50)</td>\n",
       "      <td>3078</td>\n",
       "      <td>0.087943</td>\n",
       "      <td>191</td>\n",
       "      <td>2887</td>\n",
       "      <td>0.937947</td>\n",
       "      <td>0.134768</td>\n",
       "      <td>0.001697</td>\n",
       "      <td>0.000212</td>\n",
       "    </tr>\n",
       "    <tr>\n",
       "      <th>3</th>\n",
       "      <td>[27359.50, 36765.00)</td>\n",
       "      <td>3349</td>\n",
       "      <td>0.095686</td>\n",
       "      <td>188</td>\n",
       "      <td>3161</td>\n",
       "      <td>0.943864</td>\n",
       "      <td>0.028266</td>\n",
       "      <td>0.000077</td>\n",
       "      <td>0.000010</td>\n",
       "    </tr>\n",
       "    <tr>\n",
       "      <th>4</th>\n",
       "      <td>[36765.00, 52751.50)</td>\n",
       "      <td>5766</td>\n",
       "      <td>0.164743</td>\n",
       "      <td>291</td>\n",
       "      <td>5475</td>\n",
       "      <td>0.949532</td>\n",
       "      <td>-0.084157</td>\n",
       "      <td>0.001124</td>\n",
       "      <td>0.000140</td>\n",
       "    </tr>\n",
       "    <tr>\n",
       "      <th>5</th>\n",
       "      <td>[52751.50, 57883.50)</td>\n",
       "      <td>1827</td>\n",
       "      <td>0.052200</td>\n",
       "      <td>77</td>\n",
       "      <td>1750</td>\n",
       "      <td>0.957854</td>\n",
       "      <td>-0.273098</td>\n",
       "      <td>0.003452</td>\n",
       "      <td>0.000430</td>\n",
       "    </tr>\n",
       "    <tr>\n",
       "      <th>6</th>\n",
       "      <td>[57883.50, 65593.50)</td>\n",
       "      <td>2724</td>\n",
       "      <td>0.077829</td>\n",
       "      <td>101</td>\n",
       "      <td>2623</td>\n",
       "      <td>0.962922</td>\n",
       "      <td>-0.406486</td>\n",
       "      <td>0.010763</td>\n",
       "      <td>0.001336</td>\n",
       "    </tr>\n",
       "    <tr>\n",
       "      <th>7</th>\n",
       "      <td>[65593.50, 72456.50)</td>\n",
       "      <td>2465</td>\n",
       "      <td>0.070429</td>\n",
       "      <td>70</td>\n",
       "      <td>2395</td>\n",
       "      <td>0.971602</td>\n",
       "      <td>-0.682176</td>\n",
       "      <td>0.024417</td>\n",
       "      <td>0.002994</td>\n",
       "    </tr>\n",
       "    <tr>\n",
       "      <th>8</th>\n",
       "      <td>[72456.50, 78949.00)</td>\n",
       "      <td>2202</td>\n",
       "      <td>0.062914</td>\n",
       "      <td>51</td>\n",
       "      <td>2151</td>\n",
       "      <td>0.976839</td>\n",
       "      <td>-0.891395</td>\n",
       "      <td>0.034186</td>\n",
       "      <td>0.004137</td>\n",
       "    </tr>\n",
       "    <tr>\n",
       "      <th>9</th>\n",
       "      <td>[78949.00, 84176.50)</td>\n",
       "      <td>1853</td>\n",
       "      <td>0.052943</td>\n",
       "      <td>24</td>\n",
       "      <td>1829</td>\n",
       "      <td>0.987048</td>\n",
       "      <td>-1.483003</td>\n",
       "      <td>0.063373</td>\n",
       "      <td>0.007267</td>\n",
       "    </tr>\n",
       "    <tr>\n",
       "      <th>10</th>\n",
       "      <td>[84176.50, 89132.50)</td>\n",
       "      <td>1750</td>\n",
       "      <td>0.050000</td>\n",
       "      <td>43</td>\n",
       "      <td>1707</td>\n",
       "      <td>0.975429</td>\n",
       "      <td>-0.830825</td>\n",
       "      <td>0.024188</td>\n",
       "      <td>0.002939</td>\n",
       "    </tr>\n",
       "    <tr>\n",
       "      <th>11</th>\n",
       "      <td>[89132.50, 94014.00)</td>\n",
       "      <td>1764</td>\n",
       "      <td>0.050400</td>\n",
       "      <td>100</td>\n",
       "      <td>1664</td>\n",
       "      <td>0.943311</td>\n",
       "      <td>0.038658</td>\n",
       "      <td>0.000077</td>\n",
       "      <td>0.000010</td>\n",
       "    </tr>\n",
       "    <tr>\n",
       "      <th>12</th>\n",
       "      <td>[94014.00, inf)</td>\n",
       "      <td>1750</td>\n",
       "      <td>0.050000</td>\n",
       "      <td>334</td>\n",
       "      <td>1416</td>\n",
       "      <td>0.809143</td>\n",
       "      <td>1.406017</td>\n",
       "      <td>0.185311</td>\n",
       "      <td>0.021427</td>\n",
       "    </tr>\n",
       "    <tr>\n",
       "      <th>13</th>\n",
       "      <td>Special</td>\n",
       "      <td>0</td>\n",
       "      <td>0.000000</td>\n",
       "      <td>0</td>\n",
       "      <td>0</td>\n",
       "      <td>0.000000</td>\n",
       "      <td>0.0</td>\n",
       "      <td>0.000000</td>\n",
       "      <td>0.000000</td>\n",
       "    </tr>\n",
       "    <tr>\n",
       "      <th>14</th>\n",
       "      <td>Missing</td>\n",
       "      <td>0</td>\n",
       "      <td>0.000000</td>\n",
       "      <td>0</td>\n",
       "      <td>0</td>\n",
       "      <td>0.000000</td>\n",
       "      <td>0.0</td>\n",
       "      <td>0.000000</td>\n",
       "      <td>0.000000</td>\n",
       "    </tr>\n",
       "    <tr>\n",
       "      <th>Totals</th>\n",
       "      <td></td>\n",
       "      <td>35000</td>\n",
       "      <td>1.000000</td>\n",
       "      <td>1913</td>\n",
       "      <td>33087</td>\n",
       "      <td>0.945343</td>\n",
       "      <td></td>\n",
       "      <td>0.361165</td>\n",
       "      <td>0.042460</td>\n",
       "    </tr>\n",
       "  </tbody>\n",
       "</table>\n",
       "</div>"
      ],
      "text/plain": [
       "                         Bin  Count  Count (%)  Non-event  Event  Event rate  \\\n",
       "0            [-inf, 8098.50)   2839   0.081114        206   2633    0.927439   \n",
       "1        [8098.50, 18589.00)   3633   0.103800        237   3396    0.934765   \n",
       "2       [18589.00, 27359.50)   3078   0.087943        191   2887    0.937947   \n",
       "3       [27359.50, 36765.00)   3349   0.095686        188   3161    0.943864   \n",
       "4       [36765.00, 52751.50)   5766   0.164743        291   5475    0.949532   \n",
       "5       [52751.50, 57883.50)   1827   0.052200         77   1750    0.957854   \n",
       "6       [57883.50, 65593.50)   2724   0.077829        101   2623    0.962922   \n",
       "7       [65593.50, 72456.50)   2465   0.070429         70   2395    0.971602   \n",
       "8       [72456.50, 78949.00)   2202   0.062914         51   2151    0.976839   \n",
       "9       [78949.00, 84176.50)   1853   0.052943         24   1829    0.987048   \n",
       "10      [84176.50, 89132.50)   1750   0.050000         43   1707    0.975429   \n",
       "11      [89132.50, 94014.00)   1764   0.050400        100   1664    0.943311   \n",
       "12           [94014.00, inf)   1750   0.050000        334   1416    0.809143   \n",
       "13                   Special      0   0.000000          0      0    0.000000   \n",
       "14                   Missing      0   0.000000          0      0    0.000000   \n",
       "Totals                        35000   1.000000       1913  33087    0.945343   \n",
       "\n",
       "             WoE        IV        JS  \n",
       "0       0.302465  0.008501  0.001059  \n",
       "1       0.188174  0.003999  0.000499  \n",
       "2       0.134768  0.001697  0.000212  \n",
       "3       0.028266  0.000077  0.000010  \n",
       "4      -0.084157  0.001124  0.000140  \n",
       "5      -0.273098  0.003452  0.000430  \n",
       "6      -0.406486  0.010763  0.001336  \n",
       "7      -0.682176  0.024417  0.002994  \n",
       "8      -0.891395  0.034186  0.004137  \n",
       "9      -1.483003  0.063373  0.007267  \n",
       "10     -0.830825  0.024188  0.002939  \n",
       "11      0.038658  0.000077  0.000010  \n",
       "12      1.406017  0.185311  0.021427  \n",
       "13           0.0  0.000000  0.000000  \n",
       "14           0.0  0.000000  0.000000  \n",
       "Totals            0.361165  0.042460  "
      ]
     },
     "metadata": {},
     "output_type": "display_data"
    },
    {
     "data": {
      "text/plain": [
       "'Tiempo adeudo:'"
      ]
     },
     "metadata": {},
     "output_type": "display_data"
    },
    {
     "data": {
      "text/html": [
       "<div>\n",
       "<style scoped>\n",
       "    .dataframe tbody tr th:only-of-type {\n",
       "        vertical-align: middle;\n",
       "    }\n",
       "\n",
       "    .dataframe tbody tr th {\n",
       "        vertical-align: top;\n",
       "    }\n",
       "\n",
       "    .dataframe thead th {\n",
       "        text-align: right;\n",
       "    }\n",
       "</style>\n",
       "<table border=\"1\" class=\"dataframe\">\n",
       "  <thead>\n",
       "    <tr style=\"text-align: right;\">\n",
       "      <th></th>\n",
       "      <th>Bin</th>\n",
       "      <th>Count</th>\n",
       "      <th>Count (%)</th>\n",
       "      <th>Non-event</th>\n",
       "      <th>Event</th>\n",
       "      <th>Event rate</th>\n",
       "      <th>WoE</th>\n",
       "      <th>IV</th>\n",
       "      <th>JS</th>\n",
       "    </tr>\n",
       "  </thead>\n",
       "  <tbody>\n",
       "    <tr>\n",
       "      <th>0</th>\n",
       "      <td>[0.0, 65.0, 3.0]</td>\n",
       "      <td>2131</td>\n",
       "      <td>0.060886</td>\n",
       "      <td>1225</td>\n",
       "      <td>906</td>\n",
       "      <td>0.425153</td>\n",
       "      <td>3.152125</td>\n",
       "      <td>1.932168</td>\n",
       "      <td>0.174284</td>\n",
       "    </tr>\n",
       "    <tr>\n",
       "      <th>1</th>\n",
       "      <td>[63.0, 25.0, 41.0, 45.0, 6.0]</td>\n",
       "      <td>2648</td>\n",
       "      <td>0.075657</td>\n",
       "      <td>106</td>\n",
       "      <td>2542</td>\n",
       "      <td>0.959970</td>\n",
       "      <td>-0.3268</td>\n",
       "      <td>0.006999</td>\n",
       "      <td>0.000871</td>\n",
       "    </tr>\n",
       "    <tr>\n",
       "      <th>2</th>\n",
       "      <td>[37.0, 42.0, 50.0, 64.0, 51.0, 57.0, 59.0]</td>\n",
       "      <td>2945</td>\n",
       "      <td>0.084143</td>\n",
       "      <td>104</td>\n",
       "      <td>2841</td>\n",
       "      <td>0.964686</td>\n",
       "      <td>-0.457053</td>\n",
       "      <td>0.014397</td>\n",
       "      <td>0.001784</td>\n",
       "    </tr>\n",
       "    <tr>\n",
       "      <th>3</th>\n",
       "      <td>[60.0, 48.0, 47.0, 58.0, 33.0]</td>\n",
       "      <td>2256</td>\n",
       "      <td>0.064457</td>\n",
       "      <td>65</td>\n",
       "      <td>2191</td>\n",
       "      <td>0.971188</td>\n",
       "      <td>-0.667258</td>\n",
       "      <td>0.021513</td>\n",
       "      <td>0.002640</td>\n",
       "    </tr>\n",
       "    <tr>\n",
       "      <th>4</th>\n",
       "      <td>[36.0, 53.0, 30.0, 9.0, 54.0, 61.0]</td>\n",
       "      <td>3091</td>\n",
       "      <td>0.088314</td>\n",
       "      <td>83</td>\n",
       "      <td>3008</td>\n",
       "      <td>0.973148</td>\n",
       "      <td>-0.739722</td>\n",
       "      <td>0.035155</td>\n",
       "      <td>0.004297</td>\n",
       "    </tr>\n",
       "    <tr>\n",
       "      <th>5</th>\n",
       "      <td>[55.0, 62.0, 34.0, 38.0]</td>\n",
       "      <td>1797</td>\n",
       "      <td>0.051343</td>\n",
       "      <td>43</td>\n",
       "      <td>1754</td>\n",
       "      <td>0.976071</td>\n",
       "      <td>-0.857986</td>\n",
       "      <td>0.026198</td>\n",
       "      <td>0.003178</td>\n",
       "    </tr>\n",
       "    <tr>\n",
       "      <th>6</th>\n",
       "      <td>[27.0, 44.0, 26.0, 15.0, 49.0, 43.0, 52.0]</td>\n",
       "      <td>3594</td>\n",
       "      <td>0.102686</td>\n",
       "      <td>79</td>\n",
       "      <td>3515</td>\n",
       "      <td>0.978019</td>\n",
       "      <td>-0.944879</td>\n",
       "      <td>0.061359</td>\n",
       "      <td>0.007397</td>\n",
       "    </tr>\n",
       "    <tr>\n",
       "      <th>7</th>\n",
       "      <td>[32.0, 29.0, 35.0, 21.0, 40.0]</td>\n",
       "      <td>2582</td>\n",
       "      <td>0.073771</td>\n",
       "      <td>51</td>\n",
       "      <td>2531</td>\n",
       "      <td>0.980248</td>\n",
       "      <td>-1.054076</td>\n",
       "      <td>0.052531</td>\n",
       "      <td>0.006278</td>\n",
       "    </tr>\n",
       "    <tr>\n",
       "      <th>8</th>\n",
       "      <td>[17.0, 56.0, 20.0, 39.0]</td>\n",
       "      <td>2171</td>\n",
       "      <td>0.062029</td>\n",
       "      <td>39</td>\n",
       "      <td>2132</td>\n",
       "      <td>0.982036</td>\n",
       "      <td>-1.150786</td>\n",
       "      <td>0.050691</td>\n",
       "      <td>0.006008</td>\n",
       "    </tr>\n",
       "    <tr>\n",
       "      <th>9</th>\n",
       "      <td>[23.0, 18.0, 31.0, 28.0]</td>\n",
       "      <td>2380</td>\n",
       "      <td>0.068000</td>\n",
       "      <td>41</td>\n",
       "      <td>2339</td>\n",
       "      <td>0.982773</td>\n",
       "      <td>-1.193439</td>\n",
       "      <td>0.058789</td>\n",
       "      <td>0.006941</td>\n",
       "    </tr>\n",
       "    <tr>\n",
       "      <th>10</th>\n",
       "      <td>[46.0, 12.0, 8.0, 5.0]</td>\n",
       "      <td>2377</td>\n",
       "      <td>0.067914</td>\n",
       "      <td>33</td>\n",
       "      <td>2344</td>\n",
       "      <td>0.986117</td>\n",
       "      <td>-1.412639</td>\n",
       "      <td>0.075708</td>\n",
       "      <td>0.008748</td>\n",
       "    </tr>\n",
       "    <tr>\n",
       "      <th>11</th>\n",
       "      <td>[13.0, 19.0, 7.0, 24.0]</td>\n",
       "      <td>2572</td>\n",
       "      <td>0.073486</td>\n",
       "      <td>24</td>\n",
       "      <td>2548</td>\n",
       "      <td>0.990669</td>\n",
       "      <td>-1.814542</td>\n",
       "      <td>0.116971</td>\n",
       "      <td>0.012897</td>\n",
       "    </tr>\n",
       "    <tr>\n",
       "      <th>12</th>\n",
       "      <td>[11.0, 14.0, 22.0, 16.0]</td>\n",
       "      <td>2540</td>\n",
       "      <td>0.072571</td>\n",
       "      <td>17</td>\n",
       "      <td>2523</td>\n",
       "      <td>0.993307</td>\n",
       "      <td>-2.149523</td>\n",
       "      <td>0.144807</td>\n",
       "      <td>0.015264</td>\n",
       "    </tr>\n",
       "    <tr>\n",
       "      <th>13</th>\n",
       "      <td>[10.0, 2.0, 4.0]</td>\n",
       "      <td>1916</td>\n",
       "      <td>0.054743</td>\n",
       "      <td>3</td>\n",
       "      <td>1913</td>\n",
       "      <td>0.998434</td>\n",
       "      <td>-3.607348</td>\n",
       "      <td>0.202910</td>\n",
       "      <td>0.016958</td>\n",
       "    </tr>\n",
       "    <tr>\n",
       "      <th>14</th>\n",
       "      <td>Special</td>\n",
       "      <td>0</td>\n",
       "      <td>0.000000</td>\n",
       "      <td>0</td>\n",
       "      <td>0</td>\n",
       "      <td>0.000000</td>\n",
       "      <td>0.0</td>\n",
       "      <td>0.000000</td>\n",
       "      <td>0.000000</td>\n",
       "    </tr>\n",
       "    <tr>\n",
       "      <th>15</th>\n",
       "      <td>Missing</td>\n",
       "      <td>0</td>\n",
       "      <td>0.000000</td>\n",
       "      <td>0</td>\n",
       "      <td>0</td>\n",
       "      <td>0.000000</td>\n",
       "      <td>0.0</td>\n",
       "      <td>0.000000</td>\n",
       "      <td>0.000000</td>\n",
       "    </tr>\n",
       "    <tr>\n",
       "      <th>Totals</th>\n",
       "      <td></td>\n",
       "      <td>35000</td>\n",
       "      <td>1.000000</td>\n",
       "      <td>1913</td>\n",
       "      <td>33087</td>\n",
       "      <td>0.945343</td>\n",
       "      <td></td>\n",
       "      <td>2.800196</td>\n",
       "      <td>0.267545</td>\n",
       "    </tr>\n",
       "  </tbody>\n",
       "</table>\n",
       "</div>"
      ],
      "text/plain": [
       "                                               Bin  Count  Count (%)  \\\n",
       "0                                 [0.0, 65.0, 3.0]   2131   0.060886   \n",
       "1                    [63.0, 25.0, 41.0, 45.0, 6.0]   2648   0.075657   \n",
       "2       [37.0, 42.0, 50.0, 64.0, 51.0, 57.0, 59.0]   2945   0.084143   \n",
       "3                   [60.0, 48.0, 47.0, 58.0, 33.0]   2256   0.064457   \n",
       "4              [36.0, 53.0, 30.0, 9.0, 54.0, 61.0]   3091   0.088314   \n",
       "5                         [55.0, 62.0, 34.0, 38.0]   1797   0.051343   \n",
       "6       [27.0, 44.0, 26.0, 15.0, 49.0, 43.0, 52.0]   3594   0.102686   \n",
       "7                   [32.0, 29.0, 35.0, 21.0, 40.0]   2582   0.073771   \n",
       "8                         [17.0, 56.0, 20.0, 39.0]   2171   0.062029   \n",
       "9                         [23.0, 18.0, 31.0, 28.0]   2380   0.068000   \n",
       "10                          [46.0, 12.0, 8.0, 5.0]   2377   0.067914   \n",
       "11                         [13.0, 19.0, 7.0, 24.0]   2572   0.073486   \n",
       "12                        [11.0, 14.0, 22.0, 16.0]   2540   0.072571   \n",
       "13                                [10.0, 2.0, 4.0]   1916   0.054743   \n",
       "14                                         Special      0   0.000000   \n",
       "15                                         Missing      0   0.000000   \n",
       "Totals                                              35000   1.000000   \n",
       "\n",
       "        Non-event  Event  Event rate       WoE        IV        JS  \n",
       "0            1225    906    0.425153  3.152125  1.932168  0.174284  \n",
       "1             106   2542    0.959970   -0.3268  0.006999  0.000871  \n",
       "2             104   2841    0.964686 -0.457053  0.014397  0.001784  \n",
       "3              65   2191    0.971188 -0.667258  0.021513  0.002640  \n",
       "4              83   3008    0.973148 -0.739722  0.035155  0.004297  \n",
       "5              43   1754    0.976071 -0.857986  0.026198  0.003178  \n",
       "6              79   3515    0.978019 -0.944879  0.061359  0.007397  \n",
       "7              51   2531    0.980248 -1.054076  0.052531  0.006278  \n",
       "8              39   2132    0.982036 -1.150786  0.050691  0.006008  \n",
       "9              41   2339    0.982773 -1.193439  0.058789  0.006941  \n",
       "10             33   2344    0.986117 -1.412639  0.075708  0.008748  \n",
       "11             24   2548    0.990669 -1.814542  0.116971  0.012897  \n",
       "12             17   2523    0.993307 -2.149523  0.144807  0.015264  \n",
       "13              3   1913    0.998434 -3.607348  0.202910  0.016958  \n",
       "14              0      0    0.000000       0.0  0.000000  0.000000  \n",
       "15              0      0    0.000000       0.0  0.000000  0.000000  \n",
       "Totals       1913  33087    0.945343            2.800196  0.267545  "
      ]
     },
     "metadata": {},
     "output_type": "display_data"
    },
    {
     "data": {
      "text/plain": [
       "'# de retrasos:'"
      ]
     },
     "metadata": {},
     "output_type": "display_data"
    },
    {
     "data": {
      "text/html": [
       "<div>\n",
       "<style scoped>\n",
       "    .dataframe tbody tr th:only-of-type {\n",
       "        vertical-align: middle;\n",
       "    }\n",
       "\n",
       "    .dataframe tbody tr th {\n",
       "        vertical-align: top;\n",
       "    }\n",
       "\n",
       "    .dataframe thead th {\n",
       "        text-align: right;\n",
       "    }\n",
       "</style>\n",
       "<table border=\"1\" class=\"dataframe\">\n",
       "  <thead>\n",
       "    <tr style=\"text-align: right;\">\n",
       "      <th></th>\n",
       "      <th>Bin</th>\n",
       "      <th>Count</th>\n",
       "      <th>Count (%)</th>\n",
       "      <th>Non-event</th>\n",
       "      <th>Event</th>\n",
       "      <th>Event rate</th>\n",
       "      <th>WoE</th>\n",
       "      <th>IV</th>\n",
       "      <th>JS</th>\n",
       "    </tr>\n",
       "  </thead>\n",
       "  <tbody>\n",
       "    <tr>\n",
       "      <th>0</th>\n",
       "      <td>[-inf, 0.50)</td>\n",
       "      <td>8273</td>\n",
       "      <td>0.236371</td>\n",
       "      <td>1168</td>\n",
       "      <td>7105</td>\n",
       "      <td>0.858818</td>\n",
       "      <td>1.044962</td>\n",
       "      <td>0.413619</td>\n",
       "      <td>0.049471</td>\n",
       "    </tr>\n",
       "    <tr>\n",
       "      <th>1</th>\n",
       "      <td>[0.50, 1.50)</td>\n",
       "      <td>6151</td>\n",
       "      <td>0.175743</td>\n",
       "      <td>50</td>\n",
       "      <td>6101</td>\n",
       "      <td>0.991871</td>\n",
       "      <td>-1.953717</td>\n",
       "      <td>0.309187</td>\n",
       "      <td>0.033478</td>\n",
       "    </tr>\n",
       "    <tr>\n",
       "      <th>2</th>\n",
       "      <td>[1.50, 2.50)</td>\n",
       "      <td>5294</td>\n",
       "      <td>0.151257</td>\n",
       "      <td>42</td>\n",
       "      <td>5252</td>\n",
       "      <td>0.992066</td>\n",
       "      <td>-1.978227</td>\n",
       "      <td>0.270578</td>\n",
       "      <td>0.029202</td>\n",
       "    </tr>\n",
       "    <tr>\n",
       "      <th>3</th>\n",
       "      <td>[2.50, 3.50)</td>\n",
       "      <td>4249</td>\n",
       "      <td>0.121400</td>\n",
       "      <td>28</td>\n",
       "      <td>4221</td>\n",
       "      <td>0.993410</td>\n",
       "      <td>-2.165155</td>\n",
       "      <td>0.244524</td>\n",
       "      <td>0.025718</td>\n",
       "    </tr>\n",
       "    <tr>\n",
       "      <th>4</th>\n",
       "      <td>[3.50, 4.50)</td>\n",
       "      <td>3427</td>\n",
       "      <td>0.097914</td>\n",
       "      <td>22</td>\n",
       "      <td>3405</td>\n",
       "      <td>0.993580</td>\n",
       "      <td>-2.19149</td>\n",
       "      <td>0.200325</td>\n",
       "      <td>0.020990</td>\n",
       "    </tr>\n",
       "    <tr>\n",
       "      <th>5</th>\n",
       "      <td>[4.50, 5.50)</td>\n",
       "      <td>2454</td>\n",
       "      <td>0.070114</td>\n",
       "      <td>20</td>\n",
       "      <td>2434</td>\n",
       "      <td>0.991850</td>\n",
       "      <td>-1.951091</td>\n",
       "      <td>0.123131</td>\n",
       "      <td>0.013337</td>\n",
       "    </tr>\n",
       "    <tr>\n",
       "      <th>6</th>\n",
       "      <td>[5.50, 7.50)</td>\n",
       "      <td>2820</td>\n",
       "      <td>0.080571</td>\n",
       "      <td>43</td>\n",
       "      <td>2777</td>\n",
       "      <td>0.984752</td>\n",
       "      <td>-1.317459</td>\n",
       "      <td>0.080961</td>\n",
       "      <td>0.009446</td>\n",
       "    </tr>\n",
       "    <tr>\n",
       "      <th>7</th>\n",
       "      <td>[7.50, inf)</td>\n",
       "      <td>2332</td>\n",
       "      <td>0.066629</td>\n",
       "      <td>540</td>\n",
       "      <td>1792</td>\n",
       "      <td>0.768439</td>\n",
       "      <td>1.650949</td>\n",
       "      <td>0.376613</td>\n",
       "      <td>0.042367</td>\n",
       "    </tr>\n",
       "    <tr>\n",
       "      <th>8</th>\n",
       "      <td>Special</td>\n",
       "      <td>0</td>\n",
       "      <td>0.000000</td>\n",
       "      <td>0</td>\n",
       "      <td>0</td>\n",
       "      <td>0.000000</td>\n",
       "      <td>0.0</td>\n",
       "      <td>0.000000</td>\n",
       "      <td>0.000000</td>\n",
       "    </tr>\n",
       "    <tr>\n",
       "      <th>9</th>\n",
       "      <td>Missing</td>\n",
       "      <td>0</td>\n",
       "      <td>0.000000</td>\n",
       "      <td>0</td>\n",
       "      <td>0</td>\n",
       "      <td>0.000000</td>\n",
       "      <td>0.0</td>\n",
       "      <td>0.000000</td>\n",
       "      <td>0.000000</td>\n",
       "    </tr>\n",
       "    <tr>\n",
       "      <th>Totals</th>\n",
       "      <td></td>\n",
       "      <td>35000</td>\n",
       "      <td>1.000000</td>\n",
       "      <td>1913</td>\n",
       "      <td>33087</td>\n",
       "      <td>0.945343</td>\n",
       "      <td></td>\n",
       "      <td>2.018938</td>\n",
       "      <td>0.224010</td>\n",
       "    </tr>\n",
       "  </tbody>\n",
       "</table>\n",
       "</div>"
      ],
      "text/plain": [
       "                 Bin  Count  Count (%)  Non-event  Event  Event rate  \\\n",
       "0       [-inf, 0.50)   8273   0.236371       1168   7105    0.858818   \n",
       "1       [0.50, 1.50)   6151   0.175743         50   6101    0.991871   \n",
       "2       [1.50, 2.50)   5294   0.151257         42   5252    0.992066   \n",
       "3       [2.50, 3.50)   4249   0.121400         28   4221    0.993410   \n",
       "4       [3.50, 4.50)   3427   0.097914         22   3405    0.993580   \n",
       "5       [4.50, 5.50)   2454   0.070114         20   2434    0.991850   \n",
       "6       [5.50, 7.50)   2820   0.080571         43   2777    0.984752   \n",
       "7        [7.50, inf)   2332   0.066629        540   1792    0.768439   \n",
       "8            Special      0   0.000000          0      0    0.000000   \n",
       "9            Missing      0   0.000000          0      0    0.000000   \n",
       "Totals                35000   1.000000       1913  33087    0.945343   \n",
       "\n",
       "             WoE        IV        JS  \n",
       "0       1.044962  0.413619  0.049471  \n",
       "1      -1.953717  0.309187  0.033478  \n",
       "2      -1.978227  0.270578  0.029202  \n",
       "3      -2.165155  0.244524  0.025718  \n",
       "4       -2.19149  0.200325  0.020990  \n",
       "5      -1.951091  0.123131  0.013337  \n",
       "6      -1.317459  0.080961  0.009446  \n",
       "7       1.650949  0.376613  0.042367  \n",
       "8            0.0  0.000000  0.000000  \n",
       "9            0.0  0.000000  0.000000  \n",
       "Totals            2.018938  0.224010  "
      ]
     },
     "metadata": {},
     "output_type": "display_data"
    },
    {
     "data": {
      "text/plain": [
       "'Componente interno:'"
      ]
     },
     "metadata": {},
     "output_type": "display_data"
    },
    {
     "data": {
      "text/html": [
       "<div>\n",
       "<style scoped>\n",
       "    .dataframe tbody tr th:only-of-type {\n",
       "        vertical-align: middle;\n",
       "    }\n",
       "\n",
       "    .dataframe tbody tr th {\n",
       "        vertical-align: top;\n",
       "    }\n",
       "\n",
       "    .dataframe thead th {\n",
       "        text-align: right;\n",
       "    }\n",
       "</style>\n",
       "<table border=\"1\" class=\"dataframe\">\n",
       "  <thead>\n",
       "    <tr style=\"text-align: right;\">\n",
       "      <th></th>\n",
       "      <th>Bin</th>\n",
       "      <th>Count</th>\n",
       "      <th>Count (%)</th>\n",
       "      <th>Non-event</th>\n",
       "      <th>Event</th>\n",
       "      <th>Event rate</th>\n",
       "      <th>WoE</th>\n",
       "      <th>IV</th>\n",
       "      <th>JS</th>\n",
       "    </tr>\n",
       "  </thead>\n",
       "  <tbody>\n",
       "    <tr>\n",
       "      <th>0</th>\n",
       "      <td>[-inf, 878.93)</td>\n",
       "      <td>25484</td>\n",
       "      <td>0.728114</td>\n",
       "      <td>1570</td>\n",
       "      <td>23914</td>\n",
       "      <td>0.938393</td>\n",
       "      <td>0.127079</td>\n",
       "      <td>0.012446</td>\n",
       "      <td>0.001555</td>\n",
       "    </tr>\n",
       "    <tr>\n",
       "      <th>1</th>\n",
       "      <td>[878.93, 1438.70)</td>\n",
       "      <td>2904</td>\n",
       "      <td>0.082971</td>\n",
       "      <td>189</td>\n",
       "      <td>2715</td>\n",
       "      <td>0.934917</td>\n",
       "      <td>0.185668</td>\n",
       "      <td>0.003108</td>\n",
       "      <td>0.000388</td>\n",
       "    </tr>\n",
       "    <tr>\n",
       "      <th>2</th>\n",
       "      <td>[1438.70, inf)</td>\n",
       "      <td>6612</td>\n",
       "      <td>0.188914</td>\n",
       "      <td>154</td>\n",
       "      <td>6458</td>\n",
       "      <td>0.976709</td>\n",
       "      <td>-0.885655</td>\n",
       "      <td>0.101567</td>\n",
       "      <td>0.012297</td>\n",
       "    </tr>\n",
       "    <tr>\n",
       "      <th>3</th>\n",
       "      <td>Special</td>\n",
       "      <td>0</td>\n",
       "      <td>0.000000</td>\n",
       "      <td>0</td>\n",
       "      <td>0</td>\n",
       "      <td>0.000000</td>\n",
       "      <td>0.0</td>\n",
       "      <td>0.000000</td>\n",
       "      <td>0.000000</td>\n",
       "    </tr>\n",
       "    <tr>\n",
       "      <th>4</th>\n",
       "      <td>Missing</td>\n",
       "      <td>0</td>\n",
       "      <td>0.000000</td>\n",
       "      <td>0</td>\n",
       "      <td>0</td>\n",
       "      <td>0.000000</td>\n",
       "      <td>0.0</td>\n",
       "      <td>0.000000</td>\n",
       "      <td>0.000000</td>\n",
       "    </tr>\n",
       "    <tr>\n",
       "      <th>Totals</th>\n",
       "      <td></td>\n",
       "      <td>35000</td>\n",
       "      <td>1.000000</td>\n",
       "      <td>1913</td>\n",
       "      <td>33087</td>\n",
       "      <td>0.945343</td>\n",
       "      <td></td>\n",
       "      <td>0.117122</td>\n",
       "      <td>0.014239</td>\n",
       "    </tr>\n",
       "  </tbody>\n",
       "</table>\n",
       "</div>"
      ],
      "text/plain": [
       "                      Bin  Count  Count (%)  Non-event  Event  Event rate  \\\n",
       "0          [-inf, 878.93)  25484   0.728114       1570  23914    0.938393   \n",
       "1       [878.93, 1438.70)   2904   0.082971        189   2715    0.934917   \n",
       "2          [1438.70, inf)   6612   0.188914        154   6458    0.976709   \n",
       "3                 Special      0   0.000000          0      0    0.000000   \n",
       "4                 Missing      0   0.000000          0      0    0.000000   \n",
       "Totals                     35000   1.000000       1913  33087    0.945343   \n",
       "\n",
       "             WoE        IV        JS  \n",
       "0       0.127079  0.012446  0.001555  \n",
       "1       0.185668  0.003108  0.000388  \n",
       "2      -0.885655  0.101567  0.012297  \n",
       "3            0.0  0.000000  0.000000  \n",
       "4            0.0  0.000000  0.000000  \n",
       "Totals            0.117122  0.014239  "
      ]
     },
     "metadata": {},
     "output_type": "display_data"
    }
   ],
   "source": [
    "display(\"Num caso:\",num_caso_table.build())\n",
    "display(\"Tiempo adeudo:\",tiempo_adeudo_table.build())\n",
    "display(\"# de retrasos:\",num_retrasos_table.build())\n",
    "display(\"Componente interno:\",comp_interno1_table.build())"
   ]
  },
  {
   "cell_type": "code",
   "execution_count": 127,
   "id": "e971cf73",
   "metadata": {},
   "outputs": [
    {
     "data": {
      "image/png": "[encoded data removed]",
      "text/plain": [
       "<Figure size 432x288 with 2 Axes>"
      ]
     },
     "metadata": {
      "needs_background": "light"
     },
     "output_type": "display_data"
    },
    {
     "data": {
      "image/png": "[encoded data removed]",
      "text/plain": [
       "<Figure size 432x288 with 2 Axes>"
      ]
     },
     "metadata": {
      "needs_background": "light"
     },
     "output_type": "display_data"
    }
   ],
   "source": [
    "num_caso_table.plot(metric=\"event_rate\")\n",
    "num_caso_table.plot(metric=\"woe\")"
   ]
  },
  {
   "cell_type": "code",
   "execution_count": 128,
   "id": "ad841a74",
   "metadata": {},
   "outputs": [
    {
     "data": {
      "image/png": "[encoded data removed]",
      "text/plain": [
       "<Figure size 432x288 with 2 Axes>"
      ]
     },
     "metadata": {
      "needs_background": "light"
     },
     "output_type": "display_data"
    },
    {
     "data": {
      "image/png": "[encoded data removed]",
      "text/plain": [
       "<Figure size 432x288 with 2 Axes>"
      ]
     },
     "metadata": {
      "needs_background": "light"
     },
     "output_type": "display_data"
    }
   ],
   "source": [
    "tiempo_adeudo_table.plot(metric=\"event_rate\")\n",
    "tiempo_adeudo_table.plot(metric=\"woe\")"
   ]
  },
  {
   "cell_type": "code",
   "execution_count": 129,
   "id": "dcb7217d",
   "metadata": {},
   "outputs": [
    {
     "data": {
      "image/png": "[encoded data removed]",
      "text/plain": [
       "<Figure size 432x288 with 2 Axes>"
      ]
     },
     "metadata": {
      "needs_background": "light"
     },
     "output_type": "display_data"
    },
    {
     "data": {
      "image/png": "[encoded data removed]",
      "text/plain": [
       "<Figure size 432x288 with 2 Axes>"
      ]
     },
     "metadata": {
      "needs_background": "light"
     },
     "output_type": "display_data"
    }
   ],
   "source": [
    "num_retrasos_table.plot(metric=\"event_rate\")\n",
    "num_retrasos_table.plot(metric=\"woe\")"
   ]
  },
  {
   "cell_type": "code",
   "execution_count": 130,
   "id": "d1e5e5d6",
   "metadata": {},
   "outputs": [
    {
     "data": {
      "image/png": "[encoded data removed]",
      "text/plain": [
       "<Figure size 432x288 with 2 Axes>"
      ]
     },
     "metadata": {
      "needs_background": "light"
     },
     "output_type": "display_data"
    },
    {
     "data": {
      "image/png": "[encoded data removed]",
      "text/plain": [
       "<Figure size 432x288 with 2 Axes>"
      ]
     },
     "metadata": {
      "needs_background": "light"
     },
     "output_type": "display_data"
    }
   ],
   "source": [
    "comp_interno1_table.plot(metric=\"event_rate\")\n",
    "comp_interno1_table.plot(metric=\"woe\")"
   ]
  },
  {
   "cell_type": "code",
   "execution_count": 131,
   "id": "0191cb05",
   "metadata": {},
   "outputs": [],
   "source": [
    "train[\"woe_num_caso\"] = optb_num_caso.transform(train[\"num_caso\"], metric=\"woe\")\n",
    "train[\"woe_tiempo_adeudo\"] = optb_tiempo_adeudo.transform(train[\"tiempo_adeudo\"], metric=\"woe\")\n",
    "train[\"woe_num_retrasos\"] = optb_num_retrasos.transform(train[\"num_retrasos\"], metric=\"woe\")\n",
    "train[\"woe_comp_interno1\"] = optb_comp_interno1.transform(train[\"comp_interno1\"], metric=\"woe\")"
   ]
  },
  {
   "cell_type": "code",
   "execution_count": 132,
   "id": "ac4f0d54",
   "metadata": {},
   "outputs": [
    {
     "data": {
      "text/html": [
       "<div>\n",
       "<style scoped>\n",
       "    .dataframe tbody tr th:only-of-type {\n",
       "        vertical-align: middle;\n",
       "    }\n",
       "\n",
       "    .dataframe tbody tr th {\n",
       "        vertical-align: top;\n",
       "    }\n",
       "\n",
       "    .dataframe thead th {\n",
       "        text-align: right;\n",
       "    }\n",
       "</style>\n",
       "<table border=\"1\" class=\"dataframe\">\n",
       "  <thead>\n",
       "    <tr style=\"text-align: right;\">\n",
       "      <th></th>\n",
       "      <th>num_caso</th>\n",
       "      <th>tiempo_adeudo</th>\n",
       "      <th>num_retrasos</th>\n",
       "      <th>comp_interno1</th>\n",
       "      <th>prest_aceptado</th>\n",
       "      <th>woe_num_caso</th>\n",
       "      <th>woe_tiempo_adeudo</th>\n",
       "      <th>woe_num_retrasos</th>\n",
       "      <th>woe_comp_interno1</th>\n",
       "    </tr>\n",
       "  </thead>\n",
       "  <tbody>\n",
       "    <tr>\n",
       "      <th>48824</th>\n",
       "      <td>39349</td>\n",
       "      <td>0.0</td>\n",
       "      <td>0.0</td>\n",
       "      <td>0.0</td>\n",
       "      <td>0.0</td>\n",
       "      <td>-0.084157</td>\n",
       "      <td>3.152125</td>\n",
       "      <td>1.044962</td>\n",
       "      <td>0.127079</td>\n",
       "    </tr>\n",
       "    <tr>\n",
       "      <th>2704</th>\n",
       "      <td>5626</td>\n",
       "      <td>61.0</td>\n",
       "      <td>5.0</td>\n",
       "      <td>0.0</td>\n",
       "      <td>1.0</td>\n",
       "      <td>0.302465</td>\n",
       "      <td>-0.739722</td>\n",
       "      <td>-1.951091</td>\n",
       "      <td>0.127079</td>\n",
       "    </tr>\n",
       "    <tr>\n",
       "      <th>25631</th>\n",
       "      <td>52705</td>\n",
       "      <td>33.0</td>\n",
       "      <td>2.0</td>\n",
       "      <td>0.0</td>\n",
       "      <td>1.0</td>\n",
       "      <td>-0.084157</td>\n",
       "      <td>-0.667258</td>\n",
       "      <td>-1.978227</td>\n",
       "      <td>0.127079</td>\n",
       "    </tr>\n",
       "    <tr>\n",
       "      <th>7285</th>\n",
       "      <td>15130</td>\n",
       "      <td>56.0</td>\n",
       "      <td>5.0</td>\n",
       "      <td>0.0</td>\n",
       "      <td>1.0</td>\n",
       "      <td>0.188174</td>\n",
       "      <td>-1.150786</td>\n",
       "      <td>-1.951091</td>\n",
       "      <td>0.127079</td>\n",
       "    </tr>\n",
       "    <tr>\n",
       "      <th>27346</th>\n",
       "      <td>56225</td>\n",
       "      <td>29.0</td>\n",
       "      <td>3.0</td>\n",
       "      <td>0.0</td>\n",
       "      <td>1.0</td>\n",
       "      <td>-0.273098</td>\n",
       "      <td>-1.054076</td>\n",
       "      <td>-2.165155</td>\n",
       "      <td>0.127079</td>\n",
       "    </tr>\n",
       "  </tbody>\n",
       "</table>\n",
       "</div>"
      ],
      "text/plain": [
       "       num_caso  tiempo_adeudo  num_retrasos  comp_interno1  prest_aceptado  \\\n",
       "48824     39349            0.0           0.0            0.0             0.0   \n",
       "2704       5626           61.0           5.0            0.0             1.0   \n",
       "25631     52705           33.0           2.0            0.0             1.0   \n",
       "7285      15130           56.0           5.0            0.0             1.0   \n",
       "27346     56225           29.0           3.0            0.0             1.0   \n",
       "\n",
       "       woe_num_caso  woe_tiempo_adeudo  woe_num_retrasos  woe_comp_interno1  \n",
       "48824     -0.084157           3.152125          1.044962           0.127079  \n",
       "2704       0.302465          -0.739722         -1.951091           0.127079  \n",
       "25631     -0.084157          -0.667258         -1.978227           0.127079  \n",
       "7285       0.188174          -1.150786         -1.951091           0.127079  \n",
       "27346     -0.273098          -1.054076         -2.165155           0.127079  "
      ]
     },
     "execution_count": 132,
     "metadata": {},
     "output_type": "execute_result"
    }
   ],
   "source": [
    "train.head()"
   ]
  },
  {
   "cell_type": "code",
   "execution_count": 133,
   "id": "a4e47a78",
   "metadata": {},
   "outputs": [
    {
     "name": "stdout",
     "output_type": "stream",
     "text": [
      "<class 'pandas.core.frame.DataFrame'>\n",
      "Int64Index: 35000 entries, 48824 to 38408\n",
      "Data columns (total 9 columns):\n",
      " #   Column             Non-Null Count  Dtype  \n",
      "---  ------             --------------  -----  \n",
      " 0   num_caso           35000 non-null  int64  \n",
      " 1   tiempo_adeudo      35000 non-null  float64\n",
      " 2   num_retrasos       35000 non-null  float64\n",
      " 3   comp_interno1      35000 non-null  float64\n",
      " 4   prest_aceptado     35000 non-null  float64\n",
      " 5   woe_num_caso       35000 non-null  float64\n",
      " 6   woe_tiempo_adeudo  35000 non-null  float64\n",
      " 7   woe_num_retrasos   35000 non-null  float64\n",
      " 8   woe_comp_interno1  35000 non-null  float64\n",
      "dtypes: float64(8), int64(1)\n",
      "memory usage: 2.7 MB\n"
     ]
    }
   ],
   "source": [
    "train.info()"
   ]
  },
  {
   "cell_type": "code",
   "execution_count": 134,
   "id": "c9b1d09f",
   "metadata": {},
   "outputs": [
    {
     "data": {
      "image/png": "[encoded data removed]",
      "text/plain": [
       "<Figure size 720x720 with 2 Axes>"
      ]
     },
     "metadata": {
      "needs_background": "light"
     },
     "output_type": "display_data"
    }
   ],
   "source": [
    "corr = train.corr()\n",
    "corr\n",
    "\n",
    "xticks = list(corr.index)  \n",
    "yticks = list(corr.index)  \n",
    "fig = plt.figure(figsize=(10,10))\n",
    "ax1 = fig.add_subplot(1, 1, 1)\n",
    "\n",
    "sns.heatmap(corr,annot=True,cmap=\"rainbow\",ax=ax1,linewidths=.5,annot_kws={'size':9,'weight':'bold', 'color':'k'})\n",
    "ax1.set_xticklabels(xticks, rotation=30, fontsize=10)\n",
    "ax1.set_yticklabels(yticks, rotation=0, fontsize=10)\n",
    "plt.show()"
   ]
  },
  {
   "cell_type": "code",
   "execution_count": 135,
   "id": "7fe6f206",
   "metadata": {},
   "outputs": [
    {
     "data": {
      "image/png": "[encoded data removed]",
      "text/plain": [
       "<Figure size 720x720 with 2 Axes>"
      ]
     },
     "metadata": {
      "needs_background": "light"
     },
     "output_type": "display_data"
    }
   ],
   "source": [
    "corr = train.iloc[:,5:].corr()\n",
    "\n",
    "\n",
    "xticks = list(corr.index)  \n",
    "yticks = list(corr.index)  \n",
    "fig = plt.figure(figsize=(10,10))\n",
    "ax1 = fig.add_subplot(1, 1, 1)\n",
    "\n",
    "sns.heatmap(corr,annot=True,cmap=\"rainbow\",ax=ax1,linewidths=.5,annot_kws={'size':9,'weight':'bold', 'color':'k'})\n",
    "ax1.set_xticklabels(xticks, rotation=30, fontsize=10)\n",
    "ax1.set_yticklabels(yticks, rotation=0, fontsize=10)\n",
    "plt.show()"
   ]
  },
  {
   "cell_type": "markdown",
   "id": "bbaf0f60",
   "metadata": {},
   "source": [
    "El nivel de correlaciones entre los predictores es baja por lo tanto, todas las variables pueden estar dentro del modelo."
   ]
  },
  {
   "cell_type": "code",
   "execution_count": 136,
   "id": "5ca110e1",
   "metadata": {},
   "outputs": [
    {
     "data": {
      "text/html": [
       "<div>\n",
       "<style scoped>\n",
       "    .dataframe tbody tr th:only-of-type {\n",
       "        vertical-align: middle;\n",
       "    }\n",
       "\n",
       "    .dataframe tbody tr th {\n",
       "        vertical-align: top;\n",
       "    }\n",
       "\n",
       "    .dataframe thead th {\n",
       "        text-align: right;\n",
       "    }\n",
       "</style>\n",
       "<table border=\"1\" class=\"dataframe\">\n",
       "  <thead>\n",
       "    <tr style=\"text-align: right;\">\n",
       "      <th></th>\n",
       "      <th>woe_num_caso</th>\n",
       "      <th>woe_tiempo_adeudo</th>\n",
       "      <th>woe_num_retrasos</th>\n",
       "      <th>woe_comp_interno1</th>\n",
       "    </tr>\n",
       "  </thead>\n",
       "  <tbody>\n",
       "    <tr>\n",
       "      <th>48824</th>\n",
       "      <td>-0.084157</td>\n",
       "      <td>3.152125</td>\n",
       "      <td>1.044962</td>\n",
       "      <td>0.127079</td>\n",
       "    </tr>\n",
       "    <tr>\n",
       "      <th>2704</th>\n",
       "      <td>0.302465</td>\n",
       "      <td>-0.739722</td>\n",
       "      <td>-1.951091</td>\n",
       "      <td>0.127079</td>\n",
       "    </tr>\n",
       "    <tr>\n",
       "      <th>25631</th>\n",
       "      <td>-0.084157</td>\n",
       "      <td>-0.667258</td>\n",
       "      <td>-1.978227</td>\n",
       "      <td>0.127079</td>\n",
       "    </tr>\n",
       "    <tr>\n",
       "      <th>7285</th>\n",
       "      <td>0.188174</td>\n",
       "      <td>-1.150786</td>\n",
       "      <td>-1.951091</td>\n",
       "      <td>0.127079</td>\n",
       "    </tr>\n",
       "    <tr>\n",
       "      <th>27346</th>\n",
       "      <td>-0.273098</td>\n",
       "      <td>-1.054076</td>\n",
       "      <td>-2.165155</td>\n",
       "      <td>0.127079</td>\n",
       "    </tr>\n",
       "  </tbody>\n",
       "</table>\n",
       "</div>"
      ],
      "text/plain": [
       "       woe_num_caso  woe_tiempo_adeudo  woe_num_retrasos  woe_comp_interno1\n",
       "48824     -0.084157           3.152125          1.044962           0.127079\n",
       "2704       0.302465          -0.739722         -1.951091           0.127079\n",
       "25631     -0.084157          -0.667258         -1.978227           0.127079\n",
       "7285       0.188174          -1.150786         -1.951091           0.127079\n",
       "27346     -0.273098          -1.054076         -2.165155           0.127079"
      ]
     },
     "execution_count": 136,
     "metadata": {},
     "output_type": "execute_result"
    }
   ],
   "source": [
    "X_woe_train=train.iloc[:,5:]\n",
    "y_train=train.iloc[:,4]\n",
    "X_woe_train.head()"
   ]
  },
  {
   "cell_type": "code",
   "execution_count": 137,
   "id": "8e24902e",
   "metadata": {},
   "outputs": [
    {
     "data": {
      "text/plain": [
       "48824    0.0\n",
       "2704     1.0\n",
       "25631    1.0\n",
       "7285     1.0\n",
       "27346    1.0\n",
       "        ... \n",
       "16304    1.0\n",
       "79       1.0\n",
       "12119    1.0\n",
       "14147    1.0\n",
       "38408    1.0\n",
       "Name: prest_aceptado, Length: 35000, dtype: float64"
      ]
     },
     "execution_count": 137,
     "metadata": {},
     "output_type": "execute_result"
    }
   ],
   "source": [
    "y_train"
   ]
  },
  {
   "cell_type": "code",
   "execution_count": 138,
   "id": "38f017c4",
   "metadata": {},
   "outputs": [],
   "source": [
    "lr_model = LogisticRegression()\n",
    "clf = lr_model.fit(X_woe_train,y_train)"
   ]
  },
  {
   "cell_type": "code",
   "execution_count": 139,
   "id": "e511f300",
   "metadata": {},
   "outputs": [
    {
     "data": {
      "text/plain": [
       "48824    0.0\n",
       "2704     1.0\n",
       "25631    1.0\n",
       "7285     1.0\n",
       "27346    1.0\n",
       "        ... \n",
       "16304    1.0\n",
       "79       1.0\n",
       "12119    1.0\n",
       "14147    1.0\n",
       "38408    1.0\n",
       "Name: prest_aceptado, Length: 35000, dtype: float64"
      ]
     },
     "execution_count": 139,
     "metadata": {},
     "output_type": "execute_result"
    }
   ],
   "source": [
    "y_test = train.iloc[:,4]\n",
    "y_test"
   ]
  },
  {
   "cell_type": "code",
   "execution_count": 140,
   "id": "a488c3ba",
   "metadata": {},
   "outputs": [
    {
     "data": {
      "image/png": "[encoded data removed]",
      "text/plain": [
       "<Figure size 864x432 with 2 Axes>"
      ]
     },
     "metadata": {
      "needs_background": "light"
     },
     "output_type": "display_data"
    }
   ],
   "source": [
    "LABELS = ['Positive', 'Negative']\n",
    "lr_stats = performance_evaluation_report(lr_model, X_woe_train,y_train, labels=LABELS,show_plot=True)"
   ]
  },
  {
   "cell_type": "code",
   "execution_count": 141,
   "id": "bdcf282b",
   "metadata": {},
   "outputs": [],
   "source": [
    "y_fit=clf.predict_proba(X_woe_train)"
   ]
  },
  {
   "cell_type": "code",
   "execution_count": 142,
   "id": "81028e02",
   "metadata": {},
   "outputs": [
    {
     "data": {
      "text/plain": [
       "array([[0.79247911, 0.20752089],\n",
       "       [0.0052685 , 0.9947315 ],\n",
       "       [0.00739944, 0.99260056],\n",
       "       ...,\n",
       "       [0.00524873, 0.99475127],\n",
       "       [0.00679664, 0.99320336],\n",
       "       [0.00775249, 0.99224751]])"
      ]
     },
     "execution_count": 142,
     "metadata": {},
     "output_type": "execute_result"
    }
   ],
   "source": [
    "y_fit"
   ]
  },
  {
   "cell_type": "code",
   "execution_count": 143,
   "id": "f41c7708",
   "metadata": {},
   "outputs": [
    {
     "data": {
      "text/html": [
       "<div>\n",
       "<style scoped>\n",
       "    .dataframe tbody tr th:only-of-type {\n",
       "        vertical-align: middle;\n",
       "    }\n",
       "\n",
       "    .dataframe tbody tr th {\n",
       "        vertical-align: top;\n",
       "    }\n",
       "\n",
       "    .dataframe thead th {\n",
       "        text-align: right;\n",
       "    }\n",
       "</style>\n",
       "<table border=\"1\" class=\"dataframe\">\n",
       "  <thead>\n",
       "    <tr style=\"text-align: right;\">\n",
       "      <th></th>\n",
       "      <th>prest_aceptado</th>\n",
       "      <th>Estimado</th>\n",
       "    </tr>\n",
       "  </thead>\n",
       "  <tbody>\n",
       "    <tr>\n",
       "      <th>48824</th>\n",
       "      <td>0.0</td>\n",
       "      <td>0.207521</td>\n",
       "    </tr>\n",
       "    <tr>\n",
       "      <th>2704</th>\n",
       "      <td>1.0</td>\n",
       "      <td>0.994731</td>\n",
       "    </tr>\n",
       "    <tr>\n",
       "      <th>25631</th>\n",
       "      <td>1.0</td>\n",
       "      <td>0.992601</td>\n",
       "    </tr>\n",
       "    <tr>\n",
       "      <th>7285</th>\n",
       "      <td>1.0</td>\n",
       "      <td>0.996136</td>\n",
       "    </tr>\n",
       "    <tr>\n",
       "      <th>27346</th>\n",
       "      <td>1.0</td>\n",
       "      <td>0.994968</td>\n",
       "    </tr>\n",
       "  </tbody>\n",
       "</table>\n",
       "</div>"
      ],
      "text/plain": [
       "       prest_aceptado  Estimado\n",
       "48824             0.0  0.207521\n",
       "2704              1.0  0.994731\n",
       "25631             1.0  0.992601\n",
       "7285              1.0  0.996136\n",
       "27346             1.0  0.994968"
      ]
     },
     "execution_count": 143,
     "metadata": {},
     "output_type": "execute_result"
    }
   ],
   "source": [
    "base = y_train.to_frame()\n",
    "base[\"Estimado\"] = y_fit[:,1]\n",
    "base.head()"
   ]
  },
  {
   "cell_type": "code",
   "execution_count": 144,
   "id": "834411f5",
   "metadata": {},
   "outputs": [
    {
     "data": {
      "image/png": "[encoded data removed]",
      "text/plain": [
       "<Figure size 576x360 with 1 Axes>"
      ]
     },
     "metadata": {
      "needs_background": "light"
     },
     "output_type": "display_data"
    },
    {
     "name": "stdout",
     "output_type": "stream",
     "text": [
      "El KS para Regresión Logistica es: 0.7672318243634363\n"
     ]
    }
   ],
   "source": [
    "ks_lr = get_KS(base)\n",
    "print(f\"El KS para Regresión Logistica es: {ks_lr}\")"
   ]
  },
  {
   "cell_type": "code",
   "execution_count": 145,
   "id": "5841e832",
   "metadata": {},
   "outputs": [
    {
     "name": "stdout",
     "output_type": "stream",
     "text": [
      "El gini para Regresión Logistica es: 0.8716682883477007\n"
     ]
    }
   ],
   "source": [
    "lr_gini = get_gini(lr_stats)\n",
    "print(f\"El gini para Regresión Logistica es: {lr_gini}\")"
   ]
  },
  {
   "cell_type": "markdown",
   "id": "682cea1f",
   "metadata": {},
   "source": [
    "### Validación"
   ]
  },
  {
   "cell_type": "code",
   "execution_count": 146,
   "id": "3a0262ea",
   "metadata": {},
   "outputs": [
    {
     "data": {
      "text/plain": [
       "array([0.95814286, 0.96042857, 0.96157143, 0.96214286, 0.96128571])"
      ]
     },
     "execution_count": 146,
     "metadata": {},
     "output_type": "execute_result"
    }
   ],
   "source": [
    "k_fold = StratifiedKFold(5, shuffle=True, random_state=42)\n",
    "scores = cross_val_score(lr_model, X_woe_train, y_train, cv=k_fold)\n",
    "scores"
   ]
  },
  {
   "cell_type": "code",
   "execution_count": 147,
   "id": "e8862d2d",
   "metadata": {},
   "outputs": [
    {
     "data": {
      "text/plain": [
       "{'fit_time': array([0.03994679, 0.03703594, 0.03372502, 0.0337801 , 0.0359838 ]),\n",
       " 'score_time': array([0.01456118, 0.01603723, 0.01368713, 0.01415896, 0.01399016]),\n",
       " 'test_accuracy': array([0.95814286, 0.96042857, 0.96157143, 0.96214286, 0.96128571]),\n",
       " 'test_precision': array([0.9757749 , 0.97497752, 0.97401434, 0.97502617, 0.97557321]),\n",
       " 'test_recall': array([0.98005138, 0.98337615, 0.98564304, 0.9851919 , 0.98368087]),\n",
       " 'test_roc_auc': array([0.94198029, 0.93164809, 0.92230669, 0.93622818, 0.94649172])}"
      ]
     },
     "execution_count": 147,
     "metadata": {},
     "output_type": "execute_result"
    }
   ],
   "source": [
    "cross_validate(lr_model, X_woe_train, y_train, cv=k_fold,\n",
    "                           scoring=['accuracy', 'precision', 'recall','roc_auc'])"
   ]
  },
  {
   "cell_type": "markdown",
   "id": "e87187ee",
   "metadata": {},
   "source": [
    "## Árbol de clasificación"
   ]
  },
  {
   "cell_type": "code",
   "execution_count": 148,
   "id": "dfde32f4",
   "metadata": {},
   "outputs": [],
   "source": [
    "base_df = pd.read_csv(\"data_bases/base_final.csv\")"
   ]
  },
  {
   "cell_type": "code",
   "execution_count": 149,
   "id": "0ee9eec6",
   "metadata": {},
   "outputs": [
    {
     "data": {
      "text/html": [
       "<div>\n",
       "<style scoped>\n",
       "    .dataframe tbody tr th:only-of-type {\n",
       "        vertical-align: middle;\n",
       "    }\n",
       "\n",
       "    .dataframe tbody tr th {\n",
       "        vertical-align: top;\n",
       "    }\n",
       "\n",
       "    .dataframe thead th {\n",
       "        text-align: right;\n",
       "    }\n",
       "</style>\n",
       "<table border=\"1\" class=\"dataframe\">\n",
       "  <thead>\n",
       "    <tr style=\"text-align: right;\">\n",
       "      <th></th>\n",
       "      <th>Unnamed: 0</th>\n",
       "      <th>index</th>\n",
       "      <th>num_caso</th>\n",
       "      <th>tiempo_adeudo</th>\n",
       "      <th>num_retrasos</th>\n",
       "      <th>comp_interno1</th>\n",
       "      <th>prest_aceptado</th>\n",
       "    </tr>\n",
       "  </thead>\n",
       "  <tbody>\n",
       "    <tr>\n",
       "      <th>0</th>\n",
       "      <td>0</td>\n",
       "      <td>0.0</td>\n",
       "      <td>1</td>\n",
       "      <td>62.0</td>\n",
       "      <td>7.0</td>\n",
       "      <td>3039.513678</td>\n",
       "      <td>1.0</td>\n",
       "    </tr>\n",
       "    <tr>\n",
       "      <th>1</th>\n",
       "      <td>1</td>\n",
       "      <td>6.0</td>\n",
       "      <td>7</td>\n",
       "      <td>29.0</td>\n",
       "      <td>9.0</td>\n",
       "      <td>1547.112462</td>\n",
       "      <td>1.0</td>\n",
       "    </tr>\n",
       "    <tr>\n",
       "      <th>2</th>\n",
       "      <td>2</td>\n",
       "      <td>7.0</td>\n",
       "      <td>8</td>\n",
       "      <td>59.0</td>\n",
       "      <td>4.0</td>\n",
       "      <td>1215.805471</td>\n",
       "      <td>1.0</td>\n",
       "    </tr>\n",
       "    <tr>\n",
       "      <th>3</th>\n",
       "      <td>3</td>\n",
       "      <td>8.0</td>\n",
       "      <td>9</td>\n",
       "      <td>15.0</td>\n",
       "      <td>0.0</td>\n",
       "      <td>0.000000</td>\n",
       "      <td>1.0</td>\n",
       "    </tr>\n",
       "    <tr>\n",
       "      <th>4</th>\n",
       "      <td>4</td>\n",
       "      <td>9.0</td>\n",
       "      <td>10</td>\n",
       "      <td>16.0</td>\n",
       "      <td>1.0</td>\n",
       "      <td>0.000000</td>\n",
       "      <td>1.0</td>\n",
       "    </tr>\n",
       "    <tr>\n",
       "      <th>5</th>\n",
       "      <td>5</td>\n",
       "      <td>13.0</td>\n",
       "      <td>14</td>\n",
       "      <td>56.0</td>\n",
       "      <td>7.0</td>\n",
       "      <td>0.000000</td>\n",
       "      <td>1.0</td>\n",
       "    </tr>\n",
       "    <tr>\n",
       "      <th>6</th>\n",
       "      <td>6</td>\n",
       "      <td>17.0</td>\n",
       "      <td>18</td>\n",
       "      <td>58.0</td>\n",
       "      <td>8.0</td>\n",
       "      <td>0.000000</td>\n",
       "      <td>1.0</td>\n",
       "    </tr>\n",
       "    <tr>\n",
       "      <th>7</th>\n",
       "      <td>7</td>\n",
       "      <td>20.0</td>\n",
       "      <td>21</td>\n",
       "      <td>54.0</td>\n",
       "      <td>3.0</td>\n",
       "      <td>0.000000</td>\n",
       "      <td>1.0</td>\n",
       "    </tr>\n",
       "    <tr>\n",
       "      <th>8</th>\n",
       "      <td>8</td>\n",
       "      <td>21.0</td>\n",
       "      <td>22</td>\n",
       "      <td>26.0</td>\n",
       "      <td>2.0</td>\n",
       "      <td>1317.122594</td>\n",
       "      <td>1.0</td>\n",
       "    </tr>\n",
       "    <tr>\n",
       "      <th>9</th>\n",
       "      <td>9</td>\n",
       "      <td>23.0</td>\n",
       "      <td>24</td>\n",
       "      <td>4.0</td>\n",
       "      <td>0.0</td>\n",
       "      <td>0.000000</td>\n",
       "      <td>1.0</td>\n",
       "    </tr>\n",
       "  </tbody>\n",
       "</table>\n",
       "</div>"
      ],
      "text/plain": [
       "   Unnamed: 0  index  num_caso  tiempo_adeudo  num_retrasos  comp_interno1  \\\n",
       "0           0    0.0         1           62.0           7.0    3039.513678   \n",
       "1           1    6.0         7           29.0           9.0    1547.112462   \n",
       "2           2    7.0         8           59.0           4.0    1215.805471   \n",
       "3           3    8.0         9           15.0           0.0       0.000000   \n",
       "4           4    9.0        10           16.0           1.0       0.000000   \n",
       "5           5   13.0        14           56.0           7.0       0.000000   \n",
       "6           6   17.0        18           58.0           8.0       0.000000   \n",
       "7           7   20.0        21           54.0           3.0       0.000000   \n",
       "8           8   21.0        22           26.0           2.0    1317.122594   \n",
       "9           9   23.0        24            4.0           0.0       0.000000   \n",
       "\n",
       "   prest_aceptado  \n",
       "0             1.0  \n",
       "1             1.0  \n",
       "2             1.0  \n",
       "3             1.0  \n",
       "4             1.0  \n",
       "5             1.0  \n",
       "6             1.0  \n",
       "7             1.0  \n",
       "8             1.0  \n",
       "9             1.0  "
      ]
     },
     "execution_count": 149,
     "metadata": {},
     "output_type": "execute_result"
    }
   ],
   "source": [
    "base_df.head(10)"
   ]
  },
  {
   "cell_type": "code",
   "execution_count": 150,
   "id": "c63b2979",
   "metadata": {},
   "outputs": [
    {
     "data": {
      "text/html": [
       "<div>\n",
       "<style scoped>\n",
       "    .dataframe tbody tr th:only-of-type {\n",
       "        vertical-align: middle;\n",
       "    }\n",
       "\n",
       "    .dataframe tbody tr th {\n",
       "        vertical-align: top;\n",
       "    }\n",
       "\n",
       "    .dataframe thead th {\n",
       "        text-align: right;\n",
       "    }\n",
       "</style>\n",
       "<table border=\"1\" class=\"dataframe\">\n",
       "  <thead>\n",
       "    <tr style=\"text-align: right;\">\n",
       "      <th></th>\n",
       "      <th>Unnamed: 0</th>\n",
       "      <th>index</th>\n",
       "      <th>num_caso</th>\n",
       "      <th>tiempo_adeudo</th>\n",
       "      <th>num_retrasos</th>\n",
       "      <th>comp_interno1</th>\n",
       "      <th>prest_aceptado</th>\n",
       "    </tr>\n",
       "  </thead>\n",
       "  <tbody>\n",
       "    <tr>\n",
       "      <th>49990</th>\n",
       "      <td>49990</td>\n",
       "      <td>0.0</td>\n",
       "      <td>98941</td>\n",
       "      <td>0.0</td>\n",
       "      <td>0.0</td>\n",
       "      <td>0.000000</td>\n",
       "      <td>0.0</td>\n",
       "    </tr>\n",
       "    <tr>\n",
       "      <th>49991</th>\n",
       "      <td>49991</td>\n",
       "      <td>0.0</td>\n",
       "      <td>98943</td>\n",
       "      <td>0.0</td>\n",
       "      <td>0.0</td>\n",
       "      <td>6079.027356</td>\n",
       "      <td>1.0</td>\n",
       "    </tr>\n",
       "    <tr>\n",
       "      <th>49992</th>\n",
       "      <td>49992</td>\n",
       "      <td>0.0</td>\n",
       "      <td>98947</td>\n",
       "      <td>0.0</td>\n",
       "      <td>0.0</td>\n",
       "      <td>0.000000</td>\n",
       "      <td>0.0</td>\n",
       "    </tr>\n",
       "    <tr>\n",
       "      <th>49993</th>\n",
       "      <td>49993</td>\n",
       "      <td>0.0</td>\n",
       "      <td>98950</td>\n",
       "      <td>0.0</td>\n",
       "      <td>0.0</td>\n",
       "      <td>2127.659574</td>\n",
       "      <td>1.0</td>\n",
       "    </tr>\n",
       "    <tr>\n",
       "      <th>49994</th>\n",
       "      <td>49994</td>\n",
       "      <td>0.0</td>\n",
       "      <td>98959</td>\n",
       "      <td>0.0</td>\n",
       "      <td>0.0</td>\n",
       "      <td>1266.464032</td>\n",
       "      <td>0.0</td>\n",
       "    </tr>\n",
       "    <tr>\n",
       "      <th>49995</th>\n",
       "      <td>49995</td>\n",
       "      <td>0.0</td>\n",
       "      <td>98961</td>\n",
       "      <td>0.0</td>\n",
       "      <td>0.0</td>\n",
       "      <td>1519.756839</td>\n",
       "      <td>0.0</td>\n",
       "    </tr>\n",
       "    <tr>\n",
       "      <th>49996</th>\n",
       "      <td>49996</td>\n",
       "      <td>0.0</td>\n",
       "      <td>98968</td>\n",
       "      <td>0.0</td>\n",
       "      <td>0.0</td>\n",
       "      <td>0.000000</td>\n",
       "      <td>0.0</td>\n",
       "    </tr>\n",
       "    <tr>\n",
       "      <th>49997</th>\n",
       "      <td>49997</td>\n",
       "      <td>0.0</td>\n",
       "      <td>98976</td>\n",
       "      <td>0.0</td>\n",
       "      <td>0.0</td>\n",
       "      <td>911.854103</td>\n",
       "      <td>0.0</td>\n",
       "    </tr>\n",
       "    <tr>\n",
       "      <th>49998</th>\n",
       "      <td>49998</td>\n",
       "      <td>0.0</td>\n",
       "      <td>98978</td>\n",
       "      <td>0.0</td>\n",
       "      <td>0.0</td>\n",
       "      <td>0.000000</td>\n",
       "      <td>0.0</td>\n",
       "    </tr>\n",
       "    <tr>\n",
       "      <th>49999</th>\n",
       "      <td>49999</td>\n",
       "      <td>0.0</td>\n",
       "      <td>98985</td>\n",
       "      <td>0.0</td>\n",
       "      <td>0.0</td>\n",
       "      <td>0.000000</td>\n",
       "      <td>0.0</td>\n",
       "    </tr>\n",
       "  </tbody>\n",
       "</table>\n",
       "</div>"
      ],
      "text/plain": [
       "       Unnamed: 0  index  num_caso  tiempo_adeudo  num_retrasos  \\\n",
       "49990       49990    0.0     98941            0.0           0.0   \n",
       "49991       49991    0.0     98943            0.0           0.0   \n",
       "49992       49992    0.0     98947            0.0           0.0   \n",
       "49993       49993    0.0     98950            0.0           0.0   \n",
       "49994       49994    0.0     98959            0.0           0.0   \n",
       "49995       49995    0.0     98961            0.0           0.0   \n",
       "49996       49996    0.0     98968            0.0           0.0   \n",
       "49997       49997    0.0     98976            0.0           0.0   \n",
       "49998       49998    0.0     98978            0.0           0.0   \n",
       "49999       49999    0.0     98985            0.0           0.0   \n",
       "\n",
       "       comp_interno1  prest_aceptado  \n",
       "49990       0.000000             0.0  \n",
       "49991    6079.027356             1.0  \n",
       "49992       0.000000             0.0  \n",
       "49993    2127.659574             1.0  \n",
       "49994    1266.464032             0.0  \n",
       "49995    1519.756839             0.0  \n",
       "49996       0.000000             0.0  \n",
       "49997     911.854103             0.0  \n",
       "49998       0.000000             0.0  \n",
       "49999       0.000000             0.0  "
      ]
     },
     "execution_count": 150,
     "metadata": {},
     "output_type": "execute_result"
    }
   ],
   "source": [
    "base_df.tail(10)"
   ]
  },
  {
   "cell_type": "code",
   "execution_count": 151,
   "id": "8ec59e85",
   "metadata": {},
   "outputs": [
    {
     "data": {
      "text/plain": [
       "0        0.0\n",
       "1        6.0\n",
       "2        7.0\n",
       "3        8.0\n",
       "4        9.0\n",
       "        ... \n",
       "49995    0.0\n",
       "49996    0.0\n",
       "49997    0.0\n",
       "49998    0.0\n",
       "49999    0.0\n",
       "Name: index, Length: 50000, dtype: float64"
      ]
     },
     "execution_count": 151,
     "metadata": {},
     "output_type": "execute_result"
    }
   ],
   "source": [
    "base_df.pop(\"index\")"
   ]
  },
  {
   "cell_type": "code",
   "execution_count": 152,
   "id": "d1dbaea1",
   "metadata": {},
   "outputs": [
    {
     "data": {
      "text/plain": [
       "0            0\n",
       "1            1\n",
       "2            2\n",
       "3            3\n",
       "4            4\n",
       "         ...  \n",
       "49995    49995\n",
       "49996    49996\n",
       "49997    49997\n",
       "49998    49998\n",
       "49999    49999\n",
       "Name: Unnamed: 0, Length: 50000, dtype: int64"
      ]
     },
     "execution_count": 152,
     "metadata": {},
     "output_type": "execute_result"
    }
   ],
   "source": [
    "base_df.pop(\"Unnamed: 0\")"
   ]
  },
  {
   "cell_type": "code",
   "execution_count": 153,
   "id": "fc0af1ff",
   "metadata": {},
   "outputs": [
    {
     "data": {
      "text/html": [
       "<div>\n",
       "<style scoped>\n",
       "    .dataframe tbody tr th:only-of-type {\n",
       "        vertical-align: middle;\n",
       "    }\n",
       "\n",
       "    .dataframe tbody tr th {\n",
       "        vertical-align: top;\n",
       "    }\n",
       "\n",
       "    .dataframe thead th {\n",
       "        text-align: right;\n",
       "    }\n",
       "</style>\n",
       "<table border=\"1\" class=\"dataframe\">\n",
       "  <thead>\n",
       "    <tr style=\"text-align: right;\">\n",
       "      <th></th>\n",
       "      <th>num_caso</th>\n",
       "      <th>tiempo_adeudo</th>\n",
       "      <th>num_retrasos</th>\n",
       "      <th>comp_interno1</th>\n",
       "      <th>prest_aceptado</th>\n",
       "    </tr>\n",
       "  </thead>\n",
       "  <tbody>\n",
       "    <tr>\n",
       "      <th>0</th>\n",
       "      <td>1</td>\n",
       "      <td>62.0</td>\n",
       "      <td>7.0</td>\n",
       "      <td>3039.513678</td>\n",
       "      <td>1.0</td>\n",
       "    </tr>\n",
       "    <tr>\n",
       "      <th>1</th>\n",
       "      <td>7</td>\n",
       "      <td>29.0</td>\n",
       "      <td>9.0</td>\n",
       "      <td>1547.112462</td>\n",
       "      <td>1.0</td>\n",
       "    </tr>\n",
       "    <tr>\n",
       "      <th>2</th>\n",
       "      <td>8</td>\n",
       "      <td>59.0</td>\n",
       "      <td>4.0</td>\n",
       "      <td>1215.805471</td>\n",
       "      <td>1.0</td>\n",
       "    </tr>\n",
       "    <tr>\n",
       "      <th>3</th>\n",
       "      <td>9</td>\n",
       "      <td>15.0</td>\n",
       "      <td>0.0</td>\n",
       "      <td>0.000000</td>\n",
       "      <td>1.0</td>\n",
       "    </tr>\n",
       "    <tr>\n",
       "      <th>4</th>\n",
       "      <td>10</td>\n",
       "      <td>16.0</td>\n",
       "      <td>1.0</td>\n",
       "      <td>0.000000</td>\n",
       "      <td>1.0</td>\n",
       "    </tr>\n",
       "  </tbody>\n",
       "</table>\n",
       "</div>"
      ],
      "text/plain": [
       "   num_caso  tiempo_adeudo  num_retrasos  comp_interno1  prest_aceptado\n",
       "0         1           62.0           7.0    3039.513678             1.0\n",
       "1         7           29.0           9.0    1547.112462             1.0\n",
       "2         8           59.0           4.0    1215.805471             1.0\n",
       "3         9           15.0           0.0       0.000000             1.0\n",
       "4        10           16.0           1.0       0.000000             1.0"
      ]
     },
     "execution_count": 153,
     "metadata": {},
     "output_type": "execute_result"
    }
   ],
   "source": [
    "base_df.head()"
   ]
  },
  {
   "cell_type": "code",
   "execution_count": 154,
   "id": "2e445556",
   "metadata": {},
   "outputs": [
    {
     "data": {
      "text/plain": [
       "<AxesSubplot:xlabel='prest_aceptado', ylabel='count'>"
      ]
     },
     "execution_count": 154,
     "metadata": {},
     "output_type": "execute_result"
    },
    {
     "data": {
      "image/png": "[encoded data removed]",
      "text/plain": [
       "<Figure size 432x288 with 1 Axes>"
      ]
     },
     "metadata": {
      "needs_background": "light"
     },
     "output_type": "display_data"
    }
   ],
   "source": [
    "sns.countplot(data=base_df, x=\"prest_aceptado\")"
   ]
  },
  {
   "cell_type": "code",
   "execution_count": 155,
   "id": "1a24237b",
   "metadata": {},
   "outputs": [
    {
     "data": {
      "text/plain": [
       "prest_aceptado\n",
       "1.0    47225\n",
       "0.0     2775\n",
       "dtype: int64"
      ]
     },
     "execution_count": 155,
     "metadata": {},
     "output_type": "execute_result"
    }
   ],
   "source": [
    "base_df.value_counts(\"prest_aceptado\")"
   ]
  },
  {
   "cell_type": "code",
   "execution_count": 156,
   "id": "21f5662f",
   "metadata": {},
   "outputs": [],
   "source": [
    "X = base_df.copy()\n",
    "y = X.pop(\"prest_aceptado\")"
   ]
  },
  {
   "cell_type": "markdown",
   "id": "b28264a8",
   "metadata": {},
   "source": [
    "Creamos los train test sets"
   ]
  },
  {
   "cell_type": "code",
   "execution_count": 157,
   "id": "1bc190ee",
   "metadata": {},
   "outputs": [],
   "source": [
    "X_train, X_test, y_train, y_test = train_test_split(X, y, test_size=0.2,stratify=y)"
   ]
  },
  {
   "cell_type": "markdown",
   "id": "fda4add9",
   "metadata": {},
   "source": [
    "### Lo siguiente es definir los Transformation Pipelines"
   ]
  },
  {
   "cell_type": "code",
   "execution_count": 158,
   "id": "a58a2b84",
   "metadata": {},
   "outputs": [],
   "source": [
    "num_features = X_train.select_dtypes(include='number').columns.to_list()\n",
    "cat_features = X_train.select_dtypes(include='object').columns.to_list()"
   ]
  },
  {
   "cell_type": "code",
   "execution_count": 159,
   "id": "be843d90",
   "metadata": {},
   "outputs": [
    {
     "data": {
      "text/plain": [
       "['num_caso', 'tiempo_adeudo', 'num_retrasos', 'comp_interno1']"
      ]
     },
     "execution_count": 159,
     "metadata": {},
     "output_type": "execute_result"
    }
   ],
   "source": [
    "num_features"
   ]
  },
  {
   "cell_type": "code",
   "execution_count": 160,
   "id": "bf3eb580",
   "metadata": {},
   "outputs": [
    {
     "data": {
      "text/plain": [
       "[]"
      ]
     },
     "execution_count": 160,
     "metadata": {},
     "output_type": "execute_result"
    }
   ],
   "source": [
    "cat_features # No hay varibales categoricas en nuestra base de datos"
   ]
  },
  {
   "cell_type": "code",
   "execution_count": 161,
   "id": "a8fb72da",
   "metadata": {},
   "outputs": [],
   "source": [
    "cat_list = [list(X_train[col].dropna().unique()) for col in cat_features]"
   ]
  },
  {
   "cell_type": "code",
   "execution_count": 162,
   "id": "8f321919",
   "metadata": {},
   "outputs": [],
   "source": [
    "# Pipeline para variables númericas\n",
    "num_pipeline = Pipeline(steps=[('imputer', SimpleImputer(strategy='median'))])"
   ]
  },
  {
   "cell_type": "code",
   "execution_count": 163,
   "id": "e384801b",
   "metadata": {},
   "outputs": [],
   "source": [
    "# Pipeline para variables categoricas\n",
    "cat_pipeline = Pipeline(steps=[('imputer', SimpleImputer(strategy='most_frequent')),\n",
    "                               ('onehot', OneHotEncoder(categories=cat_list, sparse=False,\n",
    "                                        handle_unknown='error', drop='first'))])"
   ]
  },
  {
   "cell_type": "markdown",
   "id": "600f1094",
   "metadata": {},
   "source": [
    "### Realizamos las transformaciones"
   ]
  },
  {
   "cell_type": "code",
   "execution_count": 164,
   "id": "87f6c987",
   "metadata": {},
   "outputs": [],
   "source": [
    "full_pipeline = ColumnTransformer(transformers=[\n",
    "               ('numerical', num_pipeline, num_features),\n",
    "               ('categorical', cat_pipeline, cat_features)],\n",
    "               remainder='drop')"
   ]
  },
  {
   "cell_type": "code",
   "execution_count": 165,
   "id": "6dc43624",
   "metadata": {},
   "outputs": [],
   "source": [
    "dec_tree = DecisionTreeClassifier(random_state=42)"
   ]
  },
  {
   "cell_type": "code",
   "execution_count": 166,
   "id": "3a8d24a0",
   "metadata": {},
   "outputs": [],
   "source": [
    "tree_pipeline = Pipeline(steps=[('preprocessor', full_pipeline),('classifier', dec_tree)])"
   ]
  },
  {
   "cell_type": "code",
   "execution_count": 167,
   "id": "af20da68",
   "metadata": {},
   "outputs": [
    {
     "data": {
      "text/plain": [
       "Pipeline(steps=[('preprocessor',\n",
       "                 ColumnTransformer(transformers=[('numerical',\n",
       "                                                  Pipeline(steps=[('imputer',\n",
       "                                                                   SimpleImputer(strategy='median'))]),\n",
       "                                                  ['num_caso', 'tiempo_adeudo',\n",
       "                                                   'num_retrasos',\n",
       "                                                   'comp_interno1']),\n",
       "                                                 ('categorical',\n",
       "                                                  Pipeline(steps=[('imputer',\n",
       "                                                                   SimpleImputer(strategy='most_frequent')),\n",
       "                                                                  ('onehot',\n",
       "                                                                   OneHotEncoder(categories=[],\n",
       "                                                                                 drop='first',\n",
       "                                                                                 sparse=False))]),\n",
       "                                                  [])])),\n",
       "                ('classifier', DecisionTreeClassifier(random_state=42))])"
      ]
     },
     "execution_count": 167,
     "metadata": {},
     "output_type": "execute_result"
    }
   ],
   "source": [
    "tree_pipeline.fit(X_train, y_train)"
   ]
  },
  {
   "cell_type": "markdown",
   "id": "f5a6d2b1",
   "metadata": {},
   "source": [
    "### Confusion Matrix y ROC curve - Primer modelo"
   ]
  },
  {
   "cell_type": "code",
   "execution_count": 168,
   "id": "02c4063e",
   "metadata": {},
   "outputs": [
    {
     "data": {
      "text/plain": [
       "{'accuracy': 0.9991,\n",
       " 'precision': 0.9991536182818451,\n",
       " 'recall': 0.9998941238750662,\n",
       " 'specificity': 0.9855855855855856,\n",
       " 'f1_score': 0.99952373392602,\n",
       " 'cohens_kappa': 0.9913641894044362,\n",
       " 'roc_auc': 0.9927398547303259,\n",
       " 'pr_auc': 0.9995738710784556}"
      ]
     },
     "execution_count": 168,
     "metadata": {},
     "output_type": "execute_result"
    },
    {
     "data": {
      "image/png": "[encoded data removed]",
      "text/plain": [
       "<Figure size 864x432 with 2 Axes>"
      ]
     },
     "metadata": {
      "needs_background": "light"
     },
     "output_type": "display_data"
    }
   ],
   "source": [
    "LABELS = ['Positive', 'Negative']\n",
    "performance_evaluation_report(tree_pipeline, X_test,y_test, labels=LABELS,show_plot=True)"
   ]
  },
  {
   "cell_type": "markdown",
   "id": "c19c7bd9",
   "metadata": {},
   "source": [
    "Como podemos observar este modelo al observar la curva $\\textit{ROC}$ parece ser bueno, recordando que esta curva describe una relación entre la sensibilidad del modelo (la tasa de verdaderos positivos o TPR) contra su especificidad (descrita con respecto a la tasa de falsos positivos: 1-FPR), pero tal vez no sea lo demasiado robusto"
   ]
  },
  {
   "cell_type": "markdown",
   "id": "1d747ce1",
   "metadata": {},
   "source": [
    "En lo anterior como se vió en clase, aplicamos básicamente el tratamiento de los missings como un paso en el pipline, sin embargo, se pueden hacer muchas otras cosas, obviamente:\n",
    "\n",
    "1.- Reescalamiento o estandarización de variables, esto es porque normalmente las variables no están en la misma escala, esto puede introducir sesgo en el modelo. Por ejemplo, para los modelos de regresión o K-vecinos, se recomienda considerar este paso. En general, los métodos basados en árboles de clasificación no requieren considerar el escalamiento. En scikit - learn algunas opciones populares son: StandardScaler y MinMaxScaler.\n",
    "\n",
    "2.- Discretización de varibles continuas.\n",
    "\n",
    "3.- Transformación eliminado Outliers: Durante el análisis exploratorio de Datos que se hizo en la Tarea 1, la base puede tener incosistencias. Este tipo de cuestiones, pueden sesgar el modelo y entonces debemos tratarlos de alguna manera, es lo que se recomienda.\n",
    "\n",
    "En lo que sigue, eliminaremos los outiliers de la base de datos para tener un modelo más robusto. Crearemos una función que detecte y modifique los valores atípicos."
   ]
  },
  {
   "cell_type": "markdown",
   "id": "b55b1a1c",
   "metadata": {},
   "source": [
    "### Creamos nuestro propio transformador"
   ]
  },
  {
   "cell_type": "code",
   "execution_count": 169,
   "id": "ec605774",
   "metadata": {},
   "outputs": [],
   "source": [
    "class OutlierRemover(BaseEstimator, TransformerMixin):\n",
    "    def __init__(self, n_std=3):\n",
    "        self.n_std = n_std\n",
    "    \n",
    "    def fit(self, X, y = None):\n",
    "        if np.isnan(X).any(axis=None):\n",
    "            raise ValueError('''There are missing values in the array! \n",
    "                                Please remove them.''')\n",
    "\n",
    "        mean_vec = np.mean(X, axis=0)\n",
    "        std_vec = np.std(X, axis=0)\n",
    "        \n",
    "        self.upper_band_ = mean_vec + self.n_std * std_vec\n",
    "        self.lower_band_ = mean_vec - self.n_std * std_vec\n",
    "        self.n_features_ = len(self.upper_band_)\n",
    "        \n",
    "        return self \n",
    "    \n",
    "    def transform(self, X, y = None):\n",
    "        X_copy = pd.DataFrame(X.copy())\n",
    "        \n",
    "        upper_band = np.repeat(\n",
    "            self.upper_band_.reshape(self.n_features_, -1), \n",
    "            len(X_copy), \n",
    "            axis=1).transpose()\n",
    "        lower_band = np.repeat(\n",
    "            self.lower_band_.reshape(self.n_features_, -1), \n",
    "            len(X_copy), \n",
    "            axis=1).transpose()\n",
    "        \n",
    "        X_copy[X_copy >= upper_band] = upper_band\n",
    "        X_copy[X_copy <= lower_band] = lower_band\n",
    "        \n",
    "        return X_copy.values\n",
    "\n"
   ]
  },
  {
   "cell_type": "markdown",
   "id": "c827ce15",
   "metadata": {},
   "source": [
    "### Realizamos de nuevo el proceso anterior, pero usando un Pipeline que use nuestro Transformador"
   ]
  },
  {
   "cell_type": "code",
   "execution_count": 170,
   "id": "041bcd0d",
   "metadata": {},
   "outputs": [],
   "source": [
    "num_pipeline = Pipeline(steps=[\n",
    "    ('imputer', SimpleImputer(strategy='median')),\n",
    "    ('outliers', OutlierRemover())])\n",
    "\n",
    "# Modificamos nuestro Pipeline para var númericas"
   ]
  },
  {
   "cell_type": "code",
   "execution_count": 171,
   "id": "8af30025",
   "metadata": {},
   "outputs": [],
   "source": [
    "full_pipeline2 = ColumnTransformer(transformers=[('numerical', num_pipeline, num_features),\n",
    "                                               ('categorical', cat_pipeline, cat_features)],\n",
    "                                 remainder='drop')\n",
    "\n",
    "dec_tree2 = DecisionTreeClassifier(random_state=42)\n",
    "\n",
    "tree_pipeline2= Pipeline(steps=[('preprocessor', full_pipeline2),\n",
    "                                ('classifier', dec_tree2)])"
   ]
  },
  {
   "cell_type": "code",
   "execution_count": 172,
   "id": "85669332",
   "metadata": {},
   "outputs": [
    {
     "data": {
      "text/plain": [
       "Pipeline(steps=[('preprocessor',\n",
       "                 ColumnTransformer(transformers=[('numerical',\n",
       "                                                  Pipeline(steps=[('imputer',\n",
       "                                                                   SimpleImputer(strategy='median')),\n",
       "                                                                  ('outliers',\n",
       "                                                                   OutlierRemover())]),\n",
       "                                                  ['num_caso', 'tiempo_adeudo',\n",
       "                                                   'num_retrasos',\n",
       "                                                   'comp_interno1']),\n",
       "                                                 ('categorical',\n",
       "                                                  Pipeline(steps=[('imputer',\n",
       "                                                                   SimpleImputer(strategy='most_frequent')),\n",
       "                                                                  ('onehot',\n",
       "                                                                   OneHotEncoder(categories=[],\n",
       "                                                                                 drop='first',\n",
       "                                                                                 sparse=False))]),\n",
       "                                                  [])])),\n",
       "                ('classifier', DecisionTreeClassifier(random_state=42))])"
      ]
     },
     "execution_count": 172,
     "metadata": {},
     "output_type": "execute_result"
    }
   ],
   "source": [
    "tree_pipeline2.fit(X_train, y_train)"
   ]
  },
  {
   "cell_type": "markdown",
   "id": "ddeedd87",
   "metadata": {},
   "source": [
    "### Confusion Matrix y ROC curve - Segundo modelo"
   ]
  },
  {
   "cell_type": "code",
   "execution_count": 173,
   "id": "e66bde6e",
   "metadata": {},
   "outputs": [
    {
     "data": {
      "text/plain": [
       "{'accuracy': 0.9935,\n",
       " 'precision': 0.9962962962962963,\n",
       " 'recall': 0.9968237162519852,\n",
       " 'specificity': 0.9369369369369369,\n",
       " 'f1_score': 0.9965599364911353,\n",
       " 'cohens_kappa': 0.9377364816322621,\n",
       " 'roc_auc': 0.9668803265944611,\n",
       " 'pr_auc': 0.9980600062741408}"
      ]
     },
     "execution_count": 173,
     "metadata": {},
     "output_type": "execute_result"
    },
    {
     "data": {
      "image/png": "[encoded data removed]",
      "text/plain": [
       "<Figure size 864x432 with 2 Axes>"
      ]
     },
     "metadata": {
      "needs_background": "light"
     },
     "output_type": "display_data"
    }
   ],
   "source": [
    "performance_evaluation_report(tree_pipeline2, X_test, y_test, labels=LABELS, show_plot=True)"
   ]
  },
  {
   "cell_type": "markdown",
   "id": "98dfc859",
   "metadata": {},
   "source": [
    "### Validación"
   ]
  },
  {
   "cell_type": "code",
   "execution_count": 174,
   "id": "86fee43c",
   "metadata": {},
   "outputs": [],
   "source": [
    "k_fold = StratifiedKFold(5, shuffle=True, random_state=42)"
   ]
  },
  {
   "cell_type": "code",
   "execution_count": 175,
   "id": "0f67f212",
   "metadata": {},
   "outputs": [
    {
     "data": {
      "text/plain": [
       "array([0.992625, 0.993   , 0.992625, 0.99175 , 0.991875])"
      ]
     },
     "execution_count": 175,
     "metadata": {},
     "output_type": "execute_result"
    }
   ],
   "source": [
    "cross_val_score(tree_pipeline2, X_train, y_train, cv=k_fold)"
   ]
  },
  {
   "cell_type": "code",
   "execution_count": 176,
   "id": "b3029856",
   "metadata": {},
   "outputs": [
    {
     "data": {
      "text/plain": [
       "{'fit_time': array([0.08836699, 0.0790143 , 0.07603192, 0.08242512, 0.08535695]),\n",
       " 'score_time': array([0.03051281, 0.02741289, 0.0270741 , 0.03271294, 0.02992201]),\n",
       " 'test_accuracy': array([0.992625, 0.993   , 0.992625, 0.99175 , 0.991875]),\n",
       " 'test_precision': array([0.99589893, 0.99590056, 0.99655584, 0.99602649, 0.99497819]),\n",
       " 'test_recall': array([0.99629434, 0.99669137, 0.99563261, 0.99523557, 0.99642668]),\n",
       " 'test_roc_auc': array([0.96323726, 0.96343578, 0.96853703, 0.963834  , 0.95542055])}"
      ]
     },
     "execution_count": 176,
     "metadata": {},
     "output_type": "execute_result"
    }
   ],
   "source": [
    "cross_validate(tree_pipeline2, X_train, y_train, cv=k_fold,\n",
    "                           scoring=['accuracy', 'precision', 'recall','roc_auc'])"
   ]
  },
  {
   "cell_type": "code",
   "execution_count": 177,
   "id": "2ea64bef",
   "metadata": {},
   "outputs": [],
   "source": [
    "param_grid = {'classifier__criterion': ['entropy', 'gini'],\n",
    "               'classifier__max_depth': range(3, 11),\n",
    "               'classifier__min_samples_leaf': range(2, 11)}"
   ]
  },
  {
   "cell_type": "code",
   "execution_count": 178,
   "id": "138c4e69",
   "metadata": {},
   "outputs": [
    {
     "name": "stdout",
     "output_type": "stream",
     "text": [
      "Fitting 5 folds for each of 144 candidates, totalling 720 fits\n"
     ]
    },
    {
     "data": {
      "text/plain": [
       "GridSearchCV(cv=StratifiedKFold(n_splits=5, random_state=42, shuffle=True),\n",
       "             estimator=Pipeline(steps=[('preprocessor',\n",
       "                                        ColumnTransformer(transformers=[('numerical',\n",
       "                                                                         Pipeline(steps=[('imputer',\n",
       "                                                                                          SimpleImputer(strategy='median')),\n",
       "                                                                                         ('outliers',\n",
       "                                                                                          OutlierRemover())]),\n",
       "                                                                         ['num_caso',\n",
       "                                                                          'tiempo_adeudo',\n",
       "                                                                          'num_retrasos',\n",
       "                                                                          'comp_interno1']),\n",
       "                                                                        ('categorical',\n",
       "                                                                         Pipeline(steps=[('imputer',\n",
       "                                                                                          SimpleImputer(strategy='most_frequent')),\n",
       "                                                                                         ('onehot',\n",
       "                                                                                          OneHotEncoder(categories=[],\n",
       "                                                                                                        drop='first',\n",
       "                                                                                                        sparse=False))]),\n",
       "                                                                         [])])),\n",
       "                                       ('classifier',\n",
       "                                        DecisionTreeClassifier(random_state=42))]),\n",
       "             n_jobs=-1,\n",
       "             param_grid={'classifier__criterion': ['entropy', 'gini'],\n",
       "                         'classifier__max_depth': range(3, 11),\n",
       "                         'classifier__min_samples_leaf': range(2, 11)},\n",
       "             scoring='recall', verbose=1)"
      ]
     },
     "execution_count": 178,
     "metadata": {},
     "output_type": "execute_result"
    }
   ],
   "source": [
    "classifier_gs = GridSearchCV(tree_pipeline2, param_grid,scoring='recall',cv=k_fold, n_jobs=-1, verbose=1)\n",
    "classifier_gs.fit(X_train, y_train)"
   ]
  },
  {
   "cell_type": "markdown",
   "id": "b6cda0d8",
   "metadata": {},
   "source": [
    "### Vemos cuales son los mejores parámetros"
   ]
  },
  {
   "cell_type": "code",
   "execution_count": 179,
   "id": "744a401e",
   "metadata": {},
   "outputs": [
    {
     "name": "stdout",
     "output_type": "stream",
     "text": [
      "Best parameters: {'classifier__criterion': 'entropy', 'classifier__max_depth': 3, 'classifier__min_samples_leaf': 2}\n",
      "Recall (Training set): 0.9993\n",
      "Recall (Test set): 0.9992\n"
     ]
    }
   ],
   "source": [
    "print(f'Best parameters: {classifier_gs.best_params_}') \n",
    "print(f'Recall (Training set): {classifier_gs.best_score_:.4f}') \n",
    "print(f'Recall (Test set): {metrics.recall_score(y_test, classifier_gs.predict(X_test)):.4f}')"
   ]
  },
  {
   "cell_type": "code",
   "execution_count": 180,
   "id": "f1674179",
   "metadata": {},
   "outputs": [
    {
     "data": {
      "image/png": "[encoded data removed]",
      "text/plain": [
       "<Figure size 864x432 with 2 Axes>"
      ]
     },
     "metadata": {
      "needs_background": "light"
     },
     "output_type": "display_data"
    }
   ],
   "source": [
    "LABELS = ['No Default', 'Default']\n",
    "tree_gs_perf = performance_evaluation_report(classifier_gs, X_test, \n",
    "                                             y_test, labels=LABELS, \n",
    "                                             show_plot=True)\n",
    "\n",
    "plt.tight_layout()\n",
    "#plt.savefig('images/ch8_im20.png')\n",
    "plt.show()"
   ]
  },
  {
   "cell_type": "code",
   "execution_count": 181,
   "id": "e32d7468",
   "metadata": {},
   "outputs": [],
   "source": [
    "from sklearn.metrics import roc_auc_score, roc_curve, mean_squared_error, precision_recall_curve,  accuracy_score"
   ]
  },
  {
   "cell_type": "code",
   "execution_count": 182,
   "id": "a49399a8",
   "metadata": {},
   "outputs": [
    {
     "name": "stdout",
     "output_type": "stream",
     "text": [
      "1 2 3 4 5 6 7 8 9 10 11 12 13 14 15 16 17 18 19 20 21 22 23 24 25 "
     ]
    }
   ],
   "source": [
    "train_scores, val_scores, leaves = {}, {}, {}\n",
    "for max_depth in range(1, 26):\n",
    "    print(max_depth, end=' ', flush=True)\n",
    "    reg_tree = DecisionTreeClassifier(criterion='gini',\n",
    "                                          max_depth=max_depth,\n",
    "                                          min_samples_leaf=10,\n",
    "                                          random_state=42)\n",
    "    tree_pipeline = Pipeline(steps=[('preprocessor', full_pipeline2),('classifier', reg_tree)])\n",
    "    train_scores[max_depth], val_scores[max_depth], leaves[max_depth] = [],[], []\n",
    "    \n",
    "    for train_idx, test_idx in k_fold.split(X_train,y_train):\n",
    "        X_t, y_t,  = X_train.iloc[train_idx], y_train.iloc[train_idx]\n",
    "        X_te, y_te = X_train.iloc[test_idx], y_train.iloc[test_idx]\n",
    "        tree_pipeline.fit(X_t, y_t)\n",
    "        train_pred = tree_pipeline.predict_proba(X=X_t)[:, 1]\n",
    "        train_score = roc_auc_score(y_score=train_pred, y_true=y_t)\n",
    "        train_scores[max_depth].append(train_score)\n",
    "\n",
    "        test_pred = tree_pipeline.predict_proba(X=X_te)[:, 1]\n",
    "        val_score = roc_auc_score(y_score=test_pred, y_true=y_te)\n",
    "        val_scores[max_depth].append(val_score)  \n",
    "        leaves[max_depth].append(max_depth)"
   ]
  },
  {
   "cell_type": "code",
   "execution_count": 183,
   "id": "9391fb1d",
   "metadata": {},
   "outputs": [],
   "source": [
    "clf_train_scores = pd.DataFrame(train_scores)\n",
    "clf_valid_scores = pd.DataFrame(val_scores)\n",
    "bd_leaves = pd.DataFrame(leaves)"
   ]
  },
  {
   "cell_type": "code",
   "execution_count": 184,
   "id": "1db9878f",
   "metadata": {},
   "outputs": [
    {
     "data": {
      "text/plain": [
       "{1: [1, 1, 1, 1, 1],\n",
       " 2: [2, 2, 2, 2, 2],\n",
       " 3: [3, 3, 3, 3, 3],\n",
       " 4: [4, 4, 4, 4, 4],\n",
       " 5: [5, 5, 5, 5, 5],\n",
       " 6: [6, 6, 6, 6, 6],\n",
       " 7: [7, 7, 7, 7, 7],\n",
       " 8: [8, 8, 8, 8, 8],\n",
       " 9: [9, 9, 9, 9, 9],\n",
       " 10: [10, 10, 10, 10, 10],\n",
       " 11: [11, 11, 11, 11, 11],\n",
       " 12: [12, 12, 12, 12, 12],\n",
       " 13: [13, 13, 13, 13, 13],\n",
       " 14: [14, 14, 14, 14, 14],\n",
       " 15: [15, 15, 15, 15, 15],\n",
       " 16: [16, 16, 16, 16, 16],\n",
       " 17: [17, 17, 17, 17, 17],\n",
       " 18: [18, 18, 18, 18, 18],\n",
       " 19: [19, 19, 19, 19, 19],\n",
       " 20: [20, 20, 20, 20, 20],\n",
       " 21: [21, 21, 21, 21, 21],\n",
       " 22: [22, 22, 22, 22, 22],\n",
       " 23: [23, 23, 23, 23, 23],\n",
       " 24: [24, 24, 24, 24, 24],\n",
       " 25: [25, 25, 25, 25, 25]}"
      ]
     },
     "execution_count": 184,
     "metadata": {},
     "output_type": "execute_result"
    }
   ],
   "source": [
    "leaves"
   ]
  },
  {
   "cell_type": "code",
   "execution_count": 185,
   "id": "2b477c1e",
   "metadata": {},
   "outputs": [
    {
     "data": {
      "text/html": [
       "<div>\n",
       "<style scoped>\n",
       "    .dataframe tbody tr th:only-of-type {\n",
       "        vertical-align: middle;\n",
       "    }\n",
       "\n",
       "    .dataframe tbody tr th {\n",
       "        vertical-align: top;\n",
       "    }\n",
       "\n",
       "    .dataframe thead th {\n",
       "        text-align: right;\n",
       "    }\n",
       "</style>\n",
       "<table border=\"1\" class=\"dataframe\">\n",
       "  <thead>\n",
       "    <tr style=\"text-align: right;\">\n",
       "      <th></th>\n",
       "      <th>1</th>\n",
       "      <th>2</th>\n",
       "      <th>3</th>\n",
       "      <th>4</th>\n",
       "      <th>5</th>\n",
       "      <th>6</th>\n",
       "      <th>7</th>\n",
       "      <th>8</th>\n",
       "      <th>9</th>\n",
       "      <th>10</th>\n",
       "      <th>...</th>\n",
       "      <th>16</th>\n",
       "      <th>17</th>\n",
       "      <th>18</th>\n",
       "      <th>19</th>\n",
       "      <th>20</th>\n",
       "      <th>21</th>\n",
       "      <th>22</th>\n",
       "      <th>23</th>\n",
       "      <th>24</th>\n",
       "      <th>25</th>\n",
       "    </tr>\n",
       "  </thead>\n",
       "  <tbody>\n",
       "    <tr>\n",
       "      <th>0</th>\n",
       "      <td>0.798393</td>\n",
       "      <td>0.909817</td>\n",
       "      <td>0.929251</td>\n",
       "      <td>0.942080</td>\n",
       "      <td>0.975596</td>\n",
       "      <td>0.981571</td>\n",
       "      <td>0.986132</td>\n",
       "      <td>0.992380</td>\n",
       "      <td>0.996756</td>\n",
       "      <td>0.998786</td>\n",
       "      <td>...</td>\n",
       "      <td>0.999439</td>\n",
       "      <td>0.999439</td>\n",
       "      <td>0.999439</td>\n",
       "      <td>0.999439</td>\n",
       "      <td>0.999439</td>\n",
       "      <td>0.999439</td>\n",
       "      <td>0.999439</td>\n",
       "      <td>0.999439</td>\n",
       "      <td>0.999439</td>\n",
       "      <td>0.999439</td>\n",
       "    </tr>\n",
       "    <tr>\n",
       "      <th>1</th>\n",
       "      <td>0.800579</td>\n",
       "      <td>0.908879</td>\n",
       "      <td>0.927679</td>\n",
       "      <td>0.938943</td>\n",
       "      <td>0.974032</td>\n",
       "      <td>0.981026</td>\n",
       "      <td>0.985457</td>\n",
       "      <td>0.992000</td>\n",
       "      <td>0.996377</td>\n",
       "      <td>0.999055</td>\n",
       "      <td>...</td>\n",
       "      <td>0.999574</td>\n",
       "      <td>0.999574</td>\n",
       "      <td>0.999574</td>\n",
       "      <td>0.999574</td>\n",
       "      <td>0.999574</td>\n",
       "      <td>0.999574</td>\n",
       "      <td>0.999574</td>\n",
       "      <td>0.999574</td>\n",
       "      <td>0.999574</td>\n",
       "      <td>0.999574</td>\n",
       "    </tr>\n",
       "    <tr>\n",
       "      <th>2</th>\n",
       "      <td>0.796704</td>\n",
       "      <td>0.906764</td>\n",
       "      <td>0.928313</td>\n",
       "      <td>0.963398</td>\n",
       "      <td>0.974292</td>\n",
       "      <td>0.979586</td>\n",
       "      <td>0.990152</td>\n",
       "      <td>0.994057</td>\n",
       "      <td>0.996963</td>\n",
       "      <td>0.998853</td>\n",
       "      <td>...</td>\n",
       "      <td>0.999597</td>\n",
       "      <td>0.999597</td>\n",
       "      <td>0.999597</td>\n",
       "      <td>0.999597</td>\n",
       "      <td>0.999597</td>\n",
       "      <td>0.999597</td>\n",
       "      <td>0.999597</td>\n",
       "      <td>0.999597</td>\n",
       "      <td>0.999597</td>\n",
       "      <td>0.999597</td>\n",
       "    </tr>\n",
       "    <tr>\n",
       "      <th>3</th>\n",
       "      <td>0.798492</td>\n",
       "      <td>0.908556</td>\n",
       "      <td>0.927085</td>\n",
       "      <td>0.938309</td>\n",
       "      <td>0.973422</td>\n",
       "      <td>0.980315</td>\n",
       "      <td>0.985215</td>\n",
       "      <td>0.992531</td>\n",
       "      <td>0.994624</td>\n",
       "      <td>0.996699</td>\n",
       "      <td>...</td>\n",
       "      <td>0.999593</td>\n",
       "      <td>0.999593</td>\n",
       "      <td>0.999593</td>\n",
       "      <td>0.999593</td>\n",
       "      <td>0.999593</td>\n",
       "      <td>0.999593</td>\n",
       "      <td>0.999593</td>\n",
       "      <td>0.999593</td>\n",
       "      <td>0.999593</td>\n",
       "      <td>0.999593</td>\n",
       "    </tr>\n",
       "    <tr>\n",
       "      <th>4</th>\n",
       "      <td>0.800016</td>\n",
       "      <td>0.908515</td>\n",
       "      <td>0.928750</td>\n",
       "      <td>0.940869</td>\n",
       "      <td>0.974438</td>\n",
       "      <td>0.981179</td>\n",
       "      <td>0.987677</td>\n",
       "      <td>0.994661</td>\n",
       "      <td>0.997219</td>\n",
       "      <td>0.999134</td>\n",
       "      <td>...</td>\n",
       "      <td>0.999645</td>\n",
       "      <td>0.999645</td>\n",
       "      <td>0.999645</td>\n",
       "      <td>0.999645</td>\n",
       "      <td>0.999645</td>\n",
       "      <td>0.999645</td>\n",
       "      <td>0.999645</td>\n",
       "      <td>0.999645</td>\n",
       "      <td>0.999645</td>\n",
       "      <td>0.999645</td>\n",
       "    </tr>\n",
       "  </tbody>\n",
       "</table>\n",
       "<p>5 rows × 25 columns</p>\n",
       "</div>"
      ],
      "text/plain": [
       "         1         2         3         4         5         6         7   \\\n",
       "0  0.798393  0.909817  0.929251  0.942080  0.975596  0.981571  0.986132   \n",
       "1  0.800579  0.908879  0.927679  0.938943  0.974032  0.981026  0.985457   \n",
       "2  0.796704  0.906764  0.928313  0.963398  0.974292  0.979586  0.990152   \n",
       "3  0.798492  0.908556  0.927085  0.938309  0.973422  0.980315  0.985215   \n",
       "4  0.800016  0.908515  0.928750  0.940869  0.974438  0.981179  0.987677   \n",
       "\n",
       "         8         9         10  ...        16        17        18        19  \\\n",
       "0  0.992380  0.996756  0.998786  ...  0.999439  0.999439  0.999439  0.999439   \n",
       "1  0.992000  0.996377  0.999055  ...  0.999574  0.999574  0.999574  0.999574   \n",
       "2  0.994057  0.996963  0.998853  ...  0.999597  0.999597  0.999597  0.999597   \n",
       "3  0.992531  0.994624  0.996699  ...  0.999593  0.999593  0.999593  0.999593   \n",
       "4  0.994661  0.997219  0.999134  ...  0.999645  0.999645  0.999645  0.999645   \n",
       "\n",
       "         20        21        22        23        24        25  \n",
       "0  0.999439  0.999439  0.999439  0.999439  0.999439  0.999439  \n",
       "1  0.999574  0.999574  0.999574  0.999574  0.999574  0.999574  \n",
       "2  0.999597  0.999597  0.999597  0.999597  0.999597  0.999597  \n",
       "3  0.999593  0.999593  0.999593  0.999593  0.999593  0.999593  \n",
       "4  0.999645  0.999645  0.999645  0.999645  0.999645  0.999645  \n",
       "\n",
       "[5 rows x 25 columns]"
      ]
     },
     "execution_count": 185,
     "metadata": {},
     "output_type": "execute_result"
    }
   ],
   "source": [
    "clf_train_scores"
   ]
  },
  {
   "cell_type": "code",
   "execution_count": 186,
   "id": "977722d1",
   "metadata": {},
   "outputs": [
    {
     "data": {
      "text/html": [
       "<div>\n",
       "<style scoped>\n",
       "    .dataframe tbody tr th:only-of-type {\n",
       "        vertical-align: middle;\n",
       "    }\n",
       "\n",
       "    .dataframe tbody tr th {\n",
       "        vertical-align: top;\n",
       "    }\n",
       "\n",
       "    .dataframe thead th {\n",
       "        text-align: right;\n",
       "    }\n",
       "</style>\n",
       "<table border=\"1\" class=\"dataframe\">\n",
       "  <thead>\n",
       "    <tr style=\"text-align: right;\">\n",
       "      <th></th>\n",
       "      <th>1</th>\n",
       "      <th>2</th>\n",
       "      <th>3</th>\n",
       "      <th>4</th>\n",
       "      <th>5</th>\n",
       "      <th>6</th>\n",
       "      <th>7</th>\n",
       "      <th>8</th>\n",
       "      <th>9</th>\n",
       "      <th>10</th>\n",
       "      <th>...</th>\n",
       "      <th>16</th>\n",
       "      <th>17</th>\n",
       "      <th>18</th>\n",
       "      <th>19</th>\n",
       "      <th>20</th>\n",
       "      <th>21</th>\n",
       "      <th>22</th>\n",
       "      <th>23</th>\n",
       "      <th>24</th>\n",
       "      <th>25</th>\n",
       "    </tr>\n",
       "  </thead>\n",
       "  <tbody>\n",
       "    <tr>\n",
       "      <th>0</th>\n",
       "      <td>0.800612</td>\n",
       "      <td>0.903262</td>\n",
       "      <td>0.923872</td>\n",
       "      <td>0.930723</td>\n",
       "      <td>0.969256</td>\n",
       "      <td>0.973474</td>\n",
       "      <td>0.976672</td>\n",
       "      <td>0.984528</td>\n",
       "      <td>0.994615</td>\n",
       "      <td>0.997419</td>\n",
       "      <td>...</td>\n",
       "      <td>0.995811</td>\n",
       "      <td>0.995811</td>\n",
       "      <td>0.995811</td>\n",
       "      <td>0.995811</td>\n",
       "      <td>0.995811</td>\n",
       "      <td>0.995811</td>\n",
       "      <td>0.995811</td>\n",
       "      <td>0.995811</td>\n",
       "      <td>0.995811</td>\n",
       "      <td>0.995811</td>\n",
       "    </tr>\n",
       "    <tr>\n",
       "      <th>1</th>\n",
       "      <td>0.791868</td>\n",
       "      <td>0.907003</td>\n",
       "      <td>0.930127</td>\n",
       "      <td>0.939625</td>\n",
       "      <td>0.974741</td>\n",
       "      <td>0.981525</td>\n",
       "      <td>0.984437</td>\n",
       "      <td>0.989827</td>\n",
       "      <td>0.995755</td>\n",
       "      <td>0.998269</td>\n",
       "      <td>...</td>\n",
       "      <td>0.998863</td>\n",
       "      <td>0.998863</td>\n",
       "      <td>0.998863</td>\n",
       "      <td>0.998863</td>\n",
       "      <td>0.998863</td>\n",
       "      <td>0.998863</td>\n",
       "      <td>0.998863</td>\n",
       "      <td>0.998863</td>\n",
       "      <td>0.998863</td>\n",
       "      <td>0.998863</td>\n",
       "    </tr>\n",
       "    <tr>\n",
       "      <th>2</th>\n",
       "      <td>0.807369</td>\n",
       "      <td>0.915466</td>\n",
       "      <td>0.928374</td>\n",
       "      <td>0.959730</td>\n",
       "      <td>0.972667</td>\n",
       "      <td>0.976929</td>\n",
       "      <td>0.987177</td>\n",
       "      <td>0.993387</td>\n",
       "      <td>0.996052</td>\n",
       "      <td>0.998181</td>\n",
       "      <td>...</td>\n",
       "      <td>0.997971</td>\n",
       "      <td>0.997971</td>\n",
       "      <td>0.997971</td>\n",
       "      <td>0.997971</td>\n",
       "      <td>0.997971</td>\n",
       "      <td>0.997971</td>\n",
       "      <td>0.997971</td>\n",
       "      <td>0.997971</td>\n",
       "      <td>0.997971</td>\n",
       "      <td>0.997971</td>\n",
       "    </tr>\n",
       "    <tr>\n",
       "      <th>3</th>\n",
       "      <td>0.800215</td>\n",
       "      <td>0.908312</td>\n",
       "      <td>0.932387</td>\n",
       "      <td>0.944318</td>\n",
       "      <td>0.973386</td>\n",
       "      <td>0.978942</td>\n",
       "      <td>0.984224</td>\n",
       "      <td>0.989710</td>\n",
       "      <td>0.991357</td>\n",
       "      <td>0.993243</td>\n",
       "      <td>...</td>\n",
       "      <td>0.995786</td>\n",
       "      <td>0.995786</td>\n",
       "      <td>0.995786</td>\n",
       "      <td>0.995786</td>\n",
       "      <td>0.995786</td>\n",
       "      <td>0.995786</td>\n",
       "      <td>0.995786</td>\n",
       "      <td>0.995786</td>\n",
       "      <td>0.995786</td>\n",
       "      <td>0.995786</td>\n",
       "    </tr>\n",
       "    <tr>\n",
       "      <th>4</th>\n",
       "      <td>0.794120</td>\n",
       "      <td>0.908472</td>\n",
       "      <td>0.925857</td>\n",
       "      <td>0.936399</td>\n",
       "      <td>0.973122</td>\n",
       "      <td>0.979527</td>\n",
       "      <td>0.985816</td>\n",
       "      <td>0.992202</td>\n",
       "      <td>0.994717</td>\n",
       "      <td>0.996128</td>\n",
       "      <td>...</td>\n",
       "      <td>0.995536</td>\n",
       "      <td>0.995536</td>\n",
       "      <td>0.995536</td>\n",
       "      <td>0.995536</td>\n",
       "      <td>0.995536</td>\n",
       "      <td>0.995536</td>\n",
       "      <td>0.995536</td>\n",
       "      <td>0.995536</td>\n",
       "      <td>0.995536</td>\n",
       "      <td>0.995536</td>\n",
       "    </tr>\n",
       "  </tbody>\n",
       "</table>\n",
       "<p>5 rows × 25 columns</p>\n",
       "</div>"
      ],
      "text/plain": [
       "         1         2         3         4         5         6         7   \\\n",
       "0  0.800612  0.903262  0.923872  0.930723  0.969256  0.973474  0.976672   \n",
       "1  0.791868  0.907003  0.930127  0.939625  0.974741  0.981525  0.984437   \n",
       "2  0.807369  0.915466  0.928374  0.959730  0.972667  0.976929  0.987177   \n",
       "3  0.800215  0.908312  0.932387  0.944318  0.973386  0.978942  0.984224   \n",
       "4  0.794120  0.908472  0.925857  0.936399  0.973122  0.979527  0.985816   \n",
       "\n",
       "         8         9         10  ...        16        17        18        19  \\\n",
       "0  0.984528  0.994615  0.997419  ...  0.995811  0.995811  0.995811  0.995811   \n",
       "1  0.989827  0.995755  0.998269  ...  0.998863  0.998863  0.998863  0.998863   \n",
       "2  0.993387  0.996052  0.998181  ...  0.997971  0.997971  0.997971  0.997971   \n",
       "3  0.989710  0.991357  0.993243  ...  0.995786  0.995786  0.995786  0.995786   \n",
       "4  0.992202  0.994717  0.996128  ...  0.995536  0.995536  0.995536  0.995536   \n",
       "\n",
       "         20        21        22        23        24        25  \n",
       "0  0.995811  0.995811  0.995811  0.995811  0.995811  0.995811  \n",
       "1  0.998863  0.998863  0.998863  0.998863  0.998863  0.998863  \n",
       "2  0.997971  0.997971  0.997971  0.997971  0.997971  0.997971  \n",
       "3  0.995786  0.995786  0.995786  0.995786  0.995786  0.995786  \n",
       "4  0.995536  0.995536  0.995536  0.995536  0.995536  0.995536  \n",
       "\n",
       "[5 rows x 25 columns]"
      ]
     },
     "execution_count": 186,
     "metadata": {},
     "output_type": "execute_result"
    }
   ],
   "source": [
    "clf_valid_scores"
   ]
  },
  {
   "cell_type": "code",
   "execution_count": 187,
   "id": "3ea66b9c",
   "metadata": {},
   "outputs": [],
   "source": [
    "roc_entrenamiento=[]\n",
    "for c in clf_train_scores.columns:\n",
    "    promedio_roc=mean(clf_train_scores[c])\n",
    "    roc_entrenamiento.append(promedio_roc)\n",
    "    \n",
    "roc_validacion=[]\n",
    "for c in clf_valid_scores.columns:\n",
    "    promedio_roc=mean(clf_valid_scores[c])\n",
    "    roc_validacion.append(promedio_roc)\n",
    "\n",
    "prof=[]\n",
    "for c in bd_leaves.columns:\n",
    "    id_=mean(bd_leaves[c])\n",
    "    prof.append(id_)"
   ]
  },
  {
   "cell_type": "code",
   "execution_count": 188,
   "id": "6c8c261c",
   "metadata": {},
   "outputs": [
    {
     "data": {
      "text/plain": [
       "[0.7988365549244321,\n",
       " 0.9085061644823755,\n",
       " 0.9282155159642835,\n",
       " 0.9447198157660042,\n",
       " 0.9743558941584517,\n",
       " 0.9807353964273962,\n",
       " 0.9869263310673697,\n",
       " 0.993125656509474,\n",
       " 0.9963880782499679,\n",
       " 0.9985053567000033,\n",
       " 0.9993419833859136,\n",
       " 0.9995457658641305,\n",
       " 0.999563369036718,\n",
       " 0.9995684214024771,\n",
       " 0.9995690063740289,\n",
       " 0.999569425541542,\n",
       " 0.999569425541542,\n",
       " 0.999569425541542,\n",
       " 0.999569425541542,\n",
       " 0.999569425541542,\n",
       " 0.999569425541542,\n",
       " 0.999569425541542,\n",
       " 0.999569425541542,\n",
       " 0.999569425541542,\n",
       " 0.999569425541542]"
      ]
     },
     "execution_count": 188,
     "metadata": {},
     "output_type": "execute_result"
    }
   ],
   "source": [
    "roc_entrenamiento"
   ]
  },
  {
   "cell_type": "code",
   "execution_count": 189,
   "id": "e52371f2",
   "metadata": {},
   "outputs": [
    {
     "data": {
      "text/plain": [
       "[0.7988365549244321,\n",
       " 0.9085031464762803,\n",
       " 0.9281235245303534,\n",
       " 0.9421589668016349,\n",
       " 0.9726344197559126,\n",
       " 0.9780796181305711,\n",
       " 0.9836652692925852,\n",
       " 0.9899308585981428,\n",
       " 0.9944991510833227,\n",
       " 0.9966480906528551,\n",
       " 0.997629859213369,\n",
       " 0.9974389125758897,\n",
       " 0.9967791838953829,\n",
       " 0.9967873213340391,\n",
       " 0.9967927164856757,\n",
       " 0.996793074175287,\n",
       " 0.996793074175287,\n",
       " 0.996793074175287,\n",
       " 0.996793074175287,\n",
       " 0.996793074175287,\n",
       " 0.996793074175287,\n",
       " 0.996793074175287,\n",
       " 0.996793074175287,\n",
       " 0.996793074175287,\n",
       " 0.996793074175287]"
      ]
     },
     "execution_count": 189,
     "metadata": {},
     "output_type": "execute_result"
    }
   ],
   "source": [
    "roc_validacion"
   ]
  },
  {
   "cell_type": "code",
   "execution_count": 190,
   "id": "3821bd4a",
   "metadata": {},
   "outputs": [
    {
     "data": {
      "image/png": "[encoded data removed]",
      "text/plain": [
       "<Figure size 720x360 with 1 Axes>"
      ]
     },
     "metadata": {
      "needs_background": "light"
     },
     "output_type": "display_data"
    }
   ],
   "source": [
    "fig, ax = plt.subplots(figsize=(10,5))\n",
    "\n",
    "ax.set_title(\"Entrenamiento Validación Sesgo\",fontsize=20)\n",
    "ax.plot(prof,roc_entrenamiento,color=\"yellow\",linewidth=3,label=\"Entrenamiento\")\n",
    "ax.plot(prof,roc_validacion,color=\"red\",linewidth=3,label=\"Validacion\")\n",
    "axvline(4)\n",
    "legend(fontsize=15)\n",
    "show()"
   ]
  },
  {
   "cell_type": "code",
   "execution_count": 191,
   "id": "609374f3",
   "metadata": {},
   "outputs": [],
   "source": [
    "clasifier =classifier_gs.best_params_['classifier__criterion']\n",
    "depth = classifier_gs.best_params_['classifier__max_depth']\n",
    "leafs =classifier_gs.best_params_['classifier__min_samples_leaf']"
   ]
  },
  {
   "cell_type": "code",
   "execution_count": 192,
   "id": "2dab9236",
   "metadata": {},
   "outputs": [
    {
     "data": {
      "image/png": "[encoded data removed]",
      "text/plain": [
       "<Figure size 864x432 with 2 Axes>"
      ]
     },
     "metadata": {
      "needs_background": "light"
     },
     "output_type": "display_data"
    }
   ],
   "source": [
    "reg_tree = DecisionTreeClassifier(criterion=clasifier,\n",
    "                                          max_depth=depth,\n",
    "                                          min_samples_leaf=leafs,\n",
    "                                  \n",
    "                                          random_state=42)\n",
    "tree_pipeline = Pipeline(steps=[('preprocessor', full_pipeline2),('classifier', reg_tree)])\n",
    "\n",
    "tree_pipeline.fit(X_train, y_train)\n",
    "\n",
    "LABELS = ['No Default', 'Default']\n",
    "tree_gs_perf = performance_evaluation_report(tree_pipeline, X_test, \n",
    "                                             y_test, labels=LABELS, \n",
    "                                             show_plot=True)\n",
    "\n",
    "plt.tight_layout()\n",
    "#plt.savefig('images/ch8_im20.png')\n",
    "plt.show()"
   ]
  },
  {
   "cell_type": "code",
   "execution_count": 193,
   "id": "ad864cbe",
   "metadata": {},
   "outputs": [
    {
     "name": "stdout",
     "output_type": "stream",
     "text": [
      "El Gini del modelo es 0.9191211327791529\n"
     ]
    }
   ],
   "source": [
    "print(f\"El Gini del modelo es {get_gini(tree_gs_perf)}\")"
   ]
  },
  {
   "cell_type": "code",
   "execution_count": 194,
   "id": "7c44e7f8",
   "metadata": {},
   "outputs": [],
   "source": [
    "y_fit = tree_pipeline.predict_proba(X_train)"
   ]
  },
  {
   "cell_type": "code",
   "execution_count": 195,
   "id": "72ec05a5",
   "metadata": {},
   "outputs": [
    {
     "data": {
      "text/plain": [
       "array([[1.57068063e-02, 9.84293194e-01],\n",
       "       [5.67730215e-05, 9.99943227e-01],\n",
       "       [5.67730215e-05, 9.99943227e-01],\n",
       "       ...,\n",
       "       [1.57068063e-02, 9.84293194e-01],\n",
       "       [8.85844749e-01, 1.14155251e-01],\n",
       "       [5.67730215e-05, 9.99943227e-01]])"
      ]
     },
     "execution_count": 195,
     "metadata": {},
     "output_type": "execute_result"
    }
   ],
   "source": [
    "y_fit"
   ]
  },
  {
   "cell_type": "code",
   "execution_count": 196,
   "id": "150b8868",
   "metadata": {},
   "outputs": [
    {
     "data": {
      "text/html": [
       "<div>\n",
       "<style scoped>\n",
       "    .dataframe tbody tr th:only-of-type {\n",
       "        vertical-align: middle;\n",
       "    }\n",
       "\n",
       "    .dataframe tbody tr th {\n",
       "        vertical-align: top;\n",
       "    }\n",
       "\n",
       "    .dataframe thead th {\n",
       "        text-align: right;\n",
       "    }\n",
       "</style>\n",
       "<table border=\"1\" class=\"dataframe\">\n",
       "  <thead>\n",
       "    <tr style=\"text-align: right;\">\n",
       "      <th></th>\n",
       "      <th>prest_aceptado</th>\n",
       "      <th>Estimado</th>\n",
       "    </tr>\n",
       "  </thead>\n",
       "  <tbody>\n",
       "    <tr>\n",
       "      <th>29743</th>\n",
       "      <td>1.0</td>\n",
       "      <td>0.984293</td>\n",
       "    </tr>\n",
       "    <tr>\n",
       "      <th>4115</th>\n",
       "      <td>1.0</td>\n",
       "      <td>0.999943</td>\n",
       "    </tr>\n",
       "    <tr>\n",
       "      <th>26929</th>\n",
       "      <td>1.0</td>\n",
       "      <td>0.999943</td>\n",
       "    </tr>\n",
       "    <tr>\n",
       "      <th>40380</th>\n",
       "      <td>1.0</td>\n",
       "      <td>0.984293</td>\n",
       "    </tr>\n",
       "    <tr>\n",
       "      <th>5087</th>\n",
       "      <td>1.0</td>\n",
       "      <td>0.984293</td>\n",
       "    </tr>\n",
       "  </tbody>\n",
       "</table>\n",
       "</div>"
      ],
      "text/plain": [
       "       prest_aceptado  Estimado\n",
       "29743             1.0  0.984293\n",
       "4115              1.0  0.999943\n",
       "26929             1.0  0.999943\n",
       "40380             1.0  0.984293\n",
       "5087              1.0  0.984293"
      ]
     },
     "execution_count": 196,
     "metadata": {},
     "output_type": "execute_result"
    }
   ],
   "source": [
    "base = y_train.to_frame()\n",
    "base[\"Estimado\"] = y_fit[:,1]\n",
    "base.head()"
   ]
  },
  {
   "cell_type": "code",
   "execution_count": 197,
   "id": "e72c9194",
   "metadata": {},
   "outputs": [
    {
     "data": {
      "image/png": "[encoded data removed]",
      "text/plain": [
       "<Figure size 576x360 with 1 Axes>"
      ]
     },
     "metadata": {
      "needs_background": "light"
     },
     "output_type": "display_data"
    },
    {
     "name": "stdout",
     "output_type": "stream",
     "text": [
      "El KS para el Árbol de Desición es: 0.8436848706832826\n"
     ]
    }
   ],
   "source": [
    "ks_tree = get_KS(base)\n",
    "print(f\"El KS para el Árbol de Desición es: {ks_tree}\")"
   ]
  },
  {
   "cell_type": "markdown",
   "id": "a3463d69",
   "metadata": {},
   "source": [
    "## Cross Validation para determinar que modelo es mejor"
   ]
  },
  {
   "cell_type": "code",
   "execution_count": 198,
   "id": "389f0a95",
   "metadata": {},
   "outputs": [],
   "source": [
    "k_folds_list = [5, 10, 25, 50, 75, 100]\n",
    "results_k_folds_tree = []"
   ]
  },
  {
   "cell_type": "markdown",
   "id": "597e922c",
   "metadata": {},
   "source": [
    "### Primero veamos para el Árbol de Decisión"
   ]
  },
  {
   "cell_type": "code",
   "execution_count": 199,
   "id": "d73db83f",
   "metadata": {},
   "outputs": [],
   "source": [
    "for k in k_folds_list:\n",
    "    k_fold_tree = StratifiedKFold(k, shuffle=True, random_state=42)\n",
    "    results_k_folds_tree.append(cross_val_score(tree_pipeline, X_train, y_train, cv=k_fold_tree))"
   ]
  },
  {
   "cell_type": "markdown",
   "id": "7f43d866",
   "metadata": {},
   "source": [
    "### Veamos la media para k"
   ]
  },
  {
   "cell_type": "code",
   "execution_count": 200,
   "id": "85954877",
   "metadata": {},
   "outputs": [
    {
     "name": "stdout",
     "output_type": "stream",
     "text": [
      "Para k = 5 tenemos 0.9821500000000001\n",
      "Para k = 10 tenemos 0.9821500000000001\n",
      "Para k = 25 tenemos 0.9821500000000002\n",
      "Para k = 50 tenemos 0.9821499999999997\n",
      "Para k = 75 tenemos 0.9821504076752088\n",
      "Para k = 100 tenemos 0.9821500000000002\n"
     ]
    }
   ],
   "source": [
    "for i in range(6):\n",
    "    print(f\"Para k = {k_folds_list[i]} tenemos {results_k_folds_tree[i].mean()}\")"
   ]
  },
  {
   "cell_type": "code",
   "execution_count": 201,
   "id": "182e0a22",
   "metadata": {},
   "outputs": [
    {
     "name": "stdout",
     "output_type": "stream",
     "text": [
      "Para k = 5 tenemos [0.9815   0.982125 0.982875 0.983625 0.980625]\n",
      "Para k = 10 tenemos [0.98175 0.98125 0.98125 0.983   0.9815  0.98425 0.98225 0.985   0.98275\n",
      " 0.9785 ]\n",
      "Para k = 25 tenemos [0.98375  0.98     0.979375 0.9825   0.981875 0.985    0.97875  0.9825\n",
      " 0.981875 0.983125 0.97875  0.98375  0.981875 0.98375  0.985625 0.985625\n",
      " 0.980625 0.9825   0.98625  0.98375  0.980625 0.984375 0.981875 0.976875\n",
      " 0.97875 ]\n",
      "Para k = 50 tenemos [0.985   0.9825  0.9825  0.9775  0.9825  0.97625 0.9875  0.9775  0.985\n",
      " 0.97875 0.9875  0.9825  0.9775  0.98    0.98125 0.98375 0.985   0.98\n",
      " 0.985   0.98375 0.97875 0.9775  0.985   0.9825  0.98375 0.98    0.9875\n",
      " 0.98125 0.9825  0.9875  0.985   0.98625 0.98    0.9825  0.97875 0.98875\n",
      " 0.9825  0.9875  0.97875 0.985   0.98    0.98375 0.98375 0.98375 0.9825\n",
      " 0.98    0.9775  0.97625 0.98    0.9775 ]\n",
      "Para k = 75 tenemos [0.98689139 0.98314607 0.97940075 0.98314607 0.98127341 0.97378277\n",
      " 0.97752809 0.98127341 0.98127341 0.98689139 0.98127341 0.97565543\n",
      " 0.98876404 0.98127341 0.97752809 0.98689139 0.98127341 0.97565543\n",
      " 0.98127341 0.97752809 0.98501873 0.97940075 0.98876404 0.97940075\n",
      " 0.98314607 0.98311445 0.98123827 0.98499062 0.98311445 0.97748593\n",
      " 0.98311445 0.98123827 0.97560976 0.98874296 0.9793621  0.98499062\n",
      " 0.98686679 0.97748593 0.98311445 0.98686679 0.98499062 0.98123827\n",
      " 0.98123827 0.98686679 0.98874296 0.98686679 0.98499062 0.98499062\n",
      " 0.98311445 0.97560976 0.98686679 0.97560976 0.98686679 0.99061914\n",
      " 0.98499062 0.98499062 0.98499062 0.9793621  0.98123827 0.98499062\n",
      " 0.9793621  0.97748593 0.98874296 0.98499062 0.98499062 0.98123827\n",
      " 0.98874296 0.97373358 0.98123827 0.9793621  0.9793621  0.97185741\n",
      " 0.97748593 0.98123827 0.97748593]\n",
      "Para k = 100 tenemos [0.985  0.985  0.9875 0.9775 0.985  0.98   0.9775 0.9775 0.975  0.99\n",
      " 0.9725 0.98   0.985  0.99   0.9775 0.9775 0.9825 0.9875 0.9825 0.975\n",
      " 0.985  0.99   0.9825 0.9825 0.965  0.99   0.975  0.985  0.9825 0.98\n",
      " 0.99   0.9775 0.99   0.98   0.9825 0.9775 0.98   0.99   0.985  0.9825\n",
      " 0.975  0.9825 0.985  0.97   0.9825 0.9875 0.98   0.985  0.985  0.9825\n",
      " 0.9825 0.9775 0.9875 0.9875 0.98   0.9825 0.9775 0.9875 0.985  0.99\n",
      " 0.99   0.9825 0.985  0.9875 0.985  0.9775 0.975  0.99   0.98   0.9725\n",
      " 0.99   0.9875 0.9825 0.99   0.9875 0.985  0.9775 0.9825 0.9825 0.9875\n",
      " 0.98   0.9825 0.9725 0.9925 0.9825 0.98   0.99   0.975  0.995  0.98\n",
      " 0.9725 0.9825 0.9725 0.98   0.9775 0.9725 0.985  0.9775 0.975  0.9775]\n"
     ]
    }
   ],
   "source": [
    "for i in range(6):\n",
    "    print(f\"Para k = {k_folds_list[i]} tenemos {results_k_folds_tree[i]}\")"
   ]
  },
  {
   "cell_type": "code",
   "execution_count": 202,
   "id": "84810289",
   "metadata": {},
   "outputs": [
    {
     "data": {
      "image/png": "[encoded data removed]",
      "text/plain": [
       "<Figure size 720x360 with 1 Axes>"
      ]
     },
     "metadata": {
      "needs_background": "light"
     },
     "output_type": "display_data"
    },
    {
     "data": {
      "image/png": "[encoded data removed]",
      "text/plain": [
       "<Figure size 720x360 with 1 Axes>"
      ]
     },
     "metadata": {
      "needs_background": "light"
     },
     "output_type": "display_data"
    },
    {
     "data": {
      "image/png": "[encoded data removed]",
      "text/plain": [
       "<Figure size 720x360 with 1 Axes>"
      ]
     },
     "metadata": {
      "needs_background": "light"
     },
     "output_type": "display_data"
    },
    {
     "data": {
      "image/png": "[encoded data removed]",
      "text/plain": [
       "<Figure size 720x360 with 1 Axes>"
      ]
     },
     "metadata": {
      "needs_background": "light"
     },
     "output_type": "display_data"
    },
    {
     "data": {
      "image/png": "[encoded data removed]",
      "text/plain": [
       "<Figure size 720x360 with 1 Axes>"
      ]
     },
     "metadata": {
      "needs_background": "light"
     },
     "output_type": "display_data"
    },
    {
     "data": {
      "image/png": "[encoded data removed]",
      "text/plain": [
       "<Figure size 720x360 with 1 Axes>"
      ]
     },
     "metadata": {
      "needs_background": "light"
     },
     "output_type": "display_data"
    }
   ],
   "source": [
    "color_list = [\"blue\", \"red\", \"yellow\", \"green\", \"cyan\", \"orange\"]\n",
    "\n",
    "for i in range(6):\n",
    "    fig, ax = plt.subplots(figsize=(10,5))\n",
    "    ax.set_title(f\"Histograma para k ={k_folds_list[i]} en Decision Tree\",fontsize=20)\n",
    "    sns.histplot(results_k_folds_tree[i], color=color_list[i])"
   ]
  },
  {
   "cell_type": "markdown",
   "id": "d705bff5",
   "metadata": {},
   "source": [
    "## Ahora veamos para Regresión Logisitca"
   ]
  },
  {
   "cell_type": "code",
   "execution_count": 203,
   "id": "b28b71e4",
   "metadata": {},
   "outputs": [],
   "source": [
    "results_k_folds_logisticReg = []"
   ]
  },
  {
   "cell_type": "code",
   "execution_count": 204,
   "id": "c17f948a",
   "metadata": {},
   "outputs": [],
   "source": [
    "logistic_regression_model = LogisticRegression()\n",
    "lr_pipeline =  Pipeline(steps=[('preprocessor', full_pipeline2),('classifier', logistic_regression_model)])"
   ]
  },
  {
   "cell_type": "code",
   "execution_count": 205,
   "id": "241582bf",
   "metadata": {},
   "outputs": [],
   "source": [
    "for k in k_folds_list:\n",
    "    k_fold_lr = StratifiedKFold(k, shuffle=True, random_state=42)\n",
    "    results_k_folds_logisticReg.append(cross_val_score(lr_pipeline, X_train, y_train, cv=k_fold_lr))"
   ]
  },
  {
   "cell_type": "markdown",
   "id": "9cb82fa2",
   "metadata": {},
   "source": [
    "### Veamos la media para cada k"
   ]
  },
  {
   "cell_type": "code",
   "execution_count": 206,
   "id": "b8bbd5e7",
   "metadata": {},
   "outputs": [
    {
     "name": "stdout",
     "output_type": "stream",
     "text": [
      "Para k = 5 tenemos 0.9542499999999998\n",
      "Para k = 10 tenemos 0.954125\n",
      "Para k = 25 tenemos 0.955375\n",
      "Para k = 50 tenemos 0.9530500000000001\n",
      "Para k = 75 tenemos 0.9540758854433833\n",
      "Para k = 100 tenemos 0.953725\n"
     ]
    }
   ],
   "source": [
    "for i in range(6):\n",
    "    print(f\"Para k = {k_folds_list[i]} tenemos {results_k_folds_logisticReg[i].mean()}\")"
   ]
  },
  {
   "cell_type": "code",
   "execution_count": 207,
   "id": "b24d39f1",
   "metadata": {},
   "outputs": [
    {
     "name": "stdout",
     "output_type": "stream",
     "text": [
      "Para k = 5 tenemos [0.953625 0.953625 0.954125 0.95475  0.955125]\n",
      "Para k = 10 tenemos [0.963   0.953   0.953   0.954   0.95375 0.9545  0.958   0.95225 0.9445\n",
      " 0.95525]\n",
      "Para k = 25 tenemos [0.969375 0.95375  0.958125 0.945    0.955    0.948125 0.954375 0.955\n",
      " 0.966875 0.956875 0.954375 0.954375 0.954375 0.954375 0.95375  0.95375\n",
      " 0.96125  0.956875 0.94875  0.953125 0.955    0.95375  0.9625   0.950625\n",
      " 0.955   ]\n",
      "Para k = 50 tenemos [0.955   0.9525  0.9525  0.955   0.95625 0.96    0.945   0.955   0.95125\n",
      " 0.95875 0.955   0.9425  0.955   0.945   0.95875 0.9525  0.955   0.95\n",
      " 0.95    0.96375 0.95375 0.95625 0.9525  0.96125 0.95125 0.95625 0.945\n",
      " 0.945   0.9525  0.955   0.94375 0.94375 0.96125 0.9575  0.94375 0.95\n",
      " 0.95625 0.945   0.95875 0.9475  0.95875 0.95    0.95125 0.955   0.9625\n",
      " 0.9625  0.94875 0.95    0.95625 0.9525 ]\n",
      "Para k = 75 tenemos [0.95131086 0.9494382  0.9588015  0.9494382  0.95505618 0.95318352\n",
      " 0.9588015  0.95318352 0.96067416 0.94382022 0.95505618 0.94194757\n",
      " 0.9494382  0.95131086 0.9588015  0.95505618 0.94756554 0.94756554\n",
      " 0.9494382  0.95131086 0.95692884 0.96067416 0.95131086 0.95131086\n",
      " 0.95505618 0.95309568 0.96810507 0.94371482 0.9587242  0.97373358\n",
      " 0.94371482 0.95497186 0.95684803 0.95309568 0.96247655 0.95309568\n",
      " 0.95309568 0.95309568 0.9587242  0.95121951 0.96998124 0.96060038\n",
      " 0.95684803 0.96060038 0.94559099 0.95497186 0.95497186 0.95497186\n",
      " 0.94559099 0.96435272 0.95684803 0.96060038 0.94746717 0.9587242\n",
      " 0.95684803 0.94934334 0.94746717 0.94371482 0.95121951 0.94934334\n",
      " 0.95684803 0.9587242  0.94559099 0.95121951 0.95121951 0.95684803\n",
      " 0.96060038 0.96998124 0.94371482 0.95121951 0.94746717 0.94934334\n",
      " 0.9587242  0.9587242  0.95121951]\n",
      "Para k = 100 tenemos [0.9575 0.9525 0.95   0.955  0.96   0.945  0.96   0.95   0.96   0.9525\n",
      " 0.955  0.96   0.95   0.9575 0.945  0.9475 0.955  0.97   0.945  0.945\n",
      " 0.945  0.965  0.945  0.9575 0.9525 0.955  0.9475 0.9625 0.96   0.9575\n",
      " 0.945  0.955  0.9475 0.9625 0.95   0.945  0.9525 0.9475 0.965  0.9775\n",
      " 0.9525 0.9525 0.955  0.9575 0.95   0.945  0.965  0.9575 0.9525 0.945\n",
      " 0.955  0.9575 0.95   0.955  0.955  0.96   0.9575 0.9475 0.9475 0.9625\n",
      " 0.9575 0.9525 0.955  0.955  0.9575 0.965  0.9625 0.9575 0.9575 0.9625\n",
      " 0.94   0.96   0.9625 0.945  0.9475 0.955  0.955  0.945  0.9425 0.955\n",
      " 0.9475 0.965  0.9425 0.9425 0.955  0.9425 0.9475 0.96   0.9525 0.9625\n",
      " 0.96   0.9625 0.955  0.9475 0.9475 0.95   0.9425 0.95   0.9525 0.95  ]\n"
     ]
    }
   ],
   "source": [
    "for i in range(6):\n",
    "    print(f\"Para k = {k_folds_list[i]} tenemos {results_k_folds_logisticReg[i]}\")"
   ]
  },
  {
   "cell_type": "code",
   "execution_count": 208,
   "id": "f885444d",
   "metadata": {},
   "outputs": [
    {
     "data": {
      "image/png": "[encoded data removed]",
      "text/plain": [
       "<Figure size 720x360 with 1 Axes>"
      ]
     },
     "metadata": {
      "needs_background": "light"
     },
     "output_type": "display_data"
    },
    {
     "data": {
      "image/png": "[encoded data removed]",
      "text/plain": [
       "<Figure size 720x360 with 1 Axes>"
      ]
     },
     "metadata": {
      "needs_background": "light"
     },
     "output_type": "display_data"
    },
    {
     "data": {
      "image/png": "[encoded data removed]",
      "text/plain": [
       "<Figure size 720x360 with 1 Axes>"
      ]
     },
     "metadata": {
      "needs_background": "light"
     },
     "output_type": "display_data"
    },
    {
     "data": {
      "image/png": "[encoded data removed]",
      "text/plain": [
       "<Figure size 720x360 with 1 Axes>"
      ]
     },
     "metadata": {
      "needs_background": "light"
     },
     "output_type": "display_data"
    },
    {
     "data": {
      "image/png": "[encoded data removed]",
      "text/plain": [
       "<Figure size 720x360 with 1 Axes>"
      ]
     },
     "metadata": {
      "needs_background": "light"
     },
     "output_type": "display_data"
    },
    {
     "data": {
      "image/png": "[encoded data removed]",
      "text/plain": [
       "<Figure size 720x360 with 1 Axes>"
      ]
     },
     "metadata": {
      "needs_background": "light"
     },
     "output_type": "display_data"
    }
   ],
   "source": [
    "color_list = [\"blue\", \"red\", \"yellow\", \"green\", \"cyan\", \"orange\"]\n",
    "\n",
    "for i in range(6):\n",
    "    fig, ax = plt.subplots(figsize=(10,5))\n",
    "    ax.set_title(f\"Histograma para k ={k_folds_list[i]} en Regresión Logistica\",fontsize=20)\n",
    "    sns.histplot(results_k_folds_logisticReg[i], color=color_list[i])"
   ]
  },
  {
   "cell_type": "markdown",
   "id": "7e481a47",
   "metadata": {},
   "source": [
    "Como se observa podemos considerar que ambos modelos son buenos, pero veamos cual tiene mejor puntaje.\n",
    "\n",
    "Compararemos cual tiene mejor puntaje en cada k"
   ]
  },
  {
   "cell_type": "code",
   "execution_count": 209,
   "id": "9639aea9",
   "metadata": {},
   "outputs": [
    {
     "name": "stdout",
     "output_type": "stream",
     "text": [
      "El mejor modelo es Árbol Decisión\n"
     ]
    }
   ],
   "source": [
    "puntajes = {\"Árbol Decisión\" : 0, \"Regresión Lógistica\" : 0}\n",
    "\n",
    "for i in range(6):\n",
    "    if results_k_folds_logisticReg[i].mean() > results_k_folds_tree[i].mean():\n",
    "        puntajes[\"Regresión Lógistica\"] += 1\n",
    "    else:\n",
    "        puntajes[\"Árbol Decisión\"] += 1\n",
    "        \n",
    "        \n",
    "modelo = max(puntajes, key=puntajes.get)\n",
    "\n",
    "print(f\"El mejor modelo es {modelo}\")"
   ]
  },
  {
   "cell_type": "markdown",
   "id": "e225a53d",
   "metadata": {},
   "source": [
    "### Puntos óptimos"
   ]
  },
  {
   "cell_type": "markdown",
   "id": "259307df",
   "metadata": {},
   "source": [
    "Para obtener los puntos optimos nos basamos en lo redactado en este articulo\n",
    "https://machinelearningmastery.com/threshold-moving-for-imbalanced-classification/\n",
    "\n",
    "En pocas palabras, es calcular el Índice de Youden (https://es.wikipedia.org/wiki/%C3%8Dndice_de_Youden)"
   ]
  },
  {
   "cell_type": "code",
   "execution_count": 210,
   "id": "a37ee9ea",
   "metadata": {},
   "outputs": [
    {
     "data": {
      "image/png": "[encoded data removed]",
      "text/plain": [
       "<Figure size 432x288 with 1 Axes>"
      ]
     },
     "metadata": {
      "needs_background": "light"
     },
     "output_type": "display_data"
    },
    {
     "name": "stdout",
     "output_type": "stream",
     "text": [
      "El punto óptimo es: 0.9842931937172775\n"
     ]
    }
   ],
   "source": [
    "punto_optimo = get_optimal_thershold(tree_pipeline, X_test, y_test)\n",
    "print(f\"El punto óptimo es: {punto_optimo}\")"
   ]
  }
 ],
 "metadata": {
  "kernelspec": {
   "display_name": "Python 3",
   "language": "python",
   "name": "python3"
  },
  "language_info": {
   "codemirror_mode": {
    "name": "ipython",
    "version": 3
   },
   "file_extension": ".py",
   "mimetype": "text/x-python",
   "name": "python",
   "nbconvert_exporter": "python",
   "pygments_lexer": "ipython3",
   "version": "3.8.10"
  }
 },
 "nbformat": 4,
 "nbformat_minor": 5
}
