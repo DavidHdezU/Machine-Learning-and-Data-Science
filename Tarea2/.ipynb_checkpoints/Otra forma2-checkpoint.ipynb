{
 "cells": [
  {
   "cell_type": "code",
   "execution_count": 233,
   "id": "9d257053",
   "metadata": {},
   "outputs": [],
   "source": [
    "import pandas as pd\n",
    "from optbinning import OptimalBinning\n",
    "from sklearn.model_selection import train_test_split \n",
    "from sklearn.linear_model import LogisticRegression\n",
    "from sklearn.metrics import roc_curve, auc\n",
    "from statsmodels.distributions.empirical_distribution import ECDF\n",
    "from scipy.stats import ks_2samp\n",
    "from pylab import*\n",
    "import seaborn as sns"
   ]
  },
  {
   "cell_type": "code",
   "execution_count": 188,
   "id": "a1ee31ae",
   "metadata": {},
   "outputs": [
    {
     "data": {
      "text/html": [
       "<div>\n",
       "<style scoped>\n",
       "    .dataframe tbody tr th:only-of-type {\n",
       "        vertical-align: middle;\n",
       "    }\n",
       "\n",
       "    .dataframe tbody tr th {\n",
       "        vertical-align: top;\n",
       "    }\n",
       "\n",
       "    .dataframe thead th {\n",
       "        text-align: right;\n",
       "    }\n",
       "</style>\n",
       "<table border=\"1\" class=\"dataframe\">\n",
       "  <thead>\n",
       "    <tr style=\"text-align: right;\">\n",
       "      <th></th>\n",
       "      <th>Unnamed: 0</th>\n",
       "      <th>index</th>\n",
       "      <th>num_caso</th>\n",
       "      <th>tiempo_adeudo</th>\n",
       "      <th>num_retrasos</th>\n",
       "      <th>comp_interno1</th>\n",
       "      <th>prest_aceptado</th>\n",
       "    </tr>\n",
       "  </thead>\n",
       "  <tbody>\n",
       "    <tr>\n",
       "      <th>0</th>\n",
       "      <td>0</td>\n",
       "      <td>0.0</td>\n",
       "      <td>1</td>\n",
       "      <td>62.0</td>\n",
       "      <td>7.0</td>\n",
       "      <td>3039.513678</td>\n",
       "      <td>1.0</td>\n",
       "    </tr>\n",
       "    <tr>\n",
       "      <th>1</th>\n",
       "      <td>1</td>\n",
       "      <td>6.0</td>\n",
       "      <td>7</td>\n",
       "      <td>29.0</td>\n",
       "      <td>9.0</td>\n",
       "      <td>1547.112462</td>\n",
       "      <td>1.0</td>\n",
       "    </tr>\n",
       "    <tr>\n",
       "      <th>2</th>\n",
       "      <td>2</td>\n",
       "      <td>7.0</td>\n",
       "      <td>8</td>\n",
       "      <td>59.0</td>\n",
       "      <td>4.0</td>\n",
       "      <td>1215.805471</td>\n",
       "      <td>1.0</td>\n",
       "    </tr>\n",
       "    <tr>\n",
       "      <th>3</th>\n",
       "      <td>3</td>\n",
       "      <td>8.0</td>\n",
       "      <td>9</td>\n",
       "      <td>15.0</td>\n",
       "      <td>0.0</td>\n",
       "      <td>0.000000</td>\n",
       "      <td>1.0</td>\n",
       "    </tr>\n",
       "    <tr>\n",
       "      <th>4</th>\n",
       "      <td>4</td>\n",
       "      <td>9.0</td>\n",
       "      <td>10</td>\n",
       "      <td>16.0</td>\n",
       "      <td>1.0</td>\n",
       "      <td>0.000000</td>\n",
       "      <td>1.0</td>\n",
       "    </tr>\n",
       "  </tbody>\n",
       "</table>\n",
       "</div>"
      ],
      "text/plain": [
       "   Unnamed: 0  index  num_caso  tiempo_adeudo  num_retrasos  comp_interno1  \\\n",
       "0           0    0.0         1           62.0           7.0    3039.513678   \n",
       "1           1    6.0         7           29.0           9.0    1547.112462   \n",
       "2           2    7.0         8           59.0           4.0    1215.805471   \n",
       "3           3    8.0         9           15.0           0.0       0.000000   \n",
       "4           4    9.0        10           16.0           1.0       0.000000   \n",
       "\n",
       "   prest_aceptado  \n",
       "0             1.0  \n",
       "1             1.0  \n",
       "2             1.0  \n",
       "3             1.0  \n",
       "4             1.0  "
      ]
     },
     "execution_count": 188,
     "metadata": {},
     "output_type": "execute_result"
    }
   ],
   "source": [
    "base = pd.read_csv(\"base_final.csv\")\n",
    "base.head()"
   ]
  },
  {
   "cell_type": "code",
   "execution_count": 189,
   "id": "06a05434",
   "metadata": {},
   "outputs": [
    {
     "data": {
      "text/html": [
       "<div>\n",
       "<style scoped>\n",
       "    .dataframe tbody tr th:only-of-type {\n",
       "        vertical-align: middle;\n",
       "    }\n",
       "\n",
       "    .dataframe tbody tr th {\n",
       "        vertical-align: top;\n",
       "    }\n",
       "\n",
       "    .dataframe thead th {\n",
       "        text-align: right;\n",
       "    }\n",
       "</style>\n",
       "<table border=\"1\" class=\"dataframe\">\n",
       "  <thead>\n",
       "    <tr style=\"text-align: right;\">\n",
       "      <th></th>\n",
       "      <th>num_caso</th>\n",
       "      <th>tiempo_adeudo</th>\n",
       "      <th>num_retrasos</th>\n",
       "      <th>comp_interno1</th>\n",
       "      <th>prest_aceptado</th>\n",
       "    </tr>\n",
       "  </thead>\n",
       "  <tbody>\n",
       "    <tr>\n",
       "      <th>49995</th>\n",
       "      <td>98961</td>\n",
       "      <td>0.0</td>\n",
       "      <td>0.0</td>\n",
       "      <td>1519.756839</td>\n",
       "      <td>0.0</td>\n",
       "    </tr>\n",
       "    <tr>\n",
       "      <th>49996</th>\n",
       "      <td>98968</td>\n",
       "      <td>0.0</td>\n",
       "      <td>0.0</td>\n",
       "      <td>0.000000</td>\n",
       "      <td>0.0</td>\n",
       "    </tr>\n",
       "    <tr>\n",
       "      <th>49997</th>\n",
       "      <td>98976</td>\n",
       "      <td>0.0</td>\n",
       "      <td>0.0</td>\n",
       "      <td>911.854103</td>\n",
       "      <td>0.0</td>\n",
       "    </tr>\n",
       "    <tr>\n",
       "      <th>49998</th>\n",
       "      <td>98978</td>\n",
       "      <td>0.0</td>\n",
       "      <td>0.0</td>\n",
       "      <td>0.000000</td>\n",
       "      <td>0.0</td>\n",
       "    </tr>\n",
       "    <tr>\n",
       "      <th>49999</th>\n",
       "      <td>98985</td>\n",
       "      <td>0.0</td>\n",
       "      <td>0.0</td>\n",
       "      <td>0.000000</td>\n",
       "      <td>0.0</td>\n",
       "    </tr>\n",
       "  </tbody>\n",
       "</table>\n",
       "</div>"
      ],
      "text/plain": [
       "       num_caso  tiempo_adeudo  num_retrasos  comp_interno1  prest_aceptado\n",
       "49995     98961            0.0           0.0    1519.756839             0.0\n",
       "49996     98968            0.0           0.0       0.000000             0.0\n",
       "49997     98976            0.0           0.0     911.854103             0.0\n",
       "49998     98978            0.0           0.0       0.000000             0.0\n",
       "49999     98985            0.0           0.0       0.000000             0.0"
      ]
     },
     "execution_count": 189,
     "metadata": {},
     "output_type": "execute_result"
    }
   ],
   "source": [
    "#Como podemos observar, Unnamed:0 solo esta repitiendo lo que esta en la primer columna por lo que eliminaremos \n",
    "#la columna Unnamed:0\n",
    "#Para la variable index, no la ocuparemo puesto que realmente no nos oportan algo relevante, \n",
    "#simplemente son las personas. Por lo que también eliminaremos esa columna\n",
    "base=base.drop(['Unnamed: 0','index'], axis=1) \n",
    "base[['prest_aceptado']]=base[['prest_aceptado']].astype(float)\n",
    "base.tail()"
   ]
  },
  {
   "cell_type": "code",
   "execution_count": 190,
   "id": "62b700cc",
   "metadata": {},
   "outputs": [
    {
     "name": "stdout",
     "output_type": "stream",
     "text": [
      "<class 'pandas.core.frame.DataFrame'>\n",
      "RangeIndex: 50000 entries, 0 to 49999\n",
      "Data columns (total 5 columns):\n",
      " #   Column          Non-Null Count  Dtype  \n",
      "---  ------          --------------  -----  \n",
      " 0   num_caso        50000 non-null  int64  \n",
      " 1   tiempo_adeudo   50000 non-null  float64\n",
      " 2   num_retrasos    50000 non-null  float64\n",
      " 3   comp_interno1   50000 non-null  float64\n",
      " 4   prest_aceptado  50000 non-null  float64\n",
      "dtypes: float64(4), int64(1)\n",
      "memory usage: 1.9 MB\n"
     ]
    }
   ],
   "source": [
    "base.info()"
   ]
  },
  {
   "cell_type": "code",
   "execution_count": 191,
   "id": "29b46c9a",
   "metadata": {},
   "outputs": [
    {
     "data": {
      "text/html": [
       "<div>\n",
       "<style scoped>\n",
       "    .dataframe tbody tr th:only-of-type {\n",
       "        vertical-align: middle;\n",
       "    }\n",
       "\n",
       "    .dataframe tbody tr th {\n",
       "        vertical-align: top;\n",
       "    }\n",
       "\n",
       "    .dataframe thead th {\n",
       "        text-align: right;\n",
       "    }\n",
       "</style>\n",
       "<table border=\"1\" class=\"dataframe\">\n",
       "  <thead>\n",
       "    <tr style=\"text-align: right;\">\n",
       "      <th></th>\n",
       "      <th>num_caso</th>\n",
       "      <th>tiempo_adeudo</th>\n",
       "      <th>num_retrasos</th>\n",
       "      <th>comp_interno1</th>\n",
       "      <th>prest_aceptado</th>\n",
       "    </tr>\n",
       "  </thead>\n",
       "  <tbody>\n",
       "    <tr>\n",
       "      <th>count</th>\n",
       "      <td>50000.000000</td>\n",
       "      <td>50000.000000</td>\n",
       "      <td>50000.000000</td>\n",
       "      <td>50000.000000</td>\n",
       "      <td>50000.000000</td>\n",
       "    </tr>\n",
       "    <tr>\n",
       "      <th>mean</th>\n",
       "      <td>49568.634780</td>\n",
       "      <td>28.243760</td>\n",
       "      <td>2.903000</td>\n",
       "      <td>1058.571975</td>\n",
       "      <td>0.944500</td>\n",
       "    </tr>\n",
       "    <tr>\n",
       "      <th>std</th>\n",
       "      <td>28522.021708</td>\n",
       "      <td>18.368076</td>\n",
       "      <td>3.320526</td>\n",
       "      <td>5050.133027</td>\n",
       "      <td>0.228956</td>\n",
       "    </tr>\n",
       "    <tr>\n",
       "      <th>min</th>\n",
       "      <td>1.000000</td>\n",
       "      <td>0.000000</td>\n",
       "      <td>0.000000</td>\n",
       "      <td>0.000000</td>\n",
       "      <td>0.000000</td>\n",
       "    </tr>\n",
       "    <tr>\n",
       "      <th>25%</th>\n",
       "      <td>24963.250000</td>\n",
       "      <td>12.000000</td>\n",
       "      <td>1.000000</td>\n",
       "      <td>0.000000</td>\n",
       "      <td>1.000000</td>\n",
       "    </tr>\n",
       "    <tr>\n",
       "      <th>50%</th>\n",
       "      <td>49578.500000</td>\n",
       "      <td>26.000000</td>\n",
       "      <td>2.000000</td>\n",
       "      <td>0.000000</td>\n",
       "      <td>1.000000</td>\n",
       "    </tr>\n",
       "    <tr>\n",
       "      <th>75%</th>\n",
       "      <td>74180.250000</td>\n",
       "      <td>43.000000</td>\n",
       "      <td>4.000000</td>\n",
       "      <td>1013.171226</td>\n",
       "      <td>1.000000</td>\n",
       "    </tr>\n",
       "    <tr>\n",
       "      <th>max</th>\n",
       "      <td>98997.000000</td>\n",
       "      <td>65.000000</td>\n",
       "      <td>31.000000</td>\n",
       "      <td>329483.282675</td>\n",
       "      <td>1.000000</td>\n",
       "    </tr>\n",
       "  </tbody>\n",
       "</table>\n",
       "</div>"
      ],
      "text/plain": [
       "           num_caso  tiempo_adeudo  num_retrasos  comp_interno1  \\\n",
       "count  50000.000000   50000.000000  50000.000000   50000.000000   \n",
       "mean   49568.634780      28.243760      2.903000    1058.571975   \n",
       "std    28522.021708      18.368076      3.320526    5050.133027   \n",
       "min        1.000000       0.000000      0.000000       0.000000   \n",
       "25%    24963.250000      12.000000      1.000000       0.000000   \n",
       "50%    49578.500000      26.000000      2.000000       0.000000   \n",
       "75%    74180.250000      43.000000      4.000000    1013.171226   \n",
       "max    98997.000000      65.000000     31.000000  329483.282675   \n",
       "\n",
       "       prest_aceptado  \n",
       "count    50000.000000  \n",
       "mean         0.944500  \n",
       "std          0.228956  \n",
       "min          0.000000  \n",
       "25%          1.000000  \n",
       "50%          1.000000  \n",
       "75%          1.000000  \n",
       "max          1.000000  "
      ]
     },
     "execution_count": 191,
     "metadata": {},
     "output_type": "execute_result"
    }
   ],
   "source": [
    "#Información general del DataFrame\n",
    "base.describe()"
   ]
  },
  {
   "cell_type": "code",
   "execution_count": 192,
   "id": "e6d70141",
   "metadata": {},
   "outputs": [
    {
     "data": {
      "text/plain": [
       "1.0    0.9445\n",
       "0.0    0.0555\n",
       "Name: prest_aceptado, dtype: float64"
      ]
     },
     "execution_count": 192,
     "metadata": {},
     "output_type": "execute_result"
    }
   ],
   "source": [
    "base['prest_aceptado'].value_counts(normalize=True)"
   ]
  },
  {
   "cell_type": "code",
   "execution_count": 193,
   "id": "c880be0a",
   "metadata": {},
   "outputs": [
    {
     "data": {
      "text/plain": [
       "0.0     0.03808\n",
       "6.0     0.02642\n",
       "7.0     0.02250\n",
       "8.0     0.02152\n",
       "18.0    0.02118\n",
       "         ...   \n",
       "50.0    0.00950\n",
       "62.0    0.00928\n",
       "63.0    0.00832\n",
       "64.0    0.00688\n",
       "65.0    0.00248\n",
       "Name: tiempo_adeudo, Length: 65, dtype: float64"
      ]
     },
     "execution_count": 193,
     "metadata": {},
     "output_type": "execute_result"
    }
   ],
   "source": [
    "base['tiempo_adeudo'].value_counts(normalize=True)"
   ]
  },
  {
   "cell_type": "code",
   "execution_count": 194,
   "id": "0248f5f5",
   "metadata": {},
   "outputs": [
    {
     "data": {
      "text/plain": [
       "0.0     0.23600\n",
       "1.0     0.17530\n",
       "2.0     0.14946\n",
       "3.0     0.12214\n",
       "4.0     0.09840\n",
       "5.0     0.06982\n",
       "6.0     0.04870\n",
       "7.0     0.03258\n",
       "8.0     0.01900\n",
       "9.0     0.01148\n",
       "10.0    0.00704\n",
       "11.0    0.00566\n",
       "12.0    0.00368\n",
       "14.0    0.00278\n",
       "13.0    0.00276\n",
       "15.0    0.00228\n",
       "16.0    0.00226\n",
       "18.0    0.00178\n",
       "20.0    0.00150\n",
       "17.0    0.00148\n",
       "19.0    0.00132\n",
       "21.0    0.00086\n",
       "23.0    0.00074\n",
       "22.0    0.00072\n",
       "24.0    0.00062\n",
       "25.0    0.00044\n",
       "26.0    0.00040\n",
       "27.0    0.00032\n",
       "28.0    0.00016\n",
       "29.0    0.00016\n",
       "30.0    0.00010\n",
       "31.0    0.00006\n",
       "Name: num_retrasos, dtype: float64"
      ]
     },
     "execution_count": 194,
     "metadata": {},
     "output_type": "execute_result"
    }
   ],
   "source": [
    "base['num_retrasos'].value_counts(normalize=True)"
   ]
  },
  {
   "cell_type": "code",
   "execution_count": 195,
   "id": "a5e3f595",
   "metadata": {},
   "outputs": [],
   "source": [
    "train, test = train_test_split(base, test_size = 0.30, random_state = 100) "
   ]
  },
  {
   "cell_type": "code",
   "execution_count": 196,
   "id": "05f7c901",
   "metadata": {},
   "outputs": [
    {
     "name": "stdout",
     "output_type": "stream",
     "text": [
      "<class 'pandas.core.frame.DataFrame'>\n",
      "Int64Index: 35000 entries, 48824 to 38408\n",
      "Data columns (total 5 columns):\n",
      " #   Column          Non-Null Count  Dtype  \n",
      "---  ------          --------------  -----  \n",
      " 0   num_caso        35000 non-null  int64  \n",
      " 1   tiempo_adeudo   35000 non-null  float64\n",
      " 2   num_retrasos    35000 non-null  float64\n",
      " 3   comp_interno1   35000 non-null  float64\n",
      " 4   prest_aceptado  35000 non-null  float64\n",
      "dtypes: float64(4), int64(1)\n",
      "memory usage: 1.6 MB\n"
     ]
    }
   ],
   "source": [
    "train.info()"
   ]
  },
  {
   "cell_type": "code",
   "execution_count": 197,
   "id": "bb4a6db0",
   "metadata": {},
   "outputs": [
    {
     "name": "stdout",
     "output_type": "stream",
     "text": [
      "<class 'pandas.core.frame.DataFrame'>\n",
      "Int64Index: 15000 entries, 4253 to 25776\n",
      "Data columns (total 5 columns):\n",
      " #   Column          Non-Null Count  Dtype  \n",
      "---  ------          --------------  -----  \n",
      " 0   num_caso        15000 non-null  int64  \n",
      " 1   tiempo_adeudo   15000 non-null  float64\n",
      " 2   num_retrasos    15000 non-null  float64\n",
      " 3   comp_interno1   15000 non-null  float64\n",
      " 4   prest_aceptado  15000 non-null  float64\n",
      "dtypes: float64(4), int64(1)\n",
      "memory usage: 703.1 KB\n"
     ]
    }
   ],
   "source": [
    "test.info()"
   ]
  },
  {
   "cell_type": "code",
   "execution_count": 198,
   "id": "02e579dd",
   "metadata": {},
   "outputs": [
    {
     "data": {
      "text/plain": [
       "48824    0.0\n",
       "2704     1.0\n",
       "25631    1.0\n",
       "7285     1.0\n",
       "27346    1.0\n",
       "        ... \n",
       "16304    1.0\n",
       "79       1.0\n",
       "12119    1.0\n",
       "14147    1.0\n",
       "38408    1.0\n",
       "Name: prest_aceptado, Length: 35000, dtype: float64"
      ]
     },
     "execution_count": 198,
     "metadata": {},
     "output_type": "execute_result"
    }
   ],
   "source": [
    "y = train.prest_aceptado\n",
    "y"
   ]
  },
  {
   "cell_type": "code",
   "execution_count": 199,
   "id": "6f6cadad",
   "metadata": {},
   "outputs": [],
   "source": [
    "optb_num_caso = OptimalBinning(name=\"num_caso\", dtype=\"numerical\", solver=\"cp\")\n",
    "optb_tiempo_adeudo = OptimalBinning(name=\"tiempo_adeudo\",dtype=\"categorical\", solver=\"cp\")\n",
    "optb_num_retrasos = OptimalBinning(name=\"num_retrasos\",dtype=\"numerical\", solver=\"cp\")\n",
    "optb_comp_interno1 = OptimalBinning(name=\"comp_interno1\", dtype=\"numerical\", solver=\"cp\")"
   ]
  },
  {
   "cell_type": "code",
   "execution_count": 200,
   "id": "d4175374",
   "metadata": {},
   "outputs": [
    {
     "data": {
      "text/plain": [
       "OptimalBinning(name='comp_interno1')"
      ]
     },
     "execution_count": 200,
     "metadata": {},
     "output_type": "execute_result"
    }
   ],
   "source": [
    "optb_num_caso.fit(train[\"num_caso\"].values, y)\n",
    "optb_tiempo_adeudo.fit(train[\"tiempo_adeudo\"].values, y)\n",
    "optb_num_retrasos.fit(train[\"num_retrasos\"].values, y)\n",
    "optb_comp_interno1.fit(train[\"comp_interno1\"].values, y)"
   ]
  },
  {
   "cell_type": "code",
   "execution_count": 201,
   "id": "e2321208",
   "metadata": {},
   "outputs": [
    {
     "data": {
      "text/plain": [
       "'Binning de num caso:'"
      ]
     },
     "metadata": {},
     "output_type": "display_data"
    },
    {
     "data": {
      "text/plain": [
       "array([ 8098.5, 18589. , 27359.5, 36765. , 52751.5, 57883.5, 65593.5,\n",
       "       72456.5, 78949. , 84176.5, 89132.5, 94014. ])"
      ]
     },
     "metadata": {},
     "output_type": "display_data"
    },
    {
     "data": {
      "text/plain": [
       "'Binning de Tiempo adeudo:'"
      ]
     },
     "metadata": {},
     "output_type": "display_data"
    },
    {
     "data": {
      "text/plain": [
       "[array([ 0., 65.,  3.]),\n",
       " array([63., 25., 41., 45.,  6.]),\n",
       " array([37., 42., 50., 64., 51., 57., 59.]),\n",
       " array([60., 48., 47., 58., 33.]),\n",
       " array([36., 53., 30.,  9., 54., 61.]),\n",
       " array([55., 62., 34., 38.]),\n",
       " array([27., 44., 26., 15., 49., 43., 52.]),\n",
       " array([32., 29., 35., 21., 40.]),\n",
       " array([17., 56., 20., 39.]),\n",
       " array([23., 18., 31., 28.]),\n",
       " array([46., 12.,  8.,  5.]),\n",
       " array([13., 19.,  7., 24.]),\n",
       " array([11., 14., 22., 16.]),\n",
       " array([10.,  2.,  4.])]"
      ]
     },
     "metadata": {},
     "output_type": "display_data"
    },
    {
     "data": {
      "text/plain": [
       "'Binning de número de retrasos:'"
      ]
     },
     "metadata": {},
     "output_type": "display_data"
    },
    {
     "data": {
      "text/plain": [
       "array([0.5, 1.5, 2.5, 3.5, 4.5, 5.5, 7.5])"
      ]
     },
     "metadata": {},
     "output_type": "display_data"
    },
    {
     "data": {
      "text/plain": [
       "'Binning de Componente interno:'"
      ]
     },
     "metadata": {},
     "output_type": "display_data"
    },
    {
     "data": {
      "text/plain": [
       "array([ 878.92605591, 1438.703125  ])"
      ]
     },
     "metadata": {},
     "output_type": "display_data"
    }
   ],
   "source": [
    "display(\"Binning de num caso:\",optb_num_caso.splits)\n",
    "display(\"Binning de Tiempo adeudo:\",optb_tiempo_adeudo.splits)\n",
    "display(\"Binning de número de retrasos:\",optb_num_retrasos.splits)\n",
    "display(\"Binning de Componente interno:\",optb_comp_interno1.splits)"
   ]
  },
  {
   "cell_type": "code",
   "execution_count": 202,
   "id": "de82c80a",
   "metadata": {},
   "outputs": [],
   "source": [
    "num_caso_table = optb_num_caso.binning_table\n",
    "tiempo_adeudo_table = optb_tiempo_adeudo.binning_table\n",
    "num_retrasos_table = optb_num_retrasos.binning_table\n",
    "comp_interno1_table = optb_comp_interno1.binning_table"
   ]
  },
  {
   "cell_type": "code",
   "execution_count": 203,
   "id": "3f83868d",
   "metadata": {},
   "outputs": [
    {
     "data": {
      "text/plain": [
       "'Num caso:'"
      ]
     },
     "metadata": {},
     "output_type": "display_data"
    },
    {
     "data": {
      "text/html": [
       "<div>\n",
       "<style scoped>\n",
       "    .dataframe tbody tr th:only-of-type {\n",
       "        vertical-align: middle;\n",
       "    }\n",
       "\n",
       "    .dataframe tbody tr th {\n",
       "        vertical-align: top;\n",
       "    }\n",
       "\n",
       "    .dataframe thead th {\n",
       "        text-align: right;\n",
       "    }\n",
       "</style>\n",
       "<table border=\"1\" class=\"dataframe\">\n",
       "  <thead>\n",
       "    <tr style=\"text-align: right;\">\n",
       "      <th></th>\n",
       "      <th>Bin</th>\n",
       "      <th>Count</th>\n",
       "      <th>Count (%)</th>\n",
       "      <th>Non-event</th>\n",
       "      <th>Event</th>\n",
       "      <th>Event rate</th>\n",
       "      <th>WoE</th>\n",
       "      <th>IV</th>\n",
       "      <th>JS</th>\n",
       "    </tr>\n",
       "  </thead>\n",
       "  <tbody>\n",
       "    <tr>\n",
       "      <th>0</th>\n",
       "      <td>[-inf, 8098.50)</td>\n",
       "      <td>2839</td>\n",
       "      <td>0.081114</td>\n",
       "      <td>206</td>\n",
       "      <td>2633</td>\n",
       "      <td>0.927439</td>\n",
       "      <td>0.302465</td>\n",
       "      <td>0.008501</td>\n",
       "      <td>0.001059</td>\n",
       "    </tr>\n",
       "    <tr>\n",
       "      <th>1</th>\n",
       "      <td>[8098.50, 18589.00)</td>\n",
       "      <td>3633</td>\n",
       "      <td>0.103800</td>\n",
       "      <td>237</td>\n",
       "      <td>3396</td>\n",
       "      <td>0.934765</td>\n",
       "      <td>0.188174</td>\n",
       "      <td>0.003999</td>\n",
       "      <td>0.000499</td>\n",
       "    </tr>\n",
       "    <tr>\n",
       "      <th>2</th>\n",
       "      <td>[18589.00, 27359.50)</td>\n",
       "      <td>3078</td>\n",
       "      <td>0.087943</td>\n",
       "      <td>191</td>\n",
       "      <td>2887</td>\n",
       "      <td>0.937947</td>\n",
       "      <td>0.134768</td>\n",
       "      <td>0.001697</td>\n",
       "      <td>0.000212</td>\n",
       "    </tr>\n",
       "    <tr>\n",
       "      <th>3</th>\n",
       "      <td>[27359.50, 36765.00)</td>\n",
       "      <td>3349</td>\n",
       "      <td>0.095686</td>\n",
       "      <td>188</td>\n",
       "      <td>3161</td>\n",
       "      <td>0.943864</td>\n",
       "      <td>0.028266</td>\n",
       "      <td>0.000077</td>\n",
       "      <td>0.000010</td>\n",
       "    </tr>\n",
       "    <tr>\n",
       "      <th>4</th>\n",
       "      <td>[36765.00, 52751.50)</td>\n",
       "      <td>5766</td>\n",
       "      <td>0.164743</td>\n",
       "      <td>291</td>\n",
       "      <td>5475</td>\n",
       "      <td>0.949532</td>\n",
       "      <td>-0.084157</td>\n",
       "      <td>0.001124</td>\n",
       "      <td>0.000140</td>\n",
       "    </tr>\n",
       "    <tr>\n",
       "      <th>5</th>\n",
       "      <td>[52751.50, 57883.50)</td>\n",
       "      <td>1827</td>\n",
       "      <td>0.052200</td>\n",
       "      <td>77</td>\n",
       "      <td>1750</td>\n",
       "      <td>0.957854</td>\n",
       "      <td>-0.273098</td>\n",
       "      <td>0.003452</td>\n",
       "      <td>0.000430</td>\n",
       "    </tr>\n",
       "    <tr>\n",
       "      <th>6</th>\n",
       "      <td>[57883.50, 65593.50)</td>\n",
       "      <td>2724</td>\n",
       "      <td>0.077829</td>\n",
       "      <td>101</td>\n",
       "      <td>2623</td>\n",
       "      <td>0.962922</td>\n",
       "      <td>-0.406486</td>\n",
       "      <td>0.010763</td>\n",
       "      <td>0.001336</td>\n",
       "    </tr>\n",
       "    <tr>\n",
       "      <th>7</th>\n",
       "      <td>[65593.50, 72456.50)</td>\n",
       "      <td>2465</td>\n",
       "      <td>0.070429</td>\n",
       "      <td>70</td>\n",
       "      <td>2395</td>\n",
       "      <td>0.971602</td>\n",
       "      <td>-0.682176</td>\n",
       "      <td>0.024417</td>\n",
       "      <td>0.002994</td>\n",
       "    </tr>\n",
       "    <tr>\n",
       "      <th>8</th>\n",
       "      <td>[72456.50, 78949.00)</td>\n",
       "      <td>2202</td>\n",
       "      <td>0.062914</td>\n",
       "      <td>51</td>\n",
       "      <td>2151</td>\n",
       "      <td>0.976839</td>\n",
       "      <td>-0.891395</td>\n",
       "      <td>0.034186</td>\n",
       "      <td>0.004137</td>\n",
       "    </tr>\n",
       "    <tr>\n",
       "      <th>9</th>\n",
       "      <td>[78949.00, 84176.50)</td>\n",
       "      <td>1853</td>\n",
       "      <td>0.052943</td>\n",
       "      <td>24</td>\n",
       "      <td>1829</td>\n",
       "      <td>0.987048</td>\n",
       "      <td>-1.483003</td>\n",
       "      <td>0.063373</td>\n",
       "      <td>0.007267</td>\n",
       "    </tr>\n",
       "    <tr>\n",
       "      <th>10</th>\n",
       "      <td>[84176.50, 89132.50)</td>\n",
       "      <td>1750</td>\n",
       "      <td>0.050000</td>\n",
       "      <td>43</td>\n",
       "      <td>1707</td>\n",
       "      <td>0.975429</td>\n",
       "      <td>-0.830825</td>\n",
       "      <td>0.024188</td>\n",
       "      <td>0.002939</td>\n",
       "    </tr>\n",
       "    <tr>\n",
       "      <th>11</th>\n",
       "      <td>[89132.50, 94014.00)</td>\n",
       "      <td>1764</td>\n",
       "      <td>0.050400</td>\n",
       "      <td>100</td>\n",
       "      <td>1664</td>\n",
       "      <td>0.943311</td>\n",
       "      <td>0.038658</td>\n",
       "      <td>0.000077</td>\n",
       "      <td>0.000010</td>\n",
       "    </tr>\n",
       "    <tr>\n",
       "      <th>12</th>\n",
       "      <td>[94014.00, inf)</td>\n",
       "      <td>1750</td>\n",
       "      <td>0.050000</td>\n",
       "      <td>334</td>\n",
       "      <td>1416</td>\n",
       "      <td>0.809143</td>\n",
       "      <td>1.406017</td>\n",
       "      <td>0.185311</td>\n",
       "      <td>0.021427</td>\n",
       "    </tr>\n",
       "    <tr>\n",
       "      <th>13</th>\n",
       "      <td>Special</td>\n",
       "      <td>0</td>\n",
       "      <td>0.000000</td>\n",
       "      <td>0</td>\n",
       "      <td>0</td>\n",
       "      <td>0.000000</td>\n",
       "      <td>0.0</td>\n",
       "      <td>0.000000</td>\n",
       "      <td>0.000000</td>\n",
       "    </tr>\n",
       "    <tr>\n",
       "      <th>14</th>\n",
       "      <td>Missing</td>\n",
       "      <td>0</td>\n",
       "      <td>0.000000</td>\n",
       "      <td>0</td>\n",
       "      <td>0</td>\n",
       "      <td>0.000000</td>\n",
       "      <td>0.0</td>\n",
       "      <td>0.000000</td>\n",
       "      <td>0.000000</td>\n",
       "    </tr>\n",
       "    <tr>\n",
       "      <th>Totals</th>\n",
       "      <td></td>\n",
       "      <td>35000</td>\n",
       "      <td>1.000000</td>\n",
       "      <td>1913</td>\n",
       "      <td>33087</td>\n",
       "      <td>0.945343</td>\n",
       "      <td></td>\n",
       "      <td>0.361165</td>\n",
       "      <td>0.042460</td>\n",
       "    </tr>\n",
       "  </tbody>\n",
       "</table>\n",
       "</div>"
      ],
      "text/plain": [
       "                         Bin  Count  Count (%)  Non-event  Event  Event rate  \\\n",
       "0            [-inf, 8098.50)   2839   0.081114        206   2633    0.927439   \n",
       "1        [8098.50, 18589.00)   3633   0.103800        237   3396    0.934765   \n",
       "2       [18589.00, 27359.50)   3078   0.087943        191   2887    0.937947   \n",
       "3       [27359.50, 36765.00)   3349   0.095686        188   3161    0.943864   \n",
       "4       [36765.00, 52751.50)   5766   0.164743        291   5475    0.949532   \n",
       "5       [52751.50, 57883.50)   1827   0.052200         77   1750    0.957854   \n",
       "6       [57883.50, 65593.50)   2724   0.077829        101   2623    0.962922   \n",
       "7       [65593.50, 72456.50)   2465   0.070429         70   2395    0.971602   \n",
       "8       [72456.50, 78949.00)   2202   0.062914         51   2151    0.976839   \n",
       "9       [78949.00, 84176.50)   1853   0.052943         24   1829    0.987048   \n",
       "10      [84176.50, 89132.50)   1750   0.050000         43   1707    0.975429   \n",
       "11      [89132.50, 94014.00)   1764   0.050400        100   1664    0.943311   \n",
       "12           [94014.00, inf)   1750   0.050000        334   1416    0.809143   \n",
       "13                   Special      0   0.000000          0      0    0.000000   \n",
       "14                   Missing      0   0.000000          0      0    0.000000   \n",
       "Totals                        35000   1.000000       1913  33087    0.945343   \n",
       "\n",
       "             WoE        IV        JS  \n",
       "0       0.302465  0.008501  0.001059  \n",
       "1       0.188174  0.003999  0.000499  \n",
       "2       0.134768  0.001697  0.000212  \n",
       "3       0.028266  0.000077  0.000010  \n",
       "4      -0.084157  0.001124  0.000140  \n",
       "5      -0.273098  0.003452  0.000430  \n",
       "6      -0.406486  0.010763  0.001336  \n",
       "7      -0.682176  0.024417  0.002994  \n",
       "8      -0.891395  0.034186  0.004137  \n",
       "9      -1.483003  0.063373  0.007267  \n",
       "10     -0.830825  0.024188  0.002939  \n",
       "11      0.038658  0.000077  0.000010  \n",
       "12      1.406017  0.185311  0.021427  \n",
       "13           0.0  0.000000  0.000000  \n",
       "14           0.0  0.000000  0.000000  \n",
       "Totals            0.361165  0.042460  "
      ]
     },
     "metadata": {},
     "output_type": "display_data"
    },
    {
     "data": {
      "text/plain": [
       "'Tiempo adeudo:'"
      ]
     },
     "metadata": {},
     "output_type": "display_data"
    },
    {
     "data": {
      "text/html": [
       "<div>\n",
       "<style scoped>\n",
       "    .dataframe tbody tr th:only-of-type {\n",
       "        vertical-align: middle;\n",
       "    }\n",
       "\n",
       "    .dataframe tbody tr th {\n",
       "        vertical-align: top;\n",
       "    }\n",
       "\n",
       "    .dataframe thead th {\n",
       "        text-align: right;\n",
       "    }\n",
       "</style>\n",
       "<table border=\"1\" class=\"dataframe\">\n",
       "  <thead>\n",
       "    <tr style=\"text-align: right;\">\n",
       "      <th></th>\n",
       "      <th>Bin</th>\n",
       "      <th>Count</th>\n",
       "      <th>Count (%)</th>\n",
       "      <th>Non-event</th>\n",
       "      <th>Event</th>\n",
       "      <th>Event rate</th>\n",
       "      <th>WoE</th>\n",
       "      <th>IV</th>\n",
       "      <th>JS</th>\n",
       "    </tr>\n",
       "  </thead>\n",
       "  <tbody>\n",
       "    <tr>\n",
       "      <th>0</th>\n",
       "      <td>[0.0, 65.0, 3.0]</td>\n",
       "      <td>2131</td>\n",
       "      <td>0.060886</td>\n",
       "      <td>1225</td>\n",
       "      <td>906</td>\n",
       "      <td>0.425153</td>\n",
       "      <td>3.152125</td>\n",
       "      <td>1.932168</td>\n",
       "      <td>0.174284</td>\n",
       "    </tr>\n",
       "    <tr>\n",
       "      <th>1</th>\n",
       "      <td>[63.0, 25.0, 41.0, 45.0, 6.0]</td>\n",
       "      <td>2648</td>\n",
       "      <td>0.075657</td>\n",
       "      <td>106</td>\n",
       "      <td>2542</td>\n",
       "      <td>0.959970</td>\n",
       "      <td>-0.3268</td>\n",
       "      <td>0.006999</td>\n",
       "      <td>0.000871</td>\n",
       "    </tr>\n",
       "    <tr>\n",
       "      <th>2</th>\n",
       "      <td>[37.0, 42.0, 50.0, 64.0, 51.0, 57.0, 59.0]</td>\n",
       "      <td>2945</td>\n",
       "      <td>0.084143</td>\n",
       "      <td>104</td>\n",
       "      <td>2841</td>\n",
       "      <td>0.964686</td>\n",
       "      <td>-0.457053</td>\n",
       "      <td>0.014397</td>\n",
       "      <td>0.001784</td>\n",
       "    </tr>\n",
       "    <tr>\n",
       "      <th>3</th>\n",
       "      <td>[60.0, 48.0, 47.0, 58.0, 33.0]</td>\n",
       "      <td>2256</td>\n",
       "      <td>0.064457</td>\n",
       "      <td>65</td>\n",
       "      <td>2191</td>\n",
       "      <td>0.971188</td>\n",
       "      <td>-0.667258</td>\n",
       "      <td>0.021513</td>\n",
       "      <td>0.002640</td>\n",
       "    </tr>\n",
       "    <tr>\n",
       "      <th>4</th>\n",
       "      <td>[36.0, 53.0, 30.0, 9.0, 54.0, 61.0]</td>\n",
       "      <td>3091</td>\n",
       "      <td>0.088314</td>\n",
       "      <td>83</td>\n",
       "      <td>3008</td>\n",
       "      <td>0.973148</td>\n",
       "      <td>-0.739722</td>\n",
       "      <td>0.035155</td>\n",
       "      <td>0.004297</td>\n",
       "    </tr>\n",
       "    <tr>\n",
       "      <th>5</th>\n",
       "      <td>[55.0, 62.0, 34.0, 38.0]</td>\n",
       "      <td>1797</td>\n",
       "      <td>0.051343</td>\n",
       "      <td>43</td>\n",
       "      <td>1754</td>\n",
       "      <td>0.976071</td>\n",
       "      <td>-0.857986</td>\n",
       "      <td>0.026198</td>\n",
       "      <td>0.003178</td>\n",
       "    </tr>\n",
       "    <tr>\n",
       "      <th>6</th>\n",
       "      <td>[27.0, 44.0, 26.0, 15.0, 49.0, 43.0, 52.0]</td>\n",
       "      <td>3594</td>\n",
       "      <td>0.102686</td>\n",
       "      <td>79</td>\n",
       "      <td>3515</td>\n",
       "      <td>0.978019</td>\n",
       "      <td>-0.944879</td>\n",
       "      <td>0.061359</td>\n",
       "      <td>0.007397</td>\n",
       "    </tr>\n",
       "    <tr>\n",
       "      <th>7</th>\n",
       "      <td>[32.0, 29.0, 35.0, 21.0, 40.0]</td>\n",
       "      <td>2582</td>\n",
       "      <td>0.073771</td>\n",
       "      <td>51</td>\n",
       "      <td>2531</td>\n",
       "      <td>0.980248</td>\n",
       "      <td>-1.054076</td>\n",
       "      <td>0.052531</td>\n",
       "      <td>0.006278</td>\n",
       "    </tr>\n",
       "    <tr>\n",
       "      <th>8</th>\n",
       "      <td>[17.0, 56.0, 20.0, 39.0]</td>\n",
       "      <td>2171</td>\n",
       "      <td>0.062029</td>\n",
       "      <td>39</td>\n",
       "      <td>2132</td>\n",
       "      <td>0.982036</td>\n",
       "      <td>-1.150786</td>\n",
       "      <td>0.050691</td>\n",
       "      <td>0.006008</td>\n",
       "    </tr>\n",
       "    <tr>\n",
       "      <th>9</th>\n",
       "      <td>[23.0, 18.0, 31.0, 28.0]</td>\n",
       "      <td>2380</td>\n",
       "      <td>0.068000</td>\n",
       "      <td>41</td>\n",
       "      <td>2339</td>\n",
       "      <td>0.982773</td>\n",
       "      <td>-1.193439</td>\n",
       "      <td>0.058789</td>\n",
       "      <td>0.006941</td>\n",
       "    </tr>\n",
       "    <tr>\n",
       "      <th>10</th>\n",
       "      <td>[46.0, 12.0, 8.0, 5.0]</td>\n",
       "      <td>2377</td>\n",
       "      <td>0.067914</td>\n",
       "      <td>33</td>\n",
       "      <td>2344</td>\n",
       "      <td>0.986117</td>\n",
       "      <td>-1.412639</td>\n",
       "      <td>0.075708</td>\n",
       "      <td>0.008748</td>\n",
       "    </tr>\n",
       "    <tr>\n",
       "      <th>11</th>\n",
       "      <td>[13.0, 19.0, 7.0, 24.0]</td>\n",
       "      <td>2572</td>\n",
       "      <td>0.073486</td>\n",
       "      <td>24</td>\n",
       "      <td>2548</td>\n",
       "      <td>0.990669</td>\n",
       "      <td>-1.814542</td>\n",
       "      <td>0.116971</td>\n",
       "      <td>0.012897</td>\n",
       "    </tr>\n",
       "    <tr>\n",
       "      <th>12</th>\n",
       "      <td>[11.0, 14.0, 22.0, 16.0]</td>\n",
       "      <td>2540</td>\n",
       "      <td>0.072571</td>\n",
       "      <td>17</td>\n",
       "      <td>2523</td>\n",
       "      <td>0.993307</td>\n",
       "      <td>-2.149523</td>\n",
       "      <td>0.144807</td>\n",
       "      <td>0.015264</td>\n",
       "    </tr>\n",
       "    <tr>\n",
       "      <th>13</th>\n",
       "      <td>[10.0, 2.0, 4.0]</td>\n",
       "      <td>1916</td>\n",
       "      <td>0.054743</td>\n",
       "      <td>3</td>\n",
       "      <td>1913</td>\n",
       "      <td>0.998434</td>\n",
       "      <td>-3.607348</td>\n",
       "      <td>0.202910</td>\n",
       "      <td>0.016958</td>\n",
       "    </tr>\n",
       "    <tr>\n",
       "      <th>14</th>\n",
       "      <td>Special</td>\n",
       "      <td>0</td>\n",
       "      <td>0.000000</td>\n",
       "      <td>0</td>\n",
       "      <td>0</td>\n",
       "      <td>0.000000</td>\n",
       "      <td>0.0</td>\n",
       "      <td>0.000000</td>\n",
       "      <td>0.000000</td>\n",
       "    </tr>\n",
       "    <tr>\n",
       "      <th>15</th>\n",
       "      <td>Missing</td>\n",
       "      <td>0</td>\n",
       "      <td>0.000000</td>\n",
       "      <td>0</td>\n",
       "      <td>0</td>\n",
       "      <td>0.000000</td>\n",
       "      <td>0.0</td>\n",
       "      <td>0.000000</td>\n",
       "      <td>0.000000</td>\n",
       "    </tr>\n",
       "    <tr>\n",
       "      <th>Totals</th>\n",
       "      <td></td>\n",
       "      <td>35000</td>\n",
       "      <td>1.000000</td>\n",
       "      <td>1913</td>\n",
       "      <td>33087</td>\n",
       "      <td>0.945343</td>\n",
       "      <td></td>\n",
       "      <td>2.800196</td>\n",
       "      <td>0.267545</td>\n",
       "    </tr>\n",
       "  </tbody>\n",
       "</table>\n",
       "</div>"
      ],
      "text/plain": [
       "                                               Bin  Count  Count (%)  \\\n",
       "0                                 [0.0, 65.0, 3.0]   2131   0.060886   \n",
       "1                    [63.0, 25.0, 41.0, 45.0, 6.0]   2648   0.075657   \n",
       "2       [37.0, 42.0, 50.0, 64.0, 51.0, 57.0, 59.0]   2945   0.084143   \n",
       "3                   [60.0, 48.0, 47.0, 58.0, 33.0]   2256   0.064457   \n",
       "4              [36.0, 53.0, 30.0, 9.0, 54.0, 61.0]   3091   0.088314   \n",
       "5                         [55.0, 62.0, 34.0, 38.0]   1797   0.051343   \n",
       "6       [27.0, 44.0, 26.0, 15.0, 49.0, 43.0, 52.0]   3594   0.102686   \n",
       "7                   [32.0, 29.0, 35.0, 21.0, 40.0]   2582   0.073771   \n",
       "8                         [17.0, 56.0, 20.0, 39.0]   2171   0.062029   \n",
       "9                         [23.0, 18.0, 31.0, 28.0]   2380   0.068000   \n",
       "10                          [46.0, 12.0, 8.0, 5.0]   2377   0.067914   \n",
       "11                         [13.0, 19.0, 7.0, 24.0]   2572   0.073486   \n",
       "12                        [11.0, 14.0, 22.0, 16.0]   2540   0.072571   \n",
       "13                                [10.0, 2.0, 4.0]   1916   0.054743   \n",
       "14                                         Special      0   0.000000   \n",
       "15                                         Missing      0   0.000000   \n",
       "Totals                                              35000   1.000000   \n",
       "\n",
       "        Non-event  Event  Event rate       WoE        IV        JS  \n",
       "0            1225    906    0.425153  3.152125  1.932168  0.174284  \n",
       "1             106   2542    0.959970   -0.3268  0.006999  0.000871  \n",
       "2             104   2841    0.964686 -0.457053  0.014397  0.001784  \n",
       "3              65   2191    0.971188 -0.667258  0.021513  0.002640  \n",
       "4              83   3008    0.973148 -0.739722  0.035155  0.004297  \n",
       "5              43   1754    0.976071 -0.857986  0.026198  0.003178  \n",
       "6              79   3515    0.978019 -0.944879  0.061359  0.007397  \n",
       "7              51   2531    0.980248 -1.054076  0.052531  0.006278  \n",
       "8              39   2132    0.982036 -1.150786  0.050691  0.006008  \n",
       "9              41   2339    0.982773 -1.193439  0.058789  0.006941  \n",
       "10             33   2344    0.986117 -1.412639  0.075708  0.008748  \n",
       "11             24   2548    0.990669 -1.814542  0.116971  0.012897  \n",
       "12             17   2523    0.993307 -2.149523  0.144807  0.015264  \n",
       "13              3   1913    0.998434 -3.607348  0.202910  0.016958  \n",
       "14              0      0    0.000000       0.0  0.000000  0.000000  \n",
       "15              0      0    0.000000       0.0  0.000000  0.000000  \n",
       "Totals       1913  33087    0.945343            2.800196  0.267545  "
      ]
     },
     "metadata": {},
     "output_type": "display_data"
    },
    {
     "data": {
      "text/plain": [
       "'# de retrasos:'"
      ]
     },
     "metadata": {},
     "output_type": "display_data"
    },
    {
     "data": {
      "text/html": [
       "<div>\n",
       "<style scoped>\n",
       "    .dataframe tbody tr th:only-of-type {\n",
       "        vertical-align: middle;\n",
       "    }\n",
       "\n",
       "    .dataframe tbody tr th {\n",
       "        vertical-align: top;\n",
       "    }\n",
       "\n",
       "    .dataframe thead th {\n",
       "        text-align: right;\n",
       "    }\n",
       "</style>\n",
       "<table border=\"1\" class=\"dataframe\">\n",
       "  <thead>\n",
       "    <tr style=\"text-align: right;\">\n",
       "      <th></th>\n",
       "      <th>Bin</th>\n",
       "      <th>Count</th>\n",
       "      <th>Count (%)</th>\n",
       "      <th>Non-event</th>\n",
       "      <th>Event</th>\n",
       "      <th>Event rate</th>\n",
       "      <th>WoE</th>\n",
       "      <th>IV</th>\n",
       "      <th>JS</th>\n",
       "    </tr>\n",
       "  </thead>\n",
       "  <tbody>\n",
       "    <tr>\n",
       "      <th>0</th>\n",
       "      <td>[-inf, 0.50)</td>\n",
       "      <td>8273</td>\n",
       "      <td>0.236371</td>\n",
       "      <td>1168</td>\n",
       "      <td>7105</td>\n",
       "      <td>0.858818</td>\n",
       "      <td>1.044962</td>\n",
       "      <td>0.413619</td>\n",
       "      <td>0.049471</td>\n",
       "    </tr>\n",
       "    <tr>\n",
       "      <th>1</th>\n",
       "      <td>[0.50, 1.50)</td>\n",
       "      <td>6151</td>\n",
       "      <td>0.175743</td>\n",
       "      <td>50</td>\n",
       "      <td>6101</td>\n",
       "      <td>0.991871</td>\n",
       "      <td>-1.953717</td>\n",
       "      <td>0.309187</td>\n",
       "      <td>0.033478</td>\n",
       "    </tr>\n",
       "    <tr>\n",
       "      <th>2</th>\n",
       "      <td>[1.50, 2.50)</td>\n",
       "      <td>5294</td>\n",
       "      <td>0.151257</td>\n",
       "      <td>42</td>\n",
       "      <td>5252</td>\n",
       "      <td>0.992066</td>\n",
       "      <td>-1.978227</td>\n",
       "      <td>0.270578</td>\n",
       "      <td>0.029202</td>\n",
       "    </tr>\n",
       "    <tr>\n",
       "      <th>3</th>\n",
       "      <td>[2.50, 3.50)</td>\n",
       "      <td>4249</td>\n",
       "      <td>0.121400</td>\n",
       "      <td>28</td>\n",
       "      <td>4221</td>\n",
       "      <td>0.993410</td>\n",
       "      <td>-2.165155</td>\n",
       "      <td>0.244524</td>\n",
       "      <td>0.025718</td>\n",
       "    </tr>\n",
       "    <tr>\n",
       "      <th>4</th>\n",
       "      <td>[3.50, 4.50)</td>\n",
       "      <td>3427</td>\n",
       "      <td>0.097914</td>\n",
       "      <td>22</td>\n",
       "      <td>3405</td>\n",
       "      <td>0.993580</td>\n",
       "      <td>-2.19149</td>\n",
       "      <td>0.200325</td>\n",
       "      <td>0.020990</td>\n",
       "    </tr>\n",
       "    <tr>\n",
       "      <th>5</th>\n",
       "      <td>[4.50, 5.50)</td>\n",
       "      <td>2454</td>\n",
       "      <td>0.070114</td>\n",
       "      <td>20</td>\n",
       "      <td>2434</td>\n",
       "      <td>0.991850</td>\n",
       "      <td>-1.951091</td>\n",
       "      <td>0.123131</td>\n",
       "      <td>0.013337</td>\n",
       "    </tr>\n",
       "    <tr>\n",
       "      <th>6</th>\n",
       "      <td>[5.50, 7.50)</td>\n",
       "      <td>2820</td>\n",
       "      <td>0.080571</td>\n",
       "      <td>43</td>\n",
       "      <td>2777</td>\n",
       "      <td>0.984752</td>\n",
       "      <td>-1.317459</td>\n",
       "      <td>0.080961</td>\n",
       "      <td>0.009446</td>\n",
       "    </tr>\n",
       "    <tr>\n",
       "      <th>7</th>\n",
       "      <td>[7.50, inf)</td>\n",
       "      <td>2332</td>\n",
       "      <td>0.066629</td>\n",
       "      <td>540</td>\n",
       "      <td>1792</td>\n",
       "      <td>0.768439</td>\n",
       "      <td>1.650949</td>\n",
       "      <td>0.376613</td>\n",
       "      <td>0.042367</td>\n",
       "    </tr>\n",
       "    <tr>\n",
       "      <th>8</th>\n",
       "      <td>Special</td>\n",
       "      <td>0</td>\n",
       "      <td>0.000000</td>\n",
       "      <td>0</td>\n",
       "      <td>0</td>\n",
       "      <td>0.000000</td>\n",
       "      <td>0.0</td>\n",
       "      <td>0.000000</td>\n",
       "      <td>0.000000</td>\n",
       "    </tr>\n",
       "    <tr>\n",
       "      <th>9</th>\n",
       "      <td>Missing</td>\n",
       "      <td>0</td>\n",
       "      <td>0.000000</td>\n",
       "      <td>0</td>\n",
       "      <td>0</td>\n",
       "      <td>0.000000</td>\n",
       "      <td>0.0</td>\n",
       "      <td>0.000000</td>\n",
       "      <td>0.000000</td>\n",
       "    </tr>\n",
       "    <tr>\n",
       "      <th>Totals</th>\n",
       "      <td></td>\n",
       "      <td>35000</td>\n",
       "      <td>1.000000</td>\n",
       "      <td>1913</td>\n",
       "      <td>33087</td>\n",
       "      <td>0.945343</td>\n",
       "      <td></td>\n",
       "      <td>2.018938</td>\n",
       "      <td>0.224010</td>\n",
       "    </tr>\n",
       "  </tbody>\n",
       "</table>\n",
       "</div>"
      ],
      "text/plain": [
       "                 Bin  Count  Count (%)  Non-event  Event  Event rate  \\\n",
       "0       [-inf, 0.50)   8273   0.236371       1168   7105    0.858818   \n",
       "1       [0.50, 1.50)   6151   0.175743         50   6101    0.991871   \n",
       "2       [1.50, 2.50)   5294   0.151257         42   5252    0.992066   \n",
       "3       [2.50, 3.50)   4249   0.121400         28   4221    0.993410   \n",
       "4       [3.50, 4.50)   3427   0.097914         22   3405    0.993580   \n",
       "5       [4.50, 5.50)   2454   0.070114         20   2434    0.991850   \n",
       "6       [5.50, 7.50)   2820   0.080571         43   2777    0.984752   \n",
       "7        [7.50, inf)   2332   0.066629        540   1792    0.768439   \n",
       "8            Special      0   0.000000          0      0    0.000000   \n",
       "9            Missing      0   0.000000          0      0    0.000000   \n",
       "Totals                35000   1.000000       1913  33087    0.945343   \n",
       "\n",
       "             WoE        IV        JS  \n",
       "0       1.044962  0.413619  0.049471  \n",
       "1      -1.953717  0.309187  0.033478  \n",
       "2      -1.978227  0.270578  0.029202  \n",
       "3      -2.165155  0.244524  0.025718  \n",
       "4       -2.19149  0.200325  0.020990  \n",
       "5      -1.951091  0.123131  0.013337  \n",
       "6      -1.317459  0.080961  0.009446  \n",
       "7       1.650949  0.376613  0.042367  \n",
       "8            0.0  0.000000  0.000000  \n",
       "9            0.0  0.000000  0.000000  \n",
       "Totals            2.018938  0.224010  "
      ]
     },
     "metadata": {},
     "output_type": "display_data"
    },
    {
     "data": {
      "text/plain": [
       "'Componente interno:'"
      ]
     },
     "metadata": {},
     "output_type": "display_data"
    },
    {
     "data": {
      "text/html": [
       "<div>\n",
       "<style scoped>\n",
       "    .dataframe tbody tr th:only-of-type {\n",
       "        vertical-align: middle;\n",
       "    }\n",
       "\n",
       "    .dataframe tbody tr th {\n",
       "        vertical-align: top;\n",
       "    }\n",
       "\n",
       "    .dataframe thead th {\n",
       "        text-align: right;\n",
       "    }\n",
       "</style>\n",
       "<table border=\"1\" class=\"dataframe\">\n",
       "  <thead>\n",
       "    <tr style=\"text-align: right;\">\n",
       "      <th></th>\n",
       "      <th>Bin</th>\n",
       "      <th>Count</th>\n",
       "      <th>Count (%)</th>\n",
       "      <th>Non-event</th>\n",
       "      <th>Event</th>\n",
       "      <th>Event rate</th>\n",
       "      <th>WoE</th>\n",
       "      <th>IV</th>\n",
       "      <th>JS</th>\n",
       "    </tr>\n",
       "  </thead>\n",
       "  <tbody>\n",
       "    <tr>\n",
       "      <th>0</th>\n",
       "      <td>[-inf, 878.93)</td>\n",
       "      <td>25484</td>\n",
       "      <td>0.728114</td>\n",
       "      <td>1570</td>\n",
       "      <td>23914</td>\n",
       "      <td>0.938393</td>\n",
       "      <td>0.127079</td>\n",
       "      <td>0.012446</td>\n",
       "      <td>0.001555</td>\n",
       "    </tr>\n",
       "    <tr>\n",
       "      <th>1</th>\n",
       "      <td>[878.93, 1438.70)</td>\n",
       "      <td>2904</td>\n",
       "      <td>0.082971</td>\n",
       "      <td>189</td>\n",
       "      <td>2715</td>\n",
       "      <td>0.934917</td>\n",
       "      <td>0.185668</td>\n",
       "      <td>0.003108</td>\n",
       "      <td>0.000388</td>\n",
       "    </tr>\n",
       "    <tr>\n",
       "      <th>2</th>\n",
       "      <td>[1438.70, inf)</td>\n",
       "      <td>6612</td>\n",
       "      <td>0.188914</td>\n",
       "      <td>154</td>\n",
       "      <td>6458</td>\n",
       "      <td>0.976709</td>\n",
       "      <td>-0.885655</td>\n",
       "      <td>0.101567</td>\n",
       "      <td>0.012297</td>\n",
       "    </tr>\n",
       "    <tr>\n",
       "      <th>3</th>\n",
       "      <td>Special</td>\n",
       "      <td>0</td>\n",
       "      <td>0.000000</td>\n",
       "      <td>0</td>\n",
       "      <td>0</td>\n",
       "      <td>0.000000</td>\n",
       "      <td>0.0</td>\n",
       "      <td>0.000000</td>\n",
       "      <td>0.000000</td>\n",
       "    </tr>\n",
       "    <tr>\n",
       "      <th>4</th>\n",
       "      <td>Missing</td>\n",
       "      <td>0</td>\n",
       "      <td>0.000000</td>\n",
       "      <td>0</td>\n",
       "      <td>0</td>\n",
       "      <td>0.000000</td>\n",
       "      <td>0.0</td>\n",
       "      <td>0.000000</td>\n",
       "      <td>0.000000</td>\n",
       "    </tr>\n",
       "    <tr>\n",
       "      <th>Totals</th>\n",
       "      <td></td>\n",
       "      <td>35000</td>\n",
       "      <td>1.000000</td>\n",
       "      <td>1913</td>\n",
       "      <td>33087</td>\n",
       "      <td>0.945343</td>\n",
       "      <td></td>\n",
       "      <td>0.117122</td>\n",
       "      <td>0.014239</td>\n",
       "    </tr>\n",
       "  </tbody>\n",
       "</table>\n",
       "</div>"
      ],
      "text/plain": [
       "                      Bin  Count  Count (%)  Non-event  Event  Event rate  \\\n",
       "0          [-inf, 878.93)  25484   0.728114       1570  23914    0.938393   \n",
       "1       [878.93, 1438.70)   2904   0.082971        189   2715    0.934917   \n",
       "2          [1438.70, inf)   6612   0.188914        154   6458    0.976709   \n",
       "3                 Special      0   0.000000          0      0    0.000000   \n",
       "4                 Missing      0   0.000000          0      0    0.000000   \n",
       "Totals                     35000   1.000000       1913  33087    0.945343   \n",
       "\n",
       "             WoE        IV        JS  \n",
       "0       0.127079  0.012446  0.001555  \n",
       "1       0.185668  0.003108  0.000388  \n",
       "2      -0.885655  0.101567  0.012297  \n",
       "3            0.0  0.000000  0.000000  \n",
       "4            0.0  0.000000  0.000000  \n",
       "Totals            0.117122  0.014239  "
      ]
     },
     "metadata": {},
     "output_type": "display_data"
    }
   ],
   "source": [
    "display(\"Num caso:\",num_caso_table.build())\n",
    "display(\"Tiempo adeudo:\",tiempo_adeudo_table.build())\n",
    "display(\"# de retrasos:\",num_retrasos_table.build())\n",
    "display(\"Componente interno:\",comp_interno1_table.build())"
   ]
  },
  {
   "cell_type": "code",
   "execution_count": 204,
   "id": "fbe96b29",
   "metadata": {},
   "outputs": [
    {
     "data": {
      "image/png": "[encoded data removed]",
      "text/plain": [
       "<Figure size 432x288 with 2 Axes>"
      ]
     },
     "metadata": {
      "needs_background": "light"
     },
     "output_type": "display_data"
    },
    {
     "data": {
      "image/png": "[encoded data removed]",
      "text/plain": [
       "<Figure size 432x288 with 2 Axes>"
      ]
     },
     "metadata": {
      "needs_background": "light"
     },
     "output_type": "display_data"
    }
   ],
   "source": [
    "num_caso_table.plot(metric=\"event_rate\")\n",
    "num_caso_table.plot(metric=\"woe\")"
   ]
  },
  {
   "cell_type": "code",
   "execution_count": 205,
   "id": "0f3e35c0",
   "metadata": {},
   "outputs": [
    {
     "data": {
      "image/png": "[encoded data removed]",
      "text/plain": [
       "<Figure size 432x288 with 2 Axes>"
      ]
     },
     "metadata": {
      "needs_background": "light"
     },
     "output_type": "display_data"
    },
    {
     "data": {
      "image/png": "[encoded data removed]",
      "text/plain": [
       "<Figure size 432x288 with 2 Axes>"
      ]
     },
     "metadata": {
      "needs_background": "light"
     },
     "output_type": "display_data"
    }
   ],
   "source": [
    "tiempo_adeudo_table.plot(metric=\"event_rate\")\n",
    "tiempo_adeudo_table.plot(metric=\"woe\")"
   ]
  },
  {
   "cell_type": "code",
   "execution_count": 206,
   "id": "4929515d",
   "metadata": {},
   "outputs": [
    {
     "data": {
      "image/png": "[encoded data removed]",
      "text/plain": [
       "<Figure size 432x288 with 2 Axes>"
      ]
     },
     "metadata": {
      "needs_background": "light"
     },
     "output_type": "display_data"
    },
    {
     "data": {
      "image/png": "[encoded data removed]",
      "text/plain": [
       "<Figure size 432x288 with 2 Axes>"
      ]
     },
     "metadata": {
      "needs_background": "light"
     },
     "output_type": "display_data"
    }
   ],
   "source": [
    "num_retrasos_table.plot(metric=\"event_rate\")\n",
    "num_retrasos_table.plot(metric=\"woe\")"
   ]
  },
  {
   "cell_type": "code",
   "execution_count": 207,
   "id": "f36c7993",
   "metadata": {},
   "outputs": [
    {
     "data": {
      "image/png": "[encoded data removed]",
      "text/plain": [
       "<Figure size 432x288 with 2 Axes>"
      ]
     },
     "metadata": {
      "needs_background": "light"
     },
     "output_type": "display_data"
    },
    {
     "data": {
      "image/png": "[encoded data removed]",
      "text/plain": [
       "<Figure size 432x288 with 2 Axes>"
      ]
     },
     "metadata": {
      "needs_background": "light"
     },
     "output_type": "display_data"
    }
   ],
   "source": [
    "comp_interno1_table.plot(metric=\"event_rate\")\n",
    "comp_interno1_table.plot(metric=\"woe\")"
   ]
  },
  {
   "cell_type": "code",
   "execution_count": 208,
   "id": "587d7039",
   "metadata": {},
   "outputs": [
    {
     "name": "stderr",
     "output_type": "stream",
     "text": [
      "<ipython-input-208-3a2261b0e35d>:1: SettingWithCopyWarning: \n",
      "A value is trying to be set on a copy of a slice from a DataFrame.\n",
      "Try using .loc[row_indexer,col_indexer] = value instead\n",
      "\n",
      "See the caveats in the documentation: https://pandas.pydata.org/pandas-docs/stable/user_guide/indexing.html#returning-a-view-versus-a-copy\n",
      "  train[\"woe_num_caso\"] = optb_num_caso.transform(train[\"num_caso\"], metric=\"woe\")\n",
      "<ipython-input-208-3a2261b0e35d>:2: SettingWithCopyWarning: \n",
      "A value is trying to be set on a copy of a slice from a DataFrame.\n",
      "Try using .loc[row_indexer,col_indexer] = value instead\n",
      "\n",
      "See the caveats in the documentation: https://pandas.pydata.org/pandas-docs/stable/user_guide/indexing.html#returning-a-view-versus-a-copy\n",
      "  train[\"woe_tiempo_adeudo\"] = optb_tiempo_adeudo.transform(train[\"tiempo_adeudo\"], metric=\"woe\")\n",
      "<ipython-input-208-3a2261b0e35d>:3: SettingWithCopyWarning: \n",
      "A value is trying to be set on a copy of a slice from a DataFrame.\n",
      "Try using .loc[row_indexer,col_indexer] = value instead\n",
      "\n",
      "See the caveats in the documentation: https://pandas.pydata.org/pandas-docs/stable/user_guide/indexing.html#returning-a-view-versus-a-copy\n",
      "  train[\"woe_num_retrasos\"] = optb_num_retrasos.transform(train[\"num_retrasos\"], metric=\"woe\")\n",
      "<ipython-input-208-3a2261b0e35d>:4: SettingWithCopyWarning: \n",
      "A value is trying to be set on a copy of a slice from a DataFrame.\n",
      "Try using .loc[row_indexer,col_indexer] = value instead\n",
      "\n",
      "See the caveats in the documentation: https://pandas.pydata.org/pandas-docs/stable/user_guide/indexing.html#returning-a-view-versus-a-copy\n",
      "  train[\"woe_comp_interno1\"] = optb_comp_interno1.transform(train[\"comp_interno1\"], metric=\"woe\")\n"
     ]
    }
   ],
   "source": [
    "train[\"woe_num_caso\"] = optb_num_caso.transform(train[\"num_caso\"], metric=\"woe\")\n",
    "train[\"woe_tiempo_adeudo\"] = optb_tiempo_adeudo.transform(train[\"tiempo_adeudo\"], metric=\"woe\")\n",
    "train[\"woe_num_retrasos\"] = optb_num_retrasos.transform(train[\"num_retrasos\"], metric=\"woe\")\n",
    "train[\"woe_comp_interno1\"] = optb_comp_interno1.transform(train[\"comp_interno1\"], metric=\"woe\")"
   ]
  },
  {
   "cell_type": "code",
   "execution_count": 209,
   "id": "cbb84c99",
   "metadata": {},
   "outputs": [
    {
     "data": {
      "text/html": [
       "<div>\n",
       "<style scoped>\n",
       "    .dataframe tbody tr th:only-of-type {\n",
       "        vertical-align: middle;\n",
       "    }\n",
       "\n",
       "    .dataframe tbody tr th {\n",
       "        vertical-align: top;\n",
       "    }\n",
       "\n",
       "    .dataframe thead th {\n",
       "        text-align: right;\n",
       "    }\n",
       "</style>\n",
       "<table border=\"1\" class=\"dataframe\">\n",
       "  <thead>\n",
       "    <tr style=\"text-align: right;\">\n",
       "      <th></th>\n",
       "      <th>num_caso</th>\n",
       "      <th>tiempo_adeudo</th>\n",
       "      <th>num_retrasos</th>\n",
       "      <th>comp_interno1</th>\n",
       "      <th>prest_aceptado</th>\n",
       "      <th>woe_num_caso</th>\n",
       "      <th>woe_tiempo_adeudo</th>\n",
       "      <th>woe_num_retrasos</th>\n",
       "      <th>woe_comp_interno1</th>\n",
       "    </tr>\n",
       "  </thead>\n",
       "  <tbody>\n",
       "    <tr>\n",
       "      <th>48824</th>\n",
       "      <td>39349</td>\n",
       "      <td>0.0</td>\n",
       "      <td>0.0</td>\n",
       "      <td>0.0</td>\n",
       "      <td>0.0</td>\n",
       "      <td>-0.084157</td>\n",
       "      <td>3.152125</td>\n",
       "      <td>1.044962</td>\n",
       "      <td>0.127079</td>\n",
       "    </tr>\n",
       "    <tr>\n",
       "      <th>2704</th>\n",
       "      <td>5626</td>\n",
       "      <td>61.0</td>\n",
       "      <td>5.0</td>\n",
       "      <td>0.0</td>\n",
       "      <td>1.0</td>\n",
       "      <td>0.302465</td>\n",
       "      <td>-0.739722</td>\n",
       "      <td>-1.951091</td>\n",
       "      <td>0.127079</td>\n",
       "    </tr>\n",
       "    <tr>\n",
       "      <th>25631</th>\n",
       "      <td>52705</td>\n",
       "      <td>33.0</td>\n",
       "      <td>2.0</td>\n",
       "      <td>0.0</td>\n",
       "      <td>1.0</td>\n",
       "      <td>-0.084157</td>\n",
       "      <td>-0.667258</td>\n",
       "      <td>-1.978227</td>\n",
       "      <td>0.127079</td>\n",
       "    </tr>\n",
       "    <tr>\n",
       "      <th>7285</th>\n",
       "      <td>15130</td>\n",
       "      <td>56.0</td>\n",
       "      <td>5.0</td>\n",
       "      <td>0.0</td>\n",
       "      <td>1.0</td>\n",
       "      <td>0.188174</td>\n",
       "      <td>-1.150786</td>\n",
       "      <td>-1.951091</td>\n",
       "      <td>0.127079</td>\n",
       "    </tr>\n",
       "    <tr>\n",
       "      <th>27346</th>\n",
       "      <td>56225</td>\n",
       "      <td>29.0</td>\n",
       "      <td>3.0</td>\n",
       "      <td>0.0</td>\n",
       "      <td>1.0</td>\n",
       "      <td>-0.273098</td>\n",
       "      <td>-1.054076</td>\n",
       "      <td>-2.165155</td>\n",
       "      <td>0.127079</td>\n",
       "    </tr>\n",
       "  </tbody>\n",
       "</table>\n",
       "</div>"
      ],
      "text/plain": [
       "       num_caso  tiempo_adeudo  num_retrasos  comp_interno1  prest_aceptado  \\\n",
       "48824     39349            0.0           0.0            0.0             0.0   \n",
       "2704       5626           61.0           5.0            0.0             1.0   \n",
       "25631     52705           33.0           2.0            0.0             1.0   \n",
       "7285      15130           56.0           5.0            0.0             1.0   \n",
       "27346     56225           29.0           3.0            0.0             1.0   \n",
       "\n",
       "       woe_num_caso  woe_tiempo_adeudo  woe_num_retrasos  woe_comp_interno1  \n",
       "48824     -0.084157           3.152125          1.044962           0.127079  \n",
       "2704       0.302465          -0.739722         -1.951091           0.127079  \n",
       "25631     -0.084157          -0.667258         -1.978227           0.127079  \n",
       "7285       0.188174          -1.150786         -1.951091           0.127079  \n",
       "27346     -0.273098          -1.054076         -2.165155           0.127079  "
      ]
     },
     "execution_count": 209,
     "metadata": {},
     "output_type": "execute_result"
    }
   ],
   "source": [
    "train.head()"
   ]
  },
  {
   "cell_type": "code",
   "execution_count": 210,
   "id": "c9f8168c",
   "metadata": {},
   "outputs": [
    {
     "name": "stdout",
     "output_type": "stream",
     "text": [
      "<class 'pandas.core.frame.DataFrame'>\n",
      "Int64Index: 35000 entries, 48824 to 38408\n",
      "Data columns (total 9 columns):\n",
      " #   Column             Non-Null Count  Dtype  \n",
      "---  ------             --------------  -----  \n",
      " 0   num_caso           35000 non-null  int64  \n",
      " 1   tiempo_adeudo      35000 non-null  float64\n",
      " 2   num_retrasos       35000 non-null  float64\n",
      " 3   comp_interno1      35000 non-null  float64\n",
      " 4   prest_aceptado     35000 non-null  float64\n",
      " 5   woe_num_caso       35000 non-null  float64\n",
      " 6   woe_tiempo_adeudo  35000 non-null  float64\n",
      " 7   woe_num_retrasos   35000 non-null  float64\n",
      " 8   woe_comp_interno1  35000 non-null  float64\n",
      "dtypes: float64(8), int64(1)\n",
      "memory usage: 2.7 MB\n"
     ]
    }
   ],
   "source": [
    "train.info()"
   ]
  },
  {
   "cell_type": "code",
   "execution_count": 221,
   "id": "96059d14",
   "metadata": {},
   "outputs": [
    {
     "data": {
      "image/png": "[encoded data removed]",
      "text/plain": [
       "<Figure size 720x720 with 2 Axes>"
      ]
     },
     "metadata": {
      "needs_background": "light"
     },
     "output_type": "display_data"
    }
   ],
   "source": [
    "corr = train.corr()\n",
    "corr\n",
    "\n",
    "xticks = list(corr.index)  \n",
    "yticks = list(corr.index)  \n",
    "fig = plt.figure(figsize=(10,10))\n",
    "ax1 = fig.add_subplot(1, 1, 1)\n",
    "\n",
    "sns.heatmap(corr,annot=True,cmap=\"rainbow\",ax=ax1,linewidths=.5,annot_kws={'size':9,'weight':'bold', 'color':'k'})\n",
    "ax1.set_xticklabels(xticks, rotation=30, fontsize=10)\n",
    "ax1.set_yticklabels(yticks, rotation=0, fontsize=10)\n",
    "plt.show()"
   ]
  },
  {
   "cell_type": "code",
   "execution_count": 211,
   "id": "094468dc",
   "metadata": {},
   "outputs": [
    {
     "data": {
      "image/png": "[encoded data removed]",
      "text/plain": [
       "<Figure size 720x720 with 2 Axes>"
      ]
     },
     "metadata": {
      "needs_background": "light"
     },
     "output_type": "display_data"
    }
   ],
   "source": [
    "corr = train.iloc[:,5:].corr()\n",
    "\n",
    "\n",
    "xticks = list(corr.index)  \n",
    "yticks = list(corr.index)  \n",
    "fig = plt.figure(figsize=(10,10))\n",
    "ax1 = fig.add_subplot(1, 1, 1)\n",
    "\n",
    "sns.heatmap(corr,annot=True,cmap=\"rainbow\",ax=ax1,linewidths=.5,annot_kws={'size':9,'weight':'bold', 'color':'k'})\n",
    "ax1.set_xticklabels(xticks, rotation=30, fontsize=10)\n",
    "ax1.set_yticklabels(yticks, rotation=0, fontsize=10)\n",
    "plt.show()"
   ]
  },
  {
   "cell_type": "markdown",
   "id": "8709eea7",
   "metadata": {},
   "source": [
    "El nivel de correlaciones entre los predictores es baja por lo tanto, todas las variables pueden estar dentro del modelo."
   ]
  },
  {
   "cell_type": "code",
   "execution_count": 222,
   "id": "26eef9b2",
   "metadata": {},
   "outputs": [
    {
     "data": {
      "text/html": [
       "<div>\n",
       "<style scoped>\n",
       "    .dataframe tbody tr th:only-of-type {\n",
       "        vertical-align: middle;\n",
       "    }\n",
       "\n",
       "    .dataframe tbody tr th {\n",
       "        vertical-align: top;\n",
       "    }\n",
       "\n",
       "    .dataframe thead th {\n",
       "        text-align: right;\n",
       "    }\n",
       "</style>\n",
       "<table border=\"1\" class=\"dataframe\">\n",
       "  <thead>\n",
       "    <tr style=\"text-align: right;\">\n",
       "      <th></th>\n",
       "      <th>woe_num_caso</th>\n",
       "      <th>woe_tiempo_adeudo</th>\n",
       "      <th>woe_num_retrasos</th>\n",
       "      <th>woe_comp_interno1</th>\n",
       "    </tr>\n",
       "  </thead>\n",
       "  <tbody>\n",
       "    <tr>\n",
       "      <th>48824</th>\n",
       "      <td>-0.084157</td>\n",
       "      <td>3.152125</td>\n",
       "      <td>1.044962</td>\n",
       "      <td>0.127079</td>\n",
       "    </tr>\n",
       "    <tr>\n",
       "      <th>2704</th>\n",
       "      <td>0.302465</td>\n",
       "      <td>-0.739722</td>\n",
       "      <td>-1.951091</td>\n",
       "      <td>0.127079</td>\n",
       "    </tr>\n",
       "    <tr>\n",
       "      <th>25631</th>\n",
       "      <td>-0.084157</td>\n",
       "      <td>-0.667258</td>\n",
       "      <td>-1.978227</td>\n",
       "      <td>0.127079</td>\n",
       "    </tr>\n",
       "    <tr>\n",
       "      <th>7285</th>\n",
       "      <td>0.188174</td>\n",
       "      <td>-1.150786</td>\n",
       "      <td>-1.951091</td>\n",
       "      <td>0.127079</td>\n",
       "    </tr>\n",
       "    <tr>\n",
       "      <th>27346</th>\n",
       "      <td>-0.273098</td>\n",
       "      <td>-1.054076</td>\n",
       "      <td>-2.165155</td>\n",
       "      <td>0.127079</td>\n",
       "    </tr>\n",
       "  </tbody>\n",
       "</table>\n",
       "</div>"
      ],
      "text/plain": [
       "       woe_num_caso  woe_tiempo_adeudo  woe_num_retrasos  woe_comp_interno1\n",
       "48824     -0.084157           3.152125          1.044962           0.127079\n",
       "2704       0.302465          -0.739722         -1.951091           0.127079\n",
       "25631     -0.084157          -0.667258         -1.978227           0.127079\n",
       "7285       0.188174          -1.150786         -1.951091           0.127079\n",
       "27346     -0.273098          -1.054076         -2.165155           0.127079"
      ]
     },
     "execution_count": 222,
     "metadata": {},
     "output_type": "execute_result"
    }
   ],
   "source": [
    "X_woe_train=train.iloc[:,5:]\n",
    "y_train=train.iloc[:,4]\n",
    "X_woe_train.head()"
   ]
  },
  {
   "cell_type": "code",
   "execution_count": 223,
   "id": "bcee3ee3",
   "metadata": {},
   "outputs": [
    {
     "data": {
      "text/plain": [
       "48824    0.0\n",
       "2704     1.0\n",
       "25631    1.0\n",
       "7285     1.0\n",
       "27346    1.0\n",
       "        ... \n",
       "16304    1.0\n",
       "79       1.0\n",
       "12119    1.0\n",
       "14147    1.0\n",
       "38408    1.0\n",
       "Name: prest_aceptado, Length: 35000, dtype: float64"
      ]
     },
     "execution_count": 223,
     "metadata": {},
     "output_type": "execute_result"
    }
   ],
   "source": [
    "y_train"
   ]
  },
  {
   "cell_type": "code",
   "execution_count": 224,
   "id": "b8f482fb",
   "metadata": {},
   "outputs": [],
   "source": [
    "model=LogisticRegression()\n",
    "clf=model.fit(X_woe_train,y_train)"
   ]
  },
  {
   "cell_type": "code",
   "execution_count": 225,
   "id": "babaa3c8",
   "metadata": {},
   "outputs": [
    {
     "name": "stdout",
     "output_type": "stream",
     "text": [
      "y_pred\n",
      " [0. 1. 1. ... 1. 1. 1.]\n",
      "y_pred1\n",
      " [-1.33993415  5.24072682  4.89892391 ...  5.24450663  4.98450773\n",
      "  4.85195914]\n"
     ]
    },
    {
     "data": {
      "image/png": "[encoded data removed]",
      "text/plain": [
       "<Figure size 432x288 with 1 Axes>"
      ]
     },
     "metadata": {
      "needs_background": "light"
     },
     "output_type": "display_data"
    }
   ],
   "source": [
    "y_pred=clf.predict(X_woe_train)\n",
    "y_pred1=clf.decision_function(X_woe_train)\n",
    "print('y_pred\\n',y_pred)\n",
    "print('y_pred1\\n',y_pred1)\n",
    "\n",
    "#Draw ROC curve and calculate AUC value\n",
    "fpr,tpr,threshold = roc_curve(y_train, y_pred1)\n",
    "roc_auc = auc(fpr,tpr)\n",
    "plot(fpr,tpr,color='darkred',\n",
    "         label='ROC curve (area = %0.2f)' % roc_auc)\n",
    "plt.plot([0, 1], [0, 1], color='navy', linestyle='--')\n",
    "plt.xlim([0.0, 1.0])\n",
    "plt.ylim([0.0, 1.0])\n",
    "plt.xlabel('False Positive Rate')\n",
    "plt.ylabel('True Positive Rate')\n",
    "plt.title('ROC_curve')\n",
    "plt.legend(loc=\"lower right\")\n",
    "plt.show()"
   ]
  },
  {
   "cell_type": "code",
   "execution_count": 228,
   "id": "25dc8df6",
   "metadata": {},
   "outputs": [
    {
     "data": {
      "text/plain": [
       "35000"
      ]
     },
     "execution_count": 228,
     "metadata": {},
     "output_type": "execute_result"
    }
   ],
   "source": [
    "y_fit=clf.predict_proba(X_woe_train)\n",
    "len(y_fit[:,0])"
   ]
  },
  {
   "cell_type": "code",
   "execution_count": 227,
   "id": "a08b5884",
   "metadata": {},
   "outputs": [
    {
     "data": {
      "text/plain": [
       "array([[0.79247911, 0.20752089],\n",
       "       [0.0052685 , 0.9947315 ],\n",
       "       [0.00739944, 0.99260056],\n",
       "       ...,\n",
       "       [0.00524873, 0.99475127],\n",
       "       [0.00679664, 0.99320336],\n",
       "       [0.00775249, 0.99224751]])"
      ]
     },
     "execution_count": 227,
     "metadata": {},
     "output_type": "execute_result"
    }
   ],
   "source": [
    "y_fit"
   ]
  },
  {
   "cell_type": "code",
   "execution_count": 230,
   "id": "3470a436",
   "metadata": {},
   "outputs": [
    {
     "data": {
      "text/plain": [
       "pandas.core.series.Series"
      ]
     },
     "execution_count": 230,
     "metadata": {},
     "output_type": "execute_result"
    }
   ],
   "source": [
    "type(y_train)"
   ]
  },
  {
   "cell_type": "code",
   "execution_count": 231,
   "id": "cf5eb8f8",
   "metadata": {},
   "outputs": [
    {
     "data": {
      "text/html": [
       "<div>\n",
       "<style scoped>\n",
       "    .dataframe tbody tr th:only-of-type {\n",
       "        vertical-align: middle;\n",
       "    }\n",
       "\n",
       "    .dataframe tbody tr th {\n",
       "        vertical-align: top;\n",
       "    }\n",
       "\n",
       "    .dataframe thead th {\n",
       "        text-align: right;\n",
       "    }\n",
       "</style>\n",
       "<table border=\"1\" class=\"dataframe\">\n",
       "  <thead>\n",
       "    <tr style=\"text-align: right;\">\n",
       "      <th></th>\n",
       "      <th>prest_aceptado</th>\n",
       "      <th>Estimado</th>\n",
       "    </tr>\n",
       "  </thead>\n",
       "  <tbody>\n",
       "    <tr>\n",
       "      <th>48824</th>\n",
       "      <td>0.0</td>\n",
       "      <td>0.207521</td>\n",
       "    </tr>\n",
       "    <tr>\n",
       "      <th>2704</th>\n",
       "      <td>1.0</td>\n",
       "      <td>0.994731</td>\n",
       "    </tr>\n",
       "    <tr>\n",
       "      <th>25631</th>\n",
       "      <td>1.0</td>\n",
       "      <td>0.992601</td>\n",
       "    </tr>\n",
       "    <tr>\n",
       "      <th>7285</th>\n",
       "      <td>1.0</td>\n",
       "      <td>0.996136</td>\n",
       "    </tr>\n",
       "    <tr>\n",
       "      <th>27346</th>\n",
       "      <td>1.0</td>\n",
       "      <td>0.994968</td>\n",
       "    </tr>\n",
       "    <tr>\n",
       "      <th>...</th>\n",
       "      <td>...</td>\n",
       "      <td>...</td>\n",
       "    </tr>\n",
       "    <tr>\n",
       "      <th>16304</th>\n",
       "      <td>1.0</td>\n",
       "      <td>0.991928</td>\n",
       "    </tr>\n",
       "    <tr>\n",
       "      <th>79</th>\n",
       "      <td>1.0</td>\n",
       "      <td>0.995687</td>\n",
       "    </tr>\n",
       "    <tr>\n",
       "      <th>12119</th>\n",
       "      <td>1.0</td>\n",
       "      <td>0.994751</td>\n",
       "    </tr>\n",
       "    <tr>\n",
       "      <th>14147</th>\n",
       "      <td>1.0</td>\n",
       "      <td>0.993203</td>\n",
       "    </tr>\n",
       "    <tr>\n",
       "      <th>38408</th>\n",
       "      <td>1.0</td>\n",
       "      <td>0.992248</td>\n",
       "    </tr>\n",
       "  </tbody>\n",
       "</table>\n",
       "<p>35000 rows × 2 columns</p>\n",
       "</div>"
      ],
      "text/plain": [
       "       prest_aceptado  Estimado\n",
       "48824             0.0  0.207521\n",
       "2704              1.0  0.994731\n",
       "25631             1.0  0.992601\n",
       "7285              1.0  0.996136\n",
       "27346             1.0  0.994968\n",
       "...               ...       ...\n",
       "16304             1.0  0.991928\n",
       "79                1.0  0.995687\n",
       "12119             1.0  0.994751\n",
       "14147             1.0  0.993203\n",
       "38408             1.0  0.992248\n",
       "\n",
       "[35000 rows x 2 columns]"
      ]
     },
     "execution_count": 231,
     "metadata": {},
     "output_type": "execute_result"
    }
   ],
   "source": [
    "base=y_train.to_frame()\n",
    "base[\"Estimado\"]=y_fit[:,1]\n",
    "base"
   ]
  },
  {
   "cell_type": "code",
   "execution_count": 256,
   "id": "14c2e14a",
   "metadata": {},
   "outputs": [],
   "source": [
    "ecdf_buenos=ECDF(base.loc[base.prest_aceptado==1.0,\"Estimado\"])\n",
    "ecdf_malos=ECDF(base.loc[base.prest_aceptado==0.0,\"Estimado\"])\n",
    "grid_score=np.sort(base.Estimado.unique())\n",
    "prob_acum_buenos=ecdf_buenos(grid_score)\n",
    "prob_acum_malos=ecdf_malos(grid_score)"
   ]
  },
  {
   "cell_type": "code",
   "execution_count": 257,
   "id": "5afb7c1e",
   "metadata": {},
   "outputs": [
    {
     "data": {
      "text/plain": [
       "0.7672318243634363"
      ]
     },
     "execution_count": 257,
     "metadata": {},
     "output_type": "execute_result"
    }
   ],
   "source": [
    "abs_dif=np.abs(prob_acum_malos-prob_acum_buenos)\n",
    "KS=np.max(abs_dif)\n",
    "KS"
   ]
  },
  {
   "cell_type": "code",
   "execution_count": 259,
   "id": "6d01c8bc",
   "metadata": {},
   "outputs": [
    {
     "data": {
      "image/png": "[encoded data removed]",
      "text/plain": [
       "<Figure size 576x360 with 1 Axes>"
      ]
     },
     "metadata": {
      "needs_background": "light"
     },
     "output_type": "display_data"
    }
   ],
   "source": [
    "fig, ax=plt.subplots(figsize=(8,5))\n",
    "ax.set_title(f\"K-S: {KS:%}\",fontsize=16)\n",
    "plot(grid_score,prob_acum_buenos,color=\"red\",linewidth=3,label=\"buenos\")\n",
    "plot(grid_score,prob_acum_malos,color=\"blue\",linewidth=3,label=\"malos\")\n",
    "xticks(fontsize=16)\n",
    "yticks(fontsize=16)\n",
    "legend(fontsize=15)\n",
    "show()\n"
   ]
  }
 ],
 "metadata": {
  "kernelspec": {
   "display_name": "Python 3",
   "language": "python",
   "name": "python3"
  },
  "language_info": {
   "codemirror_mode": {
    "name": "ipython",
    "version": 3
   },
   "file_extension": ".py",
   "mimetype": "text/x-python",
   "name": "python",
   "nbconvert_exporter": "python",
   "pygments_lexer": "ipython3",
   "version": "3.8.10"
  }
 },
 "nbformat": 4,
 "nbformat_minor": 5
}
