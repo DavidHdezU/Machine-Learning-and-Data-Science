{
 "cells": [
  {
   "cell_type": "code",
   "execution_count": 1,
   "id": "8854f8f9",
   "metadata": {},
   "outputs": [],
   "source": [
    "import numpy as np\n",
    "import pandas as pd\n",
    "import matplotlib.pyplot as plt\n",
    "import seaborn as sns\n",
    "%matplotlib inline\n",
    "sns.set(style=\"whitegrid\")\n",
    "from sklearn import linear_model\n",
    "from pylab import*"
   ]
  },
  {
   "cell_type": "code",
   "execution_count": 2,
   "id": "f23e04af",
   "metadata": {},
   "outputs": [
    {
     "data": {
      "text/html": [
       "<div>\n",
       "<style scoped>\n",
       "    .dataframe tbody tr th:only-of-type {\n",
       "        vertical-align: middle;\n",
       "    }\n",
       "\n",
       "    .dataframe tbody tr th {\n",
       "        vertical-align: top;\n",
       "    }\n",
       "\n",
       "    .dataframe thead th {\n",
       "        text-align: right;\n",
       "    }\n",
       "</style>\n",
       "<table border=\"1\" class=\"dataframe\">\n",
       "  <thead>\n",
       "    <tr style=\"text-align: right;\">\n",
       "      <th></th>\n",
       "      <th>lote</th>\n",
       "      <th>horas</th>\n",
       "      <th>monto</th>\n",
       "    </tr>\n",
       "  </thead>\n",
       "  <tbody>\n",
       "    <tr>\n",
       "      <th>0</th>\n",
       "      <td>A</td>\n",
       "      <td>99</td>\n",
       "      <td>25.8</td>\n",
       "    </tr>\n",
       "    <tr>\n",
       "      <th>1</th>\n",
       "      <td>A</td>\n",
       "      <td>152</td>\n",
       "      <td>20.5</td>\n",
       "    </tr>\n",
       "    <tr>\n",
       "      <th>2</th>\n",
       "      <td>A</td>\n",
       "      <td>293</td>\n",
       "      <td>14.3</td>\n",
       "    </tr>\n",
       "    <tr>\n",
       "      <th>3</th>\n",
       "      <td>A</td>\n",
       "      <td>155</td>\n",
       "      <td>23.2</td>\n",
       "    </tr>\n",
       "    <tr>\n",
       "      <th>4</th>\n",
       "      <td>A</td>\n",
       "      <td>196</td>\n",
       "      <td>20.6</td>\n",
       "    </tr>\n",
       "  </tbody>\n",
       "</table>\n",
       "</div>"
      ],
      "text/plain": [
       "  lote  horas  monto\n",
       "0    A     99   25.8\n",
       "1    A    152   20.5\n",
       "2    A    293   14.3\n",
       "3    A    155   23.2\n",
       "4    A    196   20.6"
      ]
     },
     "execution_count": 2,
     "metadata": {},
     "output_type": "execute_result"
    }
   ],
   "source": [
    "horm_df = pd.read_excel(\"lineal_horm.xlsx\")\n",
    "horm_df.head()"
   ]
  },
  {
   "cell_type": "code",
   "execution_count": 3,
   "id": "876f17e2",
   "metadata": {},
   "outputs": [
    {
     "name": "stdout",
     "output_type": "stream",
     "text": [
      "<class 'pandas.core.frame.DataFrame'>\n",
      "RangeIndex: 27 entries, 0 to 26\n",
      "Data columns (total 3 columns):\n",
      " #   Column  Non-Null Count  Dtype  \n",
      "---  ------  --------------  -----  \n",
      " 0   lote    27 non-null     object \n",
      " 1   horas   27 non-null     int64  \n",
      " 2   monto   27 non-null     float64\n",
      "dtypes: float64(1), int64(1), object(1)\n",
      "memory usage: 776.0+ bytes\n"
     ]
    }
   ],
   "source": [
    "horm_df.info()"
   ]
  },
  {
   "cell_type": "code",
   "execution_count": 4,
   "id": "c10d95ff",
   "metadata": {},
   "outputs": [
    {
     "data": {
      "text/plain": [
       "LinearRegression(copy_X=True, fit_intercept=True, n_jobs=None, normalize=False)"
      ]
     },
     "execution_count": 4,
     "metadata": {},
     "output_type": "execute_result"
    }
   ],
   "source": [
    "# Creamos el training set\n",
    "X = horm_df[[\"horas\"]]\n",
    "y = horm_df[[\"monto\"]]\n",
    "\n",
    "# Nuestro modelo\n",
    "reg_model = linear_model.LinearRegression()\n",
    "reg_model.fit(X, y)"
   ]
  },
  {
   "cell_type": "code",
   "execution_count": 5,
   "id": "bdeb55e1",
   "metadata": {},
   "outputs": [
    {
     "data": {
      "text/plain": [
       "array([[-0.0574463]])"
      ]
     },
     "execution_count": 5,
     "metadata": {},
     "output_type": "execute_result"
    }
   ],
   "source": [
    "reg_model.coef_"
   ]
  },
  {
   "cell_type": "code",
   "execution_count": 6,
   "id": "cade907b",
   "metadata": {},
   "outputs": [
    {
     "data": {
      "text/plain": [
       "array([34.16752817])"
      ]
     },
     "execution_count": 6,
     "metadata": {},
     "output_type": "execute_result"
    }
   ],
   "source": [
    "reg_model.intercept_"
   ]
  },
  {
   "cell_type": "code",
   "execution_count": 7,
   "id": "0ded1b6a",
   "metadata": {},
   "outputs": [
    {
     "data": {
      "text/plain": [
       "array([[28.4803446 ],\n",
       "       [25.43569077],\n",
       "       [17.33576266],\n",
       "       [25.26335188],\n",
       "       [22.90805363],\n",
       "       [31.12287434],\n",
       "       [23.59740921],\n",
       "       [24.3442111 ],\n",
       "       [31.18032064],\n",
       "       [12.56771986],\n",
       "       [12.05070318],\n",
       "       [11.0741161 ],\n",
       "       [32.50158551],\n",
       "       [29.80160947],\n",
       "       [17.16342376],\n",
       "       [25.49313707],\n",
       "       [23.9995333 ],\n",
       "       [22.16125175],\n",
       "       [27.33141863],\n",
       "       [23.36762402],\n",
       "       [27.56120382],\n",
       "       [29.11225389],\n",
       "       [30.83564285],\n",
       "       [31.35265954],\n",
       "       [25.55058337],\n",
       "       [28.02077421],\n",
       "       [26.98674084]])"
      ]
     },
     "execution_count": 7,
     "metadata": {},
     "output_type": "execute_result"
    }
   ],
   "source": [
    "Y_pred = reg_model.predict(X) \n",
    "Y_pred"
   ]
  },
  {
   "cell_type": "code",
   "execution_count": 8,
   "id": "3610f59a",
   "metadata": {},
   "outputs": [
    {
     "data": {
      "text/plain": [
       "array([28.4803446 , 25.43569077, 17.33576266, 25.26335188, 22.90805363,\n",
       "       31.12287434, 23.59740921, 24.3442111 , 31.18032064, 12.56771986,\n",
       "       12.05070318, 11.0741161 , 32.50158551, 29.80160947, 17.16342376,\n",
       "       25.49313707, 23.9995333 , 22.16125175, 27.33141863, 23.36762402,\n",
       "       27.56120382, 29.11225389, 30.83564285, 31.35265954, 25.55058337,\n",
       "       28.02077421, 26.98674084])"
      ]
     },
     "execution_count": 8,
     "metadata": {},
     "output_type": "execute_result"
    }
   ],
   "source": [
    "y_estim = Y_pred.reshape(-1)\n",
    "y_estim"
   ]
  },
  {
   "cell_type": "code",
   "execution_count": 9,
   "id": "86cbf257",
   "metadata": {},
   "outputs": [
    {
     "data": {
      "text/plain": [
       "array([ 99, 152, 293, 155, 196,  53, 184, 171,  52, 376, 385, 402,  29,\n",
       "        76, 296, 151, 177, 209, 119, 188, 115,  88,  58,  49, 150, 107,\n",
       "       125])"
      ]
     },
     "execution_count": 9,
     "metadata": {},
     "output_type": "execute_result"
    }
   ],
   "source": [
    "x = X.to_numpy().reshape(-1)\n",
    "x"
   ]
  },
  {
   "cell_type": "code",
   "execution_count": 10,
   "id": "1b9bbac3",
   "metadata": {},
   "outputs": [
    {
     "data": {
      "text/plain": [
       "array([25.8, 20.5, 14.3, 23.2, 20.6, 31.1, 20.9, 20.9, 30.4, 16.3, 11.6,\n",
       "       11.8, 32.5, 32. , 18. , 24.1, 26.5, 25.8, 28.8, 22. , 29.7, 28.9,\n",
       "       32.8, 32.5, 25.4, 31.7, 28.5])"
      ]
     },
     "execution_count": 10,
     "metadata": {},
     "output_type": "execute_result"
    }
   ],
   "source": [
    "y_real = y.to_numpy()\n",
    "y_real = y_real.reshape(-1)\n",
    "y_real\n",
    "n = len(y_real)\n",
    "y_real"
   ]
  },
  {
   "cell_type": "code",
   "execution_count": 11,
   "id": "a748cb9f",
   "metadata": {},
   "outputs": [
    {
     "data": {
      "text/plain": [
       "array([-2.68034460e+00, -4.93569077e+00, -3.03576266e+00, -2.06335188e+00,\n",
       "       -2.30805363e+00, -2.28743430e-02, -2.69740921e+00, -3.44421110e+00,\n",
       "       -7.80320642e-01,  3.73228014e+00, -4.50703175e-01,  7.25883902e-01,\n",
       "       -1.58551177e-03,  2.19839053e+00,  8.36576241e-01, -1.39313707e+00,\n",
       "        2.50046670e+00,  3.63874825e+00,  1.46858137e+00, -1.36762402e+00,\n",
       "        2.13879618e+00, -2.12253889e-01,  1.96435715e+00,  1.14734046e+00,\n",
       "       -1.50583369e-01,  3.67922579e+00,  1.51325916e+00])"
      ]
     },
     "execution_count": 11,
     "metadata": {},
     "output_type": "execute_result"
    }
   ],
   "source": [
    "# Obtenemos los residuos\n",
    "residuals = y_real-y_estim\n",
    "residuals"
   ]
  },
  {
   "cell_type": "markdown",
   "id": "1e49b002",
   "metadata": {},
   "source": [
    "Recordemos que se puede obtener el error estándar del estimador de la siguiente manera\n",
    "$$\n",
    "\\begin{equation}\n",
    "\\hat{se}_{\\beta}=\\sqrt{\\frac{\\sum_{i} \\epsilon_{i}^{2}}{(n-2)\\sum_{i}(x-\\bar{x})^{2}}}\n",
    "\\end{equation}\n",
    "$$"
   ]
  },
  {
   "cell_type": "code",
   "execution_count": 12,
   "id": "6c4e5421",
   "metadata": {},
   "outputs": [
    {
     "name": "stdout",
     "output_type": "stream",
     "text": [
      "El error estándar es : 0.0044641731603115384\n"
     ]
    }
   ],
   "source": [
    "den=sum((x-np.mean(x))**2)\n",
    "num=sum(residuals**2)/(n-2)\n",
    "err_reg=np.sqrt(num/den)\n",
    "\n",
    "print(f\"El error estándar es : {err_reg}\")"
   ]
  },
  {
   "cell_type": "code",
   "execution_count": 13,
   "id": "ef093284",
   "metadata": {},
   "outputs": [
    {
     "data": {
      "text/plain": [
       "(array([ 5., 10., 15., 20., 25., 30., 35.]),\n",
       " [Text(0, 0, ''),\n",
       "  Text(0, 0, ''),\n",
       "  Text(0, 0, ''),\n",
       "  Text(0, 0, ''),\n",
       "  Text(0, 0, ''),\n",
       "  Text(0, 0, ''),\n",
       "  Text(0, 0, '')])"
      ]
     },
     "execution_count": 13,
     "metadata": {},
     "output_type": "execute_result"
    },
    {
     "data": {
      "image/png": "[encoded data removed]",
      "text/plain": [
       "<Figure size 648x432 with 1 Axes>"
      ]
     },
     "metadata": {},
     "output_type": "display_data"
    }
   ],
   "source": [
    "# Visualización\n",
    "fig, ax = plt.subplots(figsize=(9,6))\n",
    "plt.scatter(X, y,s=30)\n",
    "plt.plot(X, Y_pred, color='red')\n",
    "plt.xlabel(\"Horas\",size=14)\n",
    "plt.ylabel(\"Monto\",size=14)\n",
    "plt.xticks(fontsize=16)\n",
    "plt.yticks(fontsize=16)"
   ]
  },
  {
   "cell_type": "markdown",
   "id": "395a7d26",
   "metadata": {},
   "source": [
    "### Calculemos el error estandar de las estimaciones de los parámetros haciendo bootstrap sobre los residuales"
   ]
  },
  {
   "cell_type": "code",
   "execution_count": 14,
   "id": "314e28a4",
   "metadata": {},
   "outputs": [
    {
     "data": {
      "text/html": [
       "<div>\n",
       "<style scoped>\n",
       "    .dataframe tbody tr th:only-of-type {\n",
       "        vertical-align: middle;\n",
       "    }\n",
       "\n",
       "    .dataframe tbody tr th {\n",
       "        vertical-align: top;\n",
       "    }\n",
       "\n",
       "    .dataframe thead th {\n",
       "        text-align: right;\n",
       "    }\n",
       "</style>\n",
       "<table border=\"1\" class=\"dataframe\">\n",
       "  <thead>\n",
       "    <tr style=\"text-align: right;\">\n",
       "      <th></th>\n",
       "      <th>residual</th>\n",
       "      <th>x</th>\n",
       "    </tr>\n",
       "  </thead>\n",
       "  <tbody>\n",
       "    <tr>\n",
       "      <th>0</th>\n",
       "      <td>-2.680345</td>\n",
       "      <td>99</td>\n",
       "    </tr>\n",
       "    <tr>\n",
       "      <th>1</th>\n",
       "      <td>-4.935691</td>\n",
       "      <td>152</td>\n",
       "    </tr>\n",
       "    <tr>\n",
       "      <th>2</th>\n",
       "      <td>-3.035763</td>\n",
       "      <td>293</td>\n",
       "    </tr>\n",
       "    <tr>\n",
       "      <th>3</th>\n",
       "      <td>-2.063352</td>\n",
       "      <td>155</td>\n",
       "    </tr>\n",
       "    <tr>\n",
       "      <th>4</th>\n",
       "      <td>-2.308054</td>\n",
       "      <td>196</td>\n",
       "    </tr>\n",
       "  </tbody>\n",
       "</table>\n",
       "</div>"
      ],
      "text/plain": [
       "   residual    x\n",
       "0 -2.680345   99\n",
       "1 -4.935691  152\n",
       "2 -3.035763  293\n",
       "3 -2.063352  155\n",
       "4 -2.308054  196"
      ]
     },
     "execution_count": 14,
     "metadata": {},
     "output_type": "execute_result"
    }
   ],
   "source": [
    "residuals_df = pd.DataFrame(residuals, columns=['residual'])\n",
    "residuals_df[\"x\"] = x\n",
    "residuals_df.head()"
   ]
  },
  {
   "cell_type": "code",
   "execution_count": 15,
   "id": "bba84d6b",
   "metadata": {},
   "outputs": [
    {
     "data": {
      "text/html": [
       "<div>\n",
       "<style scoped>\n",
       "    .dataframe tbody tr th:only-of-type {\n",
       "        vertical-align: middle;\n",
       "    }\n",
       "\n",
       "    .dataframe tbody tr th {\n",
       "        vertical-align: top;\n",
       "    }\n",
       "\n",
       "    .dataframe thead th {\n",
       "        text-align: right;\n",
       "    }\n",
       "</style>\n",
       "<table border=\"1\" class=\"dataframe\">\n",
       "  <thead>\n",
       "    <tr style=\"text-align: right;\">\n",
       "      <th></th>\n",
       "      <th>residual</th>\n",
       "      <th>x</th>\n",
       "    </tr>\n",
       "  </thead>\n",
       "  <tbody>\n",
       "    <tr>\n",
       "      <th>0</th>\n",
       "      <td>0.836576</td>\n",
       "      <td>296</td>\n",
       "    </tr>\n",
       "    <tr>\n",
       "      <th>1</th>\n",
       "      <td>1.468581</td>\n",
       "      <td>119</td>\n",
       "    </tr>\n",
       "    <tr>\n",
       "      <th>2</th>\n",
       "      <td>1.468581</td>\n",
       "      <td>119</td>\n",
       "    </tr>\n",
       "    <tr>\n",
       "      <th>3</th>\n",
       "      <td>3.638748</td>\n",
       "      <td>209</td>\n",
       "    </tr>\n",
       "    <tr>\n",
       "      <th>4</th>\n",
       "      <td>3.638748</td>\n",
       "      <td>209</td>\n",
       "    </tr>\n",
       "    <tr>\n",
       "      <th>5</th>\n",
       "      <td>3.638748</td>\n",
       "      <td>209</td>\n",
       "    </tr>\n",
       "    <tr>\n",
       "      <th>6</th>\n",
       "      <td>3.638748</td>\n",
       "      <td>209</td>\n",
       "    </tr>\n",
       "    <tr>\n",
       "      <th>7</th>\n",
       "      <td>-0.150583</td>\n",
       "      <td>150</td>\n",
       "    </tr>\n",
       "    <tr>\n",
       "      <th>8</th>\n",
       "      <td>-0.150583</td>\n",
       "      <td>150</td>\n",
       "    </tr>\n",
       "    <tr>\n",
       "      <th>9</th>\n",
       "      <td>-2.680345</td>\n",
       "      <td>99</td>\n",
       "    </tr>\n",
       "    <tr>\n",
       "      <th>10</th>\n",
       "      <td>-2.680345</td>\n",
       "      <td>99</td>\n",
       "    </tr>\n",
       "    <tr>\n",
       "      <th>11</th>\n",
       "      <td>-1.367624</td>\n",
       "      <td>188</td>\n",
       "    </tr>\n",
       "    <tr>\n",
       "      <th>12</th>\n",
       "      <td>-1.367624</td>\n",
       "      <td>188</td>\n",
       "    </tr>\n",
       "    <tr>\n",
       "      <th>13</th>\n",
       "      <td>-1.367624</td>\n",
       "      <td>188</td>\n",
       "    </tr>\n",
       "    <tr>\n",
       "      <th>14</th>\n",
       "      <td>-4.935691</td>\n",
       "      <td>152</td>\n",
       "    </tr>\n",
       "    <tr>\n",
       "      <th>15</th>\n",
       "      <td>-0.212254</td>\n",
       "      <td>88</td>\n",
       "    </tr>\n",
       "    <tr>\n",
       "      <th>16</th>\n",
       "      <td>-3.444211</td>\n",
       "      <td>171</td>\n",
       "    </tr>\n",
       "    <tr>\n",
       "      <th>17</th>\n",
       "      <td>-0.022874</td>\n",
       "      <td>53</td>\n",
       "    </tr>\n",
       "    <tr>\n",
       "      <th>18</th>\n",
       "      <td>3.679226</td>\n",
       "      <td>107</td>\n",
       "    </tr>\n",
       "    <tr>\n",
       "      <th>19</th>\n",
       "      <td>3.679226</td>\n",
       "      <td>107</td>\n",
       "    </tr>\n",
       "    <tr>\n",
       "      <th>20</th>\n",
       "      <td>0.725884</td>\n",
       "      <td>402</td>\n",
       "    </tr>\n",
       "    <tr>\n",
       "      <th>21</th>\n",
       "      <td>2.500467</td>\n",
       "      <td>177</td>\n",
       "    </tr>\n",
       "    <tr>\n",
       "      <th>22</th>\n",
       "      <td>-2.697409</td>\n",
       "      <td>184</td>\n",
       "    </tr>\n",
       "    <tr>\n",
       "      <th>23</th>\n",
       "      <td>-0.780321</td>\n",
       "      <td>52</td>\n",
       "    </tr>\n",
       "    <tr>\n",
       "      <th>24</th>\n",
       "      <td>1.147340</td>\n",
       "      <td>49</td>\n",
       "    </tr>\n",
       "    <tr>\n",
       "      <th>25</th>\n",
       "      <td>-0.001586</td>\n",
       "      <td>29</td>\n",
       "    </tr>\n",
       "    <tr>\n",
       "      <th>26</th>\n",
       "      <td>1.964357</td>\n",
       "      <td>58</td>\n",
       "    </tr>\n",
       "  </tbody>\n",
       "</table>\n",
       "</div>"
      ],
      "text/plain": [
       "    residual    x\n",
       "0   0.836576  296\n",
       "1   1.468581  119\n",
       "2   1.468581  119\n",
       "3   3.638748  209\n",
       "4   3.638748  209\n",
       "5   3.638748  209\n",
       "6   3.638748  209\n",
       "7  -0.150583  150\n",
       "8  -0.150583  150\n",
       "9  -2.680345   99\n",
       "10 -2.680345   99\n",
       "11 -1.367624  188\n",
       "12 -1.367624  188\n",
       "13 -1.367624  188\n",
       "14 -4.935691  152\n",
       "15 -0.212254   88\n",
       "16 -3.444211  171\n",
       "17 -0.022874   53\n",
       "18  3.679226  107\n",
       "19  3.679226  107\n",
       "20  0.725884  402\n",
       "21  2.500467  177\n",
       "22 -2.697409  184\n",
       "23 -0.780321   52\n",
       "24  1.147340   49\n",
       "25 -0.001586   29\n",
       "26  1.964357   58"
      ]
     },
     "execution_count": 15,
     "metadata": {},
     "output_type": "execute_result"
    }
   ],
   "source": [
    "r_i= np.random.choice(residuals,len(residuals),replace=True)\n",
    "residuals_df_aux = pd.DataFrame(r_i, columns=['residual'])\n",
    "residuals_df_aux = pd.merge(residuals_df_aux, residuals_df, how=\"inner\", on=[\"residual\"])\n",
    "residuals_df_aux    "
   ]
  },
  {
   "cell_type": "code",
   "execution_count": 16,
   "id": "2b11a55c",
   "metadata": {},
   "outputs": [
    {
     "name": "stdout",
     "output_type": "stream",
     "text": [
      "El error estándar es: 0.005884708709298975\n"
     ]
    }
   ],
   "source": [
    "x_j = residuals_df_aux[[\"x\"]].to_numpy().reshape(-1)\n",
    "den = sum((x_j-np.mean(x_j))**2)\n",
    "num = sum(r_i**2)/(n)\n",
    "err = np.sqrt(num/den)\n",
    "\n",
    "print(f\"El error estándar es: {err}\")"
   ]
  },
  {
   "cell_type": "code",
   "execution_count": 17,
   "id": "ebe6dbdc",
   "metadata": {},
   "outputs": [],
   "source": [
    "simul=1000\n",
    "res_boost= np.array( [ ])\n",
    "for i in range(0,simul):\n",
    "    r_i=np.random.choice(residuals,len(residuals),replace=True)\n",
    "    df_aux = pd.DataFrame(r_i,\n",
    "                 columns=['residual'])\n",
    "    df_aux=pd.merge(df_aux, residuals_df, how=\"inner\", on=[\"residual\"])\n",
    "    df_aux\n",
    "    x_i=df_aux[[\"x\"]].to_numpy().reshape(-1)\n",
    "    den=sum((x_i-np.mean(x_i))**2)\n",
    "    num=sum(r_i**2)/(n)\n",
    "    err=np.sqrt(num/den)\n",
    "    res_boost = np.append(res_boost,err)"
   ]
  },
  {
   "cell_type": "code",
   "execution_count": 18,
   "id": "a787822b",
   "metadata": {},
   "outputs": [
    {
     "name": "stdout",
     "output_type": "stream",
     "text": [
      "Error Estándar sin Bootsrap: 0.0044641731603115384\n",
      "Promedio de Error Estándar de la muestras Bootstrap: 0.00453008974886558\n",
      "Promedio de Error Estándar de la muestras Bootstrap: 0.00453008974886558\n",
      "( 0.0030449890120012087 , 0.006938772278407408 )\n"
     ]
    },
    {
     "data": {
      "image/png": "[encoded data removed]",
      "text/plain": [
       "<Figure size 648x432 with 1 Axes>"
      ]
     },
     "metadata": {},
     "output_type": "display_data"
    }
   ],
   "source": [
    "fig, ax = plt.subplots(figsize=(9,6))\n",
    "plt.hist(res_boost,bins=50,alpha=0.5,edgecolor=\"white\",label=\"Error estándar Boostrap\")\n",
    "plt.axvline(x=err_reg,color='green', linestyle='--',linewidth=3,label=\"Error Estándar de b_1 con regresión$\")\n",
    "plt.axvline(x=np.mean(res_boost),color='black', linestyle='--',linewidth=3,label=\"Promedio error estándar de b_1 con  Boostrap$\")\n",
    "\n",
    "plt.axvline(percentile(res_boost,2.5),color=\"blue\",linestyle=\"--\",linewidth=2)                                                                                                                                                    \n",
    "plt.axvline(percentile(res_boost,97.5),color=\"blue\",linestyle=\"--\",linewidth=2) \n",
    "\n",
    "print(\"Error Estándar sin Bootsrap:\", err_reg)\n",
    "print(\"Promedio de Error Estándar de la muestras Bootstrap:\", np.mean(res_boost))\n",
    "print(\"Promedio de Error Estándar de la muestras Bootstrap:\", np.mean(res_boost))\n",
    "print(\"(\", percentile(res_boost,2.5),\",\", percentile(res_boost,97.5),\")\")"
   ]
  },
  {
   "cell_type": "markdown",
   "id": "fa10067c",
   "metadata": {},
   "source": [
    "# Calcular error estándar a partir de las betas"
   ]
  },
  {
   "cell_type": "markdown",
   "id": "46993948",
   "metadata": {},
   "source": [
    "Haremos n simulaciones de muestras bootstrap del mismo tamaño que los datos con los que contamos y con cada una de ellas  calculamos un estimador para la betas de la regresión lineal de monto vs horas"
   ]
  },
  {
   "cell_type": "code",
   "execution_count": 19,
   "id": "7645f8c1",
   "metadata": {},
   "outputs": [],
   "source": [
    "def generate_boostrap_sim(n, data_frame):\n",
    "    X = data_frame[[\"horas\"]].to_numpy().reshape(-1)\n",
    "    \n",
    "    y_s = []\n",
    "    \n",
    "    for _ in range(n):\n",
    "        ri = np.random.choice(X, len(X), replace=True)\n",
    "        aux_df = pd.DataFrame(ri, columns=['horas'])\n",
    "        aux_df = pd.merge(aux_df, data_frame ,how=\"inner\", on=['horas'])\n",
    "        \n",
    "        Xi = aux_df[[\"horas\"]]\n",
    "        yi = aux_df[[\"monto\"]]\n",
    "        \n",
    "        regi = linear_model.LinearRegression() \n",
    "        regi.fit(Xi,yi)\n",
    "        \n",
    "        y_s.append(regi)\n",
    "        \n",
    "    return y_s"
   ]
  },
  {
   "cell_type": "code",
   "execution_count": 20,
   "id": "93592415",
   "metadata": {},
   "outputs": [],
   "source": [
    "n = 1000\n",
    "lineal_regressions = generate_boostrap_sim(n, horm_df)"
   ]
  },
  {
   "cell_type": "code",
   "execution_count": 21,
   "id": "d146e9d1",
   "metadata": {},
   "outputs": [],
   "source": [
    "def get_standar_errors_model(lineal_regressions_list, X, y):\n",
    "    std_errors = []\n",
    "    \n",
    "    x = X.to_numpy().reshape(-1)\n",
    "    y_real = y.to_numpy()\n",
    "    y_real = y_real.reshape(-1)\n",
    "    n=len(y_real)\n",
    "    \n",
    "    for model in lineal_regressions_list:\n",
    "        \n",
    "        Y_pred = model.predict(X)\n",
    "        y_estim = Y_pred.reshape(-1)\n",
    "        \n",
    "        residual=y_real-y_estim\n",
    "\n",
    "        \n",
    "        den = sum((x-np.mean(x))**2)\n",
    "        num = sum(residual**2)/(n-2)\n",
    "        err_reg = np.sqrt(num/den)\n",
    "        \n",
    "        std_errors.append(err_reg)\n",
    "        \n",
    "        \n",
    "    return std_errors\n",
    "        "
   ]
  },
  {
   "cell_type": "code",
   "execution_count": 22,
   "id": "9c209daf",
   "metadata": {},
   "outputs": [],
   "source": [
    "# Obtenemos el error estandar para cada uno de los modelos\n",
    "std_error = get_standar_errors_model(lineal_regressions, X, y)"
   ]
  },
  {
   "cell_type": "code",
   "execution_count": 39,
   "id": "c6fd14b8",
   "metadata": {},
   "outputs": [],
   "source": [
    "def generate_hist(data):\n",
    "    fig, ax=subplots(figsize=(8,5))\n",
    "    sns.histplot(data)\n",
    "    plt.axvline(x=np.mean(res_boost),color='black', linestyle='--',linewidth=3,label=\"Promedio error estándar de b_1 con  Boostrap$\")\n"
   ]
  },
  {
   "cell_type": "code",
   "execution_count": 40,
   "id": "09beed94",
   "metadata": {},
   "outputs": [
    {
     "data": {
      "image/png": "[encoded data removed]",
      "text/plain": [
       "<Figure size 576x360 with 1 Axes>"
      ]
     },
     "metadata": {},
     "output_type": "display_data"
    }
   ],
   "source": [
    "generate_hist(std_error)"
   ]
  },
  {
   "cell_type": "code",
   "execution_count": 25,
   "id": "a9aea686",
   "metadata": {},
   "outputs": [],
   "source": [
    "# Ahora obtenemos el error estandar para las betas\n",
    "def get_betas(lineal_regressions_list):\n",
    "    coefs, intercepts = np.array([]), np.array([])\n",
    "    \n",
    "    for model in lineal_regressions_list:\n",
    "        coefs = np.append(coefs, model.coef_)\n",
    "        intercepts = np.append(intercepts, model.intercept_)\n",
    "    \n",
    "    return coefs, intercepts"
   ]
  },
  {
   "cell_type": "code",
   "execution_count": 26,
   "id": "7aea35e9",
   "metadata": {},
   "outputs": [],
   "source": [
    "coefs, intercepts = get_betas(lineal_regressions)"
   ]
  },
  {
   "cell_type": "code",
   "execution_count": 27,
   "id": "37f6acf5",
   "metadata": {},
   "outputs": [
    {
     "data": {
      "text/plain": [
       "array([-0.0593741 , -0.07123918, -0.0588676 , -0.05484058, -0.05173584,\n",
       "       -0.05385961, -0.05961225, -0.06160657, -0.04773635, -0.05571616,\n",
       "       -0.05751952, -0.05528359, -0.07152286, -0.06294078, -0.06191697,\n",
       "       -0.05967628, -0.0542121 , -0.05445531, -0.05302449, -0.0594923 ,\n",
       "       -0.06025143, -0.06239113, -0.06340245, -0.054855  , -0.0561821 ,\n",
       "       -0.05980725, -0.06049867, -0.05649183, -0.05560578, -0.05606914,\n",
       "       -0.060504  , -0.05568294, -0.05566348, -0.05946517, -0.06363926,\n",
       "       -0.05788776, -0.06087164, -0.05505636, -0.06551889, -0.05684902,\n",
       "       -0.06198322, -0.05596941, -0.05629171, -0.05323736, -0.05862546,\n",
       "       -0.05848074, -0.0639592 , -0.05543559, -0.05728751, -0.06156788,\n",
       "       -0.06041007, -0.05092676, -0.05382127, -0.06014392, -0.05682082,\n",
       "       -0.0523278 , -0.05495395, -0.05969565, -0.05931421, -0.05569253,\n",
       "       -0.05698192, -0.05781244, -0.06939692, -0.0528723 , -0.05108327,\n",
       "       -0.06212729, -0.05150166, -0.06814104, -0.07095434, -0.05957431,\n",
       "       -0.0568103 , -0.05839513, -0.06055909, -0.05745538, -0.0573444 ,\n",
       "       -0.06220622, -0.05713332, -0.05634317, -0.0576232 , -0.05766578,\n",
       "       -0.05045796, -0.05515037, -0.06316222, -0.05552321, -0.06518021,\n",
       "       -0.05037758, -0.05989159, -0.05140251, -0.0729595 , -0.05827692,\n",
       "       -0.05509721, -0.05816274, -0.05779059, -0.05319341, -0.05878973,\n",
       "       -0.05735453, -0.05569762, -0.06100421, -0.05714163, -0.05602412,\n",
       "       -0.05550673, -0.05679423, -0.0519978 , -0.05967409, -0.05480788,\n",
       "       -0.05829923, -0.0594914 , -0.05334259, -0.05497313, -0.05518214,\n",
       "       -0.0594532 , -0.05064794, -0.06461212, -0.05527686, -0.05705456,\n",
       "       -0.05285267, -0.05575444, -0.0592127 , -0.05761089, -0.05790333,\n",
       "       -0.06078209, -0.06294238, -0.06028609, -0.05994662, -0.06360572,\n",
       "       -0.05935148, -0.05977845, -0.05523605, -0.05929194, -0.04522784,\n",
       "       -0.05851971, -0.06064691, -0.05832444, -0.05844485, -0.05155815,\n",
       "       -0.05875181, -0.05853651, -0.0561792 , -0.05349813, -0.05401238,\n",
       "       -0.05878223, -0.04755386, -0.05340569, -0.05750094, -0.05672827,\n",
       "       -0.06195411, -0.06416685, -0.05446094, -0.05990452, -0.06036739,\n",
       "       -0.05766361, -0.06333924, -0.05581223, -0.05102045, -0.05642405,\n",
       "       -0.05736373, -0.05547393, -0.05485001, -0.0594727 , -0.05401343,\n",
       "       -0.05825466, -0.05696448, -0.05293724, -0.05305406, -0.05968078,\n",
       "       -0.04878098, -0.05759862, -0.05321436, -0.05170814, -0.05242589,\n",
       "       -0.05569195, -0.06170464, -0.05584009, -0.0571162 , -0.06073802,\n",
       "       -0.06032422, -0.06339797, -0.05302078, -0.06851491, -0.05201374,\n",
       "       -0.05956102, -0.07009844, -0.05521841, -0.05212643, -0.05154096,\n",
       "       -0.06106357, -0.05618106, -0.07301107, -0.05493012, -0.05860584,\n",
       "       -0.05306701, -0.0639567 , -0.05022516, -0.0631577 , -0.0607839 ,\n",
       "       -0.06324885, -0.05318994, -0.05939409, -0.05962252, -0.05642645,\n",
       "       -0.05558393, -0.05035045, -0.05172499, -0.06362121, -0.05566409,\n",
       "       -0.05110211, -0.05732933, -0.05993152, -0.05778454, -0.05985046,\n",
       "       -0.06471752, -0.06350561, -0.05716137, -0.05571764, -0.06765071,\n",
       "       -0.05848956, -0.05729734, -0.05416053, -0.06231675, -0.05885462,\n",
       "       -0.06371198, -0.05600587, -0.05854066, -0.05537691, -0.05796369,\n",
       "       -0.06065635, -0.05939898, -0.05897469, -0.05921356, -0.05553306,\n",
       "       -0.05378372, -0.06200558, -0.06120014, -0.06220933, -0.0596841 ,\n",
       "       -0.05241471, -0.05503491, -0.06213487, -0.06007855, -0.05157934,\n",
       "       -0.06681481, -0.05552752, -0.07193523, -0.05496327, -0.05490232,\n",
       "       -0.05277876, -0.06140344, -0.05698917, -0.06060314, -0.05667952,\n",
       "       -0.05995709, -0.0556538 , -0.0624366 , -0.05232532, -0.05627014,\n",
       "       -0.06192741, -0.05633864, -0.05534827, -0.06093651, -0.05715446,\n",
       "       -0.05923607, -0.05535218, -0.06080415, -0.05757022, -0.05384364,\n",
       "       -0.05346767, -0.05652646, -0.06056387, -0.05623071, -0.05612331,\n",
       "       -0.05592385, -0.0570577 , -0.05707549, -0.05740544, -0.05871503,\n",
       "       -0.05739202, -0.05455926, -0.04721488, -0.05865956, -0.05374295,\n",
       "       -0.05448148, -0.05286171, -0.06040764, -0.05600615, -0.05581049,\n",
       "       -0.05049776, -0.0522715 , -0.06078329, -0.06698116, -0.05982904,\n",
       "       -0.05710832, -0.05647945, -0.05591078, -0.05294083, -0.05980267,\n",
       "       -0.05626958, -0.05970542, -0.0536328 , -0.0579655 , -0.05422743,\n",
       "       -0.05854215, -0.05738826, -0.05729189, -0.05639054, -0.05327469,\n",
       "       -0.05994138, -0.05792636, -0.05736962, -0.06443523, -0.05815236,\n",
       "       -0.05867295, -0.0615938 , -0.05730509, -0.06139823, -0.06098053,\n",
       "       -0.0538319 , -0.05939416, -0.05492087, -0.05443572, -0.05550159,\n",
       "       -0.05443127, -0.06149776, -0.05220996, -0.05660349, -0.05535817,\n",
       "       -0.05375262, -0.05984949, -0.05803627, -0.0584794 , -0.06273463,\n",
       "       -0.05788565, -0.05318812, -0.05421057, -0.05306567, -0.05251289,\n",
       "       -0.05416799, -0.05755505, -0.05937343, -0.06039603, -0.05361108,\n",
       "       -0.05988916, -0.05866204, -0.06866627, -0.06340926, -0.0592542 ,\n",
       "       -0.05006189, -0.05580331, -0.05739609, -0.05889212, -0.06646191,\n",
       "       -0.06071519, -0.05820888, -0.05483778, -0.05594737, -0.05052987,\n",
       "       -0.0556769 , -0.05484786, -0.06144792, -0.05860796, -0.05517382,\n",
       "       -0.05990838, -0.05775973, -0.05823417, -0.05902521, -0.05360118,\n",
       "       -0.0626861 , -0.05546641, -0.05789373, -0.05522281, -0.04792043,\n",
       "       -0.05638587, -0.05836872, -0.05762353, -0.06149595, -0.05649989,\n",
       "       -0.06411752, -0.07005132, -0.04868202, -0.05065719, -0.05962633,\n",
       "       -0.06049762, -0.05468388, -0.05265974, -0.05423936, -0.06380466,\n",
       "       -0.05135534, -0.05466847, -0.06191869, -0.05580062, -0.0589499 ,\n",
       "       -0.05275756, -0.05672415, -0.06458773, -0.05250239, -0.05603692,\n",
       "       -0.05359416, -0.05636361, -0.05464456, -0.05843688, -0.05079581,\n",
       "       -0.05966204, -0.05774495, -0.06272336, -0.05683302, -0.05369916,\n",
       "       -0.0592263 , -0.05454638, -0.05765862, -0.05587428, -0.06255895,\n",
       "       -0.05756978, -0.05513474, -0.0588393 , -0.05319292, -0.05295727,\n",
       "       -0.06109719, -0.05657566, -0.05811784, -0.05842798, -0.06407581,\n",
       "       -0.05543757, -0.06525376, -0.05971062, -0.05792393, -0.06000251,\n",
       "       -0.05695096, -0.05872185, -0.06297754, -0.05615103, -0.05861229,\n",
       "       -0.05686911, -0.06239681, -0.0527485 , -0.05493281, -0.05568288,\n",
       "       -0.05715944, -0.05817551, -0.05720716, -0.06001667, -0.05630551,\n",
       "       -0.05777855, -0.05506585, -0.05206584, -0.05397996, -0.05969976,\n",
       "       -0.06246761, -0.05856188, -0.05936589, -0.05668102, -0.062193  ,\n",
       "       -0.05879897, -0.06145592, -0.0589572 , -0.05193254, -0.05687184,\n",
       "       -0.05565773, -0.05643333, -0.06162604, -0.04908484, -0.05712124,\n",
       "       -0.05858264, -0.05157703, -0.05379686, -0.05776195, -0.06258676,\n",
       "       -0.05445874, -0.05275415, -0.05866784, -0.05991213, -0.05930248,\n",
       "       -0.05203541, -0.06937294, -0.05910162, -0.05675705, -0.06146687,\n",
       "       -0.0581513 , -0.06520587, -0.05704329, -0.05355029, -0.06443734,\n",
       "       -0.05622074, -0.05835287, -0.05945851, -0.05786515, -0.05974411,\n",
       "       -0.05931188, -0.05466924, -0.0534732 , -0.051692  , -0.05390162,\n",
       "       -0.0644069 , -0.06373676, -0.06025073, -0.05664008, -0.05918118,\n",
       "       -0.05714911, -0.06210848, -0.05757342, -0.07585625, -0.0562021 ,\n",
       "       -0.06232054, -0.05753065, -0.05938372, -0.06169721, -0.05339729,\n",
       "       -0.05650125, -0.05084968, -0.0640559 , -0.06773739, -0.05497785,\n",
       "       -0.05874439, -0.05425632, -0.05731673, -0.0614105 , -0.05498104,\n",
       "       -0.05770751, -0.05138713, -0.06361511, -0.06130077, -0.06407745,\n",
       "       -0.0584036 , -0.05856797, -0.05967765, -0.05819501, -0.05679719,\n",
       "       -0.06190538, -0.05616615, -0.06612493, -0.05562236, -0.05679056,\n",
       "       -0.05365611, -0.05170563, -0.06154398, -0.05885692, -0.06491324,\n",
       "       -0.06263904, -0.05696612, -0.05614498, -0.05102611, -0.06000777,\n",
       "       -0.05196167, -0.0576046 , -0.06332305, -0.05709308, -0.0582855 ,\n",
       "       -0.05508446, -0.06105823, -0.05447487, -0.05947289, -0.06517823,\n",
       "       -0.05474397, -0.05009566, -0.05886844, -0.05672964, -0.05490117,\n",
       "       -0.0556841 , -0.05262862, -0.04628967, -0.05727137, -0.05286473,\n",
       "       -0.05104202, -0.0601407 , -0.06335132, -0.05475306, -0.0687395 ,\n",
       "       -0.0547034 , -0.05637363, -0.06024204, -0.06533979, -0.06058878,\n",
       "       -0.05548693, -0.05445249, -0.05784056, -0.05881913, -0.06491804,\n",
       "       -0.05852863, -0.05559838, -0.05967424, -0.0538437 , -0.06249861,\n",
       "       -0.06652672, -0.06216273, -0.05698726, -0.05812468, -0.05303449,\n",
       "       -0.05401694, -0.06080798, -0.06239721, -0.0522308 , -0.05400285,\n",
       "       -0.05768316, -0.05719408, -0.05815707, -0.06103334, -0.05941323,\n",
       "       -0.06194233, -0.05617289, -0.04879232, -0.05670067, -0.05644657,\n",
       "       -0.05860829, -0.05590083, -0.05948237, -0.05394083, -0.0566617 ,\n",
       "       -0.0555249 , -0.0581674 , -0.06050379, -0.05482457, -0.06428415,\n",
       "       -0.05574034, -0.0603521 , -0.0585039 , -0.05409197, -0.06719507,\n",
       "       -0.05592075, -0.05559701, -0.05462677, -0.05753777, -0.05458487,\n",
       "       -0.06095447, -0.05769089, -0.05416898, -0.05446583, -0.06743454,\n",
       "       -0.04952209, -0.0602773 , -0.05755148, -0.06370123, -0.05206473,\n",
       "       -0.05416381, -0.05680027, -0.05837341, -0.05081493, -0.06107525,\n",
       "       -0.056895  , -0.0592829 , -0.05956118, -0.05522348, -0.05721317,\n",
       "       -0.06080657, -0.05446769, -0.06187492, -0.05034819, -0.06032506,\n",
       "       -0.05901722, -0.05741019, -0.05871217, -0.06241121, -0.06281071,\n",
       "       -0.05799115, -0.05861148, -0.05025739, -0.06047506, -0.05254452,\n",
       "       -0.05290365, -0.05460386, -0.05645742, -0.05553734, -0.05445513,\n",
       "       -0.05829875, -0.0513704 , -0.05495626, -0.05676133, -0.05981498,\n",
       "       -0.05600422, -0.05382222, -0.05291647, -0.05784338, -0.06085292,\n",
       "       -0.05842569, -0.0546044 , -0.06290628, -0.05923102, -0.06174306,\n",
       "       -0.06352902, -0.0578257 , -0.06419761, -0.06146211, -0.05586416,\n",
       "       -0.05561496, -0.05577862, -0.05222002, -0.05794236, -0.05514562,\n",
       "       -0.06254157, -0.05337923, -0.0553847 , -0.05390301, -0.06102191,\n",
       "       -0.05140175, -0.05448494, -0.06344458, -0.06142974, -0.06189496,\n",
       "       -0.05936149, -0.0583783 , -0.07046194, -0.06110806, -0.05348179,\n",
       "       -0.05316875, -0.05853567, -0.06168469, -0.05922743, -0.05275421,\n",
       "       -0.05501266, -0.06629902, -0.05366384, -0.0571508 , -0.05764904,\n",
       "       -0.05176325, -0.05765403, -0.06085169, -0.05452939, -0.05820306,\n",
       "       -0.05963865, -0.06017518, -0.06292854, -0.05569707, -0.05012233,\n",
       "       -0.05638618, -0.06229704, -0.05300005, -0.05879314, -0.06189396,\n",
       "       -0.05301853, -0.0573505 , -0.04906889, -0.06117126, -0.05558546,\n",
       "       -0.0573326 , -0.05706413, -0.06578528, -0.05273948, -0.06529848,\n",
       "       -0.05915112, -0.07218217, -0.05523693, -0.050605  , -0.05669507,\n",
       "       -0.0585766 , -0.04950847, -0.06123325, -0.05957744, -0.05952805,\n",
       "       -0.05972327, -0.06374952, -0.06272801, -0.05952203, -0.0598652 ,\n",
       "       -0.05087641, -0.04350324, -0.05393353, -0.05474444, -0.06290529,\n",
       "       -0.06156798, -0.05499086, -0.05168922, -0.06045987, -0.05556767,\n",
       "       -0.06172421, -0.05886738, -0.05359549, -0.06485116, -0.0571172 ,\n",
       "       -0.05855507, -0.05633032, -0.05771931, -0.05309732, -0.06085973,\n",
       "       -0.05899766, -0.05640972, -0.05025858, -0.05389083, -0.06180828,\n",
       "       -0.05661154, -0.05780801, -0.0565664 , -0.06059101, -0.05540692,\n",
       "       -0.05280914, -0.0540729 , -0.05382724, -0.05672208, -0.05846065,\n",
       "       -0.05102134, -0.06349083, -0.05045529, -0.0548326 , -0.05747   ,\n",
       "       -0.05469095, -0.05771313, -0.05672366, -0.06365202, -0.06351374,\n",
       "       -0.05630004, -0.05742068, -0.05630904, -0.05210493, -0.05588261,\n",
       "       -0.07473729, -0.05757937, -0.065369  , -0.05651714, -0.05937457,\n",
       "       -0.0609336 , -0.05815424, -0.06574519, -0.05627581, -0.06160094,\n",
       "       -0.05178387, -0.050733  , -0.05881101, -0.05615772, -0.05570626,\n",
       "       -0.05666993, -0.05635269, -0.05731486, -0.06126846, -0.06601588,\n",
       "       -0.05509548, -0.06059691, -0.0582156 , -0.06008109, -0.06300193,\n",
       "       -0.0565043 , -0.06118254, -0.05579577, -0.05673288, -0.05782678,\n",
       "       -0.05286625, -0.05432753, -0.0574499 , -0.05724191, -0.06081474,\n",
       "       -0.04983699, -0.05200136, -0.06044554, -0.05871268, -0.06072107,\n",
       "       -0.05708754, -0.06028043, -0.06331906, -0.06002511, -0.05963854,\n",
       "       -0.05537164, -0.05398414, -0.06024605, -0.05582577, -0.05429509,\n",
       "       -0.06182257, -0.05281969, -0.06119187, -0.05801143, -0.05681204,\n",
       "       -0.05756967, -0.05937083, -0.05613491, -0.05580299, -0.06258847,\n",
       "       -0.0597276 , -0.06203259, -0.05359967, -0.0524849 , -0.05794142,\n",
       "       -0.05623769, -0.06185809, -0.05700129, -0.0536741 , -0.06266203,\n",
       "       -0.05363221, -0.05528417, -0.06218341, -0.05647557, -0.05936737,\n",
       "       -0.05630727, -0.054517  , -0.0617888 , -0.0522441 , -0.05857106,\n",
       "       -0.04968808, -0.05059061, -0.05960121, -0.05590192, -0.06029188,\n",
       "       -0.06440733, -0.05071142, -0.05811152, -0.06237812, -0.05615117,\n",
       "       -0.0554038 , -0.05652684, -0.05711875, -0.05326048, -0.05447104,\n",
       "       -0.06124692, -0.05631019, -0.05551501, -0.05669364, -0.05683285,\n",
       "       -0.05298404, -0.05259278, -0.05554871, -0.05792041, -0.05524277,\n",
       "       -0.06337579, -0.0558276 , -0.05632718, -0.05799006, -0.05175271,\n",
       "       -0.05169275, -0.05925875, -0.05230821, -0.05615639, -0.05276108,\n",
       "       -0.05750077, -0.05403024, -0.05827666, -0.05839316, -0.06167149,\n",
       "       -0.0555642 , -0.04634096, -0.05254132, -0.0586924 , -0.05997962,\n",
       "       -0.06126449, -0.06200652, -0.06029023, -0.05496316, -0.05428345,\n",
       "       -0.06142424, -0.05526754, -0.06285215, -0.06273662, -0.06143099,\n",
       "       -0.06421924, -0.05575624, -0.05776086, -0.05389898, -0.05381342,\n",
       "       -0.05628924, -0.06177882, -0.05748783, -0.05995042, -0.05497136,\n",
       "       -0.05847153, -0.05131423, -0.05550196, -0.05863859, -0.05738612,\n",
       "       -0.05269575, -0.0543747 , -0.05634945, -0.05979498, -0.0606491 ,\n",
       "       -0.05535491, -0.05977053, -0.06389523, -0.06212902, -0.06212239,\n",
       "       -0.0576643 , -0.05380646, -0.05657076, -0.05969781, -0.05244867,\n",
       "       -0.06371752, -0.05742937, -0.05492305, -0.06244641, -0.05131907,\n",
       "       -0.060033  , -0.05701045, -0.05808805, -0.05965632, -0.06855043,\n",
       "       -0.0598904 , -0.05813125, -0.05489782, -0.05419694, -0.06026626,\n",
       "       -0.06212664, -0.05990273, -0.05812125, -0.05180088, -0.05665757,\n",
       "       -0.06299074, -0.05779615, -0.05308957, -0.05636828, -0.05661669,\n",
       "       -0.05435049, -0.05852045, -0.05973708, -0.06065226, -0.0630091 ,\n",
       "       -0.05414999, -0.05210863, -0.05555667, -0.05591319, -0.0575717 ])"
      ]
     },
     "execution_count": 27,
     "metadata": {},
     "output_type": "execute_result"
    }
   ],
   "source": [
    "coefs"
   ]
  },
  {
   "cell_type": "code",
   "execution_count": 28,
   "id": "ed30a86c",
   "metadata": {},
   "outputs": [
    {
     "data": {
      "text/plain": [
       "array([34.01087441, 36.48569401, 33.856223  , 34.51388272, 33.3205421 ,\n",
       "       33.39933608, 34.86687668, 34.65298492, 32.82521118, 33.99727003,\n",
       "       34.06150615, 33.28091669, 35.99105505, 35.69120019, 34.92202973,\n",
       "       33.87963576, 34.03876803, 32.99190786, 33.41547188, 34.16806072,\n",
       "       34.48225479, 35.24937105, 35.19433643, 34.04314431, 34.60531903,\n",
       "       34.12874935, 34.23473036, 34.33905269, 34.91989338, 33.90041286,\n",
       "       34.61198009, 32.94458477, 33.61875317, 34.41879485, 34.60587835,\n",
       "       34.25113847, 34.81494195, 34.41937837, 35.41264153, 33.75048512,\n",
       "       34.69531056, 34.1724237 , 33.77086194, 33.42759583, 34.70094505,\n",
       "       34.18366079, 34.93307802, 34.38391959, 34.484468  , 34.52352507,\n",
       "       33.88237171, 33.12788718, 33.40573212, 34.91317356, 33.75366216,\n",
       "       33.16450377, 34.13790398, 35.13361499, 34.72511793, 34.28687736,\n",
       "       33.56908258, 33.57360267, 35.67789211, 32.77269956, 33.74296387,\n",
       "       35.27257423, 33.90146419, 35.45822087, 36.06391196, 34.61943807,\n",
       "       34.26541359, 34.45591725, 35.18029579, 34.20453062, 33.93638239,\n",
       "       35.28290565, 33.94724925, 34.09208695, 34.37226418, 34.26672954,\n",
       "       32.76247347, 33.52705078, 35.18775867, 33.72503344, 34.90581291,\n",
       "       33.06617883, 33.69789104, 33.08716915, 36.14955158, 33.67309997,\n",
       "       33.91659158, 33.9861213 , 34.41497503, 34.14484673, 34.93973325,\n",
       "       34.2818357 , 33.55325626, 35.07087867, 33.89187641, 33.94083369,\n",
       "       33.60083684, 33.95764917, 33.30523392, 34.527788  , 32.79650667,\n",
       "       34.6303661 , 33.75164502, 33.24225769, 33.36504101, 33.55670824,\n",
       "       34.92818428, 33.85592296, 34.61842839, 33.12531496, 34.78612832,\n",
       "       33.83262373, 34.61083893, 35.02263618, 34.37934936, 33.72631203,\n",
       "       34.42231596, 35.30491628, 34.79616284, 35.45391953, 34.86690573,\n",
       "       34.64792302, 34.83825008, 34.77958825, 34.88438131, 31.9570259 ,\n",
       "       34.89394094, 35.01165201, 34.41427125, 34.25775903, 33.47014236,\n",
       "       33.95488134, 34.37893973, 34.02032291, 33.28076714, 33.12677726,\n",
       "       33.97437397, 31.34856951, 33.09786904, 34.04829623, 34.28941279,\n",
       "       35.08572486, 34.74984379, 33.89914913, 34.49046003, 34.26905808,\n",
       "       34.15673892, 34.62113831, 33.99178875, 33.89516706, 33.94183383,\n",
       "       34.53929601, 33.91251509, 33.32373753, 34.81123732, 34.39278709,\n",
       "       34.59971253, 33.98597928, 33.82844647, 33.12242171, 33.81573324,\n",
       "       32.43957562, 34.17275461, 33.2609161 , 32.83865797, 33.48628196,\n",
       "       34.27738155, 34.05293988, 33.58830672, 34.36392656, 34.62553722,\n",
       "       34.68616053, 34.90517799, 33.82923818, 35.58534735, 33.83722972,\n",
       "       34.37163999, 34.79280931, 34.14007381, 33.42768737, 33.73508573,\n",
       "       34.62627657, 34.12374938, 35.52494694, 34.06716364, 34.49362247,\n",
       "       33.35614189, 34.90508805, 32.46837988, 34.3997723 , 34.59863037,\n",
       "       34.19570393, 34.73589787, 34.4744827 , 34.36933114, 34.26641482,\n",
       "       33.29835624, 33.14578693, 32.5562195 , 35.76789303, 33.77199571,\n",
       "       33.36283921, 34.08276327, 34.34620909, 33.90151293, 34.76686805,\n",
       "       35.33610895, 34.86144157, 33.74713415, 33.38757182, 35.60626521,\n",
       "       33.58407726, 34.3466557 , 33.12665158, 34.58359853, 34.61654056,\n",
       "       35.89846018, 34.5412249 , 34.68912788, 34.01108562, 35.01962038,\n",
       "       34.90727879, 35.22217789, 33.37546639, 34.72645308, 34.16331556,\n",
       "       33.64272265, 34.61032994, 34.51608125, 34.5006923 , 35.27651973,\n",
       "       32.82932467, 33.7167818 , 34.59992681, 34.85874856, 33.45430263,\n",
       "       35.18861981, 33.76606174, 35.50373136, 33.92642875, 33.73820409,\n",
       "       33.37978745, 35.46009074, 33.41926109, 35.39836204, 33.81892174,\n",
       "       34.94504149, 33.82536393, 35.01015828, 33.84483138, 34.01502462,\n",
       "       34.4505747 , 34.65820556, 33.31624452, 34.3528472 , 33.67185256,\n",
       "       34.01259404, 34.07121285, 34.17006003, 33.40799015, 33.48478348,\n",
       "       33.65248252, 34.15628674, 34.2100889 , 34.50405394, 34.26047651,\n",
       "       33.74530613, 34.00427977, 34.11258178, 33.85475293, 34.53533903,\n",
       "       33.7498766 , 33.55666294, 32.45614944, 34.72626841, 34.04581542,\n",
       "       34.05985249, 33.76989775, 34.99120112, 34.82795939, 34.20856078,\n",
       "       33.31079926, 33.40383085, 34.44596842, 35.14137296, 34.80351056,\n",
       "       33.86365811, 34.49640242, 34.51049993, 32.90167473, 33.94109447,\n",
       "       34.02227223, 35.03915855, 33.78464732, 34.87511245, 34.04092746,\n",
       "       34.00506427, 33.8976878 , 33.93819817, 33.92864186, 33.32935536,\n",
       "       34.56959892, 34.11812381, 34.0529612 , 35.52301004, 34.11843164,\n",
       "       34.126092  , 34.5413821 , 34.68282081, 34.67615291, 35.14586349,\n",
       "       33.85573755, 34.24962952, 34.29367674, 33.40191556, 34.08755325,\n",
       "       33.383703  , 34.77842154, 33.63296728, 34.10463859, 33.19150516,\n",
       "       33.32411499, 35.48844347, 34.23343414, 33.81096268, 34.42637865,\n",
       "       33.45935449, 33.49153708, 34.41905204, 33.98550254, 33.50451325,\n",
       "       33.55780807, 34.62088075, 33.87132267, 34.62016757, 33.7288927 ,\n",
       "       34.84713176, 33.90974129, 35.54586467, 34.64108633, 34.28930453,\n",
       "       32.63874763, 34.0611327 , 34.65673488, 34.63448753, 34.99004885,\n",
       "       34.28731486, 34.56781416, 33.56842478, 33.53041985, 32.70903027,\n",
       "       33.18817669, 33.61715822, 34.49790171, 34.82890381, 34.43233016,\n",
       "       34.69464869, 34.36700067, 34.51696559, 34.43635041, 34.2222991 ,\n",
       "       34.94685208, 32.82303034, 34.38480857, 32.68130372, 32.7399756 ,\n",
       "       34.34681912, 34.37082134, 34.0817391 , 34.22728384, 34.31629864,\n",
       "       35.34135461, 35.45926822, 31.93360979, 33.32970929, 34.97526081,\n",
       "       34.95161456, 34.32796649, 34.28828423, 32.97938066, 35.04943134,\n",
       "       33.15011344, 33.59001721, 34.85279259, 34.00743601, 34.91309362,\n",
       "       33.87582943, 33.29108092, 35.58282311, 32.37959769, 33.41704647,\n",
       "       33.03257549, 33.7500972 , 33.71382348, 34.67905601, 32.76632265,\n",
       "       34.47980686, 34.38108475, 35.6603122 , 34.77355212, 33.33717413,\n",
       "       34.33536567, 34.20116189, 34.25375312, 33.78465961, 34.85776968,\n",
       "       34.35403237, 33.98716022, 34.52563705, 33.16142056, 34.17571341,\n",
       "       34.7529599 , 33.99386685, 33.39760924, 34.34941313, 35.2354902 ,\n",
       "       34.30421873, 35.26191029, 34.81524343, 34.31389373, 34.20483301,\n",
       "       34.3002067 , 33.9282472 , 34.83075258, 34.09375977, 33.3925308 ,\n",
       "       34.54701492, 34.37155191, 33.57564887, 33.38400917, 34.08852031,\n",
       "       33.77911445, 33.65401063, 34.14732197, 35.13175499, 33.90382331,\n",
       "       34.17817088, 32.53520229, 34.51208059, 34.45388666, 35.00043444,\n",
       "       34.70640909, 34.6276168 , 34.27002048, 34.08520557, 35.3750994 ,\n",
       "       34.37566354, 34.69840285, 34.03623784, 32.30671524, 34.28350829,\n",
       "       33.7803083 , 34.19219086, 34.9627746 , 33.51055426, 34.61273697,\n",
       "       33.4390086 , 33.21492382, 32.67006122, 34.07770113, 35.51429707,\n",
       "       34.00661463, 33.01236408, 34.6349489 , 35.19041893, 34.39735313,\n",
       "       33.63883524, 35.62607072, 34.4078822 , 34.61607472, 35.5532873 ,\n",
       "       33.55853015, 34.82092287, 34.63362022, 33.35682488, 35.15546075,\n",
       "       34.07064997, 34.29981538, 34.48840688, 34.29204927, 34.14267265,\n",
       "       34.02252765, 33.77123888, 33.04866372, 33.93374048, 33.53895424,\n",
       "       35.34226505, 35.60291465, 34.10180936, 33.64264672, 34.61736142,\n",
       "       34.71304459, 34.50939319, 34.33162248, 36.18662514, 33.26759498,\n",
       "       34.02919001, 33.50079572, 34.07972222, 34.88472831, 33.34414291,\n",
       "       33.59299182, 32.91170318, 34.88891726, 35.89946637, 32.70298988,\n",
       "       33.55213286, 33.4827339 , 34.33070901, 34.7872845 , 33.65020951,\n",
       "       33.54920201, 33.57372934, 34.50112781, 34.85349035, 35.29777366,\n",
       "       34.13726562, 34.95425098, 34.69944316, 33.69063161, 34.76941557,\n",
       "       34.96588497, 33.95100289, 34.79274284, 34.58992648, 34.63522579,\n",
       "       32.80508462, 33.38267639, 34.41433319, 34.65094385, 35.9444303 ,\n",
       "       35.1406526 , 34.63965932, 34.54010887, 32.54262545, 34.50588015,\n",
       "       33.75465094, 34.6058938 , 34.85589485, 34.27826689, 33.9193912 ,\n",
       "       33.23560481, 34.54586019, 34.18812206, 35.17680035, 35.49022339,\n",
       "       34.57188925, 33.85296505, 34.06311002, 34.118714  , 33.59695324,\n",
       "       33.48157601, 33.53829533, 32.13228592, 33.93303364, 34.26031213,\n",
       "       32.23778904, 34.6897612 , 34.8786144 , 34.65232994, 35.72808651,\n",
       "       34.40728278, 33.57766119, 35.08739238, 35.51615352, 34.22362402,\n",
       "       34.45741508, 33.75746995, 34.34862503, 34.54005051, 34.90062098,\n",
       "       34.82091084, 33.63923985, 34.732407  , 33.11472456, 35.16042733,\n",
       "       35.00386697, 34.80970124, 33.9657858 , 34.62488052, 34.11214991,\n",
       "       33.36566099, 34.71384177, 34.60022257, 32.75753811, 34.02729069,\n",
       "       34.81810824, 34.0784991 , 34.14729429, 34.97897755, 33.78620408,\n",
       "       34.53861152, 34.34838485, 32.80439159, 34.23250961, 33.85467532,\n",
       "       33.89639145, 33.78332788, 34.83174092, 34.00131276, 34.2027584 ,\n",
       "       33.58217273, 33.88943148, 35.14178493, 34.36041496, 35.28674711,\n",
       "       34.03916827, 34.20564246, 34.86602484, 33.03000779, 35.14738683,\n",
       "       33.89085641, 34.22545566, 33.97870975, 33.73236942, 33.47633883,\n",
       "       34.70792707, 34.35273032, 33.85571196, 33.4507058 , 35.57444495,\n",
       "       32.74889321, 34.49868842, 34.93187913, 35.21341104, 33.32465372,\n",
       "       33.06356593, 34.19168917, 33.60772192, 33.05019945, 34.57454855,\n",
       "       34.10060213, 34.76794398, 34.43972724, 34.08605508, 34.49433291,\n",
       "       34.35993396, 33.9995971 , 35.38204577, 32.17387332, 34.32146232,\n",
       "       34.83746544, 34.29679415, 34.70094867, 35.10933058, 34.1669676 ,\n",
       "       34.20135322, 34.33228528, 32.9026222 , 34.46022005, 34.31748999,\n",
       "       33.32174996, 33.27812735, 33.9445039 , 34.06088105, 33.69444432,\n",
       "       35.47657895, 32.87878381, 33.18978335, 34.03980962, 34.29056786,\n",
       "       33.70178219, 33.64675023, 33.31683523, 34.72669513, 34.8071778 ,\n",
       "       34.34528189, 33.98878566, 34.38865105, 33.99619519, 35.00675877,\n",
       "       34.45397005, 34.80619933, 34.37870707, 34.55746714, 33.42828445,\n",
       "       33.74323447, 33.44667102, 33.73499657, 34.01212746, 33.5917571 ,\n",
       "       34.74388503, 33.47451606, 34.32451447, 33.34235457, 34.41083123,\n",
       "       33.37609834, 34.22343596, 34.55593811, 34.45277793, 35.38692649,\n",
       "       34.96872917, 33.76480994, 35.9383727 , 34.84615651, 33.1922119 ,\n",
       "       33.00735948, 33.16775169, 34.45830894, 34.09540121, 33.51474838,\n",
       "       34.06477682, 34.67988794, 33.65258631, 34.14753672, 34.52383238,\n",
       "       33.27333357, 34.63457649, 35.64150954, 33.42433572, 33.56350357,\n",
       "       34.65401091, 34.1846124 , 34.39062202, 33.29439056, 33.3582942 ,\n",
       "       34.07237939, 34.67947221, 33.5551572 , 34.02669245, 34.52151278,\n",
       "       33.54806669, 34.38295638, 33.22332425, 35.12589804, 33.92323278,\n",
       "       34.34515008, 34.37706602, 35.02705763, 32.99465137, 35.53526329,\n",
       "       35.01805539, 35.84588935, 34.43460686, 33.55491858, 33.94549358,\n",
       "       34.84463915, 34.09413568, 34.57154023, 34.97377831, 35.49274353,\n",
       "       34.45377102, 35.45107204, 35.7095594 , 34.969999  , 35.24223702,\n",
       "       32.2367379 , 31.58580043, 34.29578775, 33.32301611, 34.67470977,\n",
       "       35.05737979, 33.23305797, 33.14030652, 34.23323965, 33.93898396,\n",
       "       34.1946216 , 34.75064058, 33.76599047, 34.59274574, 34.19944642,\n",
       "       34.41700111, 33.68893672, 34.335987  , 33.48973686, 34.9233452 ,\n",
       "       34.57284802, 34.49988655, 32.82953   , 32.62235998, 35.20173252,\n",
       "       33.925844  , 33.65020905, 34.21579067, 34.3203597 , 34.61387406,\n",
       "       34.40410508, 33.44304535, 33.5241135 , 33.64343019, 34.81034995,\n",
       "       33.17718647, 34.73779567, 32.80922121, 33.30752578, 34.70194133,\n",
       "       33.96316771, 34.18907545, 33.47752241, 35.79280507, 35.07100161,\n",
       "       33.54189093, 34.25520781, 34.3881138 , 33.59627439, 33.86299978,\n",
       "       35.74742349, 35.17722512, 34.76356092, 34.17970573, 35.39946566,\n",
       "       35.42008311, 34.04752552, 35.0542508 , 34.13259839, 35.16546908,\n",
       "       33.08858908, 33.6342417 , 34.10767695, 34.03694088, 33.55124324,\n",
       "       34.69124794, 34.21727868, 34.46070389, 34.92502448, 35.32240327,\n",
       "       32.69804139, 34.95531774, 34.46533976, 34.61603288, 35.64186974,\n",
       "       34.65057447, 34.64894164, 32.57694357, 34.77080109, 33.79032169,\n",
       "       33.2038464 , 33.30661699, 35.05359738, 34.33199   , 35.35121886,\n",
       "       32.5822548 , 33.03833122, 34.40933159, 34.50814624, 35.06080706,\n",
       "       35.08216045, 34.84768941, 34.20898177, 34.32947037, 34.7655048 ,\n",
       "       34.23188429, 33.08729496, 34.80360604, 33.91633992, 34.00203594,\n",
       "       35.02053807, 33.25129728, 34.42237532, 34.56172877, 34.10302161,\n",
       "       34.63301617, 34.42738579, 34.39530678, 34.99910825, 34.56241984,\n",
       "       34.22827071, 34.41383726, 32.70331917, 32.77487248, 34.08189657,\n",
       "       33.69047048, 34.68591472, 34.37630302, 33.26885279, 34.67300086,\n",
       "       33.73562892, 33.54796261, 34.58888897, 33.49137087, 34.56951036,\n",
       "       33.87233267, 34.47742045, 34.94829469, 32.09783257, 34.04574767,\n",
       "       33.03610886, 33.06937368, 34.91186802, 34.30015223, 34.95544757,\n",
       "       35.64710168, 32.72514285, 33.52417577, 35.01219424, 34.0639363 ,\n",
       "       34.24931183, 34.208338  , 34.36866222, 33.52301412, 33.57547009,\n",
       "       34.23230645, 33.44474817, 34.06619881, 34.04112607, 33.93675542,\n",
       "       33.47182444, 32.48511091, 33.8261201 , 34.08324741, 33.2296326 ,\n",
       "       34.93020722, 35.07207278, 33.36916242, 33.63020697, 33.87087379,\n",
       "       32.95001652, 34.51747009, 32.62208251, 34.03763739, 33.86385477,\n",
       "       34.92430799, 33.95708357, 34.98185335, 34.02774509, 34.89480517,\n",
       "       33.82007451, 32.34209019, 33.8404914 , 34.28818143, 33.91917983,\n",
       "       34.80405024, 34.38060107, 33.74304055, 34.03288661, 32.94919267,\n",
       "       34.40009674, 33.72814107, 35.27953633, 34.76695438, 34.5464562 ,\n",
       "       35.05678971, 33.38589389, 34.22128907, 33.17433615, 34.34476635,\n",
       "       34.07597236, 35.53567788, 34.4719124 , 33.78986053, 34.23000793,\n",
       "       33.9472733 , 32.74546194, 34.35851053, 34.95179301, 34.75033276,\n",
       "       33.20618042, 33.59619701, 34.00386769, 34.51491454, 33.80891124,\n",
       "       33.23027077, 34.8373516 , 34.88844413, 35.18650783, 35.51004245,\n",
       "       33.80585045, 34.01258963, 34.07278861, 34.85512668, 34.13041566,\n",
       "       35.97457994, 34.68092094, 34.14595087, 34.50516823, 33.35825064,\n",
       "       34.31470026, 33.41941504, 34.40773021, 34.74131366, 36.12678987,\n",
       "       34.35924405, 34.30337563, 33.31568207, 33.45833314, 34.60418376,\n",
       "       35.22404102, 34.24736218, 34.42898873, 32.81032916, 33.91243294,\n",
       "       34.84378714, 34.57634939, 32.78542223, 34.53287979, 34.06275362,\n",
       "       33.81915647, 33.38192853, 33.5770568 , 35.09707696, 34.92772672,\n",
       "       33.19486361, 33.15876108, 34.18702298, 34.10745417, 34.35054305])"
      ]
     },
     "execution_count": 28,
     "metadata": {},
     "output_type": "execute_result"
    }
   ],
   "source": [
    "intercepts"
   ]
  },
  {
   "cell_type": "code",
   "execution_count": 29,
   "id": "fc717ddf",
   "metadata": {},
   "outputs": [
    {
     "data": {
      "text/html": [
       "<div>\n",
       "<style scoped>\n",
       "    .dataframe tbody tr th:only-of-type {\n",
       "        vertical-align: middle;\n",
       "    }\n",
       "\n",
       "    .dataframe tbody tr th {\n",
       "        vertical-align: top;\n",
       "    }\n",
       "\n",
       "    .dataframe thead th {\n",
       "        text-align: right;\n",
       "    }\n",
       "</style>\n",
       "<table border=\"1\" class=\"dataframe\">\n",
       "  <thead>\n",
       "    <tr style=\"text-align: right;\">\n",
       "      <th></th>\n",
       "      <th>coef</th>\n",
       "      <th>intercept</th>\n",
       "    </tr>\n",
       "  </thead>\n",
       "  <tbody>\n",
       "    <tr>\n",
       "      <th>0</th>\n",
       "      <td>-0.059374</td>\n",
       "      <td>34.010874</td>\n",
       "    </tr>\n",
       "    <tr>\n",
       "      <th>1</th>\n",
       "      <td>-0.071239</td>\n",
       "      <td>36.485694</td>\n",
       "    </tr>\n",
       "    <tr>\n",
       "      <th>2</th>\n",
       "      <td>-0.058868</td>\n",
       "      <td>33.856223</td>\n",
       "    </tr>\n",
       "    <tr>\n",
       "      <th>3</th>\n",
       "      <td>-0.054841</td>\n",
       "      <td>34.513883</td>\n",
       "    </tr>\n",
       "    <tr>\n",
       "      <th>4</th>\n",
       "      <td>-0.051736</td>\n",
       "      <td>33.320542</td>\n",
       "    </tr>\n",
       "  </tbody>\n",
       "</table>\n",
       "</div>"
      ],
      "text/plain": [
       "       coef  intercept\n",
       "0 -0.059374  34.010874\n",
       "1 -0.071239  36.485694\n",
       "2 -0.058868  33.856223\n",
       "3 -0.054841  34.513883\n",
       "4 -0.051736  33.320542"
      ]
     },
     "execution_count": 29,
     "metadata": {},
     "output_type": "execute_result"
    }
   ],
   "source": [
    "betas_dicc = {'coef':coefs, 'intercept':intercepts}\n",
    "betas = pd.DataFrame(betas_dicc)\n",
    "\n",
    "betas.head()"
   ]
  },
  {
   "cell_type": "code",
   "execution_count": 30,
   "id": "117f2570",
   "metadata": {},
   "outputs": [],
   "source": [
    "def get_standar_error_betas(data_frame, beta, n):\n",
    "    media_betas=np.mean(data_frame[beta])\n",
    "    \n",
    "    num= np.sum((data_frame[beta]-media_betas)**2)\n",
    "    denom = n-1\n",
    "    \n",
    "    se_betas = np.sqrt(num/denom)\n",
    "\n",
    "    return media_betas/se_betas"
   ]
  },
  {
   "cell_type": "code",
   "execution_count": 31,
   "id": "0368a447",
   "metadata": {},
   "outputs": [],
   "source": [
    "err_coefs = get_standar_error_betas(betas, 'coef', n)\n",
    "err_intercepts = get_standar_error_betas(betas, 'intercept', n)"
   ]
  },
  {
   "cell_type": "code",
   "execution_count": 32,
   "id": "27e9e2b3",
   "metadata": {},
   "outputs": [
    {
     "name": "stdout",
     "output_type": "stream",
     "text": [
      "Los errores son: -13.811204773115774, 45.823137388467025\n"
     ]
    }
   ],
   "source": [
    "print(f\"Los errores son: {err_coefs}, {err_intercepts}\")"
   ]
  },
  {
   "cell_type": "code",
   "execution_count": 41,
   "id": "0d45fdff",
   "metadata": {},
   "outputs": [
    {
     "data": {
      "image/png": "[encoded data removed]",
      "text/plain": [
       "<Figure size 576x360 with 1 Axes>"
      ]
     },
     "metadata": {},
     "output_type": "display_data"
    }
   ],
   "source": [
    "generate_hist(betas['coef'])"
   ]
  },
  {
   "cell_type": "code",
   "execution_count": 42,
   "id": "c57cef25",
   "metadata": {},
   "outputs": [
    {
     "data": {
      "image/png": "[encoded data removed]",
      "text/plain": [
       "<Figure size 576x360 with 1 Axes>"
      ]
     },
     "metadata": {},
     "output_type": "display_data"
    }
   ],
   "source": [
    "generate_hist(betas['intercept'])"
   ]
  },
  {
   "cell_type": "code",
   "execution_count": null,
   "id": "7ac4a2d1",
   "metadata": {},
   "outputs": [],
   "source": []
  }
 ],
 "metadata": {
  "kernelspec": {
   "display_name": "Python 3",
   "language": "python",
   "name": "python3"
  },
  "language_info": {
   "codemirror_mode": {
    "name": "ipython",
    "version": 3
   },
   "file_extension": ".py",
   "mimetype": "text/x-python",
   "name": "python",
   "nbconvert_exporter": "python",
   "pygments_lexer": "ipython3",
   "version": "3.8.10"
  }
 },
 "nbformat": 4,
 "nbformat_minor": 5
}
