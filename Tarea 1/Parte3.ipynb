{
 "cells": [
  {
   "cell_type": "code",
   "execution_count": 1,
   "id": "8854f8f9",
   "metadata": {},
   "outputs": [],
   "source": [
    "import numpy as np\n",
    "import pandas as pd\n",
    "import matplotlib.pyplot as plt\n",
    "import seaborn as sns\n",
    "%matplotlib inline\n",
    "sns.set(style=\"whitegrid\")\n",
    "from sklearn import linear_model\n",
    "from pylab import*"
   ]
  },
  {
   "cell_type": "code",
   "execution_count": 2,
   "id": "f23e04af",
   "metadata": {},
   "outputs": [
    {
     "data": {
      "text/html": [
       "<div>\n",
       "<style scoped>\n",
       "    .dataframe tbody tr th:only-of-type {\n",
       "        vertical-align: middle;\n",
       "    }\n",
       "\n",
       "    .dataframe tbody tr th {\n",
       "        vertical-align: top;\n",
       "    }\n",
       "\n",
       "    .dataframe thead th {\n",
       "        text-align: right;\n",
       "    }\n",
       "</style>\n",
       "<table border=\"1\" class=\"dataframe\">\n",
       "  <thead>\n",
       "    <tr style=\"text-align: right;\">\n",
       "      <th></th>\n",
       "      <th>lote</th>\n",
       "      <th>horas</th>\n",
       "      <th>monto</th>\n",
       "    </tr>\n",
       "  </thead>\n",
       "  <tbody>\n",
       "    <tr>\n",
       "      <th>0</th>\n",
       "      <td>A</td>\n",
       "      <td>99</td>\n",
       "      <td>25.8</td>\n",
       "    </tr>\n",
       "    <tr>\n",
       "      <th>1</th>\n",
       "      <td>A</td>\n",
       "      <td>152</td>\n",
       "      <td>20.5</td>\n",
       "    </tr>\n",
       "    <tr>\n",
       "      <th>2</th>\n",
       "      <td>A</td>\n",
       "      <td>293</td>\n",
       "      <td>14.3</td>\n",
       "    </tr>\n",
       "    <tr>\n",
       "      <th>3</th>\n",
       "      <td>A</td>\n",
       "      <td>155</td>\n",
       "      <td>23.2</td>\n",
       "    </tr>\n",
       "    <tr>\n",
       "      <th>4</th>\n",
       "      <td>A</td>\n",
       "      <td>196</td>\n",
       "      <td>20.6</td>\n",
       "    </tr>\n",
       "  </tbody>\n",
       "</table>\n",
       "</div>"
      ],
      "text/plain": [
       "  lote  horas  monto\n",
       "0    A     99   25.8\n",
       "1    A    152   20.5\n",
       "2    A    293   14.3\n",
       "3    A    155   23.2\n",
       "4    A    196   20.6"
      ]
     },
     "execution_count": 2,
     "metadata": {},
     "output_type": "execute_result"
    }
   ],
   "source": [
    "horm_df = pd.read_excel(\"data_bases/lineal_horm.xlsx\")\n",
    "horm_df.head()"
   ]
  },
  {
   "cell_type": "code",
   "execution_count": 3,
   "id": "876f17e2",
   "metadata": {},
   "outputs": [
    {
     "name": "stdout",
     "output_type": "stream",
     "text": [
      "<class 'pandas.core.frame.DataFrame'>\n",
      "RangeIndex: 27 entries, 0 to 26\n",
      "Data columns (total 3 columns):\n",
      " #   Column  Non-Null Count  Dtype  \n",
      "---  ------  --------------  -----  \n",
      " 0   lote    27 non-null     object \n",
      " 1   horas   27 non-null     int64  \n",
      " 2   monto   27 non-null     float64\n",
      "dtypes: float64(1), int64(1), object(1)\n",
      "memory usage: 776.0+ bytes\n"
     ]
    }
   ],
   "source": [
    "horm_df.info()"
   ]
  },
  {
   "cell_type": "code",
   "execution_count": 4,
   "id": "c10d95ff",
   "metadata": {},
   "outputs": [
    {
     "data": {
      "text/plain": [
       "LinearRegression(copy_X=True, fit_intercept=True, n_jobs=None, normalize=False)"
      ]
     },
     "execution_count": 4,
     "metadata": {},
     "output_type": "execute_result"
    }
   ],
   "source": [
    "# Creamos el training set\n",
    "X = horm_df[[\"horas\"]]\n",
    "y = horm_df[[\"monto\"]]\n",
    "\n",
    "# Nuestro modelo\n",
    "reg_model = linear_model.LinearRegression()\n",
    "reg_model.fit(X, y)"
   ]
  },
  {
   "cell_type": "code",
   "execution_count": 5,
   "id": "bdeb55e1",
   "metadata": {},
   "outputs": [
    {
     "data": {
      "text/plain": [
       "array([[-0.0574463]])"
      ]
     },
     "execution_count": 5,
     "metadata": {},
     "output_type": "execute_result"
    }
   ],
   "source": [
    "reg_model.coef_"
   ]
  },
  {
   "cell_type": "code",
   "execution_count": 6,
   "id": "cade907b",
   "metadata": {},
   "outputs": [
    {
     "data": {
      "text/plain": [
       "array([34.16752817])"
      ]
     },
     "execution_count": 6,
     "metadata": {},
     "output_type": "execute_result"
    }
   ],
   "source": [
    "reg_model.intercept_"
   ]
  },
  {
   "cell_type": "code",
   "execution_count": 7,
   "id": "0ded1b6a",
   "metadata": {},
   "outputs": [
    {
     "data": {
      "text/plain": [
       "array([[28.4803446 ],\n",
       "       [25.43569077],\n",
       "       [17.33576266],\n",
       "       [25.26335188],\n",
       "       [22.90805363],\n",
       "       [31.12287434],\n",
       "       [23.59740921],\n",
       "       [24.3442111 ],\n",
       "       [31.18032064],\n",
       "       [12.56771986],\n",
       "       [12.05070318],\n",
       "       [11.0741161 ],\n",
       "       [32.50158551],\n",
       "       [29.80160947],\n",
       "       [17.16342376],\n",
       "       [25.49313707],\n",
       "       [23.9995333 ],\n",
       "       [22.16125175],\n",
       "       [27.33141863],\n",
       "       [23.36762402],\n",
       "       [27.56120382],\n",
       "       [29.11225389],\n",
       "       [30.83564285],\n",
       "       [31.35265954],\n",
       "       [25.55058337],\n",
       "       [28.02077421],\n",
       "       [26.98674084]])"
      ]
     },
     "execution_count": 7,
     "metadata": {},
     "output_type": "execute_result"
    }
   ],
   "source": [
    "Y_pred = reg_model.predict(X) \n",
    "Y_pred"
   ]
  },
  {
   "cell_type": "code",
   "execution_count": 8,
   "id": "3610f59a",
   "metadata": {},
   "outputs": [
    {
     "data": {
      "text/plain": [
       "array([28.4803446 , 25.43569077, 17.33576266, 25.26335188, 22.90805363,\n",
       "       31.12287434, 23.59740921, 24.3442111 , 31.18032064, 12.56771986,\n",
       "       12.05070318, 11.0741161 , 32.50158551, 29.80160947, 17.16342376,\n",
       "       25.49313707, 23.9995333 , 22.16125175, 27.33141863, 23.36762402,\n",
       "       27.56120382, 29.11225389, 30.83564285, 31.35265954, 25.55058337,\n",
       "       28.02077421, 26.98674084])"
      ]
     },
     "execution_count": 8,
     "metadata": {},
     "output_type": "execute_result"
    }
   ],
   "source": [
    "y_estim = Y_pred.reshape(-1)\n",
    "y_estim"
   ]
  },
  {
   "cell_type": "code",
   "execution_count": 9,
   "id": "86cbf257",
   "metadata": {},
   "outputs": [
    {
     "data": {
      "text/plain": [
       "array([ 99, 152, 293, 155, 196,  53, 184, 171,  52, 376, 385, 402,  29,\n",
       "        76, 296, 151, 177, 209, 119, 188, 115,  88,  58,  49, 150, 107,\n",
       "       125])"
      ]
     },
     "execution_count": 9,
     "metadata": {},
     "output_type": "execute_result"
    }
   ],
   "source": [
    "x = X.to_numpy().reshape(-1)\n",
    "x"
   ]
  },
  {
   "cell_type": "code",
   "execution_count": 10,
   "id": "1b9bbac3",
   "metadata": {},
   "outputs": [
    {
     "data": {
      "text/plain": [
       "array([25.8, 20.5, 14.3, 23.2, 20.6, 31.1, 20.9, 20.9, 30.4, 16.3, 11.6,\n",
       "       11.8, 32.5, 32. , 18. , 24.1, 26.5, 25.8, 28.8, 22. , 29.7, 28.9,\n",
       "       32.8, 32.5, 25.4, 31.7, 28.5])"
      ]
     },
     "execution_count": 10,
     "metadata": {},
     "output_type": "execute_result"
    }
   ],
   "source": [
    "y_real = y.to_numpy()\n",
    "y_real = y_real.reshape(-1)\n",
    "y_real\n",
    "n = len(y_real)\n",
    "y_real"
   ]
  },
  {
   "cell_type": "code",
   "execution_count": 11,
   "id": "a748cb9f",
   "metadata": {},
   "outputs": [
    {
     "data": {
      "text/plain": [
       "array([-2.68034460e+00, -4.93569077e+00, -3.03576266e+00, -2.06335188e+00,\n",
       "       -2.30805363e+00, -2.28743430e-02, -2.69740921e+00, -3.44421110e+00,\n",
       "       -7.80320642e-01,  3.73228014e+00, -4.50703175e-01,  7.25883902e-01,\n",
       "       -1.58551177e-03,  2.19839053e+00,  8.36576241e-01, -1.39313707e+00,\n",
       "        2.50046670e+00,  3.63874825e+00,  1.46858137e+00, -1.36762402e+00,\n",
       "        2.13879618e+00, -2.12253889e-01,  1.96435715e+00,  1.14734046e+00,\n",
       "       -1.50583369e-01,  3.67922579e+00,  1.51325916e+00])"
      ]
     },
     "execution_count": 11,
     "metadata": {},
     "output_type": "execute_result"
    }
   ],
   "source": [
    "# Obtenemos los residuos\n",
    "residuals = y_real-y_estim\n",
    "residuals"
   ]
  },
  {
   "cell_type": "markdown",
   "id": "1e49b002",
   "metadata": {},
   "source": [
    "Recordemos que se puede obtener el error estándar del estimador de la siguiente manera\n",
    "$$\n",
    "\\begin{equation}\n",
    "\\hat{se}_{\\beta}=\\sqrt{\\frac{\\sum_{i} \\epsilon_{i}^{2}}{(n-2)\\sum_{i}(x-\\bar{x})^{2}}}\n",
    "\\end{equation}\n",
    "$$"
   ]
  },
  {
   "cell_type": "code",
   "execution_count": 12,
   "id": "6c4e5421",
   "metadata": {},
   "outputs": [
    {
     "name": "stdout",
     "output_type": "stream",
     "text": [
      "El error estándar es : 0.0044641731603115384\n"
     ]
    }
   ],
   "source": [
    "den=sum((x-np.mean(x))**2)\n",
    "num=sum(residuals**2)/(n-2)\n",
    "err_reg=np.sqrt(num/den)\n",
    "\n",
    "print(f\"El error estándar es : {err_reg}\")"
   ]
  },
  {
   "cell_type": "code",
   "execution_count": 13,
   "id": "ef093284",
   "metadata": {},
   "outputs": [
    {
     "data": {
      "text/plain": [
       "(array([ 5., 10., 15., 20., 25., 30., 35.]),\n",
       " [Text(0, 0, ''),\n",
       "  Text(0, 0, ''),\n",
       "  Text(0, 0, ''),\n",
       "  Text(0, 0, ''),\n",
       "  Text(0, 0, ''),\n",
       "  Text(0, 0, ''),\n",
       "  Text(0, 0, '')])"
      ]
     },
     "execution_count": 13,
     "metadata": {},
     "output_type": "execute_result"
    },
    {
     "data": {
      "image/png": "[encoded data removed]",
      "text/plain": [
       "<Figure size 648x432 with 1 Axes>"
      ]
     },
     "metadata": {},
     "output_type": "display_data"
    }
   ],
   "source": [
    "# Visualización\n",
    "fig, ax = plt.subplots(figsize=(9,6))\n",
    "plt.scatter(X, y,s=30)\n",
    "plt.plot(X, Y_pred, color='red')\n",
    "plt.xlabel(\"Horas\",size=14)\n",
    "plt.ylabel(\"Monto\",size=14)\n",
    "plt.xticks(fontsize=16)\n",
    "plt.yticks(fontsize=16)"
   ]
  },
  {
   "cell_type": "markdown",
   "id": "395a7d26",
   "metadata": {},
   "source": [
    "### Calculemos el error estandar de las estimaciones de los parámetros haciendo bootstrap sobre los residuales"
   ]
  },
  {
   "cell_type": "code",
   "execution_count": 14,
   "id": "314e28a4",
   "metadata": {},
   "outputs": [
    {
     "data": {
      "text/html": [
       "<div>\n",
       "<style scoped>\n",
       "    .dataframe tbody tr th:only-of-type {\n",
       "        vertical-align: middle;\n",
       "    }\n",
       "\n",
       "    .dataframe tbody tr th {\n",
       "        vertical-align: top;\n",
       "    }\n",
       "\n",
       "    .dataframe thead th {\n",
       "        text-align: right;\n",
       "    }\n",
       "</style>\n",
       "<table border=\"1\" class=\"dataframe\">\n",
       "  <thead>\n",
       "    <tr style=\"text-align: right;\">\n",
       "      <th></th>\n",
       "      <th>residual</th>\n",
       "      <th>x</th>\n",
       "    </tr>\n",
       "  </thead>\n",
       "  <tbody>\n",
       "    <tr>\n",
       "      <th>0</th>\n",
       "      <td>-2.680345</td>\n",
       "      <td>99</td>\n",
       "    </tr>\n",
       "    <tr>\n",
       "      <th>1</th>\n",
       "      <td>-4.935691</td>\n",
       "      <td>152</td>\n",
       "    </tr>\n",
       "    <tr>\n",
       "      <th>2</th>\n",
       "      <td>-3.035763</td>\n",
       "      <td>293</td>\n",
       "    </tr>\n",
       "    <tr>\n",
       "      <th>3</th>\n",
       "      <td>-2.063352</td>\n",
       "      <td>155</td>\n",
       "    </tr>\n",
       "    <tr>\n",
       "      <th>4</th>\n",
       "      <td>-2.308054</td>\n",
       "      <td>196</td>\n",
       "    </tr>\n",
       "  </tbody>\n",
       "</table>\n",
       "</div>"
      ],
      "text/plain": [
       "   residual    x\n",
       "0 -2.680345   99\n",
       "1 -4.935691  152\n",
       "2 -3.035763  293\n",
       "3 -2.063352  155\n",
       "4 -2.308054  196"
      ]
     },
     "execution_count": 14,
     "metadata": {},
     "output_type": "execute_result"
    }
   ],
   "source": [
    "residuals_df = pd.DataFrame(residuals, columns=['residual'])\n",
    "residuals_df[\"x\"] = x\n",
    "residuals_df.head()"
   ]
  },
  {
   "cell_type": "code",
   "execution_count": 15,
   "id": "bba84d6b",
   "metadata": {},
   "outputs": [
    {
     "data": {
      "text/html": [
       "<div>\n",
       "<style scoped>\n",
       "    .dataframe tbody tr th:only-of-type {\n",
       "        vertical-align: middle;\n",
       "    }\n",
       "\n",
       "    .dataframe tbody tr th {\n",
       "        vertical-align: top;\n",
       "    }\n",
       "\n",
       "    .dataframe thead th {\n",
       "        text-align: right;\n",
       "    }\n",
       "</style>\n",
       "<table border=\"1\" class=\"dataframe\">\n",
       "  <thead>\n",
       "    <tr style=\"text-align: right;\">\n",
       "      <th></th>\n",
       "      <th>residual</th>\n",
       "      <th>x</th>\n",
       "    </tr>\n",
       "  </thead>\n",
       "  <tbody>\n",
       "    <tr>\n",
       "      <th>0</th>\n",
       "      <td>-0.450703</td>\n",
       "      <td>385</td>\n",
       "    </tr>\n",
       "    <tr>\n",
       "      <th>1</th>\n",
       "      <td>3.638748</td>\n",
       "      <td>209</td>\n",
       "    </tr>\n",
       "    <tr>\n",
       "      <th>2</th>\n",
       "      <td>3.638748</td>\n",
       "      <td>209</td>\n",
       "    </tr>\n",
       "    <tr>\n",
       "      <th>3</th>\n",
       "      <td>1.964357</td>\n",
       "      <td>58</td>\n",
       "    </tr>\n",
       "    <tr>\n",
       "      <th>4</th>\n",
       "      <td>1.964357</td>\n",
       "      <td>58</td>\n",
       "    </tr>\n",
       "    <tr>\n",
       "      <th>5</th>\n",
       "      <td>2.138796</td>\n",
       "      <td>115</td>\n",
       "    </tr>\n",
       "    <tr>\n",
       "      <th>6</th>\n",
       "      <td>2.138796</td>\n",
       "      <td>115</td>\n",
       "    </tr>\n",
       "    <tr>\n",
       "      <th>7</th>\n",
       "      <td>1.147340</td>\n",
       "      <td>49</td>\n",
       "    </tr>\n",
       "    <tr>\n",
       "      <th>8</th>\n",
       "      <td>-3.035763</td>\n",
       "      <td>293</td>\n",
       "    </tr>\n",
       "    <tr>\n",
       "      <th>9</th>\n",
       "      <td>-3.444211</td>\n",
       "      <td>171</td>\n",
       "    </tr>\n",
       "    <tr>\n",
       "      <th>10</th>\n",
       "      <td>0.836576</td>\n",
       "      <td>296</td>\n",
       "    </tr>\n",
       "    <tr>\n",
       "      <th>11</th>\n",
       "      <td>-2.697409</td>\n",
       "      <td>184</td>\n",
       "    </tr>\n",
       "    <tr>\n",
       "      <th>12</th>\n",
       "      <td>-0.001586</td>\n",
       "      <td>29</td>\n",
       "    </tr>\n",
       "    <tr>\n",
       "      <th>13</th>\n",
       "      <td>-0.001586</td>\n",
       "      <td>29</td>\n",
       "    </tr>\n",
       "    <tr>\n",
       "      <th>14</th>\n",
       "      <td>-0.001586</td>\n",
       "      <td>29</td>\n",
       "    </tr>\n",
       "    <tr>\n",
       "      <th>15</th>\n",
       "      <td>-2.308054</td>\n",
       "      <td>196</td>\n",
       "    </tr>\n",
       "    <tr>\n",
       "      <th>16</th>\n",
       "      <td>-2.308054</td>\n",
       "      <td>196</td>\n",
       "    </tr>\n",
       "    <tr>\n",
       "      <th>17</th>\n",
       "      <td>-0.212254</td>\n",
       "      <td>88</td>\n",
       "    </tr>\n",
       "    <tr>\n",
       "      <th>18</th>\n",
       "      <td>-0.212254</td>\n",
       "      <td>88</td>\n",
       "    </tr>\n",
       "    <tr>\n",
       "      <th>19</th>\n",
       "      <td>3.679226</td>\n",
       "      <td>107</td>\n",
       "    </tr>\n",
       "    <tr>\n",
       "      <th>20</th>\n",
       "      <td>3.679226</td>\n",
       "      <td>107</td>\n",
       "    </tr>\n",
       "    <tr>\n",
       "      <th>21</th>\n",
       "      <td>-0.022874</td>\n",
       "      <td>53</td>\n",
       "    </tr>\n",
       "    <tr>\n",
       "      <th>22</th>\n",
       "      <td>-0.022874</td>\n",
       "      <td>53</td>\n",
       "    </tr>\n",
       "    <tr>\n",
       "      <th>23</th>\n",
       "      <td>-0.022874</td>\n",
       "      <td>53</td>\n",
       "    </tr>\n",
       "    <tr>\n",
       "      <th>24</th>\n",
       "      <td>3.732280</td>\n",
       "      <td>376</td>\n",
       "    </tr>\n",
       "    <tr>\n",
       "      <th>25</th>\n",
       "      <td>3.732280</td>\n",
       "      <td>376</td>\n",
       "    </tr>\n",
       "    <tr>\n",
       "      <th>26</th>\n",
       "      <td>-4.935691</td>\n",
       "      <td>152</td>\n",
       "    </tr>\n",
       "  </tbody>\n",
       "</table>\n",
       "</div>"
      ],
      "text/plain": [
       "    residual    x\n",
       "0  -0.450703  385\n",
       "1   3.638748  209\n",
       "2   3.638748  209\n",
       "3   1.964357   58\n",
       "4   1.964357   58\n",
       "5   2.138796  115\n",
       "6   2.138796  115\n",
       "7   1.147340   49\n",
       "8  -3.035763  293\n",
       "9  -3.444211  171\n",
       "10  0.836576  296\n",
       "11 -2.697409  184\n",
       "12 -0.001586   29\n",
       "13 -0.001586   29\n",
       "14 -0.001586   29\n",
       "15 -2.308054  196\n",
       "16 -2.308054  196\n",
       "17 -0.212254   88\n",
       "18 -0.212254   88\n",
       "19  3.679226  107\n",
       "20  3.679226  107\n",
       "21 -0.022874   53\n",
       "22 -0.022874   53\n",
       "23 -0.022874   53\n",
       "24  3.732280  376\n",
       "25  3.732280  376\n",
       "26 -4.935691  152"
      ]
     },
     "execution_count": 15,
     "metadata": {},
     "output_type": "execute_result"
    }
   ],
   "source": [
    "r_i= np.random.choice(residuals,len(residuals),replace=True)\n",
    "residuals_df_aux = pd.DataFrame(r_i, columns=['residual'])\n",
    "residuals_df_aux = pd.merge(residuals_df_aux, residuals_df, how=\"inner\", on=[\"residual\"])\n",
    "residuals_df_aux    "
   ]
  },
  {
   "cell_type": "code",
   "execution_count": 16,
   "id": "2b11a55c",
   "metadata": {},
   "outputs": [
    {
     "name": "stdout",
     "output_type": "stream",
     "text": [
      "El error estándar es: 0.004322416635408928\n"
     ]
    }
   ],
   "source": [
    "x_j = residuals_df_aux[[\"x\"]].to_numpy().reshape(-1)\n",
    "den = sum((x_j-np.mean(x_j))**2)\n",
    "num = sum(r_i**2)/(n)\n",
    "err = np.sqrt(num/den)\n",
    "\n",
    "print(f\"El error estándar es: {err}\")"
   ]
  },
  {
   "cell_type": "code",
   "execution_count": 17,
   "id": "ebe6dbdc",
   "metadata": {},
   "outputs": [],
   "source": [
    "simul=1000\n",
    "res_boost= np.array( [ ])\n",
    "for i in range(0,simul):\n",
    "    r_i=np.random.choice(residuals,len(residuals),replace=True)\n",
    "    df_aux = pd.DataFrame(r_i,\n",
    "                 columns=['residual'])\n",
    "    df_aux=pd.merge(df_aux, residuals_df, how=\"inner\", on=[\"residual\"])\n",
    "    df_aux\n",
    "    x_i=df_aux[[\"x\"]].to_numpy().reshape(-1)\n",
    "    den=sum((x_i-np.mean(x_i))**2)\n",
    "    num=sum(r_i**2)/(n)\n",
    "    err=np.sqrt(num/den)\n",
    "    res_boost = np.append(res_boost,err)"
   ]
  },
  {
   "cell_type": "code",
   "execution_count": 18,
   "id": "a787822b",
   "metadata": {},
   "outputs": [
    {
     "name": "stdout",
     "output_type": "stream",
     "text": [
      "Error Estándar sin Bootsrap: 0.0044641731603115384\n",
      "Promedio de Error Estándar de la muestras Bootstrap: 0.004558196701093493\n",
      "Promedio de Error Estándar de la muestras Bootstrap: 0.004558196701093493\n",
      "( 0.003046108181718769 , 0.006839783709913065 )\n"
     ]
    },
    {
     "data": {
      "image/png": "[encoded data removed]",
      "text/plain": [
       "<Figure size 648x432 with 1 Axes>"
      ]
     },
     "metadata": {},
     "output_type": "display_data"
    }
   ],
   "source": [
    "fig, ax = plt.subplots(figsize=(9,6))\n",
    "plt.hist(res_boost,bins=50,alpha=0.5,edgecolor=\"white\",label=\"Error estándar Boostrap\")\n",
    "plt.axvline(x=err_reg,color='green', linestyle='--',linewidth=3,label=\"Error Estándar de b_1 con regresión$\")\n",
    "plt.axvline(x=np.mean(res_boost),color='black', linestyle='--',linewidth=3,label=\"Promedio error estándar de b_1 con  Boostrap$\")\n",
    "\n",
    "plt.axvline(percentile(res_boost,2.5),color=\"blue\",linestyle=\"--\",linewidth=2)                                                                                                                                                    \n",
    "plt.axvline(percentile(res_boost,97.5),color=\"blue\",linestyle=\"--\",linewidth=2) \n",
    "\n",
    "print(\"Error Estándar sin Bootsrap:\", err_reg)\n",
    "print(\"Promedio de Error Estándar de la muestras Bootstrap:\", np.mean(res_boost))\n",
    "print(\"Promedio de Error Estándar de la muestras Bootstrap:\", np.mean(res_boost))\n",
    "print(\"(\", percentile(res_boost,2.5),\",\", percentile(res_boost,97.5),\")\")"
   ]
  },
  {
   "cell_type": "markdown",
   "id": "fa10067c",
   "metadata": {},
   "source": [
    "# Calcular error estándar a partir de las betas"
   ]
  },
  {
   "cell_type": "markdown",
   "id": "46993948",
   "metadata": {},
   "source": [
    "Haremos n simulaciones de muestras bootstrap del mismo tamaño que los datos con los que contamos y con cada una de ellas  calculamos un estimador para la betas de la regresión lineal de monto vs horas"
   ]
  },
  {
   "cell_type": "code",
   "execution_count": 19,
   "id": "7645f8c1",
   "metadata": {},
   "outputs": [],
   "source": [
    "def generate_boostrap_sim(n, data_frame):\n",
    "    X = data_frame[[\"horas\"]].to_numpy().reshape(-1)\n",
    "    \n",
    "    y_s = []\n",
    "    \n",
    "    for _ in range(n):\n",
    "        ri = np.random.choice(X, len(X), replace=True)\n",
    "        aux_df = pd.DataFrame(ri, columns=['horas'])\n",
    "        aux_df = pd.merge(aux_df, data_frame ,how=\"inner\", on=['horas'])\n",
    "        \n",
    "        Xi = aux_df[[\"horas\"]]\n",
    "        yi = aux_df[[\"monto\"]]\n",
    "        \n",
    "        regi = linear_model.LinearRegression() \n",
    "        regi.fit(Xi,yi)\n",
    "        \n",
    "        y_s.append(regi)\n",
    "        \n",
    "    return y_s"
   ]
  },
  {
   "cell_type": "code",
   "execution_count": 20,
   "id": "93592415",
   "metadata": {},
   "outputs": [],
   "source": [
    "n = 1000\n",
    "lineal_regressions = generate_boostrap_sim(n, horm_df)"
   ]
  },
  {
   "cell_type": "code",
   "execution_count": 21,
   "id": "d146e9d1",
   "metadata": {},
   "outputs": [],
   "source": [
    "def get_standar_errors_model(lineal_regressions_list, X, y):\n",
    "    std_errors = []\n",
    "    \n",
    "    x = X.to_numpy().reshape(-1)\n",
    "    y_real = y.to_numpy()\n",
    "    y_real = y_real.reshape(-1)\n",
    "    n=len(y_real)\n",
    "    \n",
    "    for model in lineal_regressions_list:\n",
    "        \n",
    "        Y_pred = model.predict(X)\n",
    "        y_estim = Y_pred.reshape(-1)\n",
    "        \n",
    "        residual=y_real-y_estim\n",
    "\n",
    "        \n",
    "        den = sum((x-np.mean(x))**2)\n",
    "        num = sum(residual**2)/(n-2)\n",
    "        err_reg = np.sqrt(num/den)\n",
    "        \n",
    "        std_errors.append(err_reg)\n",
    "        \n",
    "        \n",
    "    return std_errors\n",
    "        "
   ]
  },
  {
   "cell_type": "code",
   "execution_count": 22,
   "id": "9c209daf",
   "metadata": {},
   "outputs": [],
   "source": [
    "# Obtenemos el error estandar para cada uno de los modelos\n",
    "std_error = get_standar_errors_model(lineal_regressions, X, y)"
   ]
  },
  {
   "cell_type": "code",
   "execution_count": 23,
   "id": "c6fd14b8",
   "metadata": {},
   "outputs": [],
   "source": [
    "def generate_hist(data):\n",
    "    fig, ax=subplots(figsize=(8,5))\n",
    "    sns.histplot(data)\n",
    "    plt.axvline(x=np.mean(data),color='red', linestyle='--',linewidth=3,label=\"Promedio error estándar con  Boostrap$\")\n",
    "    axvline(percentile(new_betas,2.5),color=\"blue\",linestyle=\"--\",linewidth=2)                                                                                                                                                    \n",
    "    axvline(percentile(new_betas,97.5),color=\"blue\",linestyle=\"--\",linewidth=2) \n"
   ]
  },
  {
   "cell_type": "code",
   "execution_count": 24,
   "id": "09beed94",
   "metadata": {},
   "outputs": [
    {
     "data": {
      "image/png": "[encoded data removed]",
      "text/plain": [
       "<Figure size 576x360 with 1 Axes>"
      ]
     },
     "metadata": {},
     "output_type": "display_data"
    }
   ],
   "source": [
    "generate_hist(std_error)"
   ]
  },
  {
   "cell_type": "code",
   "execution_count": 25,
   "id": "a9aea686",
   "metadata": {},
   "outputs": [],
   "source": [
    "# Ahora obtenemos el error estandar para las betas\n",
    "def get_betas(lineal_regressions_list):\n",
    "    coefs, intercepts = np.array([]), np.array([])\n",
    "    \n",
    "    for model in lineal_regressions_list:\n",
    "        coefs = np.append(coefs, model.coef_)\n",
    "        intercepts = np.append(intercepts, model.intercept_)\n",
    "    \n",
    "    return coefs, intercepts"
   ]
  },
  {
   "cell_type": "code",
   "execution_count": 26,
   "id": "7aea35e9",
   "metadata": {},
   "outputs": [],
   "source": [
    "coefs, intercepts = get_betas(lineal_regressions)"
   ]
  },
  {
   "cell_type": "code",
   "execution_count": 27,
   "id": "37f6acf5",
   "metadata": {},
   "outputs": [
    {
     "data": {
      "text/plain": [
       "array([-0.05943241, -0.06713047, -0.06237514, -0.06343798, -0.05576211,\n",
       "       -0.05408914, -0.06256349, -0.06268569, -0.05877962, -0.06254416,\n",
       "       -0.05506507, -0.0566787 , -0.05575316, -0.06079833, -0.05763225,\n",
       "       -0.05906878, -0.06924624, -0.0598329 , -0.04925882, -0.05740782,\n",
       "       -0.05329227, -0.0600104 , -0.05527469, -0.05281821, -0.05407844,\n",
       "       -0.05590157, -0.06372014, -0.05767274, -0.05718438, -0.06413172,\n",
       "       -0.06161801, -0.05115052, -0.06526705, -0.06194059, -0.05950189,\n",
       "       -0.05375084, -0.05817918, -0.05670435, -0.05551373, -0.05524241,\n",
       "       -0.06246832, -0.05828795, -0.05585041, -0.05848513, -0.05503152,\n",
       "       -0.05559975, -0.06380499, -0.05935622, -0.05864544, -0.05655222,\n",
       "       -0.06433203, -0.05855522, -0.05467936, -0.05701622, -0.06145662,\n",
       "       -0.05860581, -0.06640091, -0.05654623, -0.05664591, -0.04762576,\n",
       "       -0.05116053, -0.05760784, -0.05016753, -0.05614639, -0.05735071,\n",
       "       -0.0546577 , -0.056675  , -0.06309176, -0.05439876, -0.06591588,\n",
       "       -0.05871977, -0.05907308, -0.05954851, -0.05138581, -0.0528353 ,\n",
       "       -0.05425308, -0.0589807 , -0.0562314 , -0.05265161, -0.06371901,\n",
       "       -0.05858792, -0.05545828, -0.0554743 , -0.05307718, -0.06132499,\n",
       "       -0.05961088, -0.05756472, -0.04768702, -0.05519125, -0.05803221,\n",
       "       -0.05248335, -0.05669948, -0.05781847, -0.05544136, -0.05973708,\n",
       "       -0.05503047, -0.06369616, -0.05716774, -0.05632314, -0.05348034,\n",
       "       -0.05752713, -0.05851722, -0.0576247 , -0.0608974 , -0.05260616,\n",
       "       -0.05820022, -0.05831753, -0.06089278, -0.05073075, -0.06443017,\n",
       "       -0.05557731, -0.05604634, -0.05861674, -0.05119317, -0.06394332,\n",
       "       -0.06114278, -0.05411156, -0.05827231, -0.05385179, -0.06316128,\n",
       "       -0.06339038, -0.06168384, -0.05954791, -0.05878003, -0.05465419,\n",
       "       -0.0621275 , -0.06384194, -0.05445289, -0.05614891, -0.05607467,\n",
       "       -0.05832331, -0.05806186, -0.05786697, -0.06006094, -0.05229079,\n",
       "       -0.05346371, -0.05890946, -0.05765114, -0.05700347, -0.06179615,\n",
       "       -0.058988  , -0.05243494, -0.0535398 , -0.06098976, -0.05994917,\n",
       "       -0.05843963, -0.05354881, -0.05798334, -0.05745664, -0.05781637,\n",
       "       -0.0603272 , -0.05306128, -0.0609992 , -0.0503237 , -0.05725771,\n",
       "       -0.05969346, -0.05730737, -0.06114169, -0.05713663, -0.05697921,\n",
       "       -0.06158291, -0.06195273, -0.06201127, -0.06310607, -0.05926906,\n",
       "       -0.06429878, -0.0569593 , -0.05484976, -0.05681076, -0.058651  ,\n",
       "       -0.05358988, -0.05487026, -0.06147347, -0.05366457, -0.05613036,\n",
       "       -0.05542524, -0.06290193, -0.055368  , -0.05420238, -0.06080797,\n",
       "       -0.05808691, -0.06121479, -0.05596214, -0.05357528, -0.05990135,\n",
       "       -0.05510942, -0.06365856, -0.05516337, -0.06043556, -0.05477521,\n",
       "       -0.05826248, -0.05683873, -0.05556111, -0.05732314, -0.05431777,\n",
       "       -0.06277394, -0.0585228 , -0.06402162, -0.06694602, -0.05364966,\n",
       "       -0.05911145, -0.0589313 , -0.06649429, -0.06307558, -0.05778576,\n",
       "       -0.0589806 , -0.05662895, -0.05683455, -0.0530535 , -0.06376273,\n",
       "       -0.05689086, -0.05384253, -0.05998678, -0.05736035, -0.05496181,\n",
       "       -0.05281696, -0.05598047, -0.05548789, -0.06074964, -0.05859308,\n",
       "       -0.05048668, -0.05390819, -0.05584714, -0.05628114, -0.05755337,\n",
       "       -0.05912513, -0.04812358, -0.05757843, -0.05122424, -0.05394505,\n",
       "       -0.05777401, -0.0618296 , -0.05385891, -0.05840654, -0.05463117,\n",
       "       -0.05474008, -0.05407836, -0.05762848, -0.05598227, -0.05623808,\n",
       "       -0.05818818, -0.06008292, -0.0648158 , -0.055245  , -0.05559995,\n",
       "       -0.05703292, -0.05850118, -0.05975972, -0.05926488, -0.05392543,\n",
       "       -0.05826784, -0.05311804, -0.05804269, -0.0627071 , -0.05511864,\n",
       "       -0.05705474, -0.05697199, -0.05482749, -0.05598273, -0.05901188,\n",
       "       -0.05622494, -0.05651626, -0.05119169, -0.05586899, -0.05635961,\n",
       "       -0.05803846, -0.06143451, -0.05854672, -0.0602974 , -0.05315964,\n",
       "       -0.06095047, -0.04975945, -0.05315414, -0.05944257, -0.05733591,\n",
       "       -0.0587713 , -0.06149969, -0.05211031, -0.05954508, -0.05629748,\n",
       "       -0.05947903, -0.05435497, -0.05857744, -0.07112217, -0.05477776,\n",
       "       -0.06359608, -0.06403169, -0.05605869, -0.05409718, -0.05993449,\n",
       "       -0.05434571, -0.05401303, -0.05566102, -0.05552703, -0.05459291,\n",
       "       -0.05656413, -0.0604321 , -0.06390483, -0.05416797, -0.06340101,\n",
       "       -0.05858294, -0.0583371 , -0.06128095, -0.05616137, -0.05496211,\n",
       "       -0.05983938, -0.05164656, -0.05745702, -0.05690494, -0.05370921,\n",
       "       -0.05783524, -0.053756  , -0.05504925, -0.06175755, -0.05328659,\n",
       "       -0.06103295, -0.05450576, -0.05704259, -0.06014635, -0.05259694,\n",
       "       -0.05859969, -0.06463467, -0.05625159, -0.06004725, -0.05922811,\n",
       "       -0.05874476, -0.05733848, -0.0523517 , -0.05505239, -0.05563228,\n",
       "       -0.0536844 , -0.04994845, -0.07160609, -0.0533068 , -0.05465552,\n",
       "       -0.05738014, -0.05602277, -0.06249643, -0.0566156 , -0.07411352,\n",
       "       -0.05479411, -0.07244411, -0.05751345, -0.05712757, -0.05801548,\n",
       "       -0.05923638, -0.05363974, -0.05553671, -0.05116876, -0.05495463,\n",
       "       -0.0539833 , -0.05996181, -0.05744604, -0.06260405, -0.05962899,\n",
       "       -0.05829253, -0.0588101 , -0.05430863, -0.06578721, -0.06791664,\n",
       "       -0.05976081, -0.05636679, -0.05926372, -0.05432957, -0.06093755,\n",
       "       -0.05951448, -0.05685956, -0.05959632, -0.05550003, -0.05896082,\n",
       "       -0.05482699, -0.05842019, -0.06210498, -0.05426092, -0.0577081 ,\n",
       "       -0.05817533, -0.06226409, -0.05973395, -0.05851156, -0.05773922,\n",
       "       -0.05905383, -0.05646534, -0.05240027, -0.05672436, -0.05773683,\n",
       "       -0.05294834, -0.05552401, -0.05751762, -0.05849622, -0.05304415,\n",
       "       -0.05555746, -0.06094201, -0.06144977, -0.06192035, -0.05781152,\n",
       "       -0.05375363, -0.0578867 , -0.06141812, -0.0520289 , -0.06130618,\n",
       "       -0.0577456 , -0.05366016, -0.05914739, -0.06154162, -0.06161579,\n",
       "       -0.06577306, -0.05558635, -0.06499669, -0.05843366, -0.05797677,\n",
       "       -0.059515  , -0.05623091, -0.06103128, -0.05936207, -0.06479641,\n",
       "       -0.05728961, -0.05908447, -0.05056827, -0.05898245, -0.05481909,\n",
       "       -0.06209502, -0.05306068, -0.05432152, -0.06998246, -0.0610825 ,\n",
       "       -0.06099417, -0.06459709, -0.06032904, -0.05213849, -0.05740508,\n",
       "       -0.05551713, -0.05384438, -0.05780206, -0.05066647, -0.05586478,\n",
       "       -0.06329049, -0.06139944, -0.06175405, -0.06150534, -0.05709603,\n",
       "       -0.05990157, -0.06068359, -0.05095868, -0.05595958, -0.06428006,\n",
       "       -0.0590088 , -0.05339349, -0.05383349, -0.05129916, -0.05977141,\n",
       "       -0.05668496, -0.05293178, -0.05612981, -0.05236935, -0.05439929,\n",
       "       -0.06152493, -0.05727627, -0.05680609, -0.05695059, -0.06906377,\n",
       "       -0.0588485 , -0.05482074, -0.06295739, -0.05611333, -0.05401976,\n",
       "       -0.05658575, -0.05924692, -0.0610243 , -0.05861176, -0.06211233,\n",
       "       -0.06484724, -0.05945675, -0.0547204 , -0.06118565, -0.05550135,\n",
       "       -0.06045312, -0.06250903, -0.06310952, -0.05727464, -0.0582901 ,\n",
       "       -0.05786571, -0.04829219, -0.05626555, -0.05526197, -0.06051298,\n",
       "       -0.05762853, -0.05624526, -0.0595685 , -0.06116887, -0.05667945,\n",
       "       -0.05018758, -0.06060479, -0.05514701, -0.05450091, -0.0779648 ,\n",
       "       -0.05978191, -0.05230804, -0.05295561, -0.06684347, -0.05528455,\n",
       "       -0.06904311, -0.06021398, -0.05660324, -0.05587935, -0.05437936,\n",
       "       -0.05940431, -0.06119019, -0.06125859, -0.05350706, -0.05632646,\n",
       "       -0.05569715, -0.05567047, -0.0536945 , -0.06084991, -0.06175777,\n",
       "       -0.05945566, -0.06627551, -0.06017583, -0.05970818, -0.04967874,\n",
       "       -0.06032231, -0.05573943, -0.05982233, -0.06234198, -0.06344095,\n",
       "       -0.0544154 , -0.0577563 , -0.05638711, -0.0605622 , -0.06298801,\n",
       "       -0.06278517, -0.0574073 , -0.06428295, -0.05157334, -0.06315719,\n",
       "       -0.06001605, -0.06484982, -0.05961342, -0.0586336 , -0.06191825,\n",
       "       -0.05265033, -0.05756533, -0.05454842, -0.05527823, -0.05331068,\n",
       "       -0.0573955 , -0.05846075, -0.05277404, -0.05552755, -0.0543671 ,\n",
       "       -0.05762304, -0.05473904, -0.06086751, -0.05881293, -0.06184187,\n",
       "       -0.05919116, -0.05962132, -0.05768323, -0.05424672, -0.05989315,\n",
       "       -0.0599444 , -0.05692137, -0.05502806, -0.05738775, -0.05951941,\n",
       "       -0.05708766, -0.05851477, -0.06129069, -0.05929896, -0.04732178,\n",
       "       -0.06064647, -0.05266179, -0.05605157, -0.05754002, -0.05653761,\n",
       "       -0.05900108, -0.06087936, -0.05957094, -0.05930613, -0.05479373,\n",
       "       -0.06223718, -0.06201523, -0.0585824 , -0.06129531, -0.06040917,\n",
       "       -0.05963948, -0.05926162, -0.05479495, -0.05864765, -0.06274929,\n",
       "       -0.05250715, -0.05850021, -0.0538699 , -0.06055343, -0.05569835,\n",
       "       -0.05844257, -0.05450467, -0.05617695, -0.05094065, -0.05717398,\n",
       "       -0.05958889, -0.05555461, -0.05849971, -0.05627038, -0.06067998,\n",
       "       -0.06618992, -0.0568297 , -0.05551016, -0.05110781, -0.05764265,\n",
       "       -0.05786658, -0.04968319, -0.06244255, -0.05891553, -0.05795734,\n",
       "       -0.05134806, -0.05277259, -0.06303103, -0.05690729, -0.05563704,\n",
       "       -0.05424493, -0.05499335, -0.06093333, -0.05007971, -0.06456812,\n",
       "       -0.05443063, -0.05284473, -0.06228791, -0.06038116, -0.05704329,\n",
       "       -0.05797698, -0.05399214, -0.05865154, -0.055396  , -0.05773834,\n",
       "       -0.05694725, -0.05804254, -0.06364687, -0.059804  , -0.06016169,\n",
       "       -0.05799193, -0.06020993, -0.05603103, -0.06080893, -0.05609066,\n",
       "       -0.06397125, -0.05693079, -0.06395749, -0.06030428, -0.0589638 ,\n",
       "       -0.0543536 , -0.051746  , -0.06117287, -0.05949066, -0.05270346,\n",
       "       -0.05512557, -0.05427332, -0.05805775, -0.05958182, -0.06415993,\n",
       "       -0.05237499, -0.0671519 , -0.05863256, -0.04966995, -0.06154099,\n",
       "       -0.05960944, -0.05673906, -0.05586502, -0.07212665, -0.06009607,\n",
       "       -0.05859005, -0.05353238, -0.05769853, -0.05424568, -0.05804747,\n",
       "       -0.06342642, -0.05742576, -0.05940425, -0.06507919, -0.05514922,\n",
       "       -0.05760696, -0.05511274, -0.06092019, -0.05448951, -0.05691605,\n",
       "       -0.05484236, -0.05936827, -0.05441202, -0.06222394, -0.06672215,\n",
       "       -0.05748064, -0.05935946, -0.05806797, -0.05145092, -0.05251876,\n",
       "       -0.05551396, -0.0622619 , -0.05568698, -0.05384945, -0.06141666,\n",
       "       -0.05872861, -0.06213721, -0.0669993 , -0.055942  , -0.05110598,\n",
       "       -0.05655109, -0.05576745, -0.05787259, -0.06018407, -0.05348335,\n",
       "       -0.05831594, -0.05637368, -0.0601217 , -0.05273927, -0.05621304,\n",
       "       -0.05919243, -0.06038796, -0.06762654, -0.05759737, -0.05822071,\n",
       "       -0.05820757, -0.06647717, -0.05933541, -0.0548564 , -0.06319794,\n",
       "       -0.05173885, -0.05425516, -0.06123761, -0.06905034, -0.04899514,\n",
       "       -0.06584787, -0.05902678, -0.05556991, -0.05851691, -0.05778543,\n",
       "       -0.0588734 , -0.05328934, -0.05989846, -0.06324463, -0.05862414,\n",
       "       -0.05780152, -0.05973184, -0.06485705, -0.05891699, -0.06349387,\n",
       "       -0.05316558, -0.05282407, -0.05729932, -0.05407509, -0.06686805,\n",
       "       -0.05724744, -0.0587841 , -0.06108456, -0.05742515, -0.05914361,\n",
       "       -0.07906546, -0.05819214, -0.05759841, -0.05271409, -0.06002953,\n",
       "       -0.05964052, -0.05456588, -0.05806862, -0.06808029, -0.06981723,\n",
       "       -0.05234535, -0.0516428 , -0.05731039, -0.06102731, -0.06613866,\n",
       "       -0.05571751, -0.05295761, -0.05857304, -0.05732498, -0.05714507,\n",
       "       -0.05676301, -0.06380759, -0.05940974, -0.06230914, -0.05735435,\n",
       "       -0.05658472, -0.05664354, -0.05738509, -0.04968247, -0.05550611,\n",
       "       -0.05720374, -0.05786674, -0.05825964, -0.06336228, -0.05658384,\n",
       "       -0.05874228, -0.06152682, -0.06559459, -0.06154167, -0.05542101,\n",
       "       -0.05647422, -0.05556115, -0.04830704, -0.06251015, -0.05599138,\n",
       "       -0.05945982, -0.05831631, -0.0567362 , -0.05140529, -0.05113357,\n",
       "       -0.05491228, -0.05888823, -0.06112611, -0.05397007, -0.06033101,\n",
       "       -0.06015703, -0.0561637 , -0.06019811, -0.05134358, -0.05991409,\n",
       "       -0.05491863, -0.05419786, -0.06763978, -0.05519427, -0.05882255,\n",
       "       -0.05649678, -0.0577251 , -0.06238263, -0.05038653, -0.05953104,\n",
       "       -0.05707624, -0.05803173, -0.0492226 , -0.06521705, -0.06023407,\n",
       "       -0.0606597 , -0.06304211, -0.05396688, -0.05241447, -0.06148033,\n",
       "       -0.05810914, -0.05151361, -0.05675436, -0.05447186, -0.05969829,\n",
       "       -0.07006437, -0.05994858, -0.05563536, -0.07010787, -0.05980928,\n",
       "       -0.05824191, -0.06159806, -0.05812335, -0.05454788, -0.05587049,\n",
       "       -0.05166815, -0.05926401, -0.06301398, -0.05903433, -0.05105009,\n",
       "       -0.06627032, -0.0591186 , -0.0517895 , -0.05370752, -0.05110094,\n",
       "       -0.06007257, -0.05809314, -0.06699453, -0.05730002, -0.05540278,\n",
       "       -0.05817784, -0.05602399, -0.06211851, -0.05654437, -0.05553976,\n",
       "       -0.05852928, -0.05474914, -0.05786532, -0.05997533, -0.05555378,\n",
       "       -0.05692206, -0.05609322, -0.0615192 , -0.05306974, -0.05900946,\n",
       "       -0.05296429, -0.05927448, -0.05071749, -0.05527939, -0.05922473,\n",
       "       -0.0569846 , -0.05378266, -0.05687066, -0.06136243, -0.05110791,\n",
       "       -0.0565501 , -0.05247891, -0.0584142 , -0.05432068, -0.05633623,\n",
       "       -0.06047589, -0.05993108, -0.05887743, -0.05076467, -0.06158539,\n",
       "       -0.05710453, -0.06531228, -0.06162685, -0.05742649, -0.05698065,\n",
       "       -0.0614796 , -0.06107969, -0.05659762, -0.05758367, -0.05645635,\n",
       "       -0.06135917, -0.06872558, -0.05790203, -0.05484385, -0.05566102,\n",
       "       -0.0541517 , -0.0528505 , -0.05979601, -0.0545877 , -0.05808276,\n",
       "       -0.05772072, -0.05952463, -0.05625051, -0.05899091, -0.05542844,\n",
       "       -0.06233688, -0.05787642, -0.0607975 , -0.05339567, -0.05881689,\n",
       "       -0.05742214, -0.05702006, -0.05542883, -0.05830675, -0.05632715,\n",
       "       -0.05801382, -0.05759346, -0.05975847, -0.05879223, -0.0609585 ,\n",
       "       -0.05870641, -0.05190331, -0.05752375, -0.05480041, -0.05711932,\n",
       "       -0.05524359, -0.05682771, -0.05900494, -0.0598992 , -0.05520644,\n",
       "       -0.05127856, -0.05332356, -0.05618768, -0.07004421, -0.06049982,\n",
       "       -0.05866916, -0.05229571, -0.05397793, -0.06244739, -0.05376306,\n",
       "       -0.05733823, -0.06032393, -0.05955318, -0.06140843, -0.05605313,\n",
       "       -0.06205722, -0.06126816, -0.05701053, -0.05552949, -0.05399156,\n",
       "       -0.06818987, -0.0555222 , -0.05594575, -0.05668018, -0.05514394,\n",
       "       -0.05853694, -0.05420948, -0.06123101, -0.05859499, -0.05524678,\n",
       "       -0.05740868, -0.06021517, -0.05601263, -0.05882483, -0.05448936,\n",
       "       -0.06359937, -0.05584989, -0.05818052, -0.05865166, -0.05040381,\n",
       "       -0.05812709, -0.05586289, -0.05213824, -0.05435069, -0.05812597,\n",
       "       -0.06111464, -0.06174581, -0.05020821, -0.0537034 , -0.05804042])"
      ]
     },
     "execution_count": 27,
     "metadata": {},
     "output_type": "execute_result"
    }
   ],
   "source": [
    "coefs"
   ]
  },
  {
   "cell_type": "code",
   "execution_count": 28,
   "id": "ed30a86c",
   "metadata": {},
   "outputs": [
    {
     "data": {
      "text/plain": [
       "array([33.74504755, 36.05923249, 35.36759986, 34.73784901, 34.70264737,\n",
       "       33.87098846, 34.90669381, 34.07060969, 34.33393125, 35.11655322,\n",
       "       34.54268914, 34.32040348, 33.66228438, 34.72718186, 34.68397083,\n",
       "       34.11574707, 36.23751506, 34.78674385, 31.76864723, 34.2905243 ,\n",
       "       33.50393149, 34.26500043, 33.68689713, 33.60716353, 34.04875856,\n",
       "       33.79665822, 34.61892452, 34.11929054, 34.00893154, 34.6650565 ,\n",
       "       34.47984286, 33.37531976, 34.95000974, 35.04183692, 34.02505922,\n",
       "       33.62201458, 34.57559938, 34.59966917, 33.87763517, 32.81372422,\n",
       "       35.17291028, 34.17446206, 33.4651099 , 34.38565277, 33.57861813,\n",
       "       33.62643574, 34.83044319, 34.54794509, 33.77459682, 33.56410691,\n",
       "       34.91848904, 33.70204295, 33.03757734, 34.64927651, 34.97041519,\n",
       "       34.34302694, 35.98762391, 34.45761789, 33.98600841, 31.5728461 ,\n",
       "       32.58829201, 34.58002038, 32.32393916, 33.55673945, 33.79763585,\n",
       "       33.89002959, 34.36682452, 34.87658598, 32.61462025, 35.54224231,\n",
       "       34.40528558, 35.31617324, 35.02059875, 33.09623933, 33.14657035,\n",
       "       33.16633834, 35.03474642, 33.79630957, 33.21730204, 35.46658052,\n",
       "       33.64373051, 34.89443931, 33.35601467, 33.73773133, 34.66614759,\n",
       "       34.10478787, 33.78042264, 32.64325255, 33.93480961, 33.88109893,\n",
       "       33.25244139, 34.45945422, 34.28193491, 32.83887826, 34.81382882,\n",
       "       33.47717086, 35.2897249 , 34.39863192, 33.91987765, 33.4087622 ,\n",
       "       34.13147263, 34.42970244, 34.27999047, 34.1313814 , 32.47511907,\n",
       "       33.96217367, 34.02243413, 34.1317395 , 32.89308996, 34.31018147,\n",
       "       33.93401015, 34.00544183, 34.4302098 , 32.2832954 , 34.35081793,\n",
       "       34.37306988, 34.04146291, 35.03267463, 33.00644092, 34.32323219,\n",
       "       35.39488853, 34.30027217, 34.4600536 , 33.98168541, 34.0812787 ,\n",
       "       34.93479147, 35.41879129, 33.84983863, 33.59244966, 34.63809554,\n",
       "       34.45920829, 33.75348405, 34.53625815, 34.68032347, 33.04127984,\n",
       "       33.33446691, 34.25059284, 34.68242634, 33.93952534, 35.42698711,\n",
       "       34.09139149, 33.92852338, 33.5404095 , 34.61936157, 33.97990537,\n",
       "       33.81569897, 34.58458831, 34.37257396, 34.28289254, 34.0925631 ,\n",
       "       35.34576259, 32.95050222, 34.86437593, 33.94409474, 33.95510988,\n",
       "       34.12170061, 33.8828294 , 34.35191097, 34.33022386, 34.56957489,\n",
       "       34.86856625, 34.84000758, 35.57100609, 34.70833777, 35.08609594,\n",
       "       35.58626679, 34.43268075, 34.06344227, 34.36942189, 34.02773493,\n",
       "       34.30783896, 32.98921454, 34.73835862, 34.15283651, 34.85832285,\n",
       "       33.8511158 , 35.25220601, 33.52590229, 34.44953472, 34.46380927,\n",
       "       34.39518002, 35.34116339, 33.58379337, 33.78695772, 34.22464385,\n",
       "       33.73629472, 34.72059021, 34.58165161, 34.7987138 , 34.0423115 ,\n",
       "       34.41247744, 34.72770645, 33.91923506, 33.5714646 , 33.25633925,\n",
       "       34.79062309, 35.03088537, 35.37443143, 35.11577978, 34.17326716,\n",
       "       34.51795878, 34.63782981, 35.17428557, 34.91704737, 34.55985006,\n",
       "       34.17292709, 34.309106  , 34.27367713, 33.14159885, 35.25642978,\n",
       "       34.02306557, 33.36316108, 34.64643523, 33.87081334, 33.73115286,\n",
       "       33.25087263, 33.36137087, 34.26431084, 34.42853344, 33.8268044 ,\n",
       "       32.2000878 , 34.3145158 , 34.18479625, 34.09382036, 34.31877147,\n",
       "       34.4087446 , 32.96177761, 34.22022982, 33.54880699, 34.28294436,\n",
       "       33.86028034, 34.81058955, 33.81734535, 34.11452306, 33.79271541,\n",
       "       34.37899318, 33.51466162, 34.4553518 , 33.87581781, 34.57034319,\n",
       "       34.15776672, 34.70004324, 35.09623226, 33.98981577, 33.69905804,\n",
       "       33.90014225, 34.94988651, 34.42198144, 34.8974603 , 33.43332551,\n",
       "       34.46085525, 33.43680202, 34.5136436 , 35.19606905, 33.65249714,\n",
       "       34.59353168, 34.78454752, 33.98648395, 34.25549886, 33.97690082,\n",
       "       32.85522075, 34.07702061, 33.29003022, 34.65584266, 33.9579382 ,\n",
       "       33.37512183, 34.56675119, 34.90732131, 34.83891625, 33.69569827,\n",
       "       34.74928108, 33.40147863, 33.18147504, 34.40859081, 34.21092638,\n",
       "       33.48969577, 34.67705967, 34.02554002, 34.88551873, 34.72169327,\n",
       "       35.16750504, 33.50625901, 34.63552251, 36.64751024, 33.57339145,\n",
       "       35.22133296, 35.18001369, 35.00601548, 34.16909548, 34.64012057,\n",
       "       33.59236207, 32.43263728, 34.05066695, 34.13350083, 34.05162071,\n",
       "       33.85487879, 35.18849843, 35.19962155, 34.39400155, 34.79859614,\n",
       "       35.03415277, 34.30616293, 34.93256463, 34.17400157, 33.88118758,\n",
       "       34.54075886, 33.34922289, 34.40664191, 34.38447278, 33.61693734,\n",
       "       34.90626221, 33.53668471, 33.97860678, 34.82739674, 33.86887072,\n",
       "       34.0985336 , 33.72071126, 34.64314885, 34.60955329, 33.50950633,\n",
       "       34.98867993, 34.73969144, 33.98036201, 35.28814876, 34.76008726,\n",
       "       34.17039408, 33.7523847 , 33.57749907, 33.59752783, 33.96852201,\n",
       "       33.88460017, 32.18525055, 36.74657236, 33.69542502, 32.92329311,\n",
       "       34.51355831, 33.78102645, 35.04215182, 33.93120289, 35.72892624,\n",
       "       33.96333933, 35.79713711, 34.06491731, 33.42858597, 34.71603198,\n",
       "       34.25385623, 33.45346345, 34.10534359, 33.97505319, 34.51893667,\n",
       "       33.01935035, 35.01705935, 34.23021335, 35.14574018, 34.8543931 ,\n",
       "       34.54102428, 33.74245004, 33.11890834, 35.22211212, 36.20109191,\n",
       "       34.86593167, 34.47595999, 34.72461227, 34.04731995, 35.10104989,\n",
       "       34.73525722, 34.03258392, 33.99127074, 33.45880083, 34.3585977 ,\n",
       "       33.05758516, 34.35545861, 34.93098672, 33.44936229, 33.96893791,\n",
       "       34.05280082, 35.2362597 , 34.41001798, 34.53178654, 34.02343291,\n",
       "       33.89422283, 33.98693432, 33.06979892, 35.00096527, 34.58976951,\n",
       "       33.28556603, 33.79733438, 34.4883135 , 34.56376169, 34.07152496,\n",
       "       33.13654083, 34.21679255, 34.32862533, 35.7707694 , 34.06026527,\n",
       "       33.35038497, 34.29572653, 34.31316613, 33.44217761, 35.16014605,\n",
       "       34.16813209, 33.73488713, 34.95964268, 34.82553926, 34.65918908,\n",
       "       35.50375596, 33.36190023, 34.46935978, 34.6936509 , 34.45052912,\n",
       "       34.51512327, 33.42130668, 34.99391417, 34.28872221, 34.58275986,\n",
       "       34.59527259, 33.34869535, 32.77949622, 33.7144104 , 34.3438581 ,\n",
       "       35.16654452, 33.06369122, 33.41308095, 35.81314953, 34.29596584,\n",
       "       35.08431985, 34.70014163, 34.43732997, 33.33392833, 33.89428504,\n",
       "       34.45618967, 33.52846579, 33.56954819, 33.63210827, 32.71574401,\n",
       "       35.04072388, 33.98069461, 34.3907787 , 34.65993892, 34.3638832 ,\n",
       "       34.60885187, 35.32703297, 33.79623522, 33.46429914, 35.96384826,\n",
       "       34.75365422, 33.35721644, 34.72679197, 33.20128286, 34.22283768,\n",
       "       34.62128964, 33.73792187, 32.9323195 , 34.36071625, 33.99236875,\n",
       "       34.44691254, 34.68996416, 33.83210274, 33.81300684, 34.98332987,\n",
       "       33.54458213, 34.18240006, 35.58859286, 33.90739657, 32.88786157,\n",
       "       34.24585571, 33.83629256, 34.25323358, 34.47507122, 34.67385123,\n",
       "       35.05376142, 34.93665875, 33.94167366, 34.93784396, 33.88940811,\n",
       "       33.87251358, 34.70858224, 35.08925494, 33.98748949, 34.8515932 ,\n",
       "       34.86954583, 33.42299088, 34.33105404, 33.35648832, 34.49125099,\n",
       "       34.83882469, 33.38591213, 35.09247776, 35.15526198, 33.70530346,\n",
       "       33.09201749, 34.55378133, 33.67409481, 34.28188908, 36.48878378,\n",
       "       34.05336455, 33.14473872, 32.57101664, 35.54377162, 33.94043994,\n",
       "       36.25668869, 35.06202568, 34.16860088, 33.8532408 , 32.89628314,\n",
       "       35.11827216, 34.24954687, 34.66660218, 33.97599605, 33.35635999,\n",
       "       34.59148996, 34.19013741, 33.75501333, 34.90240842, 34.51648435,\n",
       "       34.63471944, 34.44513024, 35.38664765, 34.83365995, 32.74329238,\n",
       "       34.87722311, 33.6162173 , 34.23788129, 35.41031301, 35.41387291,\n",
       "       33.11839099, 35.07828528, 33.46035141, 35.28672476, 34.64718065,\n",
       "       34.71670874, 33.91870385, 35.20696892, 33.62912138, 35.19714174,\n",
       "       34.4083781 , 34.81484571, 33.66299584, 34.40508885, 35.42187642,\n",
       "       32.81990885, 34.7107099 , 34.21759489, 34.25910198, 33.49853858,\n",
       "       33.53581131, 34.11336461, 32.83615808, 33.70678977, 33.97783778,\n",
       "       34.5452253 , 34.77031275, 34.74538829, 33.76782933, 35.28271161,\n",
       "       34.35981476, 34.16597967, 33.82663777, 33.60035999, 34.47731977,\n",
       "       34.23946882, 34.59900282, 33.90134405, 33.86494792, 33.9727662 ,\n",
       "       34.50856788, 34.50152443, 34.68882492, 35.13721856, 32.26097958,\n",
       "       34.16587563, 32.27396904, 34.17483982, 34.52306592, 33.85073522,\n",
       "       34.41389685, 34.9710287 , 34.57311775, 33.96866476, 34.10333489,\n",
       "       34.91940412, 34.19565837, 34.62297053, 34.57728036, 34.13569894,\n",
       "       34.05069332, 33.54703107, 33.49377748, 33.9501406 , 35.3825258 ,\n",
       "       32.95441545, 34.06057749, 33.81088167, 34.42783103, 33.34100929,\n",
       "       34.3112701 , 34.11317408, 33.67484242, 33.25824911, 33.63482416,\n",
       "       35.26110717, 33.95867668, 34.00656264, 34.16523258, 34.47950689,\n",
       "       35.75462114, 34.8532226 , 33.97001678, 32.89882593, 32.74073434,\n",
       "       34.43682447, 33.10151892, 34.77677134, 33.69533367, 34.6382794 ,\n",
       "       31.84870546, 33.38465952, 35.23272979, 34.28089705, 33.43748652,\n",
       "       33.36017225, 33.53450875, 34.10789002, 32.94587196, 35.53172256,\n",
       "       33.03084251, 33.80578022, 34.76056117, 34.95460647, 34.46043565,\n",
       "       34.233087  , 33.86912591, 33.75982471, 34.24255675, 33.67927111,\n",
       "       34.37745693, 33.26293182, 34.62347931, 33.60407942, 33.14459382,\n",
       "       33.72197866, 34.40115589, 33.5658312 , 35.04772441, 33.62309392,\n",
       "       34.91027233, 34.32627424, 35.24347485, 35.32334727, 34.77234164,\n",
       "       33.82602978, 33.45640958, 34.53525589, 35.11940756, 34.08840367,\n",
       "       33.83305801, 33.5494396 , 34.00931147, 35.03099919, 35.03533107,\n",
       "       33.08460002, 34.96493878, 33.57725259, 32.78232895, 34.63437202,\n",
       "       34.05200961, 34.65696067, 34.21105247, 35.85216995, 34.83159256,\n",
       "       34.81850751, 34.39388833, 33.93404634, 32.64435356, 33.64746886,\n",
       "       35.06579025, 34.05434838, 36.01701101, 35.99814983, 34.26454174,\n",
       "       34.22685722, 33.69749811, 34.17155677, 34.02399189, 34.80325858,\n",
       "       33.89378053, 34.73365798, 33.26425954, 35.01131551, 35.16160395,\n",
       "       34.73561008, 34.46621445, 34.01649407, 33.73745063, 33.52104721,\n",
       "       34.32403258, 34.71398008, 33.82869422, 33.90416455, 35.61935075,\n",
       "       33.84858672, 34.68564599, 35.16780123, 34.18793044, 32.63406015,\n",
       "       34.47577745, 33.33424653, 33.48387071, 34.15128098, 33.51273365,\n",
       "       33.84790846, 34.69274804, 35.11829374, 33.09474108, 34.05628239,\n",
       "       34.65265916, 34.65360231, 35.24156744, 34.27439508, 34.45689221,\n",
       "       34.60480402, 34.89973331, 34.5437532 , 33.59745368, 35.07546169,\n",
       "       32.50156045, 34.04642906, 34.71374926, 35.69939572, 32.59439098,\n",
       "       35.17395486, 33.91420217, 34.45742538, 34.34140798, 34.00268396,\n",
       "       35.07545399, 33.1335294 , 34.16760468, 34.96883891, 34.64543209,\n",
       "       34.10433715, 34.5561553 , 35.39086394, 34.20524731, 35.60653312,\n",
       "       32.46166901, 33.5612273 , 33.87813582, 34.05687726, 34.7238711 ,\n",
       "       34.44700418, 34.47533367, 34.94625678, 34.49432236, 35.13871322,\n",
       "       36.4494821 , 34.46891548, 34.38530874, 31.99407977, 33.8472793 ,\n",
       "       34.45538559, 33.73307422, 34.70499476, 35.52667671, 35.45082294,\n",
       "       33.11761813, 32.31515832, 34.00546539, 34.49330681, 36.03560694,\n",
       "       34.3641909 , 34.23051964, 34.0783404 , 33.83687217, 34.53054459,\n",
       "       33.94581964, 35.38114164, 34.75664362, 35.07165768, 34.07545409,\n",
       "       33.81930497, 34.14965596, 33.56653376, 33.24955939, 33.75281375,\n",
       "       33.73349012, 34.57653598, 34.21561123, 35.39952499, 33.99952193,\n",
       "       34.68189996, 34.67154481, 35.95916918, 34.37177899, 34.55869632,\n",
       "       33.78453638, 34.55665439, 32.79195645, 35.37296959, 33.57006628,\n",
       "       34.31798419, 35.04378202, 34.55321372, 33.1287966 , 32.97710773,\n",
       "       33.87314501, 34.09219683, 34.76302228, 33.85992734, 34.71444722,\n",
       "       34.54997414, 33.6927851 , 34.40490602, 33.56200777, 34.55971876,\n",
       "       34.4335304 , 33.90570528, 35.16201647, 33.62708602, 34.28066194,\n",
       "       33.71367246, 33.99203655, 34.27925614, 33.64956268, 35.62755557,\n",
       "       33.81058201, 33.73595077, 33.52596966, 35.47225279, 34.83567267,\n",
       "       35.49567781, 35.14302424, 34.35032566, 33.72238703, 34.94465633,\n",
       "       34.29320098, 33.15407394, 34.87159741, 33.22209456, 34.81490552,\n",
       "       36.25100095, 34.11329581, 34.67207508, 35.34628387, 33.65723783,\n",
       "       35.13221965, 34.72961946, 34.39391233, 34.17473181, 34.37273225,\n",
       "       33.43625557, 34.22474938, 34.09279012, 35.05634079, 33.04853331,\n",
       "       35.2562229 , 34.27769233, 33.46245387, 33.75760161, 33.41522132,\n",
       "       34.49196347, 34.08705955, 35.06225335, 33.23676293, 33.21981089,\n",
       "       34.51619174, 34.80227817, 34.65168261, 33.70899306, 33.94742599,\n",
       "       34.05600452, 34.23101679, 33.90922315, 35.16909228, 34.37502935,\n",
       "       34.43533693, 34.73561542, 34.65389234, 33.59527178, 33.7319366 ,\n",
       "       32.94393195, 34.30047838, 33.08380367, 34.07398598, 35.0380243 ,\n",
       "       34.00539639, 33.21756448, 34.10085336, 34.96232289, 32.12188842,\n",
       "       33.97790915, 33.73200961, 34.69497763, 33.29454633, 34.38909184,\n",
       "       34.20961712, 34.11935492, 34.99376209, 33.84229081, 34.78762813,\n",
       "       33.95115226, 35.76943124, 34.51244506, 33.6451445 , 33.53112175,\n",
       "       34.17385849, 35.07510562, 34.66607635, 34.26663965, 34.18514419,\n",
       "       34.57364052, 35.42526989, 34.82645886, 33.9382686 , 34.10471302,\n",
       "       33.5455925 , 33.58440834, 34.66921238, 33.93728419, 34.65022462,\n",
       "       34.68958796, 34.8451147 , 33.86675707, 35.25414134, 33.33802975,\n",
       "       35.5535059 , 33.19756336, 34.36646129, 33.2037623 , 34.38397234,\n",
       "       34.2758174 , 33.9392452 , 34.00597442, 34.71474982, 33.68271434,\n",
       "       34.28126754, 34.02964768, 34.28074924, 34.32844529, 34.77446775,\n",
       "       34.38497309, 33.11874386, 33.69160999, 33.88994688, 34.17165649,\n",
       "       34.31660834, 34.551945  , 35.40970842, 34.70564586, 33.8166771 ,\n",
       "       34.83955772, 33.73778455, 33.95056924, 36.15932703, 35.09386074,\n",
       "       34.58943928, 32.94160905, 33.64498517, 34.533542  , 33.69596111,\n",
       "       34.09609011, 34.31858617, 33.75146959, 34.69084652, 33.82380456,\n",
       "       35.07759884, 34.80296279, 33.71749566, 34.11246707, 34.27318894,\n",
       "       36.19356019, 34.00973381, 33.87793198, 33.77526171, 33.84254857,\n",
       "       34.93809645, 34.62885162, 35.12244336, 34.72176759, 34.26065427,\n",
       "       33.83786128, 34.5584818 , 33.64093572, 34.2620738 , 33.82348178,\n",
       "       34.63074224, 33.75736997, 34.32142717, 33.85405357, 32.82397993,\n",
       "       34.90984954, 34.76765682, 32.73849791, 33.87545999, 34.26820022,\n",
       "       35.48999807, 34.67681512, 32.78085758, 33.58849416, 34.06907596])"
      ]
     },
     "execution_count": 28,
     "metadata": {},
     "output_type": "execute_result"
    }
   ],
   "source": [
    "intercepts"
   ]
  },
  {
   "cell_type": "code",
   "execution_count": 29,
   "id": "fc717ddf",
   "metadata": {},
   "outputs": [
    {
     "data": {
      "text/html": [
       "<div>\n",
       "<style scoped>\n",
       "    .dataframe tbody tr th:only-of-type {\n",
       "        vertical-align: middle;\n",
       "    }\n",
       "\n",
       "    .dataframe tbody tr th {\n",
       "        vertical-align: top;\n",
       "    }\n",
       "\n",
       "    .dataframe thead th {\n",
       "        text-align: right;\n",
       "    }\n",
       "</style>\n",
       "<table border=\"1\" class=\"dataframe\">\n",
       "  <thead>\n",
       "    <tr style=\"text-align: right;\">\n",
       "      <th></th>\n",
       "      <th>coef</th>\n",
       "      <th>intercept</th>\n",
       "    </tr>\n",
       "  </thead>\n",
       "  <tbody>\n",
       "    <tr>\n",
       "      <th>0</th>\n",
       "      <td>-0.059432</td>\n",
       "      <td>33.745048</td>\n",
       "    </tr>\n",
       "    <tr>\n",
       "      <th>1</th>\n",
       "      <td>-0.067130</td>\n",
       "      <td>36.059232</td>\n",
       "    </tr>\n",
       "    <tr>\n",
       "      <th>2</th>\n",
       "      <td>-0.062375</td>\n",
       "      <td>35.367600</td>\n",
       "    </tr>\n",
       "    <tr>\n",
       "      <th>3</th>\n",
       "      <td>-0.063438</td>\n",
       "      <td>34.737849</td>\n",
       "    </tr>\n",
       "    <tr>\n",
       "      <th>4</th>\n",
       "      <td>-0.055762</td>\n",
       "      <td>34.702647</td>\n",
       "    </tr>\n",
       "  </tbody>\n",
       "</table>\n",
       "</div>"
      ],
      "text/plain": [
       "       coef  intercept\n",
       "0 -0.059432  33.745048\n",
       "1 -0.067130  36.059232\n",
       "2 -0.062375  35.367600\n",
       "3 -0.063438  34.737849\n",
       "4 -0.055762  34.702647"
      ]
     },
     "execution_count": 29,
     "metadata": {},
     "output_type": "execute_result"
    }
   ],
   "source": [
    "betas_dicc = {'coef':coefs, 'intercept':intercepts}\n",
    "betas = pd.DataFrame(betas_dicc)\n",
    "\n",
    "betas.head()"
   ]
  },
  {
   "cell_type": "code",
   "execution_count": 30,
   "id": "117f2570",
   "metadata": {},
   "outputs": [],
   "source": [
    "def get_standar_error_betas(data_frame, beta, n):\n",
    "    media_betas=np.mean(data_frame[beta])\n",
    "    \n",
    "    num= np.sum((data_frame[beta]-media_betas)**2)\n",
    "    denom = n-1\n",
    "    \n",
    "    se_betas = np.sqrt(num/denom)\n",
    "\n",
    "    return media_betas/se_betas"
   ]
  },
  {
   "cell_type": "code",
   "execution_count": 31,
   "id": "0368a447",
   "metadata": {},
   "outputs": [],
   "source": [
    "err_coefs = get_standar_error_betas(betas, 'coef', n)\n",
    "err_intercepts = get_standar_error_betas(betas, 'intercept', n)"
   ]
  },
  {
   "cell_type": "code",
   "execution_count": 32,
   "id": "27e9e2b3",
   "metadata": {},
   "outputs": [
    {
     "name": "stdout",
     "output_type": "stream",
     "text": [
      "Los errores son: -14.207661969333529, 46.25149152887066\n"
     ]
    }
   ],
   "source": [
    "print(f\"Los errores son: {err_coefs}, {err_intercepts}\")"
   ]
  },
  {
   "cell_type": "code",
   "execution_count": 33,
   "id": "0d45fdff",
   "metadata": {},
   "outputs": [
    {
     "data": {
      "image/png": "[encoded data removed]",
      "text/plain": [
       "<Figure size 576x360 with 1 Axes>"
      ]
     },
     "metadata": {},
     "output_type": "display_data"
    }
   ],
   "source": [
    "generate_hist(betas['coef'])"
   ]
  },
  {
   "cell_type": "code",
   "execution_count": 34,
   "id": "c57cef25",
   "metadata": {},
   "outputs": [
    {
     "data": {
      "image/png": "[encoded data removed]",
      "text/plain": [
       "<Figure size 576x360 with 1 Axes>"
      ]
     },
     "metadata": {},
     "output_type": "display_data"
    }
   ],
   "source": [
    "generate_hist(betas['intercept'])"
   ]
  },
  {
   "cell_type": "code",
   "execution_count": null,
   "id": "7ac4a2d1",
   "metadata": {},
   "outputs": [],
   "source": []
  }
 ],
 "metadata": {
  "kernelspec": {
   "display_name": "Python 3",
   "language": "python",
   "name": "python3"
  },
  "language_info": {
   "codemirror_mode": {
    "name": "ipython",
    "version": 3
   },
   "file_extension": ".py",
   "mimetype": "text/x-python",
   "name": "python",
   "nbconvert_exporter": "python",
   "pygments_lexer": "ipython3",
   "version": "3.8.10"
  }
 },
 "nbformat": 4,
 "nbformat_minor": 5
}
