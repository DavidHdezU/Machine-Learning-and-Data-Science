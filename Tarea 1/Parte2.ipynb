{
 "cells": [
  {
   "cell_type": "code",
   "execution_count": 1,
   "metadata": {},
   "outputs": [],
   "source": [
    "import numpy as np\n",
    "import pandas as pd\n",
    "from scipy.stats import spearmanr\n",
    "import seaborn as sns\n",
    "import matplotlib.pyplot as plt\n",
    "from pylab import*\n",
    "import numpy as np\n",
    "import scipy.stats \n",
    "from scipy.special import gamma\n",
    "import seaborn as sns\n",
    "from scipy.stats import beta\n",
    "%matplotlib inline\n",
    "sns.set(style=\"whitegrid\")"
   ]
  },
  {
   "cell_type": "code",
   "execution_count": 2,
   "metadata": {},
   "outputs": [
    {
     "data": {
      "text/html": [
       "<div>\n",
       "<style scoped>\n",
       "    .dataframe tbody tr th:only-of-type {\n",
       "        vertical-align: middle;\n",
       "    }\n",
       "\n",
       "    .dataframe tbody tr th {\n",
       "        vertical-align: top;\n",
       "    }\n",
       "\n",
       "    .dataframe thead th {\n",
       "        text-align: right;\n",
       "    }\n",
       "</style>\n",
       "<table border=\"1\" class=\"dataframe\">\n",
       "  <thead>\n",
       "    <tr style=\"text-align: right;\">\n",
       "      <th></th>\n",
       "      <th>escuela</th>\n",
       "      <th>LSAT</th>\n",
       "      <th>GPA</th>\n",
       "    </tr>\n",
       "  </thead>\n",
       "  <tbody>\n",
       "    <tr>\n",
       "      <th>0</th>\n",
       "      <td>1</td>\n",
       "      <td>622</td>\n",
       "      <td>3.23</td>\n",
       "    </tr>\n",
       "    <tr>\n",
       "      <th>1</th>\n",
       "      <td>2</td>\n",
       "      <td>542</td>\n",
       "      <td>2.83</td>\n",
       "    </tr>\n",
       "    <tr>\n",
       "      <th>2</th>\n",
       "      <td>3</td>\n",
       "      <td>579</td>\n",
       "      <td>3.24</td>\n",
       "    </tr>\n",
       "    <tr>\n",
       "      <th>3</th>\n",
       "      <td>4</td>\n",
       "      <td>653</td>\n",
       "      <td>3.12</td>\n",
       "    </tr>\n",
       "    <tr>\n",
       "      <th>4</th>\n",
       "      <td>5</td>\n",
       "      <td>606</td>\n",
       "      <td>3.09</td>\n",
       "    </tr>\n",
       "  </tbody>\n",
       "</table>\n",
       "</div>"
      ],
      "text/plain": [
       "   escuela  LSAT   GPA\n",
       "0        1   622  3.23\n",
       "1        2   542  2.83\n",
       "2        3   579  3.24\n",
       "3        4   653  3.12\n",
       "4        5   606  3.09"
      ]
     },
     "execution_count": 2,
     "metadata": {},
     "output_type": "execute_result"
    }
   ],
   "source": [
    "data_schools_df = pd.read_excel(\"data_bases/data_schools.xlsx\")\n",
    "data_schools_df.head()"
   ]
  },
  {
   "cell_type": "code",
   "execution_count": 3,
   "metadata": {},
   "outputs": [
    {
     "name": "stdout",
     "output_type": "stream",
     "text": [
      "<class 'pandas.core.frame.DataFrame'>\n",
      "RangeIndex: 82 entries, 0 to 81\n",
      "Data columns (total 3 columns):\n",
      " #   Column   Non-Null Count  Dtype  \n",
      "---  ------   --------------  -----  \n",
      " 0   escuela  82 non-null     int64  \n",
      " 1   LSAT     82 non-null     int64  \n",
      " 2   GPA      82 non-null     float64\n",
      "dtypes: float64(1), int64(2)\n",
      "memory usage: 2.0 KB\n"
     ]
    }
   ],
   "source": [
    "data_schools_df.info()"
   ]
  },
  {
   "cell_type": "markdown",
   "metadata": {},
   "source": [
    "### Tenemos 82 escuelas"
   ]
  },
  {
   "cell_type": "code",
   "execution_count": 4,
   "metadata": {},
   "outputs": [
    {
     "name": "stdout",
     "output_type": "stream",
     "text": [
      "La media para LSAT es : 597.5487804878048\n"
     ]
    }
   ],
   "source": [
    "print(f\"La media para LSAT es : {data_schools_df['LSAT'].mean()}\")"
   ]
  },
  {
   "cell_type": "code",
   "execution_count": 5,
   "metadata": {},
   "outputs": [
    {
     "name": "stdout",
     "output_type": "stream",
     "text": [
      "La media para GPA es : 3.1348780487804877\n"
     ]
    }
   ],
   "source": [
    "print(f\"La media para GPA es : {data_schools_df['GPA'].mean()}\")"
   ]
  },
  {
   "cell_type": "code",
   "execution_count": 6,
   "metadata": {},
   "outputs": [],
   "source": [
    "# Primero crearemos una función para generar muestras boostrap de tamaño n\n",
    "\n",
    "def create_sample(n, m, data_frame):\n",
    "    sample = []\n",
    "    for i in range(n):\n",
    "        si = data_frame.sample(n=m, replace=True)\n",
    "        spearmanr_si = spearmanr(si.LSAT, si.GPA)[0]\n",
    "        \n",
    "        sample.append(spearmanr_si)\n",
    "        \n",
    "    return sample"
   ]
  },
  {
   "cell_type": "code",
   "execution_count": 7,
   "metadata": {},
   "outputs": [
    {
     "name": "stdout",
     "output_type": "stream",
     "text": [
      "El error estandar para la muestra 1 es: 0.12476619702950792\n"
     ]
    },
    {
     "data": {
      "image/png": "[encoded data removed]",
      "text/plain": [
       "<Figure size 576x360 with 1 Axes>"
      ]
     },
     "metadata": {},
     "output_type": "display_data"
    }
   ],
   "source": [
    "# Crearemos primero una muestra de tamaño n\n",
    "n = 2000\n",
    "m = 20\n",
    "sample_1 = create_sample(n, m, data_schools_df)\n",
    "\n",
    "fig, ax=subplots(figsize=(8,5))\n",
    "sns.histplot(sample_1)\n",
    "ax.xaxis.set_tick_params(labelsize=18,labelcolor=\"black\")\n",
    "ax.yaxis.set_tick_params(labelsize=18,labelcolor=\"black\")\n",
    "axvline(np.mean(sample_1),linestyle=\"--\",color=\"black\",linewidth=2.5,alpha=0.6,\n",
    "        label=\"3.81\")\n",
    "\n",
    "err_std_sample_1 = np.std(sample_1)\n",
    "\n",
    "print(f\"El error estandar para la muestra 1 es: {err_std_sample_1}\")"
   ]
  },
  {
   "cell_type": "code",
   "execution_count": 8,
   "metadata": {},
   "outputs": [
    {
     "name": "stdout",
     "output_type": "stream",
     "text": [
      "El error estandar para la muestra 1 es: 0.12579130608189404\n"
     ]
    },
    {
     "data": {
      "image/png": "[encoded data removed]",
      "text/plain": [
       "<Figure size 576x360 with 1 Axes>"
      ]
     },
     "metadata": {},
     "output_type": "display_data"
    }
   ],
   "source": [
    "n = 5000\n",
    "m = 20\n",
    "sample_1 = create_sample(n, m, data_schools_df)\n",
    "\n",
    "fig, ax=subplots(figsize=(8,5))\n",
    "sns.histplot(sample_1)\n",
    "ax.xaxis.set_tick_params(labelsize=18,labelcolor=\"black\")\n",
    "ax.yaxis.set_tick_params(labelsize=18,labelcolor=\"black\")\n",
    "axvline(np.mean(sample_1),linestyle=\"--\",color=\"black\",linewidth=2.5,alpha=0.6,\n",
    "        label=\"3.81\")\n",
    "\n",
    "err_std_sample_1 = np.std(sample_1)\n",
    "\n",
    "print(f\"El error estandar para la muestra 1 es: {err_std_sample_1}\")"
   ]
  },
  {
   "cell_type": "markdown",
   "metadata": {},
   "source": [
    "$\\textit{Se puede apreciar un comportamiento casi normal, pero ahora hagamos lo siguiente}$"
   ]
  },
  {
   "cell_type": "markdown",
   "metadata": {},
   "source": [
    "$\\textbf{Se generarán aleatoriamente N muestras bootstrap con remplazo para apreciar diferentes medias}$"
   ]
  },
  {
   "cell_type": "code",
   "execution_count": 9,
   "metadata": {},
   "outputs": [],
   "source": [
    "# Primero haremos una función para crear un histrograma\n",
    "\n",
    "def generate_hist(data):\n",
    "    fig, ax=subplots(figsize=(8,5))\n",
    "    sns.histplot(data)\n",
    "    ax.xaxis.set_tick_params(labelsize=18,labelcolor=\"black\")\n",
    "    ax.yaxis.set_tick_params(labelsize=18,labelcolor=\"black\")\n",
    "    axvline(np.mean(data),linestyle=\"--\",color=\"black\",linewidth=2.5,alpha=0.6,\n",
    "            label=\"3.81\")"
   ]
  },
  {
   "cell_type": "code",
   "execution_count": 10,
   "metadata": {},
   "outputs": [],
   "source": [
    "# Crearemos una función para obtener un nuevo DF de las muestras boostrap y hacer merge con la base original\n",
    "def generate_boostrap_samples(k, m, data_frame):\n",
    "    for i in range(k):\n",
    "        new_sample = data_frame.sample(n=m)[[\"escuela\"]]\n",
    "        new_sample['muestra' + str(i+1)] = 1\n",
    "        data_frame = pd.merge(data_frame, new_sample, how=\"left\", on=[\"escuela\"])\n",
    "    \n",
    "    data_frame = data_frame.fillna(0)\n",
    "    return data_frame\n"
   ]
  },
  {
   "cell_type": "code",
   "execution_count": 11,
   "metadata": {},
   "outputs": [],
   "source": [
    "data_schools_df1 = data_schools_df.copy() # Para no perder la original\n",
    "\n",
    "data_schools_df1 = generate_boostrap_samples(20, 10, data_schools_df1) # Usamos primero 10 escuelas"
   ]
  },
  {
   "cell_type": "code",
   "execution_count": 12,
   "metadata": {},
   "outputs": [
    {
     "data": {
      "text/html": [
       "<div>\n",
       "<style scoped>\n",
       "    .dataframe tbody tr th:only-of-type {\n",
       "        vertical-align: middle;\n",
       "    }\n",
       "\n",
       "    .dataframe tbody tr th {\n",
       "        vertical-align: top;\n",
       "    }\n",
       "\n",
       "    .dataframe thead th {\n",
       "        text-align: right;\n",
       "    }\n",
       "</style>\n",
       "<table border=\"1\" class=\"dataframe\">\n",
       "  <thead>\n",
       "    <tr style=\"text-align: right;\">\n",
       "      <th></th>\n",
       "      <th>escuela</th>\n",
       "      <th>LSAT</th>\n",
       "      <th>GPA</th>\n",
       "      <th>muestra1</th>\n",
       "      <th>muestra2</th>\n",
       "      <th>muestra3</th>\n",
       "      <th>muestra4</th>\n",
       "      <th>muestra5</th>\n",
       "      <th>muestra6</th>\n",
       "      <th>muestra7</th>\n",
       "      <th>...</th>\n",
       "      <th>muestra11</th>\n",
       "      <th>muestra12</th>\n",
       "      <th>muestra13</th>\n",
       "      <th>muestra14</th>\n",
       "      <th>muestra15</th>\n",
       "      <th>muestra16</th>\n",
       "      <th>muestra17</th>\n",
       "      <th>muestra18</th>\n",
       "      <th>muestra19</th>\n",
       "      <th>muestra20</th>\n",
       "    </tr>\n",
       "  </thead>\n",
       "  <tbody>\n",
       "    <tr>\n",
       "      <th>0</th>\n",
       "      <td>1</td>\n",
       "      <td>622</td>\n",
       "      <td>3.23</td>\n",
       "      <td>0.0</td>\n",
       "      <td>0.0</td>\n",
       "      <td>0.0</td>\n",
       "      <td>0.0</td>\n",
       "      <td>0.0</td>\n",
       "      <td>0.0</td>\n",
       "      <td>0.0</td>\n",
       "      <td>...</td>\n",
       "      <td>0.0</td>\n",
       "      <td>0.0</td>\n",
       "      <td>0.0</td>\n",
       "      <td>0.0</td>\n",
       "      <td>0.0</td>\n",
       "      <td>0.0</td>\n",
       "      <td>0.0</td>\n",
       "      <td>0.0</td>\n",
       "      <td>0.0</td>\n",
       "      <td>0.0</td>\n",
       "    </tr>\n",
       "    <tr>\n",
       "      <th>1</th>\n",
       "      <td>2</td>\n",
       "      <td>542</td>\n",
       "      <td>2.83</td>\n",
       "      <td>0.0</td>\n",
       "      <td>0.0</td>\n",
       "      <td>0.0</td>\n",
       "      <td>0.0</td>\n",
       "      <td>1.0</td>\n",
       "      <td>0.0</td>\n",
       "      <td>0.0</td>\n",
       "      <td>...</td>\n",
       "      <td>0.0</td>\n",
       "      <td>0.0</td>\n",
       "      <td>1.0</td>\n",
       "      <td>0.0</td>\n",
       "      <td>0.0</td>\n",
       "      <td>0.0</td>\n",
       "      <td>0.0</td>\n",
       "      <td>0.0</td>\n",
       "      <td>1.0</td>\n",
       "      <td>0.0</td>\n",
       "    </tr>\n",
       "    <tr>\n",
       "      <th>2</th>\n",
       "      <td>3</td>\n",
       "      <td>579</td>\n",
       "      <td>3.24</td>\n",
       "      <td>0.0</td>\n",
       "      <td>0.0</td>\n",
       "      <td>0.0</td>\n",
       "      <td>0.0</td>\n",
       "      <td>0.0</td>\n",
       "      <td>0.0</td>\n",
       "      <td>0.0</td>\n",
       "      <td>...</td>\n",
       "      <td>0.0</td>\n",
       "      <td>0.0</td>\n",
       "      <td>0.0</td>\n",
       "      <td>0.0</td>\n",
       "      <td>0.0</td>\n",
       "      <td>0.0</td>\n",
       "      <td>0.0</td>\n",
       "      <td>0.0</td>\n",
       "      <td>0.0</td>\n",
       "      <td>0.0</td>\n",
       "    </tr>\n",
       "    <tr>\n",
       "      <th>3</th>\n",
       "      <td>4</td>\n",
       "      <td>653</td>\n",
       "      <td>3.12</td>\n",
       "      <td>0.0</td>\n",
       "      <td>0.0</td>\n",
       "      <td>0.0</td>\n",
       "      <td>0.0</td>\n",
       "      <td>0.0</td>\n",
       "      <td>0.0</td>\n",
       "      <td>0.0</td>\n",
       "      <td>...</td>\n",
       "      <td>0.0</td>\n",
       "      <td>0.0</td>\n",
       "      <td>0.0</td>\n",
       "      <td>0.0</td>\n",
       "      <td>0.0</td>\n",
       "      <td>0.0</td>\n",
       "      <td>0.0</td>\n",
       "      <td>0.0</td>\n",
       "      <td>0.0</td>\n",
       "      <td>0.0</td>\n",
       "    </tr>\n",
       "    <tr>\n",
       "      <th>4</th>\n",
       "      <td>5</td>\n",
       "      <td>606</td>\n",
       "      <td>3.09</td>\n",
       "      <td>0.0</td>\n",
       "      <td>0.0</td>\n",
       "      <td>1.0</td>\n",
       "      <td>1.0</td>\n",
       "      <td>0.0</td>\n",
       "      <td>0.0</td>\n",
       "      <td>0.0</td>\n",
       "      <td>...</td>\n",
       "      <td>0.0</td>\n",
       "      <td>1.0</td>\n",
       "      <td>0.0</td>\n",
       "      <td>0.0</td>\n",
       "      <td>0.0</td>\n",
       "      <td>0.0</td>\n",
       "      <td>1.0</td>\n",
       "      <td>0.0</td>\n",
       "      <td>0.0</td>\n",
       "      <td>0.0</td>\n",
       "    </tr>\n",
       "    <tr>\n",
       "      <th>5</th>\n",
       "      <td>6</td>\n",
       "      <td>576</td>\n",
       "      <td>3.39</td>\n",
       "      <td>1.0</td>\n",
       "      <td>0.0</td>\n",
       "      <td>0.0</td>\n",
       "      <td>0.0</td>\n",
       "      <td>1.0</td>\n",
       "      <td>0.0</td>\n",
       "      <td>0.0</td>\n",
       "      <td>...</td>\n",
       "      <td>1.0</td>\n",
       "      <td>0.0</td>\n",
       "      <td>0.0</td>\n",
       "      <td>0.0</td>\n",
       "      <td>0.0</td>\n",
       "      <td>0.0</td>\n",
       "      <td>0.0</td>\n",
       "      <td>1.0</td>\n",
       "      <td>0.0</td>\n",
       "      <td>0.0</td>\n",
       "    </tr>\n",
       "    <tr>\n",
       "      <th>6</th>\n",
       "      <td>7</td>\n",
       "      <td>620</td>\n",
       "      <td>3.10</td>\n",
       "      <td>0.0</td>\n",
       "      <td>0.0</td>\n",
       "      <td>0.0</td>\n",
       "      <td>0.0</td>\n",
       "      <td>0.0</td>\n",
       "      <td>0.0</td>\n",
       "      <td>0.0</td>\n",
       "      <td>...</td>\n",
       "      <td>0.0</td>\n",
       "      <td>0.0</td>\n",
       "      <td>0.0</td>\n",
       "      <td>0.0</td>\n",
       "      <td>1.0</td>\n",
       "      <td>0.0</td>\n",
       "      <td>0.0</td>\n",
       "      <td>0.0</td>\n",
       "      <td>0.0</td>\n",
       "      <td>1.0</td>\n",
       "    </tr>\n",
       "    <tr>\n",
       "      <th>7</th>\n",
       "      <td>8</td>\n",
       "      <td>615</td>\n",
       "      <td>3.40</td>\n",
       "      <td>0.0</td>\n",
       "      <td>0.0</td>\n",
       "      <td>0.0</td>\n",
       "      <td>0.0</td>\n",
       "      <td>0.0</td>\n",
       "      <td>0.0</td>\n",
       "      <td>0.0</td>\n",
       "      <td>...</td>\n",
       "      <td>0.0</td>\n",
       "      <td>0.0</td>\n",
       "      <td>0.0</td>\n",
       "      <td>0.0</td>\n",
       "      <td>0.0</td>\n",
       "      <td>0.0</td>\n",
       "      <td>0.0</td>\n",
       "      <td>0.0</td>\n",
       "      <td>0.0</td>\n",
       "      <td>0.0</td>\n",
       "    </tr>\n",
       "  </tbody>\n",
       "</table>\n",
       "<p>8 rows × 23 columns</p>\n",
       "</div>"
      ],
      "text/plain": [
       "   escuela  LSAT   GPA  muestra1  muestra2  muestra3  muestra4  muestra5  \\\n",
       "0        1   622  3.23       0.0       0.0       0.0       0.0       0.0   \n",
       "1        2   542  2.83       0.0       0.0       0.0       0.0       1.0   \n",
       "2        3   579  3.24       0.0       0.0       0.0       0.0       0.0   \n",
       "3        4   653  3.12       0.0       0.0       0.0       0.0       0.0   \n",
       "4        5   606  3.09       0.0       0.0       1.0       1.0       0.0   \n",
       "5        6   576  3.39       1.0       0.0       0.0       0.0       1.0   \n",
       "6        7   620  3.10       0.0       0.0       0.0       0.0       0.0   \n",
       "7        8   615  3.40       0.0       0.0       0.0       0.0       0.0   \n",
       "\n",
       "   muestra6  muestra7  ...  muestra11  muestra12  muestra13  muestra14  \\\n",
       "0       0.0       0.0  ...        0.0        0.0        0.0        0.0   \n",
       "1       0.0       0.0  ...        0.0        0.0        1.0        0.0   \n",
       "2       0.0       0.0  ...        0.0        0.0        0.0        0.0   \n",
       "3       0.0       0.0  ...        0.0        0.0        0.0        0.0   \n",
       "4       0.0       0.0  ...        0.0        1.0        0.0        0.0   \n",
       "5       0.0       0.0  ...        1.0        0.0        0.0        0.0   \n",
       "6       0.0       0.0  ...        0.0        0.0        0.0        0.0   \n",
       "7       0.0       0.0  ...        0.0        0.0        0.0        0.0   \n",
       "\n",
       "   muestra15  muestra16  muestra17  muestra18  muestra19  muestra20  \n",
       "0        0.0        0.0        0.0        0.0        0.0        0.0  \n",
       "1        0.0        0.0        0.0        0.0        1.0        0.0  \n",
       "2        0.0        0.0        0.0        0.0        0.0        0.0  \n",
       "3        0.0        0.0        0.0        0.0        0.0        0.0  \n",
       "4        0.0        0.0        1.0        0.0        0.0        0.0  \n",
       "5        0.0        0.0        0.0        1.0        0.0        0.0  \n",
       "6        1.0        0.0        0.0        0.0        0.0        1.0  \n",
       "7        0.0        0.0        0.0        0.0        0.0        0.0  \n",
       "\n",
       "[8 rows x 23 columns]"
      ]
     },
     "execution_count": 12,
     "metadata": {},
     "output_type": "execute_result"
    }
   ],
   "source": [
    "data_schools_df1.head(8)"
   ]
  },
  {
   "cell_type": "code",
   "execution_count": 13,
   "metadata": {},
   "outputs": [],
   "source": [
    "# Veamos la correlación con un histograma\n",
    "\n",
    "def get_list_correlation(data_frame, k):\n",
    "    data = []\n",
    "    for i in range(k):\n",
    "        si = spearmanr(data_frame[data_frame[\"muestra\" + str(i+1)]==1].LSAT, data_frame[data_frame[\"muestra\" + str(i+1)]==1].GPA)[0]        \n",
    "        data.append(si)\n",
    "    return data\n",
    "                    "
   ]
  },
  {
   "cell_type": "code",
   "execution_count": 14,
   "metadata": {},
   "outputs": [
    {
     "data": {
      "image/png": "[encoded data removed]",
      "text/plain": [
       "<Figure size 576x360 with 1 Axes>"
      ]
     },
     "metadata": {},
     "output_type": "display_data"
    }
   ],
   "source": [
    "data_schools_df1_corr_list = get_list_correlation(data_schools_df1, 20)\n",
    "generate_hist(data_schools_df1_corr_list)"
   ]
  },
  {
   "cell_type": "code",
   "execution_count": 15,
   "metadata": {},
   "outputs": [],
   "source": [
    "# Ahora veamos para 9\n",
    "data_schools_df2 = data_schools_df.copy() # Para no perder la original\n",
    "\n",
    "data_schools_df2 = generate_boostrap_samples(20, 9, data_schools_df2)"
   ]
  },
  {
   "cell_type": "code",
   "execution_count": 16,
   "metadata": {},
   "outputs": [
    {
     "data": {
      "text/html": [
       "<div>\n",
       "<style scoped>\n",
       "    .dataframe tbody tr th:only-of-type {\n",
       "        vertical-align: middle;\n",
       "    }\n",
       "\n",
       "    .dataframe tbody tr th {\n",
       "        vertical-align: top;\n",
       "    }\n",
       "\n",
       "    .dataframe thead th {\n",
       "        text-align: right;\n",
       "    }\n",
       "</style>\n",
       "<table border=\"1\" class=\"dataframe\">\n",
       "  <thead>\n",
       "    <tr style=\"text-align: right;\">\n",
       "      <th></th>\n",
       "      <th>escuela</th>\n",
       "      <th>LSAT</th>\n",
       "      <th>GPA</th>\n",
       "      <th>muestra1</th>\n",
       "      <th>muestra2</th>\n",
       "      <th>muestra3</th>\n",
       "      <th>muestra4</th>\n",
       "      <th>muestra5</th>\n",
       "      <th>muestra6</th>\n",
       "      <th>muestra7</th>\n",
       "      <th>...</th>\n",
       "      <th>muestra11</th>\n",
       "      <th>muestra12</th>\n",
       "      <th>muestra13</th>\n",
       "      <th>muestra14</th>\n",
       "      <th>muestra15</th>\n",
       "      <th>muestra16</th>\n",
       "      <th>muestra17</th>\n",
       "      <th>muestra18</th>\n",
       "      <th>muestra19</th>\n",
       "      <th>muestra20</th>\n",
       "    </tr>\n",
       "  </thead>\n",
       "  <tbody>\n",
       "    <tr>\n",
       "      <th>0</th>\n",
       "      <td>1</td>\n",
       "      <td>622</td>\n",
       "      <td>3.23</td>\n",
       "      <td>0.0</td>\n",
       "      <td>0.0</td>\n",
       "      <td>0.0</td>\n",
       "      <td>0.0</td>\n",
       "      <td>0.0</td>\n",
       "      <td>0.0</td>\n",
       "      <td>0.0</td>\n",
       "      <td>...</td>\n",
       "      <td>0.0</td>\n",
       "      <td>0.0</td>\n",
       "      <td>0.0</td>\n",
       "      <td>0.0</td>\n",
       "      <td>0.0</td>\n",
       "      <td>0.0</td>\n",
       "      <td>0.0</td>\n",
       "      <td>0.0</td>\n",
       "      <td>0.0</td>\n",
       "      <td>0.0</td>\n",
       "    </tr>\n",
       "    <tr>\n",
       "      <th>1</th>\n",
       "      <td>2</td>\n",
       "      <td>542</td>\n",
       "      <td>2.83</td>\n",
       "      <td>0.0</td>\n",
       "      <td>0.0</td>\n",
       "      <td>0.0</td>\n",
       "      <td>1.0</td>\n",
       "      <td>0.0</td>\n",
       "      <td>1.0</td>\n",
       "      <td>0.0</td>\n",
       "      <td>...</td>\n",
       "      <td>0.0</td>\n",
       "      <td>0.0</td>\n",
       "      <td>0.0</td>\n",
       "      <td>0.0</td>\n",
       "      <td>1.0</td>\n",
       "      <td>0.0</td>\n",
       "      <td>0.0</td>\n",
       "      <td>1.0</td>\n",
       "      <td>1.0</td>\n",
       "      <td>0.0</td>\n",
       "    </tr>\n",
       "    <tr>\n",
       "      <th>2</th>\n",
       "      <td>3</td>\n",
       "      <td>579</td>\n",
       "      <td>3.24</td>\n",
       "      <td>0.0</td>\n",
       "      <td>0.0</td>\n",
       "      <td>0.0</td>\n",
       "      <td>1.0</td>\n",
       "      <td>0.0</td>\n",
       "      <td>0.0</td>\n",
       "      <td>0.0</td>\n",
       "      <td>...</td>\n",
       "      <td>1.0</td>\n",
       "      <td>0.0</td>\n",
       "      <td>0.0</td>\n",
       "      <td>0.0</td>\n",
       "      <td>0.0</td>\n",
       "      <td>0.0</td>\n",
       "      <td>0.0</td>\n",
       "      <td>0.0</td>\n",
       "      <td>0.0</td>\n",
       "      <td>0.0</td>\n",
       "    </tr>\n",
       "    <tr>\n",
       "      <th>3</th>\n",
       "      <td>4</td>\n",
       "      <td>653</td>\n",
       "      <td>3.12</td>\n",
       "      <td>0.0</td>\n",
       "      <td>0.0</td>\n",
       "      <td>0.0</td>\n",
       "      <td>0.0</td>\n",
       "      <td>0.0</td>\n",
       "      <td>0.0</td>\n",
       "      <td>0.0</td>\n",
       "      <td>...</td>\n",
       "      <td>1.0</td>\n",
       "      <td>1.0</td>\n",
       "      <td>0.0</td>\n",
       "      <td>0.0</td>\n",
       "      <td>0.0</td>\n",
       "      <td>0.0</td>\n",
       "      <td>0.0</td>\n",
       "      <td>0.0</td>\n",
       "      <td>0.0</td>\n",
       "      <td>0.0</td>\n",
       "    </tr>\n",
       "    <tr>\n",
       "      <th>4</th>\n",
       "      <td>5</td>\n",
       "      <td>606</td>\n",
       "      <td>3.09</td>\n",
       "      <td>0.0</td>\n",
       "      <td>0.0</td>\n",
       "      <td>0.0</td>\n",
       "      <td>0.0</td>\n",
       "      <td>0.0</td>\n",
       "      <td>0.0</td>\n",
       "      <td>0.0</td>\n",
       "      <td>...</td>\n",
       "      <td>0.0</td>\n",
       "      <td>0.0</td>\n",
       "      <td>0.0</td>\n",
       "      <td>0.0</td>\n",
       "      <td>0.0</td>\n",
       "      <td>0.0</td>\n",
       "      <td>0.0</td>\n",
       "      <td>1.0</td>\n",
       "      <td>0.0</td>\n",
       "      <td>0.0</td>\n",
       "    </tr>\n",
       "  </tbody>\n",
       "</table>\n",
       "<p>5 rows × 23 columns</p>\n",
       "</div>"
      ],
      "text/plain": [
       "   escuela  LSAT   GPA  muestra1  muestra2  muestra3  muestra4  muestra5  \\\n",
       "0        1   622  3.23       0.0       0.0       0.0       0.0       0.0   \n",
       "1        2   542  2.83       0.0       0.0       0.0       1.0       0.0   \n",
       "2        3   579  3.24       0.0       0.0       0.0       1.0       0.0   \n",
       "3        4   653  3.12       0.0       0.0       0.0       0.0       0.0   \n",
       "4        5   606  3.09       0.0       0.0       0.0       0.0       0.0   \n",
       "\n",
       "   muestra6  muestra7  ...  muestra11  muestra12  muestra13  muestra14  \\\n",
       "0       0.0       0.0  ...        0.0        0.0        0.0        0.0   \n",
       "1       1.0       0.0  ...        0.0        0.0        0.0        0.0   \n",
       "2       0.0       0.0  ...        1.0        0.0        0.0        0.0   \n",
       "3       0.0       0.0  ...        1.0        1.0        0.0        0.0   \n",
       "4       0.0       0.0  ...        0.0        0.0        0.0        0.0   \n",
       "\n",
       "   muestra15  muestra16  muestra17  muestra18  muestra19  muestra20  \n",
       "0        0.0        0.0        0.0        0.0        0.0        0.0  \n",
       "1        1.0        0.0        0.0        1.0        1.0        0.0  \n",
       "2        0.0        0.0        0.0        0.0        0.0        0.0  \n",
       "3        0.0        0.0        0.0        0.0        0.0        0.0  \n",
       "4        0.0        0.0        0.0        1.0        0.0        0.0  \n",
       "\n",
       "[5 rows x 23 columns]"
      ]
     },
     "execution_count": 16,
     "metadata": {},
     "output_type": "execute_result"
    }
   ],
   "source": [
    "data_schools_df2.head()"
   ]
  },
  {
   "cell_type": "code",
   "execution_count": 17,
   "metadata": {},
   "outputs": [
    {
     "data": {
      "image/png": "[encoded data removed]",
      "text/plain": [
       "<Figure size 576x360 with 1 Axes>"
      ]
     },
     "metadata": {},
     "output_type": "display_data"
    }
   ],
   "source": [
    "data_schools_df2_corr_list = get_list_correlation(data_schools_df2, 20)\n",
    "generate_hist(data_schools_df2_corr_list)"
   ]
  },
  {
   "cell_type": "markdown",
   "metadata": {},
   "source": [
    "### Podemos notar que hay más precencia de datos en 0.8"
   ]
  },
  {
   "cell_type": "code",
   "execution_count": 18,
   "metadata": {},
   "outputs": [],
   "source": [
    "# Sólo falta ver el error estandar para N y N-1\n",
    "# Los métodos de arriba hacen stack overflow cuando k o m es grande por lo cual haremos una función más simple la cual\n",
    "# no hará merges\n",
    "\n",
    "def get_sample_2(n, m, data_frame):\n",
    "    sample = []\n",
    "    for i in range(n):\n",
    "        si = data_frame.sample(n=m, replace=True)\n",
    "        si_j = si.sample(n=(m-1), replace=True)\n",
    "        sample.append(spearmanr(si_j.LSAT, si_j.GPA)[0])\n",
    "    \n",
    "    return sample"
   ]
  },
  {
   "cell_type": "code",
   "execution_count": 19,
   "metadata": {},
   "outputs": [
    {
     "name": "stdout",
     "output_type": "stream",
     "text": [
      "Con m = 82 usando Bootstrap el error estandar es: 0.055801214021378866\n"
     ]
    },
    {
     "data": {
      "image/png": "[encoded data removed]",
      "text/plain": [
       "<Figure size 576x360 with 1 Axes>"
      ]
     },
     "metadata": {},
     "output_type": "display_data"
    }
   ],
   "source": [
    "sample_1 = create_sample(2000, 82, data_schools_df) # Usando bootstrap n\n",
    "\n",
    "generate_hist(sample_1)\n",
    "\n",
    "\n",
    "err_sample_1 = np.std(sample_1)\n",
    "\n",
    "print(f\"Con m = 82 usando Bootstrap el error estandar es: {err_sample_1}\")"
   ]
  },
  {
   "cell_type": "code",
   "execution_count": 20,
   "metadata": {},
   "outputs": [
    {
     "name": "stdout",
     "output_type": "stream",
     "text": [
      "Con m = 82 usando Bootstrap n-1 el error estandar es: 0.08418325259322028\n"
     ]
    },
    {
     "data": {
      "image/png": "[encoded data removed]",
      "text/plain": [
       "<Figure size 576x360 with 1 Axes>"
      ]
     },
     "metadata": {},
     "output_type": "display_data"
    }
   ],
   "source": [
    "# Usando boostrap n-1\n",
    "sample_2 = get_sample_2(2000, 82, data_schools_df) \n",
    "\n",
    "generate_hist(sample_2)\n",
    "\n",
    "\n",
    "err_sample_2 = np.std(sample_2)\n",
    "\n",
    "print(f\"Con m = 82 usando Bootstrap n-1 el error estandar es: {err_sample_2}\")"
   ]
  },
  {
   "cell_type": "code",
   "execution_count": null,
   "metadata": {},
   "outputs": [],
   "source": []
  }
 ],
 "metadata": {
  "interpreter": {
   "hash": "31f2aee4e71d21fbe5cf8b01ff0e069b9275f58929596ceb00d14d90e3e16cd6"
  },
  "kernelspec": {
   "display_name": "Python 3",
   "language": "python",
   "name": "python3"
  },
  "language_info": {
   "codemirror_mode": {
    "name": "ipython",
    "version": 3
   },
   "file_extension": ".py",
   "mimetype": "text/x-python",
   "name": "python",
   "nbconvert_exporter": "python",
   "pygments_lexer": "ipython3",
   "version": "3.8.10"
  }
 },
 "nbformat": 4,
 "nbformat_minor": 2
}
