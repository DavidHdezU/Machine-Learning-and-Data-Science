{
 "cells": [
  {
   "cell_type": "code",
   "execution_count": 1,
   "id": "8854f8f9",
   "metadata": {},
   "outputs": [],
   "source": [
    "import numpy as np\n",
    "import pandas as pd\n",
    "import matplotlib.pyplot as plt\n",
    "import seaborn as sns\n",
    "%matplotlib inline\n",
    "sns.set(style=\"whitegrid\")\n",
    "from sklearn import linear_model\n",
    "from pylab import*"
   ]
  },
  {
   "cell_type": "code",
   "execution_count": 2,
   "id": "f23e04af",
   "metadata": {},
   "outputs": [
    {
     "data": {
      "text/html": [
       "<div>\n",
       "<style scoped>\n",
       "    .dataframe tbody tr th:only-of-type {\n",
       "        vertical-align: middle;\n",
       "    }\n",
       "\n",
       "    .dataframe tbody tr th {\n",
       "        vertical-align: top;\n",
       "    }\n",
       "\n",
       "    .dataframe thead th {\n",
       "        text-align: right;\n",
       "    }\n",
       "</style>\n",
       "<table border=\"1\" class=\"dataframe\">\n",
       "  <thead>\n",
       "    <tr style=\"text-align: right;\">\n",
       "      <th></th>\n",
       "      <th>lote</th>\n",
       "      <th>horas</th>\n",
       "      <th>monto</th>\n",
       "    </tr>\n",
       "  </thead>\n",
       "  <tbody>\n",
       "    <tr>\n",
       "      <th>0</th>\n",
       "      <td>A</td>\n",
       "      <td>99</td>\n",
       "      <td>25.8</td>\n",
       "    </tr>\n",
       "    <tr>\n",
       "      <th>1</th>\n",
       "      <td>A</td>\n",
       "      <td>152</td>\n",
       "      <td>20.5</td>\n",
       "    </tr>\n",
       "    <tr>\n",
       "      <th>2</th>\n",
       "      <td>A</td>\n",
       "      <td>293</td>\n",
       "      <td>14.3</td>\n",
       "    </tr>\n",
       "    <tr>\n",
       "      <th>3</th>\n",
       "      <td>A</td>\n",
       "      <td>155</td>\n",
       "      <td>23.2</td>\n",
       "    </tr>\n",
       "    <tr>\n",
       "      <th>4</th>\n",
       "      <td>A</td>\n",
       "      <td>196</td>\n",
       "      <td>20.6</td>\n",
       "    </tr>\n",
       "  </tbody>\n",
       "</table>\n",
       "</div>"
      ],
      "text/plain": [
       "  lote  horas  monto\n",
       "0    A     99   25.8\n",
       "1    A    152   20.5\n",
       "2    A    293   14.3\n",
       "3    A    155   23.2\n",
       "4    A    196   20.6"
      ]
     },
     "execution_count": 2,
     "metadata": {},
     "output_type": "execute_result"
    }
   ],
   "source": [
    "horm_df = pd.read_excel(\"lineal_horm.xlsx\")\n",
    "horm_df.head()"
   ]
  },
  {
   "cell_type": "code",
   "execution_count": 3,
   "id": "876f17e2",
   "metadata": {},
   "outputs": [
    {
     "name": "stdout",
     "output_type": "stream",
     "text": [
      "<class 'pandas.core.frame.DataFrame'>\n",
      "RangeIndex: 27 entries, 0 to 26\n",
      "Data columns (total 3 columns):\n",
      " #   Column  Non-Null Count  Dtype  \n",
      "---  ------  --------------  -----  \n",
      " 0   lote    27 non-null     object \n",
      " 1   horas   27 non-null     int64  \n",
      " 2   monto   27 non-null     float64\n",
      "dtypes: float64(1), int64(1), object(1)\n",
      "memory usage: 776.0+ bytes\n"
     ]
    }
   ],
   "source": [
    "horm_df.info()"
   ]
  },
  {
   "cell_type": "code",
   "execution_count": 4,
   "id": "c10d95ff",
   "metadata": {},
   "outputs": [
    {
     "data": {
      "text/plain": [
       "LinearRegression(copy_X=True, fit_intercept=True, n_jobs=None, normalize=False)"
      ]
     },
     "execution_count": 4,
     "metadata": {},
     "output_type": "execute_result"
    }
   ],
   "source": [
    "# Creamos el training set\n",
    "X = horm_df[[\"horas\"]]\n",
    "y = horm_df[[\"monto\"]]\n",
    "\n",
    "# Nuestro modelo\n",
    "reg_model = linear_model.LinearRegression()\n",
    "reg_model.fit(X, y)"
   ]
  },
  {
   "cell_type": "code",
   "execution_count": 5,
   "id": "bdeb55e1",
   "metadata": {},
   "outputs": [
    {
     "data": {
      "text/plain": [
       "array([[-0.0574463]])"
      ]
     },
     "execution_count": 5,
     "metadata": {},
     "output_type": "execute_result"
    }
   ],
   "source": [
    "reg_model.coef_"
   ]
  },
  {
   "cell_type": "code",
   "execution_count": 6,
   "id": "cade907b",
   "metadata": {},
   "outputs": [
    {
     "data": {
      "text/plain": [
       "array([34.16752817])"
      ]
     },
     "execution_count": 6,
     "metadata": {},
     "output_type": "execute_result"
    }
   ],
   "source": [
    "reg_model.intercept_"
   ]
  },
  {
   "cell_type": "code",
   "execution_count": 7,
   "id": "0ded1b6a",
   "metadata": {},
   "outputs": [
    {
     "data": {
      "text/plain": [
       "array([[28.4803446 ],\n",
       "       [25.43569077],\n",
       "       [17.33576266],\n",
       "       [25.26335188],\n",
       "       [22.90805363],\n",
       "       [31.12287434],\n",
       "       [23.59740921],\n",
       "       [24.3442111 ],\n",
       "       [31.18032064],\n",
       "       [12.56771986],\n",
       "       [12.05070318],\n",
       "       [11.0741161 ],\n",
       "       [32.50158551],\n",
       "       [29.80160947],\n",
       "       [17.16342376],\n",
       "       [25.49313707],\n",
       "       [23.9995333 ],\n",
       "       [22.16125175],\n",
       "       [27.33141863],\n",
       "       [23.36762402],\n",
       "       [27.56120382],\n",
       "       [29.11225389],\n",
       "       [30.83564285],\n",
       "       [31.35265954],\n",
       "       [25.55058337],\n",
       "       [28.02077421],\n",
       "       [26.98674084]])"
      ]
     },
     "execution_count": 7,
     "metadata": {},
     "output_type": "execute_result"
    }
   ],
   "source": [
    "Y_pred = reg_model.predict(X) \n",
    "Y_pred"
   ]
  },
  {
   "cell_type": "code",
   "execution_count": 8,
   "id": "3610f59a",
   "metadata": {},
   "outputs": [
    {
     "data": {
      "text/plain": [
       "array([28.4803446 , 25.43569077, 17.33576266, 25.26335188, 22.90805363,\n",
       "       31.12287434, 23.59740921, 24.3442111 , 31.18032064, 12.56771986,\n",
       "       12.05070318, 11.0741161 , 32.50158551, 29.80160947, 17.16342376,\n",
       "       25.49313707, 23.9995333 , 22.16125175, 27.33141863, 23.36762402,\n",
       "       27.56120382, 29.11225389, 30.83564285, 31.35265954, 25.55058337,\n",
       "       28.02077421, 26.98674084])"
      ]
     },
     "execution_count": 8,
     "metadata": {},
     "output_type": "execute_result"
    }
   ],
   "source": [
    "y_estim = Y_pred.reshape(-1)\n",
    "y_estim"
   ]
  },
  {
   "cell_type": "code",
   "execution_count": 9,
   "id": "86cbf257",
   "metadata": {},
   "outputs": [
    {
     "data": {
      "text/plain": [
       "array([ 99, 152, 293, 155, 196,  53, 184, 171,  52, 376, 385, 402,  29,\n",
       "        76, 296, 151, 177, 209, 119, 188, 115,  88,  58,  49, 150, 107,\n",
       "       125])"
      ]
     },
     "execution_count": 9,
     "metadata": {},
     "output_type": "execute_result"
    }
   ],
   "source": [
    "x = X.to_numpy().reshape(-1)\n",
    "x"
   ]
  },
  {
   "cell_type": "code",
   "execution_count": 10,
   "id": "1b9bbac3",
   "metadata": {},
   "outputs": [
    {
     "data": {
      "text/plain": [
       "array([25.8, 20.5, 14.3, 23.2, 20.6, 31.1, 20.9, 20.9, 30.4, 16.3, 11.6,\n",
       "       11.8, 32.5, 32. , 18. , 24.1, 26.5, 25.8, 28.8, 22. , 29.7, 28.9,\n",
       "       32.8, 32.5, 25.4, 31.7, 28.5])"
      ]
     },
     "execution_count": 10,
     "metadata": {},
     "output_type": "execute_result"
    }
   ],
   "source": [
    "y_real = y.to_numpy()\n",
    "y_real = y_real.reshape(-1)\n",
    "y_real\n",
    "n = len(y_real)\n",
    "y_real"
   ]
  },
  {
   "cell_type": "code",
   "execution_count": 11,
   "id": "a748cb9f",
   "metadata": {},
   "outputs": [
    {
     "data": {
      "text/plain": [
       "array([-2.68034460e+00, -4.93569077e+00, -3.03576266e+00, -2.06335188e+00,\n",
       "       -2.30805363e+00, -2.28743430e-02, -2.69740921e+00, -3.44421110e+00,\n",
       "       -7.80320642e-01,  3.73228014e+00, -4.50703175e-01,  7.25883902e-01,\n",
       "       -1.58551177e-03,  2.19839053e+00,  8.36576241e-01, -1.39313707e+00,\n",
       "        2.50046670e+00,  3.63874825e+00,  1.46858137e+00, -1.36762402e+00,\n",
       "        2.13879618e+00, -2.12253889e-01,  1.96435715e+00,  1.14734046e+00,\n",
       "       -1.50583369e-01,  3.67922579e+00,  1.51325916e+00])"
      ]
     },
     "execution_count": 11,
     "metadata": {},
     "output_type": "execute_result"
    }
   ],
   "source": [
    "# Obtenemos los residuos\n",
    "residuals = y_real-y_estim\n",
    "residuals"
   ]
  },
  {
   "cell_type": "markdown",
   "id": "1e49b002",
   "metadata": {},
   "source": [
    "Recordemos que se puede obtener el error estándar del estimador de la siguiente manera\n",
    "$$\n",
    "\\begin{equation}\n",
    "\\hat{se}_{\\beta}=\\sqrt{\\frac{\\sum_{i} \\epsilon_{i}^{2}}{(n-2)\\sum_{i}(x-\\bar{x})^{2}}}\n",
    "\\end{equation}\n",
    "$$"
   ]
  },
  {
   "cell_type": "code",
   "execution_count": 12,
   "id": "6c4e5421",
   "metadata": {},
   "outputs": [
    {
     "name": "stdout",
     "output_type": "stream",
     "text": [
      "El error estándar es : 0.0044641731603115384\n"
     ]
    }
   ],
   "source": [
    "den=sum((x-np.mean(x))**2)\n",
    "num=sum(residuals**2)/(n-2)\n",
    "err_reg=np.sqrt(num/den)\n",
    "\n",
    "print(f\"El error estándar es : {err_reg}\")"
   ]
  },
  {
   "cell_type": "code",
   "execution_count": 13,
   "id": "ef093284",
   "metadata": {},
   "outputs": [
    {
     "data": {
      "text/plain": [
       "(array([ 5., 10., 15., 20., 25., 30., 35.]),\n",
       " [Text(0, 0, ''),\n",
       "  Text(0, 0, ''),\n",
       "  Text(0, 0, ''),\n",
       "  Text(0, 0, ''),\n",
       "  Text(0, 0, ''),\n",
       "  Text(0, 0, ''),\n",
       "  Text(0, 0, '')])"
      ]
     },
     "execution_count": 13,
     "metadata": {},
     "output_type": "execute_result"
    },
    {
     "data": {
      "image/png": "[encoded data removed]",
      "text/plain": [
       "<Figure size 648x432 with 1 Axes>"
      ]
     },
     "metadata": {},
     "output_type": "display_data"
    }
   ],
   "source": [
    "# Visualización\n",
    "fig, ax = plt.subplots(figsize=(9,6))\n",
    "plt.scatter(X, y,s=30)\n",
    "plt.plot(X, Y_pred, color='red')\n",
    "plt.xlabel(\"Horas\",size=14)\n",
    "plt.ylabel(\"Monto\",size=14)\n",
    "plt.xticks(fontsize=16)\n",
    "plt.yticks(fontsize=16)"
   ]
  },
  {
   "cell_type": "markdown",
   "id": "9469bb4f",
   "metadata": {},
   "source": [
    "### Calculemos el error estandar de las estimaciones de los parámetros haciendo bootstrap sobre los residuales"
   ]
  },
  {
   "cell_type": "code",
   "execution_count": 14,
   "id": "64fed6ec",
   "metadata": {},
   "outputs": [
    {
     "data": {
      "text/html": [
       "<div>\n",
       "<style scoped>\n",
       "    .dataframe tbody tr th:only-of-type {\n",
       "        vertical-align: middle;\n",
       "    }\n",
       "\n",
       "    .dataframe tbody tr th {\n",
       "        vertical-align: top;\n",
       "    }\n",
       "\n",
       "    .dataframe thead th {\n",
       "        text-align: right;\n",
       "    }\n",
       "</style>\n",
       "<table border=\"1\" class=\"dataframe\">\n",
       "  <thead>\n",
       "    <tr style=\"text-align: right;\">\n",
       "      <th></th>\n",
       "      <th>residual</th>\n",
       "      <th>x</th>\n",
       "    </tr>\n",
       "  </thead>\n",
       "  <tbody>\n",
       "    <tr>\n",
       "      <th>0</th>\n",
       "      <td>-2.680345</td>\n",
       "      <td>99</td>\n",
       "    </tr>\n",
       "    <tr>\n",
       "      <th>1</th>\n",
       "      <td>-4.935691</td>\n",
       "      <td>152</td>\n",
       "    </tr>\n",
       "    <tr>\n",
       "      <th>2</th>\n",
       "      <td>-3.035763</td>\n",
       "      <td>293</td>\n",
       "    </tr>\n",
       "    <tr>\n",
       "      <th>3</th>\n",
       "      <td>-2.063352</td>\n",
       "      <td>155</td>\n",
       "    </tr>\n",
       "    <tr>\n",
       "      <th>4</th>\n",
       "      <td>-2.308054</td>\n",
       "      <td>196</td>\n",
       "    </tr>\n",
       "  </tbody>\n",
       "</table>\n",
       "</div>"
      ],
      "text/plain": [
       "   residual    x\n",
       "0 -2.680345   99\n",
       "1 -4.935691  152\n",
       "2 -3.035763  293\n",
       "3 -2.063352  155\n",
       "4 -2.308054  196"
      ]
     },
     "execution_count": 14,
     "metadata": {},
     "output_type": "execute_result"
    }
   ],
   "source": [
    "residuals_df = pd.DataFrame(residuals, columns=['residual'])\n",
    "residuals_df[\"x\"] = x\n",
    "residuals_df.head()"
   ]
  },
  {
   "cell_type": "code",
   "execution_count": 15,
   "id": "d5006ef6",
   "metadata": {},
   "outputs": [
    {
     "data": {
      "text/html": [
       "<div>\n",
       "<style scoped>\n",
       "    .dataframe tbody tr th:only-of-type {\n",
       "        vertical-align: middle;\n",
       "    }\n",
       "\n",
       "    .dataframe tbody tr th {\n",
       "        vertical-align: top;\n",
       "    }\n",
       "\n",
       "    .dataframe thead th {\n",
       "        text-align: right;\n",
       "    }\n",
       "</style>\n",
       "<table border=\"1\" class=\"dataframe\">\n",
       "  <thead>\n",
       "    <tr style=\"text-align: right;\">\n",
       "      <th></th>\n",
       "      <th>residual</th>\n",
       "      <th>x</th>\n",
       "    </tr>\n",
       "  </thead>\n",
       "  <tbody>\n",
       "    <tr>\n",
       "      <th>0</th>\n",
       "      <td>1.147340</td>\n",
       "      <td>49</td>\n",
       "    </tr>\n",
       "    <tr>\n",
       "      <th>1</th>\n",
       "      <td>1.147340</td>\n",
       "      <td>49</td>\n",
       "    </tr>\n",
       "    <tr>\n",
       "      <th>2</th>\n",
       "      <td>-1.393137</td>\n",
       "      <td>151</td>\n",
       "    </tr>\n",
       "    <tr>\n",
       "      <th>3</th>\n",
       "      <td>3.732280</td>\n",
       "      <td>376</td>\n",
       "    </tr>\n",
       "    <tr>\n",
       "      <th>4</th>\n",
       "      <td>3.732280</td>\n",
       "      <td>376</td>\n",
       "    </tr>\n",
       "    <tr>\n",
       "      <th>5</th>\n",
       "      <td>-0.450703</td>\n",
       "      <td>385</td>\n",
       "    </tr>\n",
       "    <tr>\n",
       "      <th>6</th>\n",
       "      <td>2.198391</td>\n",
       "      <td>76</td>\n",
       "    </tr>\n",
       "    <tr>\n",
       "      <th>7</th>\n",
       "      <td>-2.063352</td>\n",
       "      <td>155</td>\n",
       "    </tr>\n",
       "    <tr>\n",
       "      <th>8</th>\n",
       "      <td>-4.935691</td>\n",
       "      <td>152</td>\n",
       "    </tr>\n",
       "    <tr>\n",
       "      <th>9</th>\n",
       "      <td>2.138796</td>\n",
       "      <td>115</td>\n",
       "    </tr>\n",
       "    <tr>\n",
       "      <th>10</th>\n",
       "      <td>2.138796</td>\n",
       "      <td>115</td>\n",
       "    </tr>\n",
       "    <tr>\n",
       "      <th>11</th>\n",
       "      <td>2.138796</td>\n",
       "      <td>115</td>\n",
       "    </tr>\n",
       "    <tr>\n",
       "      <th>12</th>\n",
       "      <td>-0.212254</td>\n",
       "      <td>88</td>\n",
       "    </tr>\n",
       "    <tr>\n",
       "      <th>13</th>\n",
       "      <td>-0.212254</td>\n",
       "      <td>88</td>\n",
       "    </tr>\n",
       "    <tr>\n",
       "      <th>14</th>\n",
       "      <td>-0.212254</td>\n",
       "      <td>88</td>\n",
       "    </tr>\n",
       "    <tr>\n",
       "      <th>15</th>\n",
       "      <td>-0.780321</td>\n",
       "      <td>52</td>\n",
       "    </tr>\n",
       "    <tr>\n",
       "      <th>16</th>\n",
       "      <td>-0.780321</td>\n",
       "      <td>52</td>\n",
       "    </tr>\n",
       "    <tr>\n",
       "      <th>17</th>\n",
       "      <td>3.638748</td>\n",
       "      <td>209</td>\n",
       "    </tr>\n",
       "    <tr>\n",
       "      <th>18</th>\n",
       "      <td>3.638748</td>\n",
       "      <td>209</td>\n",
       "    </tr>\n",
       "    <tr>\n",
       "      <th>19</th>\n",
       "      <td>-2.697409</td>\n",
       "      <td>184</td>\n",
       "    </tr>\n",
       "    <tr>\n",
       "      <th>20</th>\n",
       "      <td>-1.367624</td>\n",
       "      <td>188</td>\n",
       "    </tr>\n",
       "    <tr>\n",
       "      <th>21</th>\n",
       "      <td>-3.444211</td>\n",
       "      <td>171</td>\n",
       "    </tr>\n",
       "    <tr>\n",
       "      <th>22</th>\n",
       "      <td>3.679226</td>\n",
       "      <td>107</td>\n",
       "    </tr>\n",
       "    <tr>\n",
       "      <th>23</th>\n",
       "      <td>1.964357</td>\n",
       "      <td>58</td>\n",
       "    </tr>\n",
       "    <tr>\n",
       "      <th>24</th>\n",
       "      <td>1.468581</td>\n",
       "      <td>119</td>\n",
       "    </tr>\n",
       "    <tr>\n",
       "      <th>25</th>\n",
       "      <td>-0.150583</td>\n",
       "      <td>150</td>\n",
       "    </tr>\n",
       "    <tr>\n",
       "      <th>26</th>\n",
       "      <td>-2.680345</td>\n",
       "      <td>99</td>\n",
       "    </tr>\n",
       "  </tbody>\n",
       "</table>\n",
       "</div>"
      ],
      "text/plain": [
       "    residual    x\n",
       "0   1.147340   49\n",
       "1   1.147340   49\n",
       "2  -1.393137  151\n",
       "3   3.732280  376\n",
       "4   3.732280  376\n",
       "5  -0.450703  385\n",
       "6   2.198391   76\n",
       "7  -2.063352  155\n",
       "8  -4.935691  152\n",
       "9   2.138796  115\n",
       "10  2.138796  115\n",
       "11  2.138796  115\n",
       "12 -0.212254   88\n",
       "13 -0.212254   88\n",
       "14 -0.212254   88\n",
       "15 -0.780321   52\n",
       "16 -0.780321   52\n",
       "17  3.638748  209\n",
       "18  3.638748  209\n",
       "19 -2.697409  184\n",
       "20 -1.367624  188\n",
       "21 -3.444211  171\n",
       "22  3.679226  107\n",
       "23  1.964357   58\n",
       "24  1.468581  119\n",
       "25 -0.150583  150\n",
       "26 -2.680345   99"
      ]
     },
     "execution_count": 15,
     "metadata": {},
     "output_type": "execute_result"
    }
   ],
   "source": [
    "r_i= np.random.choice(residuals,len(residuals),replace=True)\n",
    "residuals_df_aux = pd.DataFrame(r_i, columns=['residual'])\n",
    "residuals_df_aux = pd.merge(residuals_df_aux, residuals_df, how=\"inner\", on=[\"residual\"])\n",
    "residuals_df_aux    "
   ]
  },
  {
   "cell_type": "code",
   "execution_count": 16,
   "id": "48dd5ca8",
   "metadata": {},
   "outputs": [
    {
     "name": "stdout",
     "output_type": "stream",
     "text": [
      "El error estándar es: 0.004883328002248135\n"
     ]
    }
   ],
   "source": [
    "x_j = residuals_df_aux[[\"x\"]].to_numpy().reshape(-1)\n",
    "den = sum((x_j-np.mean(x_j))**2)\n",
    "num = sum(r_i**2)/(n)\n",
    "err = np.sqrt(num/den)\n",
    "\n",
    "print(f\"El error estándar es: {err}\")"
   ]
  },
  {
   "cell_type": "code",
   "execution_count": 17,
   "id": "cb3fed65",
   "metadata": {},
   "outputs": [],
   "source": [
    "simul=1000\n",
    "res_boost= np.array( [ ])\n",
    "for i in range(0,simul):\n",
    "    r_i=np.random.choice(residuals,len(residuals),replace=True)\n",
    "    df_aux = pd.DataFrame(r_i,\n",
    "                 columns=['residual'])\n",
    "    df_aux=pd.merge(df_aux, residuals_df, how=\"inner\", on=[\"residual\"])\n",
    "    df_aux\n",
    "    x_i=df_aux[[\"x\"]].to_numpy().reshape(-1)\n",
    "    den=sum((x_i-np.mean(x_i))**2)\n",
    "    num=sum(r_i**2)/(n)\n",
    "    err=np.sqrt(num/den)\n",
    "    res_boost = np.append(res_boost,err)"
   ]
  },
  {
   "cell_type": "code",
   "execution_count": 18,
   "id": "ae1f1899",
   "metadata": {},
   "outputs": [
    {
     "name": "stdout",
     "output_type": "stream",
     "text": [
      "Error Estándar sin Bootsrap: 0.0044641731603115384\n",
      "Promedio de Error Estándar de la muestras Bootstrap: 0.004505350945095198\n",
      "Promedio de Error Estándar de la muestras Bootstrap: 0.004505350945095198\n",
      "( 0.003101823091104852 , 0.006865413356921323 )\n"
     ]
    },
    {
     "data": {
      "image/png": "[encoded data removed]",
      "text/plain": [
       "<Figure size 648x432 with 1 Axes>"
      ]
     },
     "metadata": {},
     "output_type": "display_data"
    }
   ],
   "source": [
    "fig, ax = plt.subplots(figsize=(9,6))\n",
    "plt.hist(res_boost,bins=50,alpha=0.5,edgecolor=\"white\",label=\"Error estándar Boostrap\")\n",
    "plt.axvline(x=err_reg,color='green', linestyle='--',linewidth=3,label=\"Error Estándar de b_1 con regresión$\")\n",
    "plt.axvline(x=np.mean(res_boost),color='black', linestyle='--',linewidth=3,label=\"Promedio error estándar de b_1 con  Boostrap$\")\n",
    "\n",
    "plt.axvline(percentile(res_boost,2.5),color=\"blue\",linestyle=\"--\",linewidth=2)                                                                                                                                                    \n",
    "plt.axvline(percentile(res_boost,97.5),color=\"blue\",linestyle=\"--\",linewidth=2) \n",
    "\n",
    "print(\"Error Estándar sin Bootsrap:\", err_reg)\n",
    "print(\"Promedio de Error Estándar de la muestras Bootstrap:\", np.mean(res_boost))\n",
    "print(\"Promedio de Error Estándar de la muestras Bootstrap:\", np.mean(res_boost))\n",
    "print(\"(\", percentile(res_boost,2.5),\",\", percentile(res_boost,97.5),\")\")"
   ]
  },
  {
   "cell_type": "markdown",
   "id": "b72a1cd8",
   "metadata": {},
   "source": [
    "# Calcular error estándar a partir de las betas"
   ]
  },
  {
   "cell_type": "markdown",
   "id": "fec9a70d",
   "metadata": {},
   "source": [
    "Haremos n simulaciones de muestras bootstrap del mismo tamaño que los datos con los que contamos y con cada una de ellas  calculamos un estimador para la betas de la regresión lineal de monto vs horas"
   ]
  },
  {
   "cell_type": "code",
   "execution_count": 23,
   "id": "557f221c",
   "metadata": {},
   "outputs": [],
   "source": [
    "def generate_boostrap_sim(n, data_frame):\n",
    "    X = data_frame[[\"horas\"]].to_numpy().reshape(-1)\n",
    "    \n",
    "    y_s = []\n",
    "    \n",
    "    for _ in range(n):\n",
    "        ri = np.random.choice(X, len(X), replace=True)\n",
    "        aux_df = pd.DataFrame(ri, columns=['horas'])\n",
    "        aux_df = pd.merge(aux_df, data_frame ,how=\"inner\", on=['horas'])\n",
    "        \n",
    "        Xi = aux_df[[\"horas\"]]\n",
    "        yi = aux_df[[\"monto\"]]\n",
    "        \n",
    "        regi = linear_model.LinearRegression() \n",
    "        regi.fit(Xi,yi)\n",
    "        \n",
    "        y_s.append(regi)\n",
    "        \n",
    "    return y_s"
   ]
  },
  {
   "cell_type": "code",
   "execution_count": 24,
   "id": "a21b6cf2",
   "metadata": {},
   "outputs": [],
   "source": [
    "lineal_regressions = generate_boostrap_sim(50, horm_df)"
   ]
  },
  {
   "cell_type": "code",
   "execution_count": 27,
   "id": "0db083cd",
   "metadata": {},
   "outputs": [],
   "source": [
    "def get_standar_errors_model(lineal_regressions_list, X, y):\n",
    "    std_errors = []\n",
    "    \n",
    "    x = X.to_numpy().reshape(-1)\n",
    "    y_real = y.to_numpy()\n",
    "    y_real = y_real.reshape(-1)\n",
    "    n=len(y_real)\n",
    "    \n",
    "    for model in lineal_regressions_list:\n",
    "        \n",
    "        Y_pred = model.predict(X)\n",
    "        y_estim = Y_pred.reshape(-1)\n",
    "        \n",
    "        residual=y_real-y_estim\n",
    "\n",
    "        \n",
    "        den = sum((x-np.mean(x))**2)\n",
    "        num = sum(residual**2)/(n)\n",
    "        err_reg = np.sqrt(num/den)\n",
    "        \n",
    "        std_errors.append(err_reg)\n",
    "        \n",
    "        \n",
    "    return std_errors\n",
    "        "
   ]
  },
  {
   "cell_type": "code",
   "execution_count": 28,
   "id": "f0241210",
   "metadata": {},
   "outputs": [],
   "source": [
    "# Obtenemos el error estandar para cada uno de los modelos\n",
    "std_error = get_standar_errors_model(lineal_regressions, X, y)"
   ]
  },
  {
   "cell_type": "code",
   "execution_count": 30,
   "id": "873f5967",
   "metadata": {},
   "outputs": [],
   "source": [
    "def generate_hist(data):\n",
    "    fig, ax=subplots(figsize=(8,5))\n",
    "    sns.histplot(data)\n",
    "    ax.xaxis.set_tick_params(labelsize=18,labelcolor=\"black\")\n",
    "    ax.yaxis.set_tick_params(labelsize=18,labelcolor=\"black\")"
   ]
  },
  {
   "cell_type": "code",
   "execution_count": 31,
   "id": "a3d61c7b",
   "metadata": {},
   "outputs": [
    {
     "data": {
      "image/png": "[encoded data removed]",
      "text/plain": [
       "<Figure size 576x360 with 1 Axes>"
      ]
     },
     "metadata": {},
     "output_type": "display_data"
    }
   ],
   "source": [
    "generate_hist(std_error)"
   ]
  },
  {
   "cell_type": "code",
   "execution_count": 32,
   "id": "0ec62fc9",
   "metadata": {},
   "outputs": [],
   "source": [
    "# Ahora obtenemos el error estandar para las betas\n",
    "def get_betas(lineal_regressions):\n",
    "    coefs, intercepts = [], []\n",
    "    \n",
    "    for model in lineal_regressions:\n",
    "        coefs.append(model.coef_[0][0])\n",
    "        intercepts.append(model.intercept_[0])\n",
    "    \n",
    "    return coefs, intercepts"
   ]
  },
  {
   "cell_type": "code",
   "execution_count": 33,
   "id": "e3fbdc4d",
   "metadata": {},
   "outputs": [],
   "source": [
    "def get_standar_error_betas(betas_list, n):\n",
    "    media_betas=np.mean(betas_list)\n",
    "    \n",
    "    num= np.sum((betas_list-media_beta1)**2)\n",
    "    denom = n-1\n",
    "    \n",
    "    se_betas = np.sqrt(num/denom)\n",
    "\n",
    "    return media_beta1/se_beta1"
   ]
  },
  {
   "cell_type": "code",
   "execution_count": 34,
   "id": "66901fc8",
   "metadata": {},
   "outputs": [],
   "source": [
    "coefs, intercepts = get_betas(lineal_regressions)"
   ]
  },
  {
   "cell_type": "code",
   "execution_count": 35,
   "id": "77536ca6",
   "metadata": {},
   "outputs": [
    {
     "data": {
      "text/plain": [
       "[-0.06087114874060193,\n",
       " -0.045795026341770004,\n",
       " -0.05874432438232267,\n",
       " -0.0585619954672484,\n",
       " -0.06345608663981299,\n",
       " -0.053454848739987806,\n",
       " -0.05211859555932068,\n",
       " -0.05515349371937176,\n",
       " -0.05700129765909128,\n",
       " -0.059403257990672975,\n",
       " -0.05694107871944711,\n",
       " -0.06086863108299432,\n",
       " -0.057813649944503116,\n",
       " -0.05376159480096132,\n",
       " -0.05036485930106736,\n",
       " -0.05321309859678399,\n",
       " -0.06028700699722316,\n",
       " -0.058525632228961996,\n",
       " -0.055594319175634045,\n",
       " -0.056505820281076986,\n",
       " -0.06013139588692875,\n",
       " -0.05614529296176968,\n",
       " -0.05902053958855525,\n",
       " -0.05953962192269407,\n",
       " -0.05804879457819679,\n",
       " -0.054616191917972345,\n",
       " -0.053619004853849926,\n",
       " -0.0721894694608719,\n",
       " -0.05114203893399072,\n",
       " -0.06515046385526689,\n",
       " -0.05355264837700214,\n",
       " -0.06219288858951003,\n",
       " -0.0568806389288444,\n",
       " -0.05622318402263885,\n",
       " -0.053924179546729505,\n",
       " -0.06406907372922269,\n",
       " -0.057175616012201086,\n",
       " -0.05896515414074015,\n",
       " -0.05374350494039183,\n",
       " -0.0537610133053442,\n",
       " -0.057960350060076715,\n",
       " -0.059675696665380924,\n",
       " -0.06060920349305726,\n",
       " -0.0591100698617975,\n",
       " -0.061633805640841165,\n",
       " -0.04933557890146761,\n",
       " -0.05692481317771429,\n",
       " -0.05813781175185436,\n",
       " -0.05950123211757672,\n",
       " -0.05932067475271131]"
      ]
     },
     "execution_count": 35,
     "metadata": {},
     "output_type": "execute_result"
    }
   ],
   "source": [
    "coefs"
   ]
  },
  {
   "cell_type": "code",
   "execution_count": 36,
   "id": "e7b8a02c",
   "metadata": {},
   "outputs": [
    {
     "data": {
      "text/plain": [
       "[34.99607941235526,\n",
       " 32.47569538122188,\n",
       " 34.12674471431524,\n",
       " 33.77428165654593,\n",
       " 35.62667010082074,\n",
       " 33.86440359141246,\n",
       " 33.71570250653967,\n",
       " 33.91507208351646,\n",
       " 34.43231751669028,\n",
       " 34.045657261928106,\n",
       " 34.170607572972955,\n",
       " 34.4116367714138,\n",
       " 33.776311084235076,\n",
       " 33.56667700487756,\n",
       " 33.04133961742359,\n",
       " 33.297690141698126,\n",
       " 34.53603417205281,\n",
       " 34.63787354149648,\n",
       " 32.77348906380048,\n",
       " 34.043164521522414,\n",
       " 34.267824209851575,\n",
       " 33.94197844435144,\n",
       " 34.87744936793884,\n",
       " 34.83426011529098,\n",
       " 33.69320909690258,\n",
       " 34.63454895004226,\n",
       " 33.166447851405195,\n",
       " 35.61099893236881,\n",
       " 33.292481097368025,\n",
       " 35.65402022174823,\n",
       " 33.62670375173849,\n",
       " 35.34524218214487,\n",
       " 34.464646798535476,\n",
       " 33.345590191971915,\n",
       " 33.261777329192896,\n",
       " 34.25831896452628,\n",
       " 34.17502313220113,\n",
       " 34.25874710414393,\n",
       " 33.27822652263529,\n",
       " 32.87920196771373,\n",
       " 35.49156820289909,\n",
       " 34.465428861517914,\n",
       " 34.11881530525594,\n",
       " 33.769412721468456,\n",
       " 34.490790211728395,\n",
       " 31.744056194514496,\n",
       " 33.71988517799866,\n",
       " 34.03868810014205,\n",
       " 34.44950929797688,\n",
       " 34.86228654576907]"
      ]
     },
     "execution_count": 36,
     "metadata": {},
     "output_type": "execute_result"
    }
   ],
   "source": [
    "intercepts"
   ]
  },
  {
   "cell_type": "code",
   "execution_count": null,
   "id": "eed137d7",
   "metadata": {},
   "outputs": [],
   "source": []
  }
 ],
 "metadata": {
  "kernelspec": {
   "display_name": "Python 3",
   "language": "python",
   "name": "python3"
  },
  "language_info": {
   "codemirror_mode": {
    "name": "ipython",
    "version": 3
   },
   "file_extension": ".py",
   "mimetype": "text/x-python",
   "name": "python",
   "nbconvert_exporter": "python",
   "pygments_lexer": "ipython3",
   "version": "3.8.10"
  }
 },
 "nbformat": 4,
 "nbformat_minor": 5
}
